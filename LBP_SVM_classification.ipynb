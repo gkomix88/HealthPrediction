{
 "cells": [
  {
   "cell_type": "code",
   "execution_count": 1,
   "metadata": {
    "colab": {
     "base_uri": "https://localhost:8080/"
    },
    "executionInfo": {
     "elapsed": 33064,
     "status": "ok",
     "timestamp": 1611407831682,
     "user": {
      "displayName": "KHONG FAN YI",
      "photoUrl": "",
      "userId": "02416044610109286808"
     },
     "user_tz": -480
    },
    "id": "6T4ScYv8pMLz",
    "outputId": "d56867a6-1624-446b-80c5-7dc108a731eb"
   },
   "outputs": [
    {
     "name": "stdout",
     "output_type": "stream",
     "text": [
      "Mounted at /content/drive\n"
     ]
    }
   ],
   "source": [
    "from google.colab import drive\n",
    "drive.mount('/content/drive')"
   ]
  },
  {
   "cell_type": "markdown",
   "metadata": {
    "id": "iqI5L27rHjAg"
   },
   "source": [
    "##Import Packages"
   ]
  },
  {
   "cell_type": "code",
   "execution_count": 7,
   "metadata": {
    "executionInfo": {
     "elapsed": 1141,
     "status": "ok",
     "timestamp": 1611407944226,
     "user": {
      "displayName": "KHONG FAN YI",
      "photoUrl": "",
      "userId": "02416044610109286808"
     },
     "user_tz": -480
    },
    "id": "HGPs2SYyo5xx"
   },
   "outputs": [],
   "source": [
    "import time\n",
    "import numpy as np\n",
    "import os\n",
    "import cv2\n",
    "import random\n",
    "import matplotlib.pyplot as plt\n",
    "import pickle\n",
    "from tqdm.notebook import tqdm\n",
    "from sklearn.model_selection import train_test_split\n",
    "from lbp import get_pixel, lbp_calculated_pixel, show_output\n",
    "from sklearn.svm import SVC, LinearSVC\n",
    "import sklearn.metrics as metrics\n",
    "from sklearn.metrics import plot_confusion_matrix\n",
    "from sklearn.preprocessing import StandardScaler"
   ]
  },
  {
   "cell_type": "code",
   "execution_count": 8,
   "metadata": {
    "executionInfo": {
     "elapsed": 1297,
     "status": "ok",
     "timestamp": 1611407949503,
     "user": {
      "displayName": "KHONG FAN YI",
      "photoUrl": "",
      "userId": "02416044610109286808"
     },
     "user_tz": -480
    },
    "id": "gdIffJrCo5yP"
   },
   "outputs": [],
   "source": [
    "# Define labels of the classes and subclasses\n",
    "\n",
    "CLASSES = [\"healthy\", \"ill\"]\n",
    "SUBCLASSES = [\"fever\", \"sore throat\", \"running nose\"]"
   ]
  },
  {
   "cell_type": "markdown",
   "metadata": {
    "id": "ciqkz1NoIE9L"
   },
   "source": [
    "##Load Dataset"
   ]
  },
  {
   "cell_type": "code",
   "execution_count": 9,
   "metadata": {
    "colab": {
     "base_uri": "https://localhost:8080/",
     "height": 215,
     "referenced_widgets": [
      "774555069fa64461b1ddeca550e9b4bb",
      "71247857550049f0ba8dcef9a1ccce7d",
      "bb25d1ec8246421aa32589b14fd2b083",
      "0722af18a6954367aa4a0d3330c2267f",
      "7d1fe25fb8994d98891e757e39949a57",
      "2976ea5d96b04c97ae8ae33824daf6c4",
      "bcb9bd02d50e4f7eaed687b59b3681ea",
      "a7bc04363f124e9e8db125d5a7c7fe48",
      "8f35218c1fd84977aa4455f8bbff8aea",
      "6ac06d62f7b9425db0a84cb44a1f5ab6",
      "ad0f817ec646430a8b5f64c61086a8d7",
      "a847699663c24f7d867af1afe46b2e5d",
      "6cb7e25498f84eaf99e7f97c5ecd43f0",
      "5357bc6ef16045a6a8df65d9d7d65207",
      "e2a1f994fbdb4c8aa2bc6b65851a177a",
      "75c402c38ee44eb291a6d3f538c29687",
      "9f5a6e57cae0473a9677961c28882208",
      "18be6e28abc148a7970c049585cd40f7",
      "f8af2e41eada44c696c34074e91611c8",
      "09d4a8df18c8426398e2a60bfbda7172",
      "362679c1ebe64d789575888c21096339",
      "4d88696e4a0c4cf1826361e348cc1018",
      "e65edc2fbb0e4d7aba53af23b5599874",
      "2c2367e2b2d14066b30624e7664b8490",
      "58dedab129f341a1853452a655604c4b",
      "b3d35a0ff39c48e79d55f3c2542c41b8",
      "939aa3163d6f48ab987c263d940501a7",
      "49dc44f217414cf38b65a36072b08626",
      "7c36291d88574b92be1542fd77b22ba3",
      "90efd0b986b74e84b0491faf91ac172c",
      "11f2c34cc604434f8a9dc338145947f3",
      "f79f3689949041e49684487f0518cd26"
     ]
    },
    "executionInfo": {
     "elapsed": 426005,
     "status": "ok",
     "timestamp": 1611408385638,
     "user": {
      "displayName": "KHONG FAN YI",
      "photoUrl": "",
      "userId": "02416044610109286808"
     },
     "user_tz": -480
    },
    "id": "QVxm09S_o5yS",
    "outputId": "ae3966dc-35cc-478f-8f36-e2cd69a67335",
    "scrolled": false
   },
   "outputs": [
    {
     "data": {
      "application/vnd.jupyter.widget-view+json": {
       "model_id": "774555069fa64461b1ddeca550e9b4bb",
       "version_major": 2,
       "version_minor": 0
      },
      "text/plain": [
       "HBox(children=(FloatProgress(value=0.0, max=500.0), HTML(value='')))"
      ]
     },
     "metadata": {
      "tags": []
     },
     "output_type": "display_data"
    },
    {
     "name": "stdout",
     "output_type": "stream",
     "text": [
      "\n"
     ]
    },
    {
     "data": {
      "application/vnd.jupyter.widget-view+json": {
       "model_id": "8f35218c1fd84977aa4455f8bbff8aea",
       "version_major": 2,
       "version_minor": 0
      },
      "text/plain": [
       "HBox(children=(FloatProgress(value=0.0, max=78.0), HTML(value='')))"
      ]
     },
     "metadata": {
      "tags": []
     },
     "output_type": "display_data"
    },
    {
     "name": "stdout",
     "output_type": "stream",
     "text": [
      "\n"
     ]
    },
    {
     "data": {
      "application/vnd.jupyter.widget-view+json": {
       "model_id": "9f5a6e57cae0473a9677961c28882208",
       "version_major": 2,
       "version_minor": 0
      },
      "text/plain": [
       "HBox(children=(FloatProgress(value=0.0, max=80.0), HTML(value='')))"
      ]
     },
     "metadata": {
      "tags": []
     },
     "output_type": "display_data"
    },
    {
     "name": "stdout",
     "output_type": "stream",
     "text": [
      "\n"
     ]
    },
    {
     "data": {
      "application/vnd.jupyter.widget-view+json": {
       "model_id": "58dedab129f341a1853452a655604c4b",
       "version_major": 2,
       "version_minor": 0
      },
      "text/plain": [
       "HBox(children=(FloatProgress(value=0.0, max=75.0), HTML(value='')))"
      ]
     },
     "metadata": {
      "tags": []
     },
     "output_type": "display_data"
    },
    {
     "name": "stdout",
     "output_type": "stream",
     "text": [
      "\n"
     ]
    }
   ],
   "source": [
    "folder = \"/content/drive/MyDrive/FYP/dataset\"\n",
    "img_array = []\n",
    "class_num_list1 = []\n",
    "subcls_num_list1 = [\"None\"]*500   # fill the list with 500 \"None's\" first to represent \"healthy\" samples\n",
    "\n",
    "for c in CLASSES: \n",
    "        \n",
    "    if (c == \"healthy\"):\n",
    "        path = os.path.join(folder,c)  # create path to dataset folder\n",
    "        class_num = 0  # get the CLASSES index, 0 = healthy, 1 = ill\n",
    "        for img in tqdm(os.listdir(path)):  # iterate over each image per folder\n",
    "            try:\n",
    "                img = cv2.imread(os.path.join(path,img))  # read image into a list \n",
    "                img_array.append(img)\n",
    "                class_num_list1.append(class_num) # save a list of the class numbers\n",
    "            except Exception as e: \n",
    "                print(\"error\")\n",
    "                \n",
    "    elif (c == \"ill\"):\n",
    "        for s in SUBCLASSES:\n",
    "            path = os.path.join(folder,c,s) # create path to ill subfolders \n",
    "            class_num = 1\n",
    "            subclass_num = SUBCLASSES.index(s)\n",
    "            for img in tqdm(os.listdir(path)):  # iterate over each image per folder\n",
    "                try:\n",
    "                    img = cv2.imread(os.path.join(path,img))  # read image into a list\n",
    "                    img_array.append(img)\n",
    "                    class_num_list1.append(class_num) \n",
    "                    subcls_num_list1.append(subclass_num) # save a list of the subclass numbers; 0 = fever, 1 = sore throat, 2 = running nose\n",
    "                except Exception as e: \n",
    "                    print(\"error\")"
   ]
  },
  {
   "cell_type": "code",
   "execution_count": 10,
   "metadata": {
    "colab": {
     "base_uri": "https://localhost:8080/",
     "height": 215,
     "referenced_widgets": [
      "fc07ee461b584405983b14bf1e17a7df",
      "cdf028a899364d38aa3e16e3d8126e7d",
      "c50053980aaf4afebe946691d3147ab7",
      "b3bb73f2ee42485f930fb6e748f3030b",
      "e27603e4984a42679b36414c00092bf2",
      "f7b38a602bca4897b203ff72ffd29794",
      "49a3c49c7e0c4212922448af3ff86506",
      "72342e0ddeb54eafbf0d582700b6f25a",
      "8b28b54cba3b442cab78dd75b24271c4",
      "c26601ce78fd407da8f68d96dce11f9d",
      "65ffef699a0c4202a7ccfecac6c34d93",
      "be0c4f867c7f48b2bb70660eaff3c7c1",
      "8a317673b65d4e6b8f4b9dae9d8b527e",
      "3e240de55cc74165abe6925ead1039bc",
      "000c50ad00594386bb38272704415140",
      "d000a4b3ed6749e69e00fdbc9b84e19d",
      "f6332d30f62c4c47825dcf3015e4e481",
      "46024df272104e68829f941935984042",
      "c1bbd9ad7a444634a0fecf1d388b758f",
      "1289b5956b36438d8d67688477d41f5f",
      "09916f2835b84a4fbdc363ae2e6c3400",
      "dc33d1de016e4add9e800a83b010c7bb",
      "9cb7966d7c934ebbab994b035bfbc486",
      "5bfd488700fa4aa0aa9ed57a98253c55",
      "991da337318e463f8c1d09318f64a1dd",
      "20ee56a9ccf647ce9c334c22fa9c6807",
      "6dc7150620b44eeebd3098941b61b767",
      "81b92c68bfc64587ac504bef3c42bc37",
      "08644fec0e1949d2819be8da049b6269",
      "2cbfe81602c84edb9f46febfd180083b",
      "56afbd42fed4422c8180e4dcd81c00fc",
      "3a23a7aea11c48f38d62da98e7c8f280"
     ]
    },
    "executionInfo": {
     "elapsed": 804805,
     "status": "ok",
     "timestamp": 1611408764447,
     "user": {
      "displayName": "KHONG FAN YI",
      "photoUrl": "",
      "userId": "02416044610109286808"
     },
     "user_tz": -480
    },
    "id": "H-B4srTEo5yX",
    "outputId": "aa388db5-ba22-4ad9-fc02-c56b7c21f7a7",
    "scrolled": true
   },
   "outputs": [
    {
     "data": {
      "application/vnd.jupyter.widget-view+json": {
       "model_id": "fc07ee461b584405983b14bf1e17a7df",
       "version_major": 2,
       "version_minor": 0
      },
      "text/plain": [
       "HBox(children=(FloatProgress(value=0.0, max=500.0), HTML(value='')))"
      ]
     },
     "metadata": {
      "tags": []
     },
     "output_type": "display_data"
    },
    {
     "name": "stdout",
     "output_type": "stream",
     "text": [
      "\n"
     ]
    },
    {
     "data": {
      "application/vnd.jupyter.widget-view+json": {
       "model_id": "8b28b54cba3b442cab78dd75b24271c4",
       "version_major": 2,
       "version_minor": 0
      },
      "text/plain": [
       "HBox(children=(FloatProgress(value=0.0, max=78.0), HTML(value='')))"
      ]
     },
     "metadata": {
      "tags": []
     },
     "output_type": "display_data"
    },
    {
     "name": "stdout",
     "output_type": "stream",
     "text": [
      "\n"
     ]
    },
    {
     "data": {
      "application/vnd.jupyter.widget-view+json": {
       "model_id": "f6332d30f62c4c47825dcf3015e4e481",
       "version_major": 2,
       "version_minor": 0
      },
      "text/plain": [
       "HBox(children=(FloatProgress(value=0.0, max=80.0), HTML(value='')))"
      ]
     },
     "metadata": {
      "tags": []
     },
     "output_type": "display_data"
    },
    {
     "name": "stdout",
     "output_type": "stream",
     "text": [
      "\n"
     ]
    },
    {
     "data": {
      "application/vnd.jupyter.widget-view+json": {
       "model_id": "991da337318e463f8c1d09318f64a1dd",
       "version_major": 2,
       "version_minor": 0
      },
      "text/plain": [
       "HBox(children=(FloatProgress(value=0.0, max=75.0), HTML(value='')))"
      ]
     },
     "metadata": {
      "tags": []
     },
     "output_type": "display_data"
    },
    {
     "name": "stdout",
     "output_type": "stream",
     "text": [
      "\n"
     ]
    }
   ],
   "source": [
    "folder_aug = \"/content/drive/MyDrive/FYP/augmented images\"\n",
    "aug_array = []\n",
    "class_num_list2 = []\n",
    "subcls_num_list2 = [\"None\"]*500 # fill the list with 500 \"None's\" first to represent \"healthy\" samples\n",
    "\n",
    "for c in CLASSES: \n",
    "        \n",
    "    if (c == \"healthy\"):\n",
    "        path = os.path.join(folder_aug,c)  # create path to dataset folder_aug\n",
    "        class_num = 0  # get the CLASSES index, 0 = healthy, 1 = ill\n",
    "        for img in tqdm(os.listdir(path)):  # iterate over each image per folder_aug\n",
    "            try:\n",
    "                img = cv2.imread(os.path.join(path,img))  # read image into a list \n",
    "                aug_array.append(img)\n",
    "                class_num_list2.append(class_num) # save a list of the class numbers\n",
    "            except Exception as e: \n",
    "                print(\"error\")\n",
    "                \n",
    "    elif (c == \"ill\"):\n",
    "        for s in SUBCLASSES:\n",
    "            path = os.path.join(folder_aug,c,s) # create path to ill subfolder_augs \n",
    "            class_num = 1\n",
    "            subclass_num = SUBCLASSES.index(s)\n",
    "            for img in tqdm(os.listdir(path)):  # iterate over each image per folder_aug\n",
    "                try:\n",
    "                    img = cv2.imread(os.path.join(path,img))  # read image into a list\n",
    "                    aug_array.append(img)\n",
    "                    class_num_list2.append(class_num) \n",
    "                    subcls_num_list2.append(subclass_num) # save a list of the subclass numbers; 0 = fever, 1 = sore throat, 2 = running nose\n",
    "                except Exception as e: \n",
    "                    print(\"error\")"
   ]
  },
  {
   "cell_type": "code",
   "execution_count": 11,
   "metadata": {
    "colab": {
     "base_uri": "https://localhost:8080/"
    },
    "executionInfo": {
     "elapsed": 804799,
     "status": "ok",
     "timestamp": 1611408764449,
     "user": {
      "displayName": "KHONG FAN YI",
      "photoUrl": "",
      "userId": "02416044610109286808"
     },
     "user_tz": -480
    },
    "id": "UU6z0b3ko5ya",
    "outputId": "7f3dcf6a-3825-4011-e398-13d64346898a"
   },
   "outputs": [
    {
     "name": "stdout",
     "output_type": "stream",
     "text": [
      "1466\n"
     ]
    }
   ],
   "source": [
    "# Combine the original and augmented images into a new list\n",
    "\n",
    "all_imgs = []\n",
    "\n",
    "all_imgs = img_array.copy()\n",
    "\n",
    "for i, img in enumerate(aug_array):\n",
    "    all_imgs.append(img)\n",
    "\n",
    "print(len(all_imgs))"
   ]
  },
  {
   "cell_type": "markdown",
   "metadata": {
    "id": "-IK1KAsRF0ou"
   },
   "source": [
    "## Feature Extraction"
   ]
  },
  {
   "cell_type": "code",
   "execution_count": 12,
   "metadata": {
    "colab": {
     "base_uri": "https://localhost:8080/",
     "height": 66,
     "referenced_widgets": [
      "3d9f719e989b46bd998f906c3ebe0152",
      "c0026e79dc4a47d0b4cb9fed85996753",
      "c52c25fd16534dd2932bd25962b4e0bc",
      "40b8bf5204d94342a4d8eaa6db2803f0",
      "6e31384eafdc487ea9ab2480d767def1",
      "3a279ea8f6c14000b3be2b6aa45e3e1a",
      "1dab6964332947bf9223646b81b109e1",
      "cb736a3adf054152b6eeee87d49f84a5"
     ]
    },
    "executionInfo": {
     "elapsed": 1230470,
     "status": "ok",
     "timestamp": 1611409190128,
     "user": {
      "displayName": "KHONG FAN YI",
      "photoUrl": "",
      "userId": "02416044610109286808"
     },
     "user_tz": -480
    },
    "id": "m1S2TFLQo5yb",
    "outputId": "fba061d5-5afd-405e-89c6-cad4ace14ea9"
   },
   "outputs": [
    {
     "data": {
      "application/vnd.jupyter.widget-view+json": {
       "model_id": "3d9f719e989b46bd998f906c3ebe0152",
       "version_major": 2,
       "version_minor": 0
      },
      "text/plain": [
       "HBox(children=(FloatProgress(value=0.0, max=1466.0), HTML(value='')))"
      ]
     },
     "metadata": {
      "tags": []
     },
     "output_type": "display_data"
    },
    {
     "name": "stdout",
     "output_type": "stream",
     "text": [
      "\n"
     ]
    }
   ],
   "source": [
    "height, width, channel = 200, 200, 3\n",
    "\n",
    "# Extract all features from the whole dataset (original + augmented)\n",
    "gray_imgs = []\n",
    "lbp_all = []\n",
    "hist_lbp_all = []\n",
    "\n",
    "for img in tqdm(all_imgs):\n",
    "    \n",
    "    img_gray = cv2.cvtColor(img, cv2.COLOR_BGR2GRAY)\n",
    "    gray_imgs.append(img_gray)\n",
    "\n",
    "    img_lbp = np.zeros((height, width, 3), np.uint8)\n",
    "    \n",
    "    for i in range(0, height):\n",
    "        for j in range(0, width):\n",
    "            img_lbp[i, j] = lbp_calculated_pixel(img_gray, i, j)\n",
    "    lbp_all.append(img_lbp)\n",
    "    hist_lbp = cv2.calcHist([img_lbp], [0], None, [256], [0, 256])\n",
    "    hist_lbp_all.append(hist_lbp)\n",
    "    \n",
    "lbp_all = np.array(lbp_all)\n",
    "hist_lbp_all = np.array(hist_lbp_all)"
   ]
  },
  {
   "cell_type": "code",
   "execution_count": 14,
   "metadata": {
    "colab": {
     "base_uri": "https://localhost:8080/"
    },
    "executionInfo": {
     "elapsed": 1223404,
     "status": "ok",
     "timestamp": 1611409193337,
     "user": {
      "displayName": "KHONG FAN YI",
      "photoUrl": "",
      "userId": "02416044610109286808"
     },
     "user_tz": -480
    },
    "id": "kPX686-To5yi",
    "outputId": "709d3300-d9e2-4044-bfdf-c74abceeaf33"
   },
   "outputs": [
    {
     "name": "stdout",
     "output_type": "stream",
     "text": [
      "733\n",
      "733\n"
     ]
    }
   ],
   "source": [
    "# Separate the features of augmented images from original images\n",
    "# to prevent information leakage during splitting \n",
    "\n",
    "aug_hist_lbp = []\n",
    "hist_lbp = []\n",
    "\n",
    "for j in range(len(hist_lbp_all)):\n",
    "    if(j >= 733):\n",
    "        aug_hist_lbp.append(hist_lbp_all[j])\n",
    "    else:\n",
    "        hist_lbp.append(hist_lbp_all[j])\n",
    "\n",
    "print(len(hist_lbp))\n",
    "print(len(aug_hist_lbp))"
   ]
  },
  {
   "cell_type": "markdown",
   "metadata": {
    "id": "2kLF31p6HGit"
   },
   "source": [
    "## First-Level Classification\n",
    "> ### *Classify samples into healthy (0) and ill (1) classes*\n"
   ]
  },
  {
   "cell_type": "code",
   "execution_count": 15,
   "metadata": {
    "executionInfo": {
     "elapsed": 1219422,
     "status": "ok",
     "timestamp": 1611409193341,
     "user": {
      "displayName": "KHONG FAN YI",
      "photoUrl": "",
      "userId": "02416044610109286808"
     },
     "user_tz": -480
    },
    "id": "HlcXhFWWo5yj"
   },
   "outputs": [],
   "source": [
    "# Create partial dataset with features of original images (will add in the augmented set after spliting)\n",
    "dataset = []\n",
    "\n",
    "for i, features in enumerate(hist_lbp):  \n",
    "    try:\n",
    "        img_gray = cv2.cvtColor(img_array[i], cv2.COLOR_BGR2GRAY)\n",
    "        dataset.append([features, class_num_list1[i], subcls_num_list1[i], img_gray])\n",
    "    except Exception as e: \n",
    "        print(\"error\")"
   ]
  },
  {
   "cell_type": "code",
   "execution_count": 16,
   "metadata": {
    "executionInfo": {
     "elapsed": 1506,
     "status": "ok",
     "timestamp": 1611409194950,
     "user": {
      "displayName": "KHONG FAN YI",
      "photoUrl": "",
      "userId": "02416044610109286808"
     },
     "user_tz": -480
    },
    "id": "ihOvncmTo5ym"
   },
   "outputs": [],
   "source": [
    "# Create the augmented images' dataset \n",
    "aug_dataset = []\n",
    "\n",
    "for i, aug_features in enumerate(aug_hist_lbp):  \n",
    "    try:\n",
    "        aug_gray = cv2.cvtColor(aug_array[i], cv2.COLOR_BGR2GRAY)\n",
    "        aug_dataset.append([aug_features, class_num_list2[i], subcls_num_list2[i], aug_gray])\n",
    "    except Exception as e: \n",
    "        print(\"error\")"
   ]
  },
  {
   "cell_type": "code",
   "execution_count": 17,
   "metadata": {
    "colab": {
     "base_uri": "https://localhost:8080/"
    },
    "executionInfo": {
     "elapsed": 1451,
     "status": "ok",
     "timestamp": 1611409194953,
     "user": {
      "displayName": "KHONG FAN YI",
      "photoUrl": "",
      "userId": "02416044610109286808"
     },
     "user_tz": -480
    },
    "id": "rfgHXnNNo5yn",
    "outputId": "db579c51-17b9-448f-ce12-94de9e8a7d2f",
    "scrolled": true
   },
   "outputs": [
    {
     "name": "stdout",
     "output_type": "stream",
     "text": [
      "Train set length before data augmentation:  586\n",
      "Test set length:  147\n"
     ]
    }
   ],
   "source": [
    "# Split the original dataset\n",
    "train_set_before, test_set = train_test_split(dataset, test_size=0.2, shuffle=True)\n",
    "\n",
    "print('Train set length before data augmentation: ', len(train_set_before))\n",
    "print('Test set length: ', len(test_set))"
   ]
  },
  {
   "cell_type": "code",
   "execution_count": 18,
   "metadata": {
    "colab": {
     "base_uri": "https://localhost:8080/"
    },
    "executionInfo": {
     "elapsed": 1433,
     "status": "ok",
     "timestamp": 1611409194954,
     "user": {
      "displayName": "KHONG FAN YI",
      "photoUrl": "",
      "userId": "02416044610109286808"
     },
     "user_tz": -480
    },
    "id": "apdrrYF8o5yq",
    "outputId": "0cc95f18-88e8-4caf-cf2b-bc1184e4d4f2"
   },
   "outputs": [
    {
     "data": {
      "text/plain": [
       "1319"
      ]
     },
     "execution_count": 18,
     "metadata": {
      "tags": []
     },
     "output_type": "execute_result"
    }
   ],
   "source": [
    "# Add the augmented dataset into the training set, then shuffle\n",
    "train_set = []\n",
    "\n",
    "train_set = train_set_before.copy()\n",
    "\n",
    "for aug_set in aug_dataset:  \n",
    "    if (len(train_set) < 1319):\n",
    "        train_set.append(aug_set)\n",
    "        \n",
    "random.shuffle(train_set)\n",
    "len(train_set)"
   ]
  },
  {
   "cell_type": "code",
   "execution_count": 19,
   "metadata": {
    "colab": {
     "base_uri": "https://localhost:8080/"
    },
    "executionInfo": {
     "elapsed": 1417,
     "status": "ok",
     "timestamp": 1611409194956,
     "user": {
      "displayName": "KHONG FAN YI",
      "photoUrl": "",
      "userId": "02416044610109286808"
     },
     "user_tz": -480
    },
    "id": "pGUwPeFgo5yr",
    "outputId": "9e37e41a-0827-4c88-b2a7-c96d8937f104"
   },
   "outputs": [
    {
     "name": "stdout",
     "output_type": "stream",
     "text": [
      "(1319, 256)\n",
      "(1319,)\n"
     ]
    }
   ],
   "source": [
    "# Create training set\n",
    "\n",
    "X_train = []\n",
    "y_train = []\n",
    "gray_img1 = []\n",
    "subcls_num = []\n",
    "\n",
    "for features, label, subcls, gray in train_set:\n",
    "    X_train.append(features)\n",
    "    y_train.append(label)\n",
    "    gray_img1.append(gray)\n",
    "    subcls_num.append(subcls)\n",
    "\n",
    "X_train = np.array(X_train).reshape(len(y_train), -1)\n",
    "y_train = np.array(y_train)\n",
    "\n",
    "print(X_train.shape)\n",
    "print(y_train.shape)"
   ]
  },
  {
   "cell_type": "code",
   "execution_count": 20,
   "metadata": {
    "colab": {
     "base_uri": "https://localhost:8080/"
    },
    "executionInfo": {
     "elapsed": 1398,
     "status": "ok",
     "timestamp": 1611409194958,
     "user": {
      "displayName": "KHONG FAN YI",
      "photoUrl": "",
      "userId": "02416044610109286808"
     },
     "user_tz": -480
    },
    "id": "696oxKlCo5yt",
    "outputId": "2b02026a-f8bf-43d4-b54c-282114562906"
   },
   "outputs": [
    {
     "name": "stdout",
     "output_type": "stream",
     "text": [
      "(147, 256)\n",
      "(147,)\n"
     ]
    }
   ],
   "source": [
    "# Create testing set\n",
    "\n",
    "X_test = []\n",
    "y_test = []\n",
    "gray_img2 = []\n",
    "\n",
    "for features, label, subcls, gray in test_set:\n",
    "    X_test.append(features)\n",
    "    y_test.append(label)\n",
    "    gray_img2.append(gray)\n",
    "\n",
    "X_test = np.array(X_test).reshape(len(y_test), -1)\n",
    "y_test = np.array(y_test)\n",
    "\n",
    "print(X_test.shape)\n",
    "print(y_test.shape)"
   ]
  },
  {
   "cell_type": "code",
   "execution_count": 22,
   "metadata": {
    "executionInfo": {
     "elapsed": 950,
     "status": "ok",
     "timestamp": 1611409679773,
     "user": {
      "displayName": "KHONG FAN YI",
      "photoUrl": "",
      "userId": "02416044610109286808"
     },
     "user_tz": -480
    },
    "id": "Pl7ylZgto5yv"
   },
   "outputs": [],
   "source": [
    "# Normalize the data\n",
    "\n",
    "scaling = StandardScaler()\n",
    "scaling.fit(X_train) \n",
    "X_train = scaling.transform(X_train)\n",
    "X_test = scaling.transform(X_test)"
   ]
  },
  {
   "cell_type": "markdown",
   "metadata": {
    "id": "84UEBtn7idcv"
   },
   "source": [
    "### Train Model"
   ]
  },
  {
   "cell_type": "code",
   "execution_count": 23,
   "metadata": {
    "colab": {
     "base_uri": "https://localhost:8080/"
    },
    "executionInfo": {
     "elapsed": 18073,
     "status": "ok",
     "timestamp": 1611409700329,
     "user": {
      "displayName": "KHONG FAN YI",
      "photoUrl": "",
      "userId": "02416044610109286808"
     },
     "user_tz": -480
    },
    "id": "DJLQwmano5yw",
    "outputId": "d152c59d-3585-4302-ec7c-6ece53affc48",
    "scrolled": true
   },
   "outputs": [
    {
     "name": "stdout",
     "output_type": "stream",
     "text": [
      "[LibLinear]16.345088243484497 seconds\n"
     ]
    }
   ],
   "source": [
    "# Train the classifier\n",
    "\n",
    "svm = LinearSVC(C=1, max_iter=500000, verbose=2)   # LinearSVC is faster than SVC\n",
    "\n",
    "start_train = time.time() # to record the training time\n",
    "svm.fit(X_train, y_train)\n",
    "end_train = time.time()\n",
    "print(end_train - start_train, \"seconds\")"
   ]
  },
  {
   "cell_type": "markdown",
   "metadata": {
    "id": "EN0feoe9o5yx"
   },
   "source": [
    "#### Training Performance"
   ]
  },
  {
   "cell_type": "code",
   "execution_count": 24,
   "metadata": {
    "colab": {
     "base_uri": "https://localhost:8080/"
    },
    "executionInfo": {
     "elapsed": 1615,
     "status": "ok",
     "timestamp": 1611409748637,
     "user": {
      "displayName": "KHONG FAN YI",
      "photoUrl": "",
      "userId": "02416044610109286808"
     },
     "user_tz": -480
    },
    "id": "KsByPEcyo5yy",
    "outputId": "c14183de-5adf-4228-f27f-45885db62654",
    "scrolled": true
   },
   "outputs": [
    {
     "name": "stdout",
     "output_type": "stream",
     "text": [
      "Classification report for - \n",
      "LinearSVC(C=1, class_weight=None, dual=True, fit_intercept=True,\n",
      "          intercept_scaling=1, loss='squared_hinge', max_iter=500000,\n",
      "          multi_class='ovr', penalty='l2', random_state=None, tol=0.0001,\n",
      "          verbose=2):\n",
      "              precision    recall  f1-score   support\n",
      "\n",
      "           0       0.90      0.94      0.92       895\n",
      "           1       0.85      0.79      0.82       424\n",
      "\n",
      "    accuracy                           0.89      1319\n",
      "   macro avg       0.88      0.86      0.87      1319\n",
      "weighted avg       0.89      0.89      0.89      1319\n",
      "\n",
      "\n",
      "Training accuracy: 88.93100833965126\n"
     ]
    }
   ],
   "source": [
    "y_pred = svm.predict(X_train)\n",
    "\n",
    "ill_pred = y_pred\n",
    "\n",
    "print(\"Classification report for - \\n{}:\\n{}\\n\".format(\n",
    "    svm, metrics.classification_report(y_train, y_pred)))\n",
    "\n",
    "train_acc = metrics.accuracy_score(y_train, y_pred)*100\n",
    "print(\"Training accuracy: \" + str(train_acc))"
   ]
  },
  {
   "cell_type": "code",
   "execution_count": 25,
   "metadata": {
    "colab": {
     "base_uri": "https://localhost:8080/",
     "height": 296
    },
    "executionInfo": {
     "elapsed": 3039,
     "status": "ok",
     "timestamp": 1611409750079,
     "user": {
      "displayName": "KHONG FAN YI",
      "photoUrl": "",
      "userId": "02416044610109286808"
     },
     "user_tz": -480
    },
    "id": "DbhGDh-So5yy",
    "outputId": "33d1eb82-96c7-4e82-efba-95ffa4a6e4f5",
    "scrolled": false
   },
   "outputs": [
    {
     "data": {
      "text/plain": [
       "<sklearn.metrics._plot.confusion_matrix.ConfusionMatrixDisplay at 0x7f7453ebf748>"
      ]
     },
     "execution_count": 25,
     "metadata": {
      "tags": []
     },
     "output_type": "execute_result"
    },
    {
     "data": {
      "image/png": "[encoded data removed]",
      "text/plain": [
       "<Figure size 432x288 with 2 Axes>"
      ]
     },
     "metadata": {
      "needs_background": "light",
      "tags": []
     },
     "output_type": "display_data"
    }
   ],
   "source": [
    "plot_confusion_matrix(svm, X_train, y_train, cmap='plasma')"
   ]
  },
  {
   "cell_type": "markdown",
   "metadata": {
    "id": "d5qV4luLo5yz"
   },
   "source": [
    "#### Testing Performance"
   ]
  },
  {
   "cell_type": "code",
   "execution_count": 26,
   "metadata": {
    "colab": {
     "base_uri": "https://localhost:8080/"
    },
    "executionInfo": {
     "elapsed": 3031,
     "status": "ok",
     "timestamp": 1611409750081,
     "user": {
      "displayName": "KHONG FAN YI",
      "photoUrl": "",
      "userId": "02416044610109286808"
     },
     "user_tz": -480
    },
    "id": "zcTz1F1Qo5yz",
    "outputId": "b7c467d2-15f6-494a-8a69-4031bf1b8917"
   },
   "outputs": [
    {
     "name": "stdout",
     "output_type": "stream",
     "text": [
      "Classification report for - \n",
      "LinearSVC(C=1, class_weight=None, dual=True, fit_intercept=True,\n",
      "          intercept_scaling=1, loss='squared_hinge', max_iter=500000,\n",
      "          multi_class='ovr', penalty='l2', random_state=None, tol=0.0001,\n",
      "          verbose=2):\n",
      "              precision    recall  f1-score   support\n",
      "\n",
      "           0       0.91      0.89      0.90       105\n",
      "           1       0.73      0.79      0.76        42\n",
      "\n",
      "    accuracy                           0.86       147\n",
      "   macro avg       0.82      0.84      0.83       147\n",
      "weighted avg       0.86      0.86      0.86       147\n",
      "\n",
      "\n",
      "Testing accuracy: 85.71428571428571\n"
     ]
    }
   ],
   "source": [
    "y_pred = svm.predict(X_test)\n",
    "\n",
    "print(\"Classification report for - \\n{}:\\n{}\\n\".format(\n",
    "    svm, metrics.classification_report(y_test, y_pred)))\n",
    "\n",
    "test_acc = metrics.accuracy_score(y_test, y_pred)*100\n",
    "print(\"Testing accuracy: \" + str(test_acc))"
   ]
  },
  {
   "cell_type": "code",
   "execution_count": 27,
   "metadata": {
    "colab": {
     "base_uri": "https://localhost:8080/",
     "height": 296
    },
    "executionInfo": {
     "elapsed": 3024,
     "status": "ok",
     "timestamp": 1611409750083,
     "user": {
      "displayName": "KHONG FAN YI",
      "photoUrl": "",
      "userId": "02416044610109286808"
     },
     "user_tz": -480
    },
    "id": "TnUrxFxbo5y0",
    "outputId": "0a55421c-9b0b-4e40-f8ae-247d30d54a7b"
   },
   "outputs": [
    {
     "data": {
      "text/plain": [
       "<sklearn.metrics._plot.confusion_matrix.ConfusionMatrixDisplay at 0x7f7453ebf400>"
      ]
     },
     "execution_count": 27,
     "metadata": {
      "tags": []
     },
     "output_type": "execute_result"
    },
    {
     "data": {
      "image/png": "[encoded data removed]",
      "text/plain": [
       "<Figure size 432x288 with 2 Axes>"
      ]
     },
     "metadata": {
      "needs_background": "light",
      "tags": []
     },
     "output_type": "display_data"
    }
   ],
   "source": [
    "plot_confusion_matrix(svm, X_test, y_test, cmap='plasma')"
   ]
  },
  {
   "cell_type": "code",
   "execution_count": 28,
   "metadata": {
    "executionInfo": {
     "elapsed": 3018,
     "status": "ok",
     "timestamp": 1611409750086,
     "user": {
      "displayName": "KHONG FAN YI",
      "photoUrl": "",
      "userId": "02416044610109286808"
     },
     "user_tz": -480
    },
    "id": "6dP6h1EFo5y0"
   },
   "outputs": [],
   "source": [
    "# Get wrongly classified samples\n",
    "def get_wrong_case(pred_result, test_result):\n",
    "    \n",
    "    for i in range(len(pred_result)):\n",
    "        predicted = pred_result[i]\n",
    "        actual = test_result[i]\n",
    "        if(actual != predicted):\n",
    "            wrong_case.append([i,predicted,actual])"
   ]
  },
  {
   "cell_type": "code",
   "execution_count": 49,
   "metadata": {
    "executionInfo": {
     "elapsed": 948,
     "status": "ok",
     "timestamp": 1611409866318,
     "user": {
      "displayName": "KHONG FAN YI",
      "photoUrl": "",
      "userId": "02416044610109286808"
     },
     "user_tz": -480
    },
    "id": "_lmb1r2co5y2"
   },
   "outputs": [],
   "source": [
    "def plot(wrong_case, row, col, gray, labels):\n",
    "    \n",
    "    if (labels == SUBCLASSES):\n",
    "        fsize = 19\n",
    "        top = 5\n",
    "        bottom = 4.3\n",
    "    else:\n",
    "        fsize = 20\n",
    "        top = 3\n",
    "        bottom = 2.5\n",
    "        \n",
    "    \n",
    "    plt.figure(figsize=(40, 40))\n",
    "    plt.subplots_adjust(top=top, bottom=bottom)\n",
    "    \n",
    "    for i in range(len(wrong_case)):\n",
    "        plt.subplot(row, col, i+1)\n",
    "        plt.xticks([])\n",
    "        plt.yticks([])\n",
    "        plt.grid(False)\n",
    "        title = str(i+1) + '. Predicted: ' + labels[wrong_case[i][1]] + '\\nActual: ' + labels[wrong_case[i][2]]\n",
    "        plt.title(title, fontdict = {'fontsize' : fsize})\n",
    "        plt.imshow(gray[wrong_case[i][0]], cmap='gray')\n",
    "\n",
    "    plt.show()\n",
    "    \n",
    "    print(\"The number of misclassified images: \")\n",
    "    print(len(wrong_case))"
   ]
  },
  {
   "cell_type": "code",
   "execution_count": 46,
   "metadata": {
    "executionInfo": {
     "elapsed": 1015,
     "status": "ok",
     "timestamp": 1611409823160,
     "user": {
      "displayName": "KHONG FAN YI",
      "photoUrl": "",
      "userId": "02416044610109286808"
     },
     "user_tz": -480
    },
    "id": "4vG7g5flo5y3"
   },
   "outputs": [],
   "source": [
    "wrong_case = []\n",
    "get_wrong_case(y_pred, y_test)"
   ]
  },
  {
   "cell_type": "markdown",
   "metadata": {
    "id": "v8np4hKTo5y4"
   },
   "source": [
    "## Second-Level Classification\n",
    "> ### *Classify  'ill' cases into fever (0), sore throat (1) and running nose (2) subclasses*\n",
    "\n"
   ]
  },
  {
   "cell_type": "code",
   "execution_count": 32,
   "metadata": {
    "executionInfo": {
     "elapsed": 8219,
     "status": "ok",
     "timestamp": 1611409755316,
     "user": {
      "displayName": "KHONG FAN YI",
      "photoUrl": "",
      "userId": "02416044610109286808"
     },
     "user_tz": -480
    },
    "id": "hQ0SP3lqo5y7"
   },
   "outputs": [],
   "source": [
    "ill_case_index = []\n",
    "ill_dataset = []"
   ]
  },
  {
   "cell_type": "code",
   "execution_count": 33,
   "metadata": {
    "executionInfo": {
     "elapsed": 8215,
     "status": "ok",
     "timestamp": 1611409755319,
     "user": {
      "displayName": "KHONG FAN YI",
      "photoUrl": "",
      "userId": "02416044610109286808"
     },
     "user_tz": -480
    },
    "id": "Bieq4CR4o5y8"
   },
   "outputs": [],
   "source": [
    "# Get the indexes of samples correctly classified as \"ill\"\n",
    "\n",
    "for i, a in enumerate(ill_pred):\n",
    "    if((ill_pred[i] == 1) and (ill_pred[i] == y_train[i]) and (subcls_num[i] != \"None\")):  # 1 = ill, filter out the cases with \"healthy\" true labels\n",
    "        ill_case_index.append(i) # save the indexes of ill cases"
   ]
  },
  {
   "cell_type": "code",
   "execution_count": 34,
   "metadata": {
    "executionInfo": {
     "elapsed": 8211,
     "status": "ok",
     "timestamp": 1611409755321,
     "user": {
      "displayName": "KHONG FAN YI",
      "photoUrl": "",
      "userId": "02416044610109286808"
     },
     "user_tz": -480
    },
    "id": "qKNRFTsKo5y9"
   },
   "outputs": [],
   "source": [
    "# Create dataset for second-level classification\n",
    "\n",
    "for a in ill_case_index:\n",
    "    ill_dataset.append([X_train[a], subcls_num[a], gray_img1[a]])\n",
    "    \n",
    "ill_dataset = np.array(ill_dataset, dtype=object)"
   ]
  },
  {
   "cell_type": "code",
   "execution_count": 35,
   "metadata": {
    "colab": {
     "base_uri": "https://localhost:8080/"
    },
    "executionInfo": {
     "elapsed": 8208,
     "status": "ok",
     "timestamp": 1611409755324,
     "user": {
      "displayName": "KHONG FAN YI",
      "photoUrl": "",
      "userId": "02416044610109286808"
     },
     "user_tz": -480
    },
    "id": "bKrmeD36o5y-",
    "outputId": "a14f8e71-6ce3-4f7d-d9c4-ad17d76807d0",
    "scrolled": true
   },
   "outputs": [
    {
     "name": "stdout",
     "output_type": "stream",
     "text": [
      "Train set length:  234\n",
      "Test set length:  101\n"
     ]
    }
   ],
   "source": [
    "train_ill_set, test_ill_set = train_test_split(ill_dataset, test_size=0.3, shuffle=True)\n",
    "\n",
    "print('Train set length: ', len(train_ill_set))\n",
    "print('Test set length: ', len(test_ill_set))"
   ]
  },
  {
   "cell_type": "code",
   "execution_count": 36,
   "metadata": {
    "colab": {
     "base_uri": "https://localhost:8080/"
    },
    "executionInfo": {
     "elapsed": 8202,
     "status": "ok",
     "timestamp": 1611409755328,
     "user": {
      "displayName": "KHONG FAN YI",
      "photoUrl": "",
      "userId": "02416044610109286808"
     },
     "user_tz": -480
    },
    "id": "3M2tthLfo5y_",
    "outputId": "e73ffe4d-db3f-4cfc-ae1b-6bd570987943"
   },
   "outputs": [
    {
     "name": "stdout",
     "output_type": "stream",
     "text": [
      "(234, 256)\n",
      "(234,)\n"
     ]
    }
   ],
   "source": [
    "X_train_ill = []\n",
    "y_train_ill = []\n",
    "gray_img_ill1 = []\n",
    "\n",
    "for features, label, gray in train_ill_set:\n",
    "    X_train_ill.append(features)\n",
    "    y_train_ill.append(label)\n",
    "    gray_img_ill1.append(gray)\n",
    "\n",
    "X_train_ill = np.array(X_train_ill).reshape(len(y_train_ill), -1)\n",
    "y_train_ill = np.array(y_train_ill)\n",
    "\n",
    "print(X_train_ill.shape)\n",
    "print(y_train_ill.shape)"
   ]
  },
  {
   "cell_type": "code",
   "execution_count": 37,
   "metadata": {
    "colab": {
     "base_uri": "https://localhost:8080/"
    },
    "executionInfo": {
     "elapsed": 8203,
     "status": "ok",
     "timestamp": 1611409755339,
     "user": {
      "displayName": "KHONG FAN YI",
      "photoUrl": "",
      "userId": "02416044610109286808"
     },
     "user_tz": -480
    },
    "id": "LzjFH92wo5y_",
    "outputId": "832e5d66-4b0b-4275-bbb6-cae09749d1ca",
    "scrolled": false
   },
   "outputs": [
    {
     "name": "stdout",
     "output_type": "stream",
     "text": [
      "(101, 256)\n",
      "(101,)\n"
     ]
    }
   ],
   "source": [
    "X_test_ill = []\n",
    "y_test_ill = []\n",
    "gray_img_ill2 = []\n",
    "\n",
    "for features, label, gray in test_ill_set:\n",
    "    X_test_ill.append(features)\n",
    "    y_test_ill.append(label)\n",
    "    gray_img_ill2.append(gray)\n",
    "\n",
    "X_test_ill = np.array(X_test_ill).reshape(len(y_test_ill), -1)\n",
    "y_test_ill = np.array(y_test_ill)\n",
    "\n",
    "print(X_test_ill.shape)\n",
    "print(y_test_ill.shape)"
   ]
  },
  {
   "cell_type": "markdown",
   "metadata": {
    "id": "wV548Z47prVP"
   },
   "source": [
    "### Train Model"
   ]
  },
  {
   "cell_type": "code",
   "execution_count": 38,
   "metadata": {
    "colab": {
     "base_uri": "https://localhost:8080/"
    },
    "executionInfo": {
     "elapsed": 8198,
     "status": "ok",
     "timestamp": 1611409755344,
     "user": {
      "displayName": "KHONG FAN YI",
      "photoUrl": "",
      "userId": "02416044610109286808"
     },
     "user_tz": -480
    },
    "id": "Sh5BHyMIo5zA",
    "outputId": "3c579566-541a-4ea0-8901-a45b32d0552d",
    "scrolled": true
   },
   "outputs": [
    {
     "name": "stdout",
     "output_type": "stream",
     "text": [
      "0.03826022148132324 seconds\n"
     ]
    }
   ],
   "source": [
    "# Train the classifier\n",
    "\n",
    "svm = SVC(gamma=0.0001, C=100, kernel='rbf')\n",
    "\n",
    "start_train_ill = time.time()\n",
    "svm.fit(X_train_ill, y_train_ill)\n",
    "end_train_ill = time.time()\n",
    "print(end_train_ill - start_train_ill, \"seconds\")"
   ]
  },
  {
   "cell_type": "markdown",
   "metadata": {
    "id": "iflaNAaZIRLQ"
   },
   "source": [
    "#### Training Performance"
   ]
  },
  {
   "cell_type": "code",
   "execution_count": 39,
   "metadata": {
    "colab": {
     "base_uri": "https://localhost:8080/"
    },
    "executionInfo": {
     "elapsed": 8192,
     "status": "ok",
     "timestamp": 1611409755347,
     "user": {
      "displayName": "KHONG FAN YI",
      "photoUrl": "",
      "userId": "02416044610109286808"
     },
     "user_tz": -480
    },
    "id": "O1xL2tk5o5zB",
    "outputId": "6b409997-bbc3-4396-8a73-b4335597dc96"
   },
   "outputs": [
    {
     "name": "stdout",
     "output_type": "stream",
     "text": [
      "Classification report for - \n",
      "SVC(C=100, break_ties=False, cache_size=200, class_weight=None, coef0=0.0,\n",
      "    decision_function_shape='ovr', degree=3, gamma=0.0001, kernel='rbf',\n",
      "    max_iter=-1, probability=False, random_state=None, shrinking=True,\n",
      "    tol=0.001, verbose=False):\n",
      "              precision    recall  f1-score   support\n",
      "\n",
      "           0       0.88      0.94      0.91        80\n",
      "           1       0.99      1.00      0.99        92\n",
      "           2       0.93      0.84      0.88        62\n",
      "\n",
      "    accuracy                           0.94       234\n",
      "   macro avg       0.93      0.93      0.93       234\n",
      "weighted avg       0.94      0.94      0.94       234\n",
      "\n",
      "\n",
      "Training accuracy: 93.58974358974359\n"
     ]
    }
   ],
   "source": [
    "y_pred_ill = svm.predict(X_train_ill)\n",
    "\n",
    "print(\"Classification report for - \\n{}:\\n{}\\n\".format(\n",
    "    svm, metrics.classification_report(y_train_ill, y_pred_ill)))\n",
    "\n",
    "train_ill_acc = metrics.accuracy_score(y_train_ill, y_pred_ill)*100\n",
    "print(\"Training accuracy: \" + str(train_ill_acc))"
   ]
  },
  {
   "cell_type": "code",
   "execution_count": 40,
   "metadata": {
    "colab": {
     "base_uri": "https://localhost:8080/",
     "height": 296
    },
    "executionInfo": {
     "elapsed": 8187,
     "status": "ok",
     "timestamp": 1611409755352,
     "user": {
      "displayName": "KHONG FAN YI",
      "photoUrl": "",
      "userId": "02416044610109286808"
     },
     "user_tz": -480
    },
    "id": "p58AUwRJo5zB",
    "outputId": "8d35c9e0-0748-4359-9303-0118115daa70",
    "scrolled": false
   },
   "outputs": [
    {
     "data": {
      "text/plain": [
       "<sklearn.metrics._plot.confusion_matrix.ConfusionMatrixDisplay at 0x7f745365d668>"
      ]
     },
     "execution_count": 40,
     "metadata": {
      "tags": []
     },
     "output_type": "execute_result"
    },
    {
     "data": {
      "image/png": "[encoded data removed]",
      "text/plain": [
       "<Figure size 432x288 with 2 Axes>"
      ]
     },
     "metadata": {
      "needs_background": "light",
      "tags": []
     },
     "output_type": "display_data"
    }
   ],
   "source": [
    "plot_confusion_matrix(svm, X_train_ill, y_train_ill, cmap='viridis')"
   ]
  },
  {
   "cell_type": "markdown",
   "metadata": {
    "id": "P9WK2WiqIXdl"
   },
   "source": [
    "#### Testing Performance"
   ]
  },
  {
   "cell_type": "code",
   "execution_count": 41,
   "metadata": {
    "colab": {
     "base_uri": "https://localhost:8080/"
    },
    "executionInfo": {
     "elapsed": 8180,
     "status": "ok",
     "timestamp": 1611409755354,
     "user": {
      "displayName": "KHONG FAN YI",
      "photoUrl": "",
      "userId": "02416044610109286808"
     },
     "user_tz": -480
    },
    "id": "G3jMw5-Ho5zC",
    "outputId": "4ed74e60-047c-4ab8-af3f-04e2fcb1ed53"
   },
   "outputs": [
    {
     "name": "stdout",
     "output_type": "stream",
     "text": [
      "Classification report for - \n",
      "SVC(C=100, break_ties=False, cache_size=200, class_weight=None, coef0=0.0,\n",
      "    decision_function_shape='ovr', degree=3, gamma=0.0001, kernel='rbf',\n",
      "    max_iter=-1, probability=False, random_state=None, shrinking=True,\n",
      "    tol=0.001, verbose=False):\n",
      "              precision    recall  f1-score   support\n",
      "\n",
      "           0       0.62      0.88      0.73        33\n",
      "           1       0.83      0.88      0.86        34\n",
      "           2       0.83      0.44      0.58        34\n",
      "\n",
      "    accuracy                           0.73       101\n",
      "   macro avg       0.76      0.73      0.72       101\n",
      "weighted avg       0.76      0.73      0.72       101\n",
      "\n",
      "\n",
      "Testing accuracy: 73.26732673267327\n"
     ]
    }
   ],
   "source": [
    "y_pred_ill = svm.predict(X_test_ill)\n",
    "\n",
    "print(\"Classification report for - \\n{}:\\n{}\\n\".format(\n",
    "    svm, metrics.classification_report(y_test_ill, y_pred_ill)))\n",
    "\n",
    "test_ill_acc = metrics.accuracy_score(y_test_ill, y_pred_ill)*100\n",
    "print(\"Testing accuracy: \" + str(test_ill_acc ))"
   ]
  },
  {
   "cell_type": "code",
   "execution_count": 42,
   "metadata": {
    "colab": {
     "base_uri": "https://localhost:8080/",
     "height": 301
    },
    "executionInfo": {
     "elapsed": 14938,
     "status": "ok",
     "timestamp": 1611409762139,
     "user": {
      "displayName": "KHONG FAN YI",
      "photoUrl": "",
      "userId": "02416044610109286808"
     },
     "user_tz": -480
    },
    "id": "KOvxvfobo5zD",
    "outputId": "f6c848cc-8a45-444a-bb43-c91df09bc51d",
    "scrolled": true
   },
   "outputs": [
    {
     "data": {
      "text/plain": [
       "<sklearn.metrics._plot.confusion_matrix.ConfusionMatrixDisplay at 0x7f7453663390>"
      ]
     },
     "execution_count": 42,
     "metadata": {
      "tags": []
     },
     "output_type": "execute_result"
    },
    {
     "data": {
      "image/png": "[encoded data removed]",
      "text/plain": [
       "<Figure size 432x288 with 2 Axes>"
      ]
     },
     "metadata": {
      "needs_background": "light",
      "tags": []
     },
     "output_type": "display_data"
    }
   ],
   "source": [
    "plot_confusion_matrix(svm, X_test_ill, y_test_ill, cmap='viridis')"
   ]
  },
  {
   "cell_type": "code",
   "execution_count": 51,
   "metadata": {
    "executionInfo": {
     "elapsed": 4103,
     "status": "ok",
     "timestamp": 1611409876306,
     "user": {
      "displayName": "KHONG FAN YI",
      "photoUrl": "",
      "userId": "02416044610109286808"
     },
     "user_tz": -480
    },
    "id": "3UbwqSemo5zD",
    "scrolled": true
   },
   "outputs": [],
   "source": [
    "wrong_case = []\n",
    "get_wrong_case(y_pred_ill, y_test_ill)"
   ]
  }
 ],
 "metadata": {
  "colab": {
   "collapsed_sections": [],
   "name": "LBP_SVM_classification.ipynb",
   "provenance": []
  },
  "kernelspec": {
   "display_name": "Python 3",
   "language": "python",
   "name": "python3"
  },
  "language_info": {
   "codemirror_mode": {
    "name": "ipython",
    "version": 3
   },
   "file_extension": ".py",
   "mimetype": "text/x-python",
   "name": "python",
   "nbconvert_exporter": "python",
   "pygments_lexer": "ipython3",
   "version": "3.8.5"
  },
  "widgets": {
   "application/vnd.jupyter.widget-state+json": {
    "000c50ad00594386bb38272704415140": {
     "model_module": "@jupyter-widgets/controls",
     "model_name": "DescriptionStyleModel",
     "state": {
      "_model_module": "@jupyter-widgets/controls",
      "_model_module_version": "1.5.0",
      "_model_name": "DescriptionStyleModel",
      "_view_count": null,
      "_view_module": "@jupyter-widgets/base",
      "_view_module_version": "1.2.0",
      "_view_name": "StyleView",
      "description_width": ""
     }
    },
    "0722af18a6954367aa4a0d3330c2267f": {
     "model_module": "@jupyter-widgets/controls",
     "model_name": "HTMLModel",
     "state": {
      "_dom_classes": [],
      "_model_module": "@jupyter-widgets/controls",
      "_model_module_version": "1.5.0",
      "_model_name": "HTMLModel",
      "_view_count": null,
      "_view_module": "@jupyter-widgets/controls",
      "_view_module_version": "1.5.0",
      "_view_name": "HTMLView",
      "description": "",
      "description_tooltip": null,
      "layout": "IPY_MODEL_a7bc04363f124e9e8db125d5a7c7fe48",
      "placeholder": "​",
      "style": "IPY_MODEL_bcb9bd02d50e4f7eaed687b59b3681ea",
      "value": " 500/500 [05:00&lt;00:00,  1.66it/s]"
     }
    },
    "08644fec0e1949d2819be8da049b6269": {
     "model_module": "@jupyter-widgets/controls",
     "model_name": "ProgressStyleModel",
     "state": {
      "_model_module": "@jupyter-widgets/controls",
      "_model_module_version": "1.5.0",
      "_model_name": "ProgressStyleModel",
      "_view_count": null,
      "_view_module": "@jupyter-widgets/base",
      "_view_module_version": "1.2.0",
      "_view_name": "StyleView",
      "bar_color": null,
      "description_width": "initial"
     }
    },
    "09916f2835b84a4fbdc363ae2e6c3400": {
     "model_module": "@jupyter-widgets/controls",
     "model_name": "ProgressStyleModel",
     "state": {
      "_model_module": "@jupyter-widgets/controls",
      "_model_module_version": "1.5.0",
      "_model_name": "ProgressStyleModel",
      "_view_count": null,
      "_view_module": "@jupyter-widgets/base",
      "_view_module_version": "1.2.0",
      "_view_name": "StyleView",
      "bar_color": null,
      "description_width": "initial"
     }
    },
    "09d4a8df18c8426398e2a60bfbda7172": {
     "model_module": "@jupyter-widgets/controls",
     "model_name": "HTMLModel",
     "state": {
      "_dom_classes": [],
      "_model_module": "@jupyter-widgets/controls",
      "_model_module_version": "1.5.0",
      "_model_name": "HTMLModel",
      "_view_count": null,
      "_view_module": "@jupyter-widgets/controls",
      "_view_module_version": "1.5.0",
      "_view_name": "HTMLView",
      "description": "",
      "description_tooltip": null,
      "layout": "IPY_MODEL_2c2367e2b2d14066b30624e7664b8490",
      "placeholder": "​",
      "style": "IPY_MODEL_e65edc2fbb0e4d7aba53af23b5599874",
      "value": " 80/80 [01:23&lt;00:00,  1.04s/it]"
     }
    },
    "11f2c34cc604434f8a9dc338145947f3": {
     "model_module": "@jupyter-widgets/controls",
     "model_name": "DescriptionStyleModel",
     "state": {
      "_model_module": "@jupyter-widgets/controls",
      "_model_module_version": "1.5.0",
      "_model_name": "DescriptionStyleModel",
      "_view_count": null,
      "_view_module": "@jupyter-widgets/base",
      "_view_module_version": "1.2.0",
      "_view_name": "StyleView",
      "description_width": ""
     }
    },
    "1289b5956b36438d8d67688477d41f5f": {
     "model_module": "@jupyter-widgets/controls",
     "model_name": "HTMLModel",
     "state": {
      "_dom_classes": [],
      "_model_module": "@jupyter-widgets/controls",
      "_model_module_version": "1.5.0",
      "_model_name": "HTMLModel",
      "_view_count": null,
      "_view_module": "@jupyter-widgets/controls",
      "_view_module_version": "1.5.0",
      "_view_name": "HTMLView",
      "description": "",
      "description_tooltip": null,
      "layout": "IPY_MODEL_5bfd488700fa4aa0aa9ed57a98253c55",
      "placeholder": "​",
      "style": "IPY_MODEL_9cb7966d7c934ebbab994b035bfbc486",
      "value": " 80/80 [01:20&lt;00:00,  1.00s/it]"
     }
    },
    "18be6e28abc148a7970c049585cd40f7": {
     "model_module": "@jupyter-widgets/base",
     "model_name": "LayoutModel",
     "state": {
      "_model_module": "@jupyter-widgets/base",
      "_model_module_version": "1.2.0",
      "_model_name": "LayoutModel",
      "_view_count": null,
      "_view_module": "@jupyter-widgets/base",
      "_view_module_version": "1.2.0",
      "_view_name": "LayoutView",
      "align_content": null,
      "align_items": null,
      "align_self": null,
      "border": null,
      "bottom": null,
      "display": null,
      "flex": null,
      "flex_flow": null,
      "grid_area": null,
      "grid_auto_columns": null,
      "grid_auto_flow": null,
      "grid_auto_rows": null,
      "grid_column": null,
      "grid_gap": null,
      "grid_row": null,
      "grid_template_areas": null,
      "grid_template_columns": null,
      "grid_template_rows": null,
      "height": null,
      "justify_content": null,
      "justify_items": null,
      "left": null,
      "margin": null,
      "max_height": null,
      "max_width": null,
      "min_height": null,
      "min_width": null,
      "object_fit": null,
      "object_position": null,
      "order": null,
      "overflow": null,
      "overflow_x": null,
      "overflow_y": null,
      "padding": null,
      "right": null,
      "top": null,
      "visibility": null,
      "width": null
     }
    },
    "1dab6964332947bf9223646b81b109e1": {
     "model_module": "@jupyter-widgets/controls",
     "model_name": "DescriptionStyleModel",
     "state": {
      "_model_module": "@jupyter-widgets/controls",
      "_model_module_version": "1.5.0",
      "_model_name": "DescriptionStyleModel",
      "_view_count": null,
      "_view_module": "@jupyter-widgets/base",
      "_view_module_version": "1.2.0",
      "_view_name": "StyleView",
      "description_width": ""
     }
    },
    "20ee56a9ccf647ce9c334c22fa9c6807": {
     "model_module": "@jupyter-widgets/base",
     "model_name": "LayoutModel",
     "state": {
      "_model_module": "@jupyter-widgets/base",
      "_model_module_version": "1.2.0",
      "_model_name": "LayoutModel",
      "_view_count": null,
      "_view_module": "@jupyter-widgets/base",
      "_view_module_version": "1.2.0",
      "_view_name": "LayoutView",
      "align_content": null,
      "align_items": null,
      "align_self": null,
      "border": null,
      "bottom": null,
      "display": null,
      "flex": null,
      "flex_flow": null,
      "grid_area": null,
      "grid_auto_columns": null,
      "grid_auto_flow": null,
      "grid_auto_rows": null,
      "grid_column": null,
      "grid_gap": null,
      "grid_row": null,
      "grid_template_areas": null,
      "grid_template_columns": null,
      "grid_template_rows": null,
      "height": null,
      "justify_content": null,
      "justify_items": null,
      "left": null,
      "margin": null,
      "max_height": null,
      "max_width": null,
      "min_height": null,
      "min_width": null,
      "object_fit": null,
      "object_position": null,
      "order": null,
      "overflow": null,
      "overflow_x": null,
      "overflow_y": null,
      "padding": null,
      "right": null,
      "top": null,
      "visibility": null,
      "width": null
     }
    },
    "2976ea5d96b04c97ae8ae33824daf6c4": {
     "model_module": "@jupyter-widgets/base",
     "model_name": "LayoutModel",
     "state": {
      "_model_module": "@jupyter-widgets/base",
      "_model_module_version": "1.2.0",
      "_model_name": "LayoutModel",
      "_view_count": null,
      "_view_module": "@jupyter-widgets/base",
      "_view_module_version": "1.2.0",
      "_view_name": "LayoutView",
      "align_content": null,
      "align_items": null,
      "align_self": null,
      "border": null,
      "bottom": null,
      "display": null,
      "flex": null,
      "flex_flow": null,
      "grid_area": null,
      "grid_auto_columns": null,
      "grid_auto_flow": null,
      "grid_auto_rows": null,
      "grid_column": null,
      "grid_gap": null,
      "grid_row": null,
      "grid_template_areas": null,
      "grid_template_columns": null,
      "grid_template_rows": null,
      "height": null,
      "justify_content": null,
      "justify_items": null,
      "left": null,
      "margin": null,
      "max_height": null,
      "max_width": null,
      "min_height": null,
      "min_width": null,
      "object_fit": null,
      "object_position": null,
      "order": null,
      "overflow": null,
      "overflow_x": null,
      "overflow_y": null,
      "padding": null,
      "right": null,
      "top": null,
      "visibility": null,
      "width": null
     }
    },
    "2c2367e2b2d14066b30624e7664b8490": {
     "model_module": "@jupyter-widgets/base",
     "model_name": "LayoutModel",
     "state": {
      "_model_module": "@jupyter-widgets/base",
      "_model_module_version": "1.2.0",
      "_model_name": "LayoutModel",
      "_view_count": null,
      "_view_module": "@jupyter-widgets/base",
      "_view_module_version": "1.2.0",
      "_view_name": "LayoutView",
      "align_content": null,
      "align_items": null,
      "align_self": null,
      "border": null,
      "bottom": null,
      "display": null,
      "flex": null,
      "flex_flow": null,
      "grid_area": null,
      "grid_auto_columns": null,
      "grid_auto_flow": null,
      "grid_auto_rows": null,
      "grid_column": null,
      "grid_gap": null,
      "grid_row": null,
      "grid_template_areas": null,
      "grid_template_columns": null,
      "grid_template_rows": null,
      "height": null,
      "justify_content": null,
      "justify_items": null,
      "left": null,
      "margin": null,
      "max_height": null,
      "max_width": null,
      "min_height": null,
      "min_width": null,
      "object_fit": null,
      "object_position": null,
      "order": null,
      "overflow": null,
      "overflow_x": null,
      "overflow_y": null,
      "padding": null,
      "right": null,
      "top": null,
      "visibility": null,
      "width": null
     }
    },
    "2cbfe81602c84edb9f46febfd180083b": {
     "model_module": "@jupyter-widgets/base",
     "model_name": "LayoutModel",
     "state": {
      "_model_module": "@jupyter-widgets/base",
      "_model_module_version": "1.2.0",
      "_model_name": "LayoutModel",
      "_view_count": null,
      "_view_module": "@jupyter-widgets/base",
      "_view_module_version": "1.2.0",
      "_view_name": "LayoutView",
      "align_content": null,
      "align_items": null,
      "align_self": null,
      "border": null,
      "bottom": null,
      "display": null,
      "flex": null,
      "flex_flow": null,
      "grid_area": null,
      "grid_auto_columns": null,
      "grid_auto_flow": null,
      "grid_auto_rows": null,
      "grid_column": null,
      "grid_gap": null,
      "grid_row": null,
      "grid_template_areas": null,
      "grid_template_columns": null,
      "grid_template_rows": null,
      "height": null,
      "justify_content": null,
      "justify_items": null,
      "left": null,
      "margin": null,
      "max_height": null,
      "max_width": null,
      "min_height": null,
      "min_width": null,
      "object_fit": null,
      "object_position": null,
      "order": null,
      "overflow": null,
      "overflow_x": null,
      "overflow_y": null,
      "padding": null,
      "right": null,
      "top": null,
      "visibility": null,
      "width": null
     }
    },
    "362679c1ebe64d789575888c21096339": {
     "model_module": "@jupyter-widgets/controls",
     "model_name": "ProgressStyleModel",
     "state": {
      "_model_module": "@jupyter-widgets/controls",
      "_model_module_version": "1.5.0",
      "_model_name": "ProgressStyleModel",
      "_view_count": null,
      "_view_module": "@jupyter-widgets/base",
      "_view_module_version": "1.2.0",
      "_view_name": "StyleView",
      "bar_color": null,
      "description_width": "initial"
     }
    },
    "3a23a7aea11c48f38d62da98e7c8f280": {
     "model_module": "@jupyter-widgets/base",
     "model_name": "LayoutModel",
     "state": {
      "_model_module": "@jupyter-widgets/base",
      "_model_module_version": "1.2.0",
      "_model_name": "LayoutModel",
      "_view_count": null,
      "_view_module": "@jupyter-widgets/base",
      "_view_module_version": "1.2.0",
      "_view_name": "LayoutView",
      "align_content": null,
      "align_items": null,
      "align_self": null,
      "border": null,
      "bottom": null,
      "display": null,
      "flex": null,
      "flex_flow": null,
      "grid_area": null,
      "grid_auto_columns": null,
      "grid_auto_flow": null,
      "grid_auto_rows": null,
      "grid_column": null,
      "grid_gap": null,
      "grid_row": null,
      "grid_template_areas": null,
      "grid_template_columns": null,
      "grid_template_rows": null,
      "height": null,
      "justify_content": null,
      "justify_items": null,
      "left": null,
      "margin": null,
      "max_height": null,
      "max_width": null,
      "min_height": null,
      "min_width": null,
      "object_fit": null,
      "object_position": null,
      "order": null,
      "overflow": null,
      "overflow_x": null,
      "overflow_y": null,
      "padding": null,
      "right": null,
      "top": null,
      "visibility": null,
      "width": null
     }
    },
    "3a279ea8f6c14000b3be2b6aa45e3e1a": {
     "model_module": "@jupyter-widgets/base",
     "model_name": "LayoutModel",
     "state": {
      "_model_module": "@jupyter-widgets/base",
      "_model_module_version": "1.2.0",
      "_model_name": "LayoutModel",
      "_view_count": null,
      "_view_module": "@jupyter-widgets/base",
      "_view_module_version": "1.2.0",
      "_view_name": "LayoutView",
      "align_content": null,
      "align_items": null,
      "align_self": null,
      "border": null,
      "bottom": null,
      "display": null,
      "flex": null,
      "flex_flow": null,
      "grid_area": null,
      "grid_auto_columns": null,
      "grid_auto_flow": null,
      "grid_auto_rows": null,
      "grid_column": null,
      "grid_gap": null,
      "grid_row": null,
      "grid_template_areas": null,
      "grid_template_columns": null,
      "grid_template_rows": null,
      "height": null,
      "justify_content": null,
      "justify_items": null,
      "left": null,
      "margin": null,
      "max_height": null,
      "max_width": null,
      "min_height": null,
      "min_width": null,
      "object_fit": null,
      "object_position": null,
      "order": null,
      "overflow": null,
      "overflow_x": null,
      "overflow_y": null,
      "padding": null,
      "right": null,
      "top": null,
      "visibility": null,
      "width": null
     }
    },
    "3d9f719e989b46bd998f906c3ebe0152": {
     "model_module": "@jupyter-widgets/controls",
     "model_name": "HBoxModel",
     "state": {
      "_dom_classes": [],
      "_model_module": "@jupyter-widgets/controls",
      "_model_module_version": "1.5.0",
      "_model_name": "HBoxModel",
      "_view_count": null,
      "_view_module": "@jupyter-widgets/controls",
      "_view_module_version": "1.5.0",
      "_view_name": "HBoxView",
      "box_style": "",
      "children": [
       "IPY_MODEL_c52c25fd16534dd2932bd25962b4e0bc",
       "IPY_MODEL_40b8bf5204d94342a4d8eaa6db2803f0"
      ],
      "layout": "IPY_MODEL_c0026e79dc4a47d0b4cb9fed85996753"
     }
    },
    "3e240de55cc74165abe6925ead1039bc": {
     "model_module": "@jupyter-widgets/base",
     "model_name": "LayoutModel",
     "state": {
      "_model_module": "@jupyter-widgets/base",
      "_model_module_version": "1.2.0",
      "_model_name": "LayoutModel",
      "_view_count": null,
      "_view_module": "@jupyter-widgets/base",
      "_view_module_version": "1.2.0",
      "_view_name": "LayoutView",
      "align_content": null,
      "align_items": null,
      "align_self": null,
      "border": null,
      "bottom": null,
      "display": null,
      "flex": null,
      "flex_flow": null,
      "grid_area": null,
      "grid_auto_columns": null,
      "grid_auto_flow": null,
      "grid_auto_rows": null,
      "grid_column": null,
      "grid_gap": null,
      "grid_row": null,
      "grid_template_areas": null,
      "grid_template_columns": null,
      "grid_template_rows": null,
      "height": null,
      "justify_content": null,
      "justify_items": null,
      "left": null,
      "margin": null,
      "max_height": null,
      "max_width": null,
      "min_height": null,
      "min_width": null,
      "object_fit": null,
      "object_position": null,
      "order": null,
      "overflow": null,
      "overflow_x": null,
      "overflow_y": null,
      "padding": null,
      "right": null,
      "top": null,
      "visibility": null,
      "width": null
     }
    },
    "40b8bf5204d94342a4d8eaa6db2803f0": {
     "model_module": "@jupyter-widgets/controls",
     "model_name": "HTMLModel",
     "state": {
      "_dom_classes": [],
      "_model_module": "@jupyter-widgets/controls",
      "_model_module_version": "1.5.0",
      "_model_name": "HTMLModel",
      "_view_count": null,
      "_view_module": "@jupyter-widgets/controls",
      "_view_module_version": "1.5.0",
      "_view_name": "HTMLView",
      "description": "",
      "description_tooltip": null,
      "layout": "IPY_MODEL_cb736a3adf054152b6eeee87d49f84a5",
      "placeholder": "​",
      "style": "IPY_MODEL_1dab6964332947bf9223646b81b109e1",
      "value": " 1466/1466 [07:04&lt;00:00,  3.45it/s]"
     }
    },
    "46024df272104e68829f941935984042": {
     "model_module": "@jupyter-widgets/base",
     "model_name": "LayoutModel",
     "state": {
      "_model_module": "@jupyter-widgets/base",
      "_model_module_version": "1.2.0",
      "_model_name": "LayoutModel",
      "_view_count": null,
      "_view_module": "@jupyter-widgets/base",
      "_view_module_version": "1.2.0",
      "_view_name": "LayoutView",
      "align_content": null,
      "align_items": null,
      "align_self": null,
      "border": null,
      "bottom": null,
      "display": null,
      "flex": null,
      "flex_flow": null,
      "grid_area": null,
      "grid_auto_columns": null,
      "grid_auto_flow": null,
      "grid_auto_rows": null,
      "grid_column": null,
      "grid_gap": null,
      "grid_row": null,
      "grid_template_areas": null,
      "grid_template_columns": null,
      "grid_template_rows": null,
      "height": null,
      "justify_content": null,
      "justify_items": null,
      "left": null,
      "margin": null,
      "max_height": null,
      "max_width": null,
      "min_height": null,
      "min_width": null,
      "object_fit": null,
      "object_position": null,
      "order": null,
      "overflow": null,
      "overflow_x": null,
      "overflow_y": null,
      "padding": null,
      "right": null,
      "top": null,
      "visibility": null,
      "width": null
     }
    },
    "49a3c49c7e0c4212922448af3ff86506": {
     "model_module": "@jupyter-widgets/controls",
     "model_name": "DescriptionStyleModel",
     "state": {
      "_model_module": "@jupyter-widgets/controls",
      "_model_module_version": "1.5.0",
      "_model_name": "DescriptionStyleModel",
      "_view_count": null,
      "_view_module": "@jupyter-widgets/base",
      "_view_module_version": "1.2.0",
      "_view_name": "StyleView",
      "description_width": ""
     }
    },
    "49dc44f217414cf38b65a36072b08626": {
     "model_module": "@jupyter-widgets/controls",
     "model_name": "HTMLModel",
     "state": {
      "_dom_classes": [],
      "_model_module": "@jupyter-widgets/controls",
      "_model_module_version": "1.5.0",
      "_model_name": "HTMLModel",
      "_view_count": null,
      "_view_module": "@jupyter-widgets/controls",
      "_view_module_version": "1.5.0",
      "_view_name": "HTMLView",
      "description": "",
      "description_tooltip": null,
      "layout": "IPY_MODEL_f79f3689949041e49684487f0518cd26",
      "placeholder": "​",
      "style": "IPY_MODEL_11f2c34cc604434f8a9dc338145947f3",
      "value": " 75/75 [00:41&lt;00:00,  1.79it/s]"
     }
    },
    "4d88696e4a0c4cf1826361e348cc1018": {
     "model_module": "@jupyter-widgets/base",
     "model_name": "LayoutModel",
     "state": {
      "_model_module": "@jupyter-widgets/base",
      "_model_module_version": "1.2.0",
      "_model_name": "LayoutModel",
      "_view_count": null,
      "_view_module": "@jupyter-widgets/base",
      "_view_module_version": "1.2.0",
      "_view_name": "LayoutView",
      "align_content": null,
      "align_items": null,
      "align_self": null,
      "border": null,
      "bottom": null,
      "display": null,
      "flex": null,
      "flex_flow": null,
      "grid_area": null,
      "grid_auto_columns": null,
      "grid_auto_flow": null,
      "grid_auto_rows": null,
      "grid_column": null,
      "grid_gap": null,
      "grid_row": null,
      "grid_template_areas": null,
      "grid_template_columns": null,
      "grid_template_rows": null,
      "height": null,
      "justify_content": null,
      "justify_items": null,
      "left": null,
      "margin": null,
      "max_height": null,
      "max_width": null,
      "min_height": null,
      "min_width": null,
      "object_fit": null,
      "object_position": null,
      "order": null,
      "overflow": null,
      "overflow_x": null,
      "overflow_y": null,
      "padding": null,
      "right": null,
      "top": null,
      "visibility": null,
      "width": null
     }
    },
    "5357bc6ef16045a6a8df65d9d7d65207": {
     "model_module": "@jupyter-widgets/base",
     "model_name": "LayoutModel",
     "state": {
      "_model_module": "@jupyter-widgets/base",
      "_model_module_version": "1.2.0",
      "_model_name": "LayoutModel",
      "_view_count": null,
      "_view_module": "@jupyter-widgets/base",
      "_view_module_version": "1.2.0",
      "_view_name": "LayoutView",
      "align_content": null,
      "align_items": null,
      "align_self": null,
      "border": null,
      "bottom": null,
      "display": null,
      "flex": null,
      "flex_flow": null,
      "grid_area": null,
      "grid_auto_columns": null,
      "grid_auto_flow": null,
      "grid_auto_rows": null,
      "grid_column": null,
      "grid_gap": null,
      "grid_row": null,
      "grid_template_areas": null,
      "grid_template_columns": null,
      "grid_template_rows": null,
      "height": null,
      "justify_content": null,
      "justify_items": null,
      "left": null,
      "margin": null,
      "max_height": null,
      "max_width": null,
      "min_height": null,
      "min_width": null,
      "object_fit": null,
      "object_position": null,
      "order": null,
      "overflow": null,
      "overflow_x": null,
      "overflow_y": null,
      "padding": null,
      "right": null,
      "top": null,
      "visibility": null,
      "width": null
     }
    },
    "56afbd42fed4422c8180e4dcd81c00fc": {
     "model_module": "@jupyter-widgets/controls",
     "model_name": "DescriptionStyleModel",
     "state": {
      "_model_module": "@jupyter-widgets/controls",
      "_model_module_version": "1.5.0",
      "_model_name": "DescriptionStyleModel",
      "_view_count": null,
      "_view_module": "@jupyter-widgets/base",
      "_view_module_version": "1.2.0",
      "_view_name": "StyleView",
      "description_width": ""
     }
    },
    "58dedab129f341a1853452a655604c4b": {
     "model_module": "@jupyter-widgets/controls",
     "model_name": "HBoxModel",
     "state": {
      "_dom_classes": [],
      "_model_module": "@jupyter-widgets/controls",
      "_model_module_version": "1.5.0",
      "_model_name": "HBoxModel",
      "_view_count": null,
      "_view_module": "@jupyter-widgets/controls",
      "_view_module_version": "1.5.0",
      "_view_name": "HBoxView",
      "box_style": "",
      "children": [
       "IPY_MODEL_939aa3163d6f48ab987c263d940501a7",
       "IPY_MODEL_49dc44f217414cf38b65a36072b08626"
      ],
      "layout": "IPY_MODEL_b3d35a0ff39c48e79d55f3c2542c41b8"
     }
    },
    "5bfd488700fa4aa0aa9ed57a98253c55": {
     "model_module": "@jupyter-widgets/base",
     "model_name": "LayoutModel",
     "state": {
      "_model_module": "@jupyter-widgets/base",
      "_model_module_version": "1.2.0",
      "_model_name": "LayoutModel",
      "_view_count": null,
      "_view_module": "@jupyter-widgets/base",
      "_view_module_version": "1.2.0",
      "_view_name": "LayoutView",
      "align_content": null,
      "align_items": null,
      "align_self": null,
      "border": null,
      "bottom": null,
      "display": null,
      "flex": null,
      "flex_flow": null,
      "grid_area": null,
      "grid_auto_columns": null,
      "grid_auto_flow": null,
      "grid_auto_rows": null,
      "grid_column": null,
      "grid_gap": null,
      "grid_row": null,
      "grid_template_areas": null,
      "grid_template_columns": null,
      "grid_template_rows": null,
      "height": null,
      "justify_content": null,
      "justify_items": null,
      "left": null,
      "margin": null,
      "max_height": null,
      "max_width": null,
      "min_height": null,
      "min_width": null,
      "object_fit": null,
      "object_position": null,
      "order": null,
      "overflow": null,
      "overflow_x": null,
      "overflow_y": null,
      "padding": null,
      "right": null,
      "top": null,
      "visibility": null,
      "width": null
     }
    },
    "65ffef699a0c4202a7ccfecac6c34d93": {
     "model_module": "@jupyter-widgets/controls",
     "model_name": "FloatProgressModel",
     "state": {
      "_dom_classes": [],
      "_model_module": "@jupyter-widgets/controls",
      "_model_module_version": "1.5.0",
      "_model_name": "FloatProgressModel",
      "_view_count": null,
      "_view_module": "@jupyter-widgets/controls",
      "_view_module_version": "1.5.0",
      "_view_name": "ProgressView",
      "bar_style": "success",
      "description": "100%",
      "description_tooltip": null,
      "layout": "IPY_MODEL_3e240de55cc74165abe6925ead1039bc",
      "max": 78,
      "min": 0,
      "orientation": "horizontal",
      "style": "IPY_MODEL_8a317673b65d4e6b8f4b9dae9d8b527e",
      "value": 78
     }
    },
    "6ac06d62f7b9425db0a84cb44a1f5ab6": {
     "model_module": "@jupyter-widgets/base",
     "model_name": "LayoutModel",
     "state": {
      "_model_module": "@jupyter-widgets/base",
      "_model_module_version": "1.2.0",
      "_model_name": "LayoutModel",
      "_view_count": null,
      "_view_module": "@jupyter-widgets/base",
      "_view_module_version": "1.2.0",
      "_view_name": "LayoutView",
      "align_content": null,
      "align_items": null,
      "align_self": null,
      "border": null,
      "bottom": null,
      "display": null,
      "flex": null,
      "flex_flow": null,
      "grid_area": null,
      "grid_auto_columns": null,
      "grid_auto_flow": null,
      "grid_auto_rows": null,
      "grid_column": null,
      "grid_gap": null,
      "grid_row": null,
      "grid_template_areas": null,
      "grid_template_columns": null,
      "grid_template_rows": null,
      "height": null,
      "justify_content": null,
      "justify_items": null,
      "left": null,
      "margin": null,
      "max_height": null,
      "max_width": null,
      "min_height": null,
      "min_width": null,
      "object_fit": null,
      "object_position": null,
      "order": null,
      "overflow": null,
      "overflow_x": null,
      "overflow_y": null,
      "padding": null,
      "right": null,
      "top": null,
      "visibility": null,
      "width": null
     }
    },
    "6cb7e25498f84eaf99e7f97c5ecd43f0": {
     "model_module": "@jupyter-widgets/controls",
     "model_name": "ProgressStyleModel",
     "state": {
      "_model_module": "@jupyter-widgets/controls",
      "_model_module_version": "1.5.0",
      "_model_name": "ProgressStyleModel",
      "_view_count": null,
      "_view_module": "@jupyter-widgets/base",
      "_view_module_version": "1.2.0",
      "_view_name": "StyleView",
      "bar_color": null,
      "description_width": "initial"
     }
    },
    "6dc7150620b44eeebd3098941b61b767": {
     "model_module": "@jupyter-widgets/controls",
     "model_name": "FloatProgressModel",
     "state": {
      "_dom_classes": [],
      "_model_module": "@jupyter-widgets/controls",
      "_model_module_version": "1.5.0",
      "_model_name": "FloatProgressModel",
      "_view_count": null,
      "_view_module": "@jupyter-widgets/controls",
      "_view_module_version": "1.5.0",
      "_view_name": "ProgressView",
      "bar_style": "success",
      "description": "100%",
      "description_tooltip": null,
      "layout": "IPY_MODEL_2cbfe81602c84edb9f46febfd180083b",
      "max": 75,
      "min": 0,
      "orientation": "horizontal",
      "style": "IPY_MODEL_08644fec0e1949d2819be8da049b6269",
      "value": 75
     }
    },
    "6e31384eafdc487ea9ab2480d767def1": {
     "model_module": "@jupyter-widgets/controls",
     "model_name": "ProgressStyleModel",
     "state": {
      "_model_module": "@jupyter-widgets/controls",
      "_model_module_version": "1.5.0",
      "_model_name": "ProgressStyleModel",
      "_view_count": null,
      "_view_module": "@jupyter-widgets/base",
      "_view_module_version": "1.2.0",
      "_view_name": "StyleView",
      "bar_color": null,
      "description_width": "initial"
     }
    },
    "71247857550049f0ba8dcef9a1ccce7d": {
     "model_module": "@jupyter-widgets/base",
     "model_name": "LayoutModel",
     "state": {
      "_model_module": "@jupyter-widgets/base",
      "_model_module_version": "1.2.0",
      "_model_name": "LayoutModel",
      "_view_count": null,
      "_view_module": "@jupyter-widgets/base",
      "_view_module_version": "1.2.0",
      "_view_name": "LayoutView",
      "align_content": null,
      "align_items": null,
      "align_self": null,
      "border": null,
      "bottom": null,
      "display": null,
      "flex": null,
      "flex_flow": null,
      "grid_area": null,
      "grid_auto_columns": null,
      "grid_auto_flow": null,
      "grid_auto_rows": null,
      "grid_column": null,
      "grid_gap": null,
      "grid_row": null,
      "grid_template_areas": null,
      "grid_template_columns": null,
      "grid_template_rows": null,
      "height": null,
      "justify_content": null,
      "justify_items": null,
      "left": null,
      "margin": null,
      "max_height": null,
      "max_width": null,
      "min_height": null,
      "min_width": null,
      "object_fit": null,
      "object_position": null,
      "order": null,
      "overflow": null,
      "overflow_x": null,
      "overflow_y": null,
      "padding": null,
      "right": null,
      "top": null,
      "visibility": null,
      "width": null
     }
    },
    "72342e0ddeb54eafbf0d582700b6f25a": {
     "model_module": "@jupyter-widgets/base",
     "model_name": "LayoutModel",
     "state": {
      "_model_module": "@jupyter-widgets/base",
      "_model_module_version": "1.2.0",
      "_model_name": "LayoutModel",
      "_view_count": null,
      "_view_module": "@jupyter-widgets/base",
      "_view_module_version": "1.2.0",
      "_view_name": "LayoutView",
      "align_content": null,
      "align_items": null,
      "align_self": null,
      "border": null,
      "bottom": null,
      "display": null,
      "flex": null,
      "flex_flow": null,
      "grid_area": null,
      "grid_auto_columns": null,
      "grid_auto_flow": null,
      "grid_auto_rows": null,
      "grid_column": null,
      "grid_gap": null,
      "grid_row": null,
      "grid_template_areas": null,
      "grid_template_columns": null,
      "grid_template_rows": null,
      "height": null,
      "justify_content": null,
      "justify_items": null,
      "left": null,
      "margin": null,
      "max_height": null,
      "max_width": null,
      "min_height": null,
      "min_width": null,
      "object_fit": null,
      "object_position": null,
      "order": null,
      "overflow": null,
      "overflow_x": null,
      "overflow_y": null,
      "padding": null,
      "right": null,
      "top": null,
      "visibility": null,
      "width": null
     }
    },
    "75c402c38ee44eb291a6d3f538c29687": {
     "model_module": "@jupyter-widgets/base",
     "model_name": "LayoutModel",
     "state": {
      "_model_module": "@jupyter-widgets/base",
      "_model_module_version": "1.2.0",
      "_model_name": "LayoutModel",
      "_view_count": null,
      "_view_module": "@jupyter-widgets/base",
      "_view_module_version": "1.2.0",
      "_view_name": "LayoutView",
      "align_content": null,
      "align_items": null,
      "align_self": null,
      "border": null,
      "bottom": null,
      "display": null,
      "flex": null,
      "flex_flow": null,
      "grid_area": null,
      "grid_auto_columns": null,
      "grid_auto_flow": null,
      "grid_auto_rows": null,
      "grid_column": null,
      "grid_gap": null,
      "grid_row": null,
      "grid_template_areas": null,
      "grid_template_columns": null,
      "grid_template_rows": null,
      "height": null,
      "justify_content": null,
      "justify_items": null,
      "left": null,
      "margin": null,
      "max_height": null,
      "max_width": null,
      "min_height": null,
      "min_width": null,
      "object_fit": null,
      "object_position": null,
      "order": null,
      "overflow": null,
      "overflow_x": null,
      "overflow_y": null,
      "padding": null,
      "right": null,
      "top": null,
      "visibility": null,
      "width": null
     }
    },
    "774555069fa64461b1ddeca550e9b4bb": {
     "model_module": "@jupyter-widgets/controls",
     "model_name": "HBoxModel",
     "state": {
      "_dom_classes": [],
      "_model_module": "@jupyter-widgets/controls",
      "_model_module_version": "1.5.0",
      "_model_name": "HBoxModel",
      "_view_count": null,
      "_view_module": "@jupyter-widgets/controls",
      "_view_module_version": "1.5.0",
      "_view_name": "HBoxView",
      "box_style": "",
      "children": [
       "IPY_MODEL_bb25d1ec8246421aa32589b14fd2b083",
       "IPY_MODEL_0722af18a6954367aa4a0d3330c2267f"
      ],
      "layout": "IPY_MODEL_71247857550049f0ba8dcef9a1ccce7d"
     }
    },
    "7c36291d88574b92be1542fd77b22ba3": {
     "model_module": "@jupyter-widgets/controls",
     "model_name": "ProgressStyleModel",
     "state": {
      "_model_module": "@jupyter-widgets/controls",
      "_model_module_version": "1.5.0",
      "_model_name": "ProgressStyleModel",
      "_view_count": null,
      "_view_module": "@jupyter-widgets/base",
      "_view_module_version": "1.2.0",
      "_view_name": "StyleView",
      "bar_color": null,
      "description_width": "initial"
     }
    },
    "7d1fe25fb8994d98891e757e39949a57": {
     "model_module": "@jupyter-widgets/controls",
     "model_name": "ProgressStyleModel",
     "state": {
      "_model_module": "@jupyter-widgets/controls",
      "_model_module_version": "1.5.0",
      "_model_name": "ProgressStyleModel",
      "_view_count": null,
      "_view_module": "@jupyter-widgets/base",
      "_view_module_version": "1.2.0",
      "_view_name": "StyleView",
      "bar_color": null,
      "description_width": "initial"
     }
    },
    "81b92c68bfc64587ac504bef3c42bc37": {
     "model_module": "@jupyter-widgets/controls",
     "model_name": "HTMLModel",
     "state": {
      "_dom_classes": [],
      "_model_module": "@jupyter-widgets/controls",
      "_model_module_version": "1.5.0",
      "_model_name": "HTMLModel",
      "_view_count": null,
      "_view_module": "@jupyter-widgets/controls",
      "_view_module_version": "1.5.0",
      "_view_name": "HTMLView",
      "description": "",
      "description_tooltip": null,
      "layout": "IPY_MODEL_3a23a7aea11c48f38d62da98e7c8f280",
      "placeholder": "​",
      "style": "IPY_MODEL_56afbd42fed4422c8180e4dcd81c00fc",
      "value": " 75/75 [00:38&lt;00:00,  1.96it/s]"
     }
    },
    "8a317673b65d4e6b8f4b9dae9d8b527e": {
     "model_module": "@jupyter-widgets/controls",
     "model_name": "ProgressStyleModel",
     "state": {
      "_model_module": "@jupyter-widgets/controls",
      "_model_module_version": "1.5.0",
      "_model_name": "ProgressStyleModel",
      "_view_count": null,
      "_view_module": "@jupyter-widgets/base",
      "_view_module_version": "1.2.0",
      "_view_name": "StyleView",
      "bar_color": null,
      "description_width": "initial"
     }
    },
    "8b28b54cba3b442cab78dd75b24271c4": {
     "model_module": "@jupyter-widgets/controls",
     "model_name": "HBoxModel",
     "state": {
      "_dom_classes": [],
      "_model_module": "@jupyter-widgets/controls",
      "_model_module_version": "1.5.0",
      "_model_name": "HBoxModel",
      "_view_count": null,
      "_view_module": "@jupyter-widgets/controls",
      "_view_module_version": "1.5.0",
      "_view_name": "HBoxView",
      "box_style": "",
      "children": [
       "IPY_MODEL_65ffef699a0c4202a7ccfecac6c34d93",
       "IPY_MODEL_be0c4f867c7f48b2bb70660eaff3c7c1"
      ],
      "layout": "IPY_MODEL_c26601ce78fd407da8f68d96dce11f9d"
     }
    },
    "8f35218c1fd84977aa4455f8bbff8aea": {
     "model_module": "@jupyter-widgets/controls",
     "model_name": "HBoxModel",
     "state": {
      "_dom_classes": [],
      "_model_module": "@jupyter-widgets/controls",
      "_model_module_version": "1.5.0",
      "_model_name": "HBoxModel",
      "_view_count": null,
      "_view_module": "@jupyter-widgets/controls",
      "_view_module_version": "1.5.0",
      "_view_name": "HBoxView",
      "box_style": "",
      "children": [
       "IPY_MODEL_ad0f817ec646430a8b5f64c61086a8d7",
       "IPY_MODEL_a847699663c24f7d867af1afe46b2e5d"
      ],
      "layout": "IPY_MODEL_6ac06d62f7b9425db0a84cb44a1f5ab6"
     }
    },
    "90efd0b986b74e84b0491faf91ac172c": {
     "model_module": "@jupyter-widgets/base",
     "model_name": "LayoutModel",
     "state": {
      "_model_module": "@jupyter-widgets/base",
      "_model_module_version": "1.2.0",
      "_model_name": "LayoutModel",
      "_view_count": null,
      "_view_module": "@jupyter-widgets/base",
      "_view_module_version": "1.2.0",
      "_view_name": "LayoutView",
      "align_content": null,
      "align_items": null,
      "align_self": null,
      "border": null,
      "bottom": null,
      "display": null,
      "flex": null,
      "flex_flow": null,
      "grid_area": null,
      "grid_auto_columns": null,
      "grid_auto_flow": null,
      "grid_auto_rows": null,
      "grid_column": null,
      "grid_gap": null,
      "grid_row": null,
      "grid_template_areas": null,
      "grid_template_columns": null,
      "grid_template_rows": null,
      "height": null,
      "justify_content": null,
      "justify_items": null,
      "left": null,
      "margin": null,
      "max_height": null,
      "max_width": null,
      "min_height": null,
      "min_width": null,
      "object_fit": null,
      "object_position": null,
      "order": null,
      "overflow": null,
      "overflow_x": null,
      "overflow_y": null,
      "padding": null,
      "right": null,
      "top": null,
      "visibility": null,
      "width": null
     }
    },
    "939aa3163d6f48ab987c263d940501a7": {
     "model_module": "@jupyter-widgets/controls",
     "model_name": "FloatProgressModel",
     "state": {
      "_dom_classes": [],
      "_model_module": "@jupyter-widgets/controls",
      "_model_module_version": "1.5.0",
      "_model_name": "FloatProgressModel",
      "_view_count": null,
      "_view_module": "@jupyter-widgets/controls",
      "_view_module_version": "1.5.0",
      "_view_name": "ProgressView",
      "bar_style": "success",
      "description": "100%",
      "description_tooltip": null,
      "layout": "IPY_MODEL_90efd0b986b74e84b0491faf91ac172c",
      "max": 75,
      "min": 0,
      "orientation": "horizontal",
      "style": "IPY_MODEL_7c36291d88574b92be1542fd77b22ba3",
      "value": 75
     }
    },
    "991da337318e463f8c1d09318f64a1dd": {
     "model_module": "@jupyter-widgets/controls",
     "model_name": "HBoxModel",
     "state": {
      "_dom_classes": [],
      "_model_module": "@jupyter-widgets/controls",
      "_model_module_version": "1.5.0",
      "_model_name": "HBoxModel",
      "_view_count": null,
      "_view_module": "@jupyter-widgets/controls",
      "_view_module_version": "1.5.0",
      "_view_name": "HBoxView",
      "box_style": "",
      "children": [
       "IPY_MODEL_6dc7150620b44eeebd3098941b61b767",
       "IPY_MODEL_81b92c68bfc64587ac504bef3c42bc37"
      ],
      "layout": "IPY_MODEL_20ee56a9ccf647ce9c334c22fa9c6807"
     }
    },
    "9cb7966d7c934ebbab994b035bfbc486": {
     "model_module": "@jupyter-widgets/controls",
     "model_name": "DescriptionStyleModel",
     "state": {
      "_model_module": "@jupyter-widgets/controls",
      "_model_module_version": "1.5.0",
      "_model_name": "DescriptionStyleModel",
      "_view_count": null,
      "_view_module": "@jupyter-widgets/base",
      "_view_module_version": "1.2.0",
      "_view_name": "StyleView",
      "description_width": ""
     }
    },
    "9f5a6e57cae0473a9677961c28882208": {
     "model_module": "@jupyter-widgets/controls",
     "model_name": "HBoxModel",
     "state": {
      "_dom_classes": [],
      "_model_module": "@jupyter-widgets/controls",
      "_model_module_version": "1.5.0",
      "_model_name": "HBoxModel",
      "_view_count": null,
      "_view_module": "@jupyter-widgets/controls",
      "_view_module_version": "1.5.0",
      "_view_name": "HBoxView",
      "box_style": "",
      "children": [
       "IPY_MODEL_f8af2e41eada44c696c34074e91611c8",
       "IPY_MODEL_09d4a8df18c8426398e2a60bfbda7172"
      ],
      "layout": "IPY_MODEL_18be6e28abc148a7970c049585cd40f7"
     }
    },
    "a7bc04363f124e9e8db125d5a7c7fe48": {
     "model_module": "@jupyter-widgets/base",
     "model_name": "LayoutModel",
     "state": {
      "_model_module": "@jupyter-widgets/base",
      "_model_module_version": "1.2.0",
      "_model_name": "LayoutModel",
      "_view_count": null,
      "_view_module": "@jupyter-widgets/base",
      "_view_module_version": "1.2.0",
      "_view_name": "LayoutView",
      "align_content": null,
      "align_items": null,
      "align_self": null,
      "border": null,
      "bottom": null,
      "display": null,
      "flex": null,
      "flex_flow": null,
      "grid_area": null,
      "grid_auto_columns": null,
      "grid_auto_flow": null,
      "grid_auto_rows": null,
      "grid_column": null,
      "grid_gap": null,
      "grid_row": null,
      "grid_template_areas": null,
      "grid_template_columns": null,
      "grid_template_rows": null,
      "height": null,
      "justify_content": null,
      "justify_items": null,
      "left": null,
      "margin": null,
      "max_height": null,
      "max_width": null,
      "min_height": null,
      "min_width": null,
      "object_fit": null,
      "object_position": null,
      "order": null,
      "overflow": null,
      "overflow_x": null,
      "overflow_y": null,
      "padding": null,
      "right": null,
      "top": null,
      "visibility": null,
      "width": null
     }
    },
    "a847699663c24f7d867af1afe46b2e5d": {
     "model_module": "@jupyter-widgets/controls",
     "model_name": "HTMLModel",
     "state": {
      "_dom_classes": [],
      "_model_module": "@jupyter-widgets/controls",
      "_model_module_version": "1.5.0",
      "_model_name": "HTMLModel",
      "_view_count": null,
      "_view_module": "@jupyter-widgets/controls",
      "_view_module_version": "1.5.0",
      "_view_name": "HTMLView",
      "description": "",
      "description_tooltip": null,
      "layout": "IPY_MODEL_75c402c38ee44eb291a6d3f538c29687",
      "placeholder": "​",
      "style": "IPY_MODEL_e2a1f994fbdb4c8aa2bc6b65851a177a",
      "value": " 78/78 [15:24&lt;00:00, 11.85s/it]"
     }
    },
    "ad0f817ec646430a8b5f64c61086a8d7": {
     "model_module": "@jupyter-widgets/controls",
     "model_name": "FloatProgressModel",
     "state": {
      "_dom_classes": [],
      "_model_module": "@jupyter-widgets/controls",
      "_model_module_version": "1.5.0",
      "_model_name": "FloatProgressModel",
      "_view_count": null,
      "_view_module": "@jupyter-widgets/controls",
      "_view_module_version": "1.5.0",
      "_view_name": "ProgressView",
      "bar_style": "success",
      "description": "100%",
      "description_tooltip": null,
      "layout": "IPY_MODEL_5357bc6ef16045a6a8df65d9d7d65207",
      "max": 78,
      "min": 0,
      "orientation": "horizontal",
      "style": "IPY_MODEL_6cb7e25498f84eaf99e7f97c5ecd43f0",
      "value": 78
     }
    },
    "b3bb73f2ee42485f930fb6e748f3030b": {
     "model_module": "@jupyter-widgets/controls",
     "model_name": "HTMLModel",
     "state": {
      "_dom_classes": [],
      "_model_module": "@jupyter-widgets/controls",
      "_model_module_version": "1.5.0",
      "_model_name": "HTMLModel",
      "_view_count": null,
      "_view_module": "@jupyter-widgets/controls",
      "_view_module_version": "1.5.0",
      "_view_name": "HTMLView",
      "description": "",
      "description_tooltip": null,
      "layout": "IPY_MODEL_72342e0ddeb54eafbf0d582700b6f25a",
      "placeholder": "​",
      "style": "IPY_MODEL_49a3c49c7e0c4212922448af3ff86506",
      "value": " 500/500 [13:20&lt;00:00,  1.60s/it]"
     }
    },
    "b3d35a0ff39c48e79d55f3c2542c41b8": {
     "model_module": "@jupyter-widgets/base",
     "model_name": "LayoutModel",
     "state": {
      "_model_module": "@jupyter-widgets/base",
      "_model_module_version": "1.2.0",
      "_model_name": "LayoutModel",
      "_view_count": null,
      "_view_module": "@jupyter-widgets/base",
      "_view_module_version": "1.2.0",
      "_view_name": "LayoutView",
      "align_content": null,
      "align_items": null,
      "align_self": null,
      "border": null,
      "bottom": null,
      "display": null,
      "flex": null,
      "flex_flow": null,
      "grid_area": null,
      "grid_auto_columns": null,
      "grid_auto_flow": null,
      "grid_auto_rows": null,
      "grid_column": null,
      "grid_gap": null,
      "grid_row": null,
      "grid_template_areas": null,
      "grid_template_columns": null,
      "grid_template_rows": null,
      "height": null,
      "justify_content": null,
      "justify_items": null,
      "left": null,
      "margin": null,
      "max_height": null,
      "max_width": null,
      "min_height": null,
      "min_width": null,
      "object_fit": null,
      "object_position": null,
      "order": null,
      "overflow": null,
      "overflow_x": null,
      "overflow_y": null,
      "padding": null,
      "right": null,
      "top": null,
      "visibility": null,
      "width": null
     }
    },
    "bb25d1ec8246421aa32589b14fd2b083": {
     "model_module": "@jupyter-widgets/controls",
     "model_name": "FloatProgressModel",
     "state": {
      "_dom_classes": [],
      "_model_module": "@jupyter-widgets/controls",
      "_model_module_version": "1.5.0",
      "_model_name": "FloatProgressModel",
      "_view_count": null,
      "_view_module": "@jupyter-widgets/controls",
      "_view_module_version": "1.5.0",
      "_view_name": "ProgressView",
      "bar_style": "success",
      "description": "100%",
      "description_tooltip": null,
      "layout": "IPY_MODEL_2976ea5d96b04c97ae8ae33824daf6c4",
      "max": 500,
      "min": 0,
      "orientation": "horizontal",
      "style": "IPY_MODEL_7d1fe25fb8994d98891e757e39949a57",
      "value": 500
     }
    },
    "bcb9bd02d50e4f7eaed687b59b3681ea": {
     "model_module": "@jupyter-widgets/controls",
     "model_name": "DescriptionStyleModel",
     "state": {
      "_model_module": "@jupyter-widgets/controls",
      "_model_module_version": "1.5.0",
      "_model_name": "DescriptionStyleModel",
      "_view_count": null,
      "_view_module": "@jupyter-widgets/base",
      "_view_module_version": "1.2.0",
      "_view_name": "StyleView",
      "description_width": ""
     }
    },
    "be0c4f867c7f48b2bb70660eaff3c7c1": {
     "model_module": "@jupyter-widgets/controls",
     "model_name": "HTMLModel",
     "state": {
      "_dom_classes": [],
      "_model_module": "@jupyter-widgets/controls",
      "_model_module_version": "1.5.0",
      "_model_name": "HTMLModel",
      "_view_count": null,
      "_view_module": "@jupyter-widgets/controls",
      "_view_module_version": "1.5.0",
      "_view_name": "HTMLView",
      "description": "",
      "description_tooltip": null,
      "layout": "IPY_MODEL_d000a4b3ed6749e69e00fdbc9b84e19d",
      "placeholder": "​",
      "style": "IPY_MODEL_000c50ad00594386bb38272704415140",
      "value": " 78/78 [02:00&lt;00:00,  1.55s/it]"
     }
    },
    "c0026e79dc4a47d0b4cb9fed85996753": {
     "model_module": "@jupyter-widgets/base",
     "model_name": "LayoutModel",
     "state": {
      "_model_module": "@jupyter-widgets/base",
      "_model_module_version": "1.2.0",
      "_model_name": "LayoutModel",
      "_view_count": null,
      "_view_module": "@jupyter-widgets/base",
      "_view_module_version": "1.2.0",
      "_view_name": "LayoutView",
      "align_content": null,
      "align_items": null,
      "align_self": null,
      "border": null,
      "bottom": null,
      "display": null,
      "flex": null,
      "flex_flow": null,
      "grid_area": null,
      "grid_auto_columns": null,
      "grid_auto_flow": null,
      "grid_auto_rows": null,
      "grid_column": null,
      "grid_gap": null,
      "grid_row": null,
      "grid_template_areas": null,
      "grid_template_columns": null,
      "grid_template_rows": null,
      "height": null,
      "justify_content": null,
      "justify_items": null,
      "left": null,
      "margin": null,
      "max_height": null,
      "max_width": null,
      "min_height": null,
      "min_width": null,
      "object_fit": null,
      "object_position": null,
      "order": null,
      "overflow": null,
      "overflow_x": null,
      "overflow_y": null,
      "padding": null,
      "right": null,
      "top": null,
      "visibility": null,
      "width": null
     }
    },
    "c1bbd9ad7a444634a0fecf1d388b758f": {
     "model_module": "@jupyter-widgets/controls",
     "model_name": "FloatProgressModel",
     "state": {
      "_dom_classes": [],
      "_model_module": "@jupyter-widgets/controls",
      "_model_module_version": "1.5.0",
      "_model_name": "FloatProgressModel",
      "_view_count": null,
      "_view_module": "@jupyter-widgets/controls",
      "_view_module_version": "1.5.0",
      "_view_name": "ProgressView",
      "bar_style": "success",
      "description": "100%",
      "description_tooltip": null,
      "layout": "IPY_MODEL_dc33d1de016e4add9e800a83b010c7bb",
      "max": 80,
      "min": 0,
      "orientation": "horizontal",
      "style": "IPY_MODEL_09916f2835b84a4fbdc363ae2e6c3400",
      "value": 80
     }
    },
    "c26601ce78fd407da8f68d96dce11f9d": {
     "model_module": "@jupyter-widgets/base",
     "model_name": "LayoutModel",
     "state": {
      "_model_module": "@jupyter-widgets/base",
      "_model_module_version": "1.2.0",
      "_model_name": "LayoutModel",
      "_view_count": null,
      "_view_module": "@jupyter-widgets/base",
      "_view_module_version": "1.2.0",
      "_view_name": "LayoutView",
      "align_content": null,
      "align_items": null,
      "align_self": null,
      "border": null,
      "bottom": null,
      "display": null,
      "flex": null,
      "flex_flow": null,
      "grid_area": null,
      "grid_auto_columns": null,
      "grid_auto_flow": null,
      "grid_auto_rows": null,
      "grid_column": null,
      "grid_gap": null,
      "grid_row": null,
      "grid_template_areas": null,
      "grid_template_columns": null,
      "grid_template_rows": null,
      "height": null,
      "justify_content": null,
      "justify_items": null,
      "left": null,
      "margin": null,
      "max_height": null,
      "max_width": null,
      "min_height": null,
      "min_width": null,
      "object_fit": null,
      "object_position": null,
      "order": null,
      "overflow": null,
      "overflow_x": null,
      "overflow_y": null,
      "padding": null,
      "right": null,
      "top": null,
      "visibility": null,
      "width": null
     }
    },
    "c50053980aaf4afebe946691d3147ab7": {
     "model_module": "@jupyter-widgets/controls",
     "model_name": "FloatProgressModel",
     "state": {
      "_dom_classes": [],
      "_model_module": "@jupyter-widgets/controls",
      "_model_module_version": "1.5.0",
      "_model_name": "FloatProgressModel",
      "_view_count": null,
      "_view_module": "@jupyter-widgets/controls",
      "_view_module_version": "1.5.0",
      "_view_name": "ProgressView",
      "bar_style": "success",
      "description": "100%",
      "description_tooltip": null,
      "layout": "IPY_MODEL_f7b38a602bca4897b203ff72ffd29794",
      "max": 500,
      "min": 0,
      "orientation": "horizontal",
      "style": "IPY_MODEL_e27603e4984a42679b36414c00092bf2",
      "value": 500
     }
    },
    "c52c25fd16534dd2932bd25962b4e0bc": {
     "model_module": "@jupyter-widgets/controls",
     "model_name": "FloatProgressModel",
     "state": {
      "_dom_classes": [],
      "_model_module": "@jupyter-widgets/controls",
      "_model_module_version": "1.5.0",
      "_model_name": "FloatProgressModel",
      "_view_count": null,
      "_view_module": "@jupyter-widgets/controls",
      "_view_module_version": "1.5.0",
      "_view_name": "ProgressView",
      "bar_style": "success",
      "description": "100%",
      "description_tooltip": null,
      "layout": "IPY_MODEL_3a279ea8f6c14000b3be2b6aa45e3e1a",
      "max": 1466,
      "min": 0,
      "orientation": "horizontal",
      "style": "IPY_MODEL_6e31384eafdc487ea9ab2480d767def1",
      "value": 1466
     }
    },
    "cb736a3adf054152b6eeee87d49f84a5": {
     "model_module": "@jupyter-widgets/base",
     "model_name": "LayoutModel",
     "state": {
      "_model_module": "@jupyter-widgets/base",
      "_model_module_version": "1.2.0",
      "_model_name": "LayoutModel",
      "_view_count": null,
      "_view_module": "@jupyter-widgets/base",
      "_view_module_version": "1.2.0",
      "_view_name": "LayoutView",
      "align_content": null,
      "align_items": null,
      "align_self": null,
      "border": null,
      "bottom": null,
      "display": null,
      "flex": null,
      "flex_flow": null,
      "grid_area": null,
      "grid_auto_columns": null,
      "grid_auto_flow": null,
      "grid_auto_rows": null,
      "grid_column": null,
      "grid_gap": null,
      "grid_row": null,
      "grid_template_areas": null,
      "grid_template_columns": null,
      "grid_template_rows": null,
      "height": null,
      "justify_content": null,
      "justify_items": null,
      "left": null,
      "margin": null,
      "max_height": null,
      "max_width": null,
      "min_height": null,
      "min_width": null,
      "object_fit": null,
      "object_position": null,
      "order": null,
      "overflow": null,
      "overflow_x": null,
      "overflow_y": null,
      "padding": null,
      "right": null,
      "top": null,
      "visibility": null,
      "width": null
     }
    },
    "cdf028a899364d38aa3e16e3d8126e7d": {
     "model_module": "@jupyter-widgets/base",
     "model_name": "LayoutModel",
     "state": {
      "_model_module": "@jupyter-widgets/base",
      "_model_module_version": "1.2.0",
      "_model_name": "LayoutModel",
      "_view_count": null,
      "_view_module": "@jupyter-widgets/base",
      "_view_module_version": "1.2.0",
      "_view_name": "LayoutView",
      "align_content": null,
      "align_items": null,
      "align_self": null,
      "border": null,
      "bottom": null,
      "display": null,
      "flex": null,
      "flex_flow": null,
      "grid_area": null,
      "grid_auto_columns": null,
      "grid_auto_flow": null,
      "grid_auto_rows": null,
      "grid_column": null,
      "grid_gap": null,
      "grid_row": null,
      "grid_template_areas": null,
      "grid_template_columns": null,
      "grid_template_rows": null,
      "height": null,
      "justify_content": null,
      "justify_items": null,
      "left": null,
      "margin": null,
      "max_height": null,
      "max_width": null,
      "min_height": null,
      "min_width": null,
      "object_fit": null,
      "object_position": null,
      "order": null,
      "overflow": null,
      "overflow_x": null,
      "overflow_y": null,
      "padding": null,
      "right": null,
      "top": null,
      "visibility": null,
      "width": null
     }
    },
    "d000a4b3ed6749e69e00fdbc9b84e19d": {
     "model_module": "@jupyter-widgets/base",
     "model_name": "LayoutModel",
     "state": {
      "_model_module": "@jupyter-widgets/base",
      "_model_module_version": "1.2.0",
      "_model_name": "LayoutModel",
      "_view_count": null,
      "_view_module": "@jupyter-widgets/base",
      "_view_module_version": "1.2.0",
      "_view_name": "LayoutView",
      "align_content": null,
      "align_items": null,
      "align_self": null,
      "border": null,
      "bottom": null,
      "display": null,
      "flex": null,
      "flex_flow": null,
      "grid_area": null,
      "grid_auto_columns": null,
      "grid_auto_flow": null,
      "grid_auto_rows": null,
      "grid_column": null,
      "grid_gap": null,
      "grid_row": null,
      "grid_template_areas": null,
      "grid_template_columns": null,
      "grid_template_rows": null,
      "height": null,
      "justify_content": null,
      "justify_items": null,
      "left": null,
      "margin": null,
      "max_height": null,
      "max_width": null,
      "min_height": null,
      "min_width": null,
      "object_fit": null,
      "object_position": null,
      "order": null,
      "overflow": null,
      "overflow_x": null,
      "overflow_y": null,
      "padding": null,
      "right": null,
      "top": null,
      "visibility": null,
      "width": null
     }
    },
    "dc33d1de016e4add9e800a83b010c7bb": {
     "model_module": "@jupyter-widgets/base",
     "model_name": "LayoutModel",
     "state": {
      "_model_module": "@jupyter-widgets/base",
      "_model_module_version": "1.2.0",
      "_model_name": "LayoutModel",
      "_view_count": null,
      "_view_module": "@jupyter-widgets/base",
      "_view_module_version": "1.2.0",
      "_view_name": "LayoutView",
      "align_content": null,
      "align_items": null,
      "align_self": null,
      "border": null,
      "bottom": null,
      "display": null,
      "flex": null,
      "flex_flow": null,
      "grid_area": null,
      "grid_auto_columns": null,
      "grid_auto_flow": null,
      "grid_auto_rows": null,
      "grid_column": null,
      "grid_gap": null,
      "grid_row": null,
      "grid_template_areas": null,
      "grid_template_columns": null,
      "grid_template_rows": null,
      "height": null,
      "justify_content": null,
      "justify_items": null,
      "left": null,
      "margin": null,
      "max_height": null,
      "max_width": null,
      "min_height": null,
      "min_width": null,
      "object_fit": null,
      "object_position": null,
      "order": null,
      "overflow": null,
      "overflow_x": null,
      "overflow_y": null,
      "padding": null,
      "right": null,
      "top": null,
      "visibility": null,
      "width": null
     }
    },
    "e27603e4984a42679b36414c00092bf2": {
     "model_module": "@jupyter-widgets/controls",
     "model_name": "ProgressStyleModel",
     "state": {
      "_model_module": "@jupyter-widgets/controls",
      "_model_module_version": "1.5.0",
      "_model_name": "ProgressStyleModel",
      "_view_count": null,
      "_view_module": "@jupyter-widgets/base",
      "_view_module_version": "1.2.0",
      "_view_name": "StyleView",
      "bar_color": null,
      "description_width": "initial"
     }
    },
    "e2a1f994fbdb4c8aa2bc6b65851a177a": {
     "model_module": "@jupyter-widgets/controls",
     "model_name": "DescriptionStyleModel",
     "state": {
      "_model_module": "@jupyter-widgets/controls",
      "_model_module_version": "1.5.0",
      "_model_name": "DescriptionStyleModel",
      "_view_count": null,
      "_view_module": "@jupyter-widgets/base",
      "_view_module_version": "1.2.0",
      "_view_name": "StyleView",
      "description_width": ""
     }
    },
    "e65edc2fbb0e4d7aba53af23b5599874": {
     "model_module": "@jupyter-widgets/controls",
     "model_name": "DescriptionStyleModel",
     "state": {
      "_model_module": "@jupyter-widgets/controls",
      "_model_module_version": "1.5.0",
      "_model_name": "DescriptionStyleModel",
      "_view_count": null,
      "_view_module": "@jupyter-widgets/base",
      "_view_module_version": "1.2.0",
      "_view_name": "StyleView",
      "description_width": ""
     }
    },
    "f6332d30f62c4c47825dcf3015e4e481": {
     "model_module": "@jupyter-widgets/controls",
     "model_name": "HBoxModel",
     "state": {
      "_dom_classes": [],
      "_model_module": "@jupyter-widgets/controls",
      "_model_module_version": "1.5.0",
      "_model_name": "HBoxModel",
      "_view_count": null,
      "_view_module": "@jupyter-widgets/controls",
      "_view_module_version": "1.5.0",
      "_view_name": "HBoxView",
      "box_style": "",
      "children": [
       "IPY_MODEL_c1bbd9ad7a444634a0fecf1d388b758f",
       "IPY_MODEL_1289b5956b36438d8d67688477d41f5f"
      ],
      "layout": "IPY_MODEL_46024df272104e68829f941935984042"
     }
    },
    "f79f3689949041e49684487f0518cd26": {
     "model_module": "@jupyter-widgets/base",
     "model_name": "LayoutModel",
     "state": {
      "_model_module": "@jupyter-widgets/base",
      "_model_module_version": "1.2.0",
      "_model_name": "LayoutModel",
      "_view_count": null,
      "_view_module": "@jupyter-widgets/base",
      "_view_module_version": "1.2.0",
      "_view_name": "LayoutView",
      "align_content": null,
      "align_items": null,
      "align_self": null,
      "border": null,
      "bottom": null,
      "display": null,
      "flex": null,
      "flex_flow": null,
      "grid_area": null,
      "grid_auto_columns": null,
      "grid_auto_flow": null,
      "grid_auto_rows": null,
      "grid_column": null,
      "grid_gap": null,
      "grid_row": null,
      "grid_template_areas": null,
      "grid_template_columns": null,
      "grid_template_rows": null,
      "height": null,
      "justify_content": null,
      "justify_items": null,
      "left": null,
      "margin": null,
      "max_height": null,
      "max_width": null,
      "min_height": null,
      "min_width": null,
      "object_fit": null,
      "object_position": null,
      "order": null,
      "overflow": null,
      "overflow_x": null,
      "overflow_y": null,
      "padding": null,
      "right": null,
      "top": null,
      "visibility": null,
      "width": null
     }
    },
    "f7b38a602bca4897b203ff72ffd29794": {
     "model_module": "@jupyter-widgets/base",
     "model_name": "LayoutModel",
     "state": {
      "_model_module": "@jupyter-widgets/base",
      "_model_module_version": "1.2.0",
      "_model_name": "LayoutModel",
      "_view_count": null,
      "_view_module": "@jupyter-widgets/base",
      "_view_module_version": "1.2.0",
      "_view_name": "LayoutView",
      "align_content": null,
      "align_items": null,
      "align_self": null,
      "border": null,
      "bottom": null,
      "display": null,
      "flex": null,
      "flex_flow": null,
      "grid_area": null,
      "grid_auto_columns": null,
      "grid_auto_flow": null,
      "grid_auto_rows": null,
      "grid_column": null,
      "grid_gap": null,
      "grid_row": null,
      "grid_template_areas": null,
      "grid_template_columns": null,
      "grid_template_rows": null,
      "height": null,
      "justify_content": null,
      "justify_items": null,
      "left": null,
      "margin": null,
      "max_height": null,
      "max_width": null,
      "min_height": null,
      "min_width": null,
      "object_fit": null,
      "object_position": null,
      "order": null,
      "overflow": null,
      "overflow_x": null,
      "overflow_y": null,
      "padding": null,
      "right": null,
      "top": null,
      "visibility": null,
      "width": null
     }
    },
    "f8af2e41eada44c696c34074e91611c8": {
     "model_module": "@jupyter-widgets/controls",
     "model_name": "FloatProgressModel",
     "state": {
      "_dom_classes": [],
      "_model_module": "@jupyter-widgets/controls",
      "_model_module_version": "1.5.0",
      "_model_name": "FloatProgressModel",
      "_view_count": null,
      "_view_module": "@jupyter-widgets/controls",
      "_view_module_version": "1.5.0",
      "_view_name": "ProgressView",
      "bar_style": "success",
      "description": "100%",
      "description_tooltip": null,
      "layout": "IPY_MODEL_4d88696e4a0c4cf1826361e348cc1018",
      "max": 80,
      "min": 0,
      "orientation": "horizontal",
      "style": "IPY_MODEL_362679c1ebe64d789575888c21096339",
      "value": 80
     }
    },
    "fc07ee461b584405983b14bf1e17a7df": {
     "model_module": "@jupyter-widgets/controls",
     "model_name": "HBoxModel",
     "state": {
      "_dom_classes": [],
      "_model_module": "@jupyter-widgets/controls",
      "_model_module_version": "1.5.0",
      "_model_name": "HBoxModel",
      "_view_count": null,
      "_view_module": "@jupyter-widgets/controls",
      "_view_module_version": "1.5.0",
      "_view_name": "HBoxView",
      "box_style": "",
      "children": [
       "IPY_MODEL_c50053980aaf4afebe946691d3147ab7",
       "IPY_MODEL_b3bb73f2ee42485f930fb6e748f3030b"
      ],
      "layout": "IPY_MODEL_cdf028a899364d38aa3e16e3d8126e7d"
     }
    }
   }
  }
 },
 "nbformat": 4,
 "nbformat_minor": 1
}
