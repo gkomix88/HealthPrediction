{
 "cells": [
  {
   "cell_type": "code",
   "execution_count": 2,
   "metadata": {
    "colab": {
     "base_uri": "https://localhost:8080/"
    },
    "executionInfo": {
     "elapsed": 21435,
     "status": "ok",
     "timestamp": 1611476851118,
     "user": {
      "displayName": "KHONG FAN YI",
      "photoUrl": "",
      "userId": "02416044610109286808"
     },
     "user_tz": -480
    },
    "id": "NZdHNnydrivt",
    "outputId": "6cbd2ea0-44a9-46b0-893a-0f2fb2a3ef35"
   },
   "outputs": [
    {
     "name": "stdout",
     "output_type": "stream",
     "text": [
      "Mounted at /content/drive\n"
     ]
    }
   ],
   "source": [
    "from google.colab import drive\n",
    "drive.mount('/content/drive')"
   ]
  },
  {
   "cell_type": "markdown",
   "metadata": {
    "id": "iqI5L27rHjAg"
   },
   "source": [
    "##Import Packages"
   ]
  },
  {
   "cell_type": "code",
   "execution_count": null,
   "metadata": {
    "id": "R_n_RFY2gCWY"
   },
   "outputs": [],
   "source": [
    "import time\n",
    "import numpy as np\n",
    "import os\n",
    "import cv2\n",
    "import random\n",
    "import pickle\n",
    "import matplotlib.pyplot as plt\n",
    "import sklearn.metrics as metrics\n",
    "from tqdm.notebook import tqdm\n",
    "from sklearn.model_selection import train_test_split\n",
    "from sklearn.metrics import plot_confusion_matrix\n",
    "from sklearn.ensemble import RandomForestClassifier"
   ]
  },
  {
   "cell_type": "markdown",
   "metadata": {
    "id": "ciqkz1NoIE9L"
   },
   "source": [
    "##Load Dataset"
   ]
  },
  {
   "cell_type": "code",
   "execution_count": 5,
   "metadata": {
    "executionInfo": {
     "elapsed": 2576,
     "status": "ok",
     "timestamp": 1611476865225,
     "user": {
      "displayName": "KHONG FAN YI",
      "photoUrl": "",
      "userId": "02416044610109286808"
     },
     "user_tz": -480
    },
    "id": "Rqd8054Idd7z"
   },
   "outputs": [],
   "source": [
    "# Define labels of the classes and subclasses\n",
    "\n",
    "CLASSES = [\"healthy\", \"ill\"]\n",
    "SUBCLASSES = [\"fever\", \"sore throat\", \"running nose\"]"
   ]
  },
  {
   "cell_type": "code",
   "execution_count": 6,
   "metadata": {
    "colab": {
     "base_uri": "https://localhost:8080/",
     "height": 215,
     "referenced_widgets": [
      "692389d23fa447afa43f0afb25f0a38e",
      "aec9c0816d0b4c83af02b0cc1dfd5e3c",
      "2f9680482d71446d93c8c147ccbc4521",
      "ea82af498ef9490b9172327bd83b6406",
      "a6972a66d3aa4d8c91ff71bd4e370e32",
      "21dcba6d86fb4399a60970d7e43acabe",
      "ff151f04c23243f8bdfb7346085c0480",
      "e5c3f5ae4b404c32b2b20cd94a053749",
      "d06d626a4d7946c4938be55678d5d174",
      "e5d577f2add74bde98d17bdc5a1f3547",
      "6062538eaf654ba4bb338811b41e7412",
      "03a201e2feca41c999e4bb59cbeb7d58",
      "da667b78c2e44bb7b28f5a93c34e0938",
      "d77ec298cd764e0c9dc9cc79107cfb23",
      "9d82353bf903452cb8c8ad7dccb03163",
      "2a1da562ddb74db68fa8a72b60f465ff",
      "87e305f983194fd2a9c2ccb0507805ce",
      "4e3675b3b2a9455fb88a9ec04560055c",
      "42db55d5650d49b4a87e7db3dc83e333",
      "6593a224140146dab421c1420b77b2d5",
      "3934b39193e94c9490e3147244903863",
      "54b1616e95144114a1d00fa6be2a9acf",
      "de0d4609acf241ca8b98851b45b30248",
      "4b4a192aa6f64bfa8a66ad658bb0b679",
      "ce972b0aa11a4c5f81130f5966c1dbde",
      "0aeca7e1945e469b90ca24d81c2c4133",
      "cdb743e9a90a4f2ab91e21145f9a6319",
      "d3993bf08623448cb060e220c95e3a98",
      "1b8dfbfc6178453d9a634abec5aad163",
      "0af07cd3a63145f88a8d94835cb62a7c",
      "0a80ef20ef774b888c1b35559920b6dd",
      "f6abc2be950b4a8c8bebe95389b01b03"
     ]
    },
    "executionInfo": {
     "elapsed": 214873,
     "status": "ok",
     "timestamp": 1611477077534,
     "user": {
      "displayName": "KHONG FAN YI",
      "photoUrl": "",
      "userId": "02416044610109286808"
     },
     "user_tz": -480
    },
    "id": "azh7MJDPcS9u",
    "outputId": "f26bf49d-33c3-4f0a-f442-7fee5185d019",
    "scrolled": true
   },
   "outputs": [
    {
     "data": {
      "application/vnd.jupyter.widget-view+json": {
       "model_id": "692389d23fa447afa43f0afb25f0a38e",
       "version_major": 2,
       "version_minor": 0
      },
      "text/plain": [
       "HBox(children=(FloatProgress(value=0.0, max=500.0), HTML(value='')))"
      ]
     },
     "metadata": {
      "tags": []
     },
     "output_type": "display_data"
    },
    {
     "name": "stdout",
     "output_type": "stream",
     "text": [
      "\n"
     ]
    },
    {
     "data": {
      "application/vnd.jupyter.widget-view+json": {
       "model_id": "d06d626a4d7946c4938be55678d5d174",
       "version_major": 2,
       "version_minor": 0
      },
      "text/plain": [
       "HBox(children=(FloatProgress(value=0.0, max=78.0), HTML(value='')))"
      ]
     },
     "metadata": {
      "tags": []
     },
     "output_type": "display_data"
    },
    {
     "name": "stdout",
     "output_type": "stream",
     "text": [
      "\n"
     ]
    },
    {
     "data": {
      "application/vnd.jupyter.widget-view+json": {
       "model_id": "87e305f983194fd2a9c2ccb0507805ce",
       "version_major": 2,
       "version_minor": 0
      },
      "text/plain": [
       "HBox(children=(FloatProgress(value=0.0, max=80.0), HTML(value='')))"
      ]
     },
     "metadata": {
      "tags": []
     },
     "output_type": "display_data"
    },
    {
     "name": "stdout",
     "output_type": "stream",
     "text": [
      "\n"
     ]
    },
    {
     "data": {
      "application/vnd.jupyter.widget-view+json": {
       "model_id": "ce972b0aa11a4c5f81130f5966c1dbde",
       "version_major": 2,
       "version_minor": 0
      },
      "text/plain": [
       "HBox(children=(FloatProgress(value=0.0, max=75.0), HTML(value='')))"
      ]
     },
     "metadata": {
      "tags": []
     },
     "output_type": "display_data"
    },
    {
     "name": "stdout",
     "output_type": "stream",
     "text": [
      "\n"
     ]
    }
   ],
   "source": [
    "folder = \"/content/drive/MyDrive/FYP/dataset\"\n",
    "img_array = []\n",
    "class_num_list1 = []\n",
    "subcls_num_list1 = [\"None\"]*500   # fill the list with 500 \"None's\" first to represent \"healthy\" samples\n",
    "\n",
    "for c in CLASSES: \n",
    "        \n",
    "    if (c == \"healthy\"):\n",
    "        path = os.path.join(folder,c)  # create path to dataset folder\n",
    "        class_num = 0  # get the CLASSES index, 0 = healthy, 1 = ill\n",
    "        for img in tqdm(os.listdir(path)):  # iterate over each image per folder\n",
    "            try:\n",
    "                img = cv2.imread(os.path.join(path,img))  # read image into a list \n",
    "                img_array.append(img)\n",
    "                class_num_list1.append(class_num) # save a list of the class numbers\n",
    "            except Exception as e: \n",
    "                print(\"error\")\n",
    "                \n",
    "    elif (c == \"ill\"):\n",
    "        for s in SUBCLASSES:\n",
    "            path = os.path.join(folder,c,s) # create path to ill subfolders \n",
    "            class_num = 1\n",
    "            subclass_num = SUBCLASSES.index(s)\n",
    "            for img in tqdm(os.listdir(path)):  # iterate over each image per folder\n",
    "                try:\n",
    "                    img = cv2.imread(os.path.join(path,img))  # read image into a list\n",
    "                    img_array.append(img)\n",
    "                    class_num_list1.append(class_num) \n",
    "                    subcls_num_list1.append(subclass_num) # save a list of the subclass numbers; 0 = fever, 1 = sore throat, 2 = running nose\n",
    "                except Exception as e: \n",
    "                    print(\"error\")"
   ]
  },
  {
   "cell_type": "code",
   "execution_count": 7,
   "metadata": {
    "colab": {
     "base_uri": "https://localhost:8080/",
     "height": 215,
     "referenced_widgets": [
      "c1a3d9f4cb8d4ba0b25aa43b02905260",
      "bfff801374e147b68358b16b5e542c27",
      "ca5e187bce854ee6bc0e53c48d736f9c",
      "bbdd1620c0e64a37af9b48ce0953897e",
      "7bb95351f4454f89b69d3541428b147b",
      "be1902371df7412cb98ea3afbc664f4d",
      "de2ec9b1a34448ee9bc7c947498d5b96",
      "33e9c5741a2943b0a92e529b214d3417",
      "6a9c663529ee4d08a9558c9907dc4dca",
      "ba7302f463744c6cb8ae7fac902d2a90",
      "75785d6f732146f886c6575955b3e2bc",
      "08008e80b21d44a8b44a8fa1cdab1386",
      "1e0a9e5148d7435889d5beb3d19f2f68",
      "97dc52744287472a8065cc9306f3c847",
      "5448bf0da0be4ecbb5be4f15cb69325e",
      "b708018c6f8a41a6aa356614669a40ca",
      "dfe742c45af04a6c99fe7cc14916aa4c",
      "f8a825cf0d7741fcbdb187c36ea817a6",
      "7bd4c25cd6a24b1cb683853ae270d8df",
      "e8e171c08af342e3a6ee9eeb6f97baee",
      "637527fff3f24e53ba33fe4b2a8c1247",
      "4fe19e035691428e8a33728560bf948d",
      "11babdaa1d81466796aac18dbf8f1c1b",
      "17fca7b7a03b464493632270cd9f61a0",
      "43e3354f88db4f4cafb8825dd120f156",
      "68147c99ec0b48239e0fdd2f03e8d567",
      "998e79894d194cb2b368d836b1670fc9",
      "a8adf24594fc4ce18224698f6ba0f201",
      "84476ac27f784558b32f22756c4cb119",
      "e712a273ca4e4cb58bf61aa0ae9a3581",
      "1109440e332a45b98e96bf1feb259436",
      "5349309113a44161ae3998787934f15f"
     ]
    },
    "executionInfo": {
     "elapsed": 435941,
     "status": "ok",
     "timestamp": 1611477298611,
     "user": {
      "displayName": "KHONG FAN YI",
      "photoUrl": "",
      "userId": "02416044610109286808"
     },
     "user_tz": -480
    },
    "id": "Auf0PEu2cS9x",
    "outputId": "9a9330bf-4100-41ef-9cba-c612912d1f4f"
   },
   "outputs": [
    {
     "data": {
      "application/vnd.jupyter.widget-view+json": {
       "model_id": "c1a3d9f4cb8d4ba0b25aa43b02905260",
       "version_major": 2,
       "version_minor": 0
      },
      "text/plain": [
       "HBox(children=(FloatProgress(value=0.0, max=500.0), HTML(value='')))"
      ]
     },
     "metadata": {
      "tags": []
     },
     "output_type": "display_data"
    },
    {
     "name": "stdout",
     "output_type": "stream",
     "text": [
      "\n"
     ]
    },
    {
     "data": {
      "application/vnd.jupyter.widget-view+json": {
       "model_id": "6a9c663529ee4d08a9558c9907dc4dca",
       "version_major": 2,
       "version_minor": 0
      },
      "text/plain": [
       "HBox(children=(FloatProgress(value=0.0, max=78.0), HTML(value='')))"
      ]
     },
     "metadata": {
      "tags": []
     },
     "output_type": "display_data"
    },
    {
     "name": "stdout",
     "output_type": "stream",
     "text": [
      "\n"
     ]
    },
    {
     "data": {
      "application/vnd.jupyter.widget-view+json": {
       "model_id": "dfe742c45af04a6c99fe7cc14916aa4c",
       "version_major": 2,
       "version_minor": 0
      },
      "text/plain": [
       "HBox(children=(FloatProgress(value=0.0, max=80.0), HTML(value='')))"
      ]
     },
     "metadata": {
      "tags": []
     },
     "output_type": "display_data"
    },
    {
     "name": "stdout",
     "output_type": "stream",
     "text": [
      "\n"
     ]
    },
    {
     "data": {
      "application/vnd.jupyter.widget-view+json": {
       "model_id": "43e3354f88db4f4cafb8825dd120f156",
       "version_major": 2,
       "version_minor": 0
      },
      "text/plain": [
       "HBox(children=(FloatProgress(value=0.0, max=75.0), HTML(value='')))"
      ]
     },
     "metadata": {
      "tags": []
     },
     "output_type": "display_data"
    },
    {
     "name": "stdout",
     "output_type": "stream",
     "text": [
      "\n"
     ]
    }
   ],
   "source": [
    "folder_aug = \"/content/drive/MyDrive/FYP/augmented images\"\n",
    "aug_array = []\n",
    "class_num_list2 = []\n",
    "subcls_num_list2 = [\"None\"]*500 # fill the list with 500 \"None's\" first to represent \"healthy\" samples\n",
    "\n",
    "for c in CLASSES: \n",
    "        \n",
    "    if (c == \"healthy\"):\n",
    "        path = os.path.join(folder_aug,c)  # create path to dataset folder_aug\n",
    "        class_num = 0  # get the CLASSES index, 0 = healthy, 1 = ill\n",
    "        for img in tqdm(os.listdir(path)):  # iterate over each image per folder_aug\n",
    "            try:\n",
    "                img = cv2.imread(os.path.join(path,img))  # read image into a list \n",
    "                aug_array.append(img)\n",
    "                class_num_list2.append(class_num) # save a list of the class numbers\n",
    "            except Exception as e: \n",
    "                print(\"error\")\n",
    "                \n",
    "    elif (c == \"ill\"):\n",
    "        for s in SUBCLASSES:\n",
    "            path = os.path.join(folder_aug,c,s) # create path to ill subfolder_augs \n",
    "            class_num = 1\n",
    "            subclass_num = SUBCLASSES.index(s)\n",
    "            for img in tqdm(os.listdir(path)):  # iterate over each image per folder_aug\n",
    "                try:\n",
    "                    img = cv2.imread(os.path.join(path,img))  # read image into a list\n",
    "                    aug_array.append(img)\n",
    "                    class_num_list2.append(class_num) \n",
    "                    subcls_num_list2.append(subclass_num) # save a list of the subclass numbers; 0 = fever, 1 = sore throat, 2 = running nose\n",
    "                except Exception as e: \n",
    "                    print(\"error\")"
   ]
  },
  {
   "cell_type": "code",
   "execution_count": 8,
   "metadata": {
    "colab": {
     "base_uri": "https://localhost:8080/"
    },
    "executionInfo": {
     "elapsed": 435935,
     "status": "ok",
     "timestamp": 1611477298613,
     "user": {
      "displayName": "KHONG FAN YI",
      "photoUrl": "",
      "userId": "02416044610109286808"
     },
     "user_tz": -480
    },
    "id": "RfqWsTGIKV6S",
    "outputId": "a26c69b3-7c29-4dd7-f394-91f3a1e77c24"
   },
   "outputs": [
    {
     "name": "stdout",
     "output_type": "stream",
     "text": [
      "1466\n"
     ]
    }
   ],
   "source": [
    "# Combine the original and augmented images into a new list\n",
    "\n",
    "all_imgs = []\n",
    "\n",
    "all_imgs = img_array.copy()\n",
    "\n",
    "for i, img in enumerate(aug_array):\n",
    "    all_imgs.append(img)\n",
    "\n",
    "print(len(all_imgs))"
   ]
  },
  {
   "cell_type": "markdown",
   "metadata": {
    "id": "-IK1KAsRF0ou"
   },
   "source": [
    "## Feature Extraction"
   ]
  },
  {
   "cell_type": "code",
   "execution_count": 9,
   "metadata": {
    "executionInfo": {
     "elapsed": 435928,
     "status": "ok",
     "timestamp": 1611477298614,
     "user": {
      "displayName": "KHONG FAN YI",
      "photoUrl": "",
      "userId": "02416044610109286808"
     },
     "user_tz": -480
    },
    "id": "adzcQf6RKV6T"
   },
   "outputs": [],
   "source": [
    "# Apply Gabor filter to extract features\n",
    "def build_filters():\n",
    "    filters = []\n",
    "    ksize = 31\n",
    "    for theta in np.arange(0, np.pi, np.pi / 16):\n",
    "        kern = cv2.getGaborKernel((ksize, ksize), 4.0, theta, 10.0, 0.5, 0, ktype=cv2.CV_32F)\n",
    "        kern /= 1.5*kern.sum()\n",
    "        filters.append(kern)\n",
    "    return filters\n",
    " \n",
    "def process(img, filters):\n",
    "    accum = np.zeros_like(img)\n",
    "    for kern in filters:\n",
    "        fimg = cv2.filter2D(img, cv2.CV_8UC3, kern)\n",
    "        np.maximum(accum, fimg, accum)\n",
    "    return accum"
   ]
  },
  {
   "cell_type": "code",
   "execution_count": 10,
   "metadata": {
    "colab": {
     "base_uri": "https://localhost:8080/",
     "height": 66,
     "referenced_widgets": [
      "ad03844778734a8d9ca61e257f914889",
      "87372490d6334b53bfb2caacc95c3272",
      "c822586df9be4458a8c047a889251272",
      "04eb8ef27b9a4610bcce2ec29807f49d",
      "d3d254f2b905497d8db11ed0f9e116db",
      "b538a64dd0f84bf3b6830e6ee43128a7",
      "8c5a0b979e6542c3864197d89c8e2bf1",
      "55cd816625ee48c598f68f0f60a85933"
     ]
    },
    "executionInfo": {
     "elapsed": 483676,
     "status": "ok",
     "timestamp": 1611477346370,
     "user": {
      "displayName": "KHONG FAN YI",
      "photoUrl": "",
      "userId": "02416044610109286808"
     },
     "user_tz": -480
    },
    "id": "qAlT78VsKV6T",
    "outputId": "e6bfd5b4-6d7f-4e85-a3d4-4ae50cb1a490"
   },
   "outputs": [
    {
     "data": {
      "application/vnd.jupyter.widget-view+json": {
       "model_id": "ad03844778734a8d9ca61e257f914889",
       "version_major": 2,
       "version_minor": 0
      },
      "text/plain": [
       "HBox(children=(FloatProgress(value=0.0, max=1466.0), HTML(value='')))"
      ]
     },
     "metadata": {
      "tags": []
     },
     "output_type": "display_data"
    },
    {
     "name": "stdout",
     "output_type": "stream",
     "text": [
      "\n"
     ]
    }
   ],
   "source": [
    "# Extract all features from the whole dataset\n",
    "\n",
    "all_gab_features = []\n",
    "\n",
    "for img in tqdm(all_imgs):\n",
    "    img = cv2.cvtColor(img, cv2.COLOR_BGR2GRAY) # convert color image to grayscale\n",
    "    filters = build_filters()\n",
    "    extracted = process(img, filters)\n",
    "    all_gab_features.append(extracted)"
   ]
  },
  {
   "cell_type": "code",
   "execution_count": 11,
   "metadata": {
    "colab": {
     "base_uri": "https://localhost:8080/"
    },
    "executionInfo": {
     "elapsed": 483670,
     "status": "ok",
     "timestamp": 1611477346371,
     "user": {
      "displayName": "KHONG FAN YI",
      "photoUrl": "",
      "userId": "02416044610109286808"
     },
     "user_tz": -480
    },
    "id": "vxjyJL_cKV6U",
    "outputId": "5376d317-6c5f-4669-8742-aabaef1a205c"
   },
   "outputs": [
    {
     "name": "stdout",
     "output_type": "stream",
     "text": [
      "733\n",
      "733\n"
     ]
    }
   ],
   "source": [
    "# Separate the features of augmented images from original images\n",
    "# to prevent information leakage during splitting \n",
    "\n",
    "aug_gab_features = []\n",
    "gab_features = []\n",
    "\n",
    "for j in range(len(all_gab_features)):\n",
    "    if(j >= 733):\n",
    "        aug_gab_features.append(all_gab_features[j])\n",
    "    else:\n",
    "        gab_features.append(all_gab_features[j])\n",
    "\n",
    "print(len(gab_features))\n",
    "print(len(aug_gab_features))"
   ]
  },
  {
   "cell_type": "markdown",
   "metadata": {
    "id": "7J5IOQKAygCo"
   },
   "source": [
    "## First-Level Classification\n",
    "> ### *Classify samples into healthy (0) and ill (1) classes*\n"
   ]
  },
  {
   "cell_type": "code",
   "execution_count": 12,
   "metadata": {
    "executionInfo": {
     "elapsed": 483664,
     "status": "ok",
     "timestamp": 1611477346373,
     "user": {
      "displayName": "KHONG FAN YI",
      "photoUrl": "",
      "userId": "02416044610109286808"
     },
     "user_tz": -480
    },
    "id": "WEkhJEdcygCu"
   },
   "outputs": [],
   "source": [
    "# Create partial dataset with features of original images (will add in the augmented set after spliting)\n",
    "dataset = []\n",
    "\n",
    "for i, features in enumerate(gab_features):  \n",
    "    try:\n",
    "        img_gray = cv2.cvtColor(img_array[i], cv2.COLOR_BGR2GRAY)\n",
    "        dataset.append([features, class_num_list1[i], subcls_num_list1[i], img_gray])\n",
    "    except Exception as e: \n",
    "        print(\"error\")"
   ]
  },
  {
   "cell_type": "code",
   "execution_count": 13,
   "metadata": {
    "executionInfo": {
     "elapsed": 483658,
     "status": "ok",
     "timestamp": 1611477346374,
     "user": {
      "displayName": "KHONG FAN YI",
      "photoUrl": "",
      "userId": "02416044610109286808"
     },
     "user_tz": -480
    },
    "id": "z-b6W-qBygCv"
   },
   "outputs": [],
   "source": [
    "# Create the augmented images' dataset \n",
    "aug_dataset = []\n",
    "\n",
    "for i, aug_features in enumerate(aug_gab_features):  \n",
    "    try:\n",
    "        aug_gray = cv2.cvtColor(aug_array[i], cv2.COLOR_BGR2GRAY)\n",
    "        aug_dataset.append([aug_features, class_num_list2[i], subcls_num_list2[i], aug_gray])\n",
    "    except Exception as e: \n",
    "        print(\"error\")"
   ]
  },
  {
   "cell_type": "code",
   "execution_count": 50,
   "metadata": {
    "colab": {
     "base_uri": "https://localhost:8080/"
    },
    "executionInfo": {
     "elapsed": 788,
     "status": "ok",
     "timestamp": 1611478245706,
     "user": {
      "displayName": "KHONG FAN YI",
      "photoUrl": "",
      "userId": "02416044610109286808"
     },
     "user_tz": -480
    },
    "id": "8ZTjTzlFygCv",
    "outputId": "4f05bc06-8f35-4ee9-f5e6-5c0b9a85a130"
   },
   "outputs": [
    {
     "name": "stdout",
     "output_type": "stream",
     "text": [
      "Train set length before data augmentation:  586\n",
      "Test set length:  147\n"
     ]
    }
   ],
   "source": [
    "# Split the original dataset\n",
    "train_set_before, test_set = train_test_split(dataset, test_size=0.2, shuffle=True)\n",
    "\n",
    "print('Train set length before data augmentation: ', len(train_set_before))\n",
    "print('Test set length: ', len(test_set))"
   ]
  },
  {
   "cell_type": "code",
   "execution_count": 51,
   "metadata": {
    "colab": {
     "base_uri": "https://localhost:8080/"
    },
    "executionInfo": {
     "elapsed": 1280,
     "status": "ok",
     "timestamp": 1611478246212,
     "user": {
      "displayName": "KHONG FAN YI",
      "photoUrl": "",
      "userId": "02416044610109286808"
     },
     "user_tz": -480
    },
    "id": "CVST_RV9ygCw",
    "outputId": "371e811d-4ffb-4d7d-e373-2baae20752a5"
   },
   "outputs": [
    {
     "data": {
      "text/plain": [
       "1319"
      ]
     },
     "execution_count": 51,
     "metadata": {
      "tags": []
     },
     "output_type": "execute_result"
    }
   ],
   "source": [
    "# Add the augmented dataset into the training set, then shuffle\n",
    "train_set = []\n",
    "\n",
    "train_set = train_set_before.copy()\n",
    "\n",
    "for aug_set in aug_dataset:  \n",
    "    if (len(train_set) < 1319):\n",
    "        train_set.append(aug_set)\n",
    "        \n",
    "random.shuffle(train_set)\n",
    "len(train_set)"
   ]
  },
  {
   "cell_type": "code",
   "execution_count": 52,
   "metadata": {
    "colab": {
     "base_uri": "https://localhost:8080/"
    },
    "executionInfo": {
     "elapsed": 1656,
     "status": "ok",
     "timestamp": 1611478246598,
     "user": {
      "displayName": "KHONG FAN YI",
      "photoUrl": "",
      "userId": "02416044610109286808"
     },
     "user_tz": -480
    },
    "id": "piVebWAbygCx",
    "outputId": "f2f1e6ef-c3ba-47ea-c476-140fd97d5115"
   },
   "outputs": [
    {
     "name": "stdout",
     "output_type": "stream",
     "text": [
      "(1319, 40000)\n",
      "(1319,)\n"
     ]
    }
   ],
   "source": [
    "# Create training set\n",
    "\n",
    "X_train = []\n",
    "y_train = []\n",
    "gray_img1 = []\n",
    "subcls_num = []\n",
    "\n",
    "for features, label, subcls, gray in train_set:\n",
    "    X_train.append(features)\n",
    "    y_train.append(label)\n",
    "    gray_img1.append(gray)\n",
    "    subcls_num.append(subcls)\n",
    "\n",
    "X_train = np.array(X_train).reshape(len(y_train), -1)\n",
    "y_train = np.array(y_train)\n",
    "\n",
    "print(X_train.shape)\n",
    "print(y_train.shape)"
   ]
  },
  {
   "cell_type": "code",
   "execution_count": 53,
   "metadata": {
    "colab": {
     "base_uri": "https://localhost:8080/"
    },
    "executionInfo": {
     "elapsed": 1650,
     "status": "ok",
     "timestamp": 1611478246602,
     "user": {
      "displayName": "KHONG FAN YI",
      "photoUrl": "",
      "userId": "02416044610109286808"
     },
     "user_tz": -480
    },
    "id": "fh0-oxXpygCx",
    "outputId": "98464eb2-7031-4cfa-f79e-0f5f377107ad"
   },
   "outputs": [
    {
     "name": "stdout",
     "output_type": "stream",
     "text": [
      "(147, 40000)\n",
      "(147,)\n"
     ]
    }
   ],
   "source": [
    "# Create testing set\n",
    "\n",
    "X_test = []\n",
    "y_test = []\n",
    "gray_img2 = []\n",
    "\n",
    "for features, label, subcls, gray in test_set:\n",
    "    X_test.append(features)\n",
    "    y_test.append(label)\n",
    "    gray_img2.append(gray)\n",
    "\n",
    "X_test = np.array(X_test).reshape(len(y_test), -1)\n",
    "y_test = np.array(y_test)\n",
    "\n",
    "print(X_test.shape)\n",
    "print(y_test.shape)"
   ]
  },
  {
   "cell_type": "markdown",
   "metadata": {
    "id": "4eO3wQoPygCy"
   },
   "source": [
    "### Train Model"
   ]
  },
  {
   "cell_type": "code",
   "execution_count": 54,
   "metadata": {
    "colab": {
     "base_uri": "https://localhost:8080/"
    },
    "executionInfo": {
     "elapsed": 153992,
     "status": "ok",
     "timestamp": 1611478398954,
     "user": {
      "displayName": "KHONG FAN YI",
      "photoUrl": "",
      "userId": "02416044610109286808"
     },
     "user_tz": -480
    },
    "id": "roQhL5F7ygCy",
    "outputId": "de3b4a6c-2dec-4291-d1d8-0db7500f7802",
    "scrolled": true
   },
   "outputs": [
    {
     "name": "stdout",
     "output_type": "stream",
     "text": [
      "152.54165363311768 seconds\n"
     ]
    }
   ],
   "source": [
    "# Train the classifier\n",
    "\n",
    "rf = RandomForestClassifier(n_estimators=1200,\n",
    "                            n_jobs=-1, \n",
    "                            random_state=None)\n",
    "\n",
    "start_train = time.time() # to record the training time\n",
    "rf.fit(X_train, y_train)\n",
    "end_train = time.time()\n",
    "print(end_train - start_train, \"seconds\")"
   ]
  },
  {
   "cell_type": "markdown",
   "metadata": {
    "id": "5Ugi9ASLygCz"
   },
   "source": [
    "#### Training Performance"
   ]
  },
  {
   "cell_type": "code",
   "execution_count": 55,
   "metadata": {
    "colab": {
     "base_uri": "https://localhost:8080/"
    },
    "executionInfo": {
     "elapsed": 154880,
     "status": "ok",
     "timestamp": 1611478399852,
     "user": {
      "displayName": "KHONG FAN YI",
      "photoUrl": "",
      "userId": "02416044610109286808"
     },
     "user_tz": -480
    },
    "id": "NRuEyap2ygCz",
    "outputId": "9e6daa7c-80ff-4283-cbc8-58c9daa8cba6",
    "scrolled": true
   },
   "outputs": [
    {
     "name": "stdout",
     "output_type": "stream",
     "text": [
      "Classification report for - \n",
      "RandomForestClassifier(bootstrap=True, ccp_alpha=0.0, class_weight=None,\n",
      "                       criterion='gini', max_depth=None, max_features='auto',\n",
      "                       max_leaf_nodes=None, max_samples=None,\n",
      "                       min_impurity_decrease=0.0, min_impurity_split=None,\n",
      "                       min_samples_leaf=1, min_samples_split=2,\n",
      "                       min_weight_fraction_leaf=0.0, n_estimators=1200,\n",
      "                       n_jobs=-1, oob_score=False, random_state=None, verbose=0,\n",
      "                       warm_start=False):\n",
      "              precision    recall  f1-score   support\n",
      "\n",
      "           0       1.00      1.00      1.00       902\n",
      "           1       1.00      1.00      1.00       417\n",
      "\n",
      "    accuracy                           1.00      1319\n",
      "   macro avg       1.00      1.00      1.00      1319\n",
      "weighted avg       1.00      1.00      1.00      1319\n",
      "\n",
      "\n",
      "Training accuracy: 100.0\n"
     ]
    }
   ],
   "source": [
    "y_pred = rf.predict(X_train)\n",
    "\n",
    "ill_pred = y_pred\n",
    "\n",
    "print(\"Classification report for - \\n{}:\\n{}\\n\".format(\n",
    "    rf, metrics.classification_report(y_train, y_pred)))\n",
    "\n",
    "train_acc = metrics.accuracy_score(y_train, y_pred)*100\n",
    "print(\"Training accuracy: \" + str(train_acc))"
   ]
  },
  {
   "cell_type": "code",
   "execution_count": 56,
   "metadata": {
    "colab": {
     "base_uri": "https://localhost:8080/",
     "height": 296
    },
    "executionInfo": {
     "elapsed": 155883,
     "status": "ok",
     "timestamp": 1611478400872,
     "user": {
      "displayName": "KHONG FAN YI",
      "photoUrl": "",
      "userId": "02416044610109286808"
     },
     "user_tz": -480
    },
    "id": "2D5esNSOygC0",
    "outputId": "8909ec6b-5c3d-456d-84e4-2d6ba2e81f99",
    "scrolled": false
   },
   "outputs": [
    {
     "data": {
      "text/plain": [
       "<sklearn.metrics._plot.confusion_matrix.ConfusionMatrixDisplay at 0x7f08281dae48>"
      ]
     },
     "execution_count": 56,
     "metadata": {
      "tags": []
     },
     "output_type": "execute_result"
    },
    {
     "data": {
      "image/png": "[encoded data removed]",
      "text/plain": [
       "<Figure size 432x288 with 2 Axes>"
      ]
     },
     "metadata": {
      "needs_background": "light",
      "tags": []
     },
     "output_type": "display_data"
    }
   ],
   "source": [
    "plot_confusion_matrix(rf, X_train, y_train, cmap='plasma')"
   ]
  },
  {
   "cell_type": "markdown",
   "metadata": {
    "id": "x_OuXxwGygC0"
   },
   "source": [
    "#### Testing Performance"
   ]
  },
  {
   "cell_type": "code",
   "execution_count": 57,
   "metadata": {
    "colab": {
     "base_uri": "https://localhost:8080/"
    },
    "executionInfo": {
     "elapsed": 156193,
     "status": "ok",
     "timestamp": 1611478401195,
     "user": {
      "displayName": "KHONG FAN YI",
      "photoUrl": "",
      "userId": "02416044610109286808"
     },
     "user_tz": -480
    },
    "id": "k09gFyEnygC0",
    "outputId": "0066e7f6-7d29-4ae4-adf2-844fe30a2bff"
   },
   "outputs": [
    {
     "name": "stdout",
     "output_type": "stream",
     "text": [
      "Classification report for - \n",
      "RandomForestClassifier(bootstrap=True, ccp_alpha=0.0, class_weight=None,\n",
      "                       criterion='gini', max_depth=None, max_features='auto',\n",
      "                       max_leaf_nodes=None, max_samples=None,\n",
      "                       min_impurity_decrease=0.0, min_impurity_split=None,\n",
      "                       min_samples_leaf=1, min_samples_split=2,\n",
      "                       min_weight_fraction_leaf=0.0, n_estimators=1200,\n",
      "                       n_jobs=-1, oob_score=False, random_state=None, verbose=0,\n",
      "                       warm_start=False):\n",
      "              precision    recall  f1-score   support\n",
      "\n",
      "           0       0.84      1.00      0.91        98\n",
      "           1       1.00      0.61      0.76        49\n",
      "\n",
      "    accuracy                           0.87       147\n",
      "   macro avg       0.92      0.81      0.84       147\n",
      "weighted avg       0.89      0.87      0.86       147\n",
      "\n",
      "\n",
      "Testing accuracy: 87.07482993197279\n"
     ]
    }
   ],
   "source": [
    "y_pred = rf.predict(X_test)\n",
    "\n",
    "print(\"Classification report for - \\n{}:\\n{}\\n\".format(\n",
    "    rf, metrics.classification_report(y_test, y_pred)))\n",
    "\n",
    "test_acc = metrics.accuracy_score(y_test, y_pred)*100\n",
    "print(\"Testing accuracy: \" + str(test_acc))"
   ]
  },
  {
   "cell_type": "code",
   "execution_count": 58,
   "metadata": {
    "colab": {
     "base_uri": "https://localhost:8080/",
     "height": 296
    },
    "executionInfo": {
     "elapsed": 157150,
     "status": "ok",
     "timestamp": 1611478402167,
     "user": {
      "displayName": "KHONG FAN YI",
      "photoUrl": "",
      "userId": "02416044610109286808"
     },
     "user_tz": -480
    },
    "id": "ZCaafwoIygC1",
    "outputId": "b4e0496a-8840-4b5b-b963-494815d54bee"
   },
   "outputs": [
    {
     "data": {
      "text/plain": [
       "<sklearn.metrics._plot.confusion_matrix.ConfusionMatrixDisplay at 0x7f0827346c50>"
      ]
     },
     "execution_count": 58,
     "metadata": {
      "tags": []
     },
     "output_type": "execute_result"
    },
    {
     "data": {
      "image/png": "[encoded data removed]",
      "text/plain": [
       "<Figure size 432x288 with 2 Axes>"
      ]
     },
     "metadata": {
      "needs_background": "light",
      "tags": []
     },
     "output_type": "display_data"
    }
   ],
   "source": [
    "plot_confusion_matrix(rf, X_test, y_test, cmap='plasma')"
   ]
  },
  {
   "cell_type": "code",
   "execution_count": 59,
   "metadata": {
    "executionInfo": {
     "elapsed": 157138,
     "status": "ok",
     "timestamp": 1611478402170,
     "user": {
      "displayName": "KHONG FAN YI",
      "photoUrl": "",
      "userId": "02416044610109286808"
     },
     "user_tz": -480
    },
    "id": "SNqix4fEygC1"
   },
   "outputs": [],
   "source": [
    "# Get wrongly classified samples\n",
    "def get_wrong_case(pred_result, test_result):\n",
    "    \n",
    "    for i in range(len(pred_result)):\n",
    "        predicted = pred_result[i]\n",
    "        actual = test_result[i]\n",
    "        if(actual != predicted):\n",
    "            wrong_case.append([i,predicted,actual])"
   ]
  },
  {
   "cell_type": "code",
   "execution_count": 83,
   "metadata": {
    "executionInfo": {
     "elapsed": 756,
     "status": "ok",
     "timestamp": 1611478529540,
     "user": {
      "displayName": "KHONG FAN YI",
      "photoUrl": "",
      "userId": "02416044610109286808"
     },
     "user_tz": -480
    },
    "id": "zjAVaEpDygC1"
   },
   "outputs": [],
   "source": [
    "def plot(wrong_case, row, col, gray, labels):\n",
    "    \n",
    "    if (labels == SUBCLASSES):\n",
    "        fsize = 18\n",
    "        top = 5\n",
    "        bottom = 4\n",
    "    else:\n",
    "        fsize = 20\n",
    "        top = 3\n",
    "        bottom = 2.7\n",
    "        \n",
    "    \n",
    "    plt.figure(figsize=(40, 40))\n",
    "    plt.subplots_adjust(top=top, bottom=bottom)\n",
    "    \n",
    "    for i in range(len(wrong_case)):\n",
    "        plt.subplot(row, col, i+1)\n",
    "        plt.xticks([])\n",
    "        plt.yticks([])\n",
    "        plt.grid(False)\n",
    "        title = str(i+1) + '. Predicted: ' + labels[wrong_case[i][1]] + '\\nActual: ' + labels[wrong_case[i][2]]\n",
    "        plt.title(title, fontdict = {'fontsize' : fsize})\n",
    "        plt.imshow(gray[wrong_case[i][0]], cmap='gray')\n",
    "\n",
    "    plt.show()\n",
    "    \n",
    "    print(\"The number of misclassified images: \")\n",
    "    print(len(wrong_case))"
   ]
  },
  {
   "cell_type": "code",
   "execution_count": 77,
   "metadata": {
    "executionInfo": {
     "elapsed": 675,
     "status": "ok",
     "timestamp": 1611478473898,
     "user": {
      "displayName": "KHONG FAN YI",
      "photoUrl": "",
      "userId": "02416044610109286808"
     },
     "user_tz": -480
    },
    "id": "2QZqTzbCygC2"
   },
   "outputs": [],
   "source": [
    "wrong_case = []\n",
    "get_wrong_case(y_pred, y_test)"
   ]
  },
  {
   "cell_type": "markdown",
   "metadata": {
    "id": "Ip_hL0ONygC2"
   },
   "source": [
    "## Second-Level Classification\n",
    "> ### *Classify  'ill' cases into fever (0), sore throat (1) and running nose (2) subclasses*\n",
    "\n"
   ]
  },
  {
   "cell_type": "code",
   "execution_count": 63,
   "metadata": {
    "executionInfo": {
     "elapsed": 161258,
     "status": "ok",
     "timestamp": 1611478406328,
     "user": {
      "displayName": "KHONG FAN YI",
      "photoUrl": "",
      "userId": "02416044610109286808"
     },
     "user_tz": -480
    },
    "id": "56m9pgxfygC2"
   },
   "outputs": [],
   "source": [
    "ill_case_index = []\n",
    "ill_dataset = []"
   ]
  },
  {
   "cell_type": "code",
   "execution_count": 64,
   "metadata": {
    "executionInfo": {
     "elapsed": 161253,
     "status": "ok",
     "timestamp": 1611478406330,
     "user": {
      "displayName": "KHONG FAN YI",
      "photoUrl": "",
      "userId": "02416044610109286808"
     },
     "user_tz": -480
    },
    "id": "qvE2gzLOygC2"
   },
   "outputs": [],
   "source": [
    "# Get the indexes of samples correctly classified as \"ill\"\n",
    "\n",
    "for i, a in enumerate(ill_pred):\n",
    "    if((ill_pred[i] == 1) and (ill_pred[i] == y_train[i]) and (subcls_num[i] != \"None\")):  # 1 = ill, filter out the cases with \"healthy\" true labels\n",
    "        ill_case_index.append(i) # save the indexes of ill cases"
   ]
  },
  {
   "cell_type": "code",
   "execution_count": 65,
   "metadata": {
    "executionInfo": {
     "elapsed": 161251,
     "status": "ok",
     "timestamp": 1611478406333,
     "user": {
      "displayName": "KHONG FAN YI",
      "photoUrl": "",
      "userId": "02416044610109286808"
     },
     "user_tz": -480
    },
    "id": "66IDFWLwygC3"
   },
   "outputs": [],
   "source": [
    "# Create dataset for second-level classification\n",
    "\n",
    "for a in ill_case_index:\n",
    "    ill_dataset.append([X_train[a], subcls_num[a], gray_img1[a]])\n",
    "    \n",
    "ill_dataset = np.array(ill_dataset, dtype=object)"
   ]
  },
  {
   "cell_type": "code",
   "execution_count": 66,
   "metadata": {
    "colab": {
     "base_uri": "https://localhost:8080/"
    },
    "executionInfo": {
     "elapsed": 161247,
     "status": "ok",
     "timestamp": 1611478406336,
     "user": {
      "displayName": "KHONG FAN YI",
      "photoUrl": "",
      "userId": "02416044610109286808"
     },
     "user_tz": -480
    },
    "id": "z0yh_gokygC3",
    "outputId": "e46d398d-cc5c-414b-f64d-618a06883bac",
    "scrolled": true
   },
   "outputs": [
    {
     "name": "stdout",
     "output_type": "stream",
     "text": [
      "Train set length:  291\n",
      "Test set length:  126\n"
     ]
    }
   ],
   "source": [
    "train_ill_set, test_ill_set = train_test_split(ill_dataset, test_size=0.3, shuffle=True)\n",
    "\n",
    "print('Train set length: ', len(train_ill_set))\n",
    "print('Test set length: ', len(test_ill_set))"
   ]
  },
  {
   "cell_type": "code",
   "execution_count": 67,
   "metadata": {
    "colab": {
     "base_uri": "https://localhost:8080/"
    },
    "executionInfo": {
     "elapsed": 161240,
     "status": "ok",
     "timestamp": 1611478406341,
     "user": {
      "displayName": "KHONG FAN YI",
      "photoUrl": "",
      "userId": "02416044610109286808"
     },
     "user_tz": -480
    },
    "id": "MAUo1H7vygC3",
    "outputId": "1ce6f401-d0c8-4991-a82b-0bdcbfeaa2b1"
   },
   "outputs": [
    {
     "name": "stdout",
     "output_type": "stream",
     "text": [
      "(291, 40000)\n",
      "(291,)\n"
     ]
    }
   ],
   "source": [
    "X_train_ill = []\n",
    "y_train_ill = []\n",
    "gray_img_ill1 = []\n",
    "\n",
    "for features, label, gray in train_ill_set:\n",
    "    X_train_ill.append(features)\n",
    "    y_train_ill.append(label)\n",
    "    gray_img_ill1.append(gray)\n",
    "\n",
    "X_train_ill = np.array(X_train_ill).reshape(len(y_train_ill), -1)\n",
    "y_train_ill = np.array(y_train_ill)\n",
    "\n",
    "print(X_train_ill.shape)\n",
    "print(y_train_ill.shape)"
   ]
  },
  {
   "cell_type": "code",
   "execution_count": 68,
   "metadata": {
    "colab": {
     "base_uri": "https://localhost:8080/"
    },
    "executionInfo": {
     "elapsed": 161229,
     "status": "ok",
     "timestamp": 1611478406343,
     "user": {
      "displayName": "KHONG FAN YI",
      "photoUrl": "",
      "userId": "02416044610109286808"
     },
     "user_tz": -480
    },
    "id": "qVW99XF7ygC3",
    "outputId": "f0eff010-e8b3-4a74-cdc2-8eebc4a1cb47",
    "scrolled": false
   },
   "outputs": [
    {
     "name": "stdout",
     "output_type": "stream",
     "text": [
      "(126, 40000)\n",
      "(126,)\n"
     ]
    }
   ],
   "source": [
    "X_test_ill = []\n",
    "y_test_ill = []\n",
    "gray_img_ill2 = []\n",
    "\n",
    "for features, label, gray in test_ill_set:\n",
    "    X_test_ill.append(features)\n",
    "    y_test_ill.append(label)\n",
    "    gray_img_ill2.append(gray)\n",
    "\n",
    "X_test_ill = np.array(X_test_ill).reshape(len(y_test_ill), -1)\n",
    "y_test_ill = np.array(y_test_ill)\n",
    "\n",
    "print(X_test_ill.shape)\n",
    "print(y_test_ill.shape)"
   ]
  },
  {
   "cell_type": "markdown",
   "metadata": {
    "id": "PoeU5DxyygC4"
   },
   "source": [
    "### Train Model"
   ]
  },
  {
   "cell_type": "code",
   "execution_count": 69,
   "metadata": {
    "colab": {
     "base_uri": "https://localhost:8080/"
    },
    "executionInfo": {
     "elapsed": 180266,
     "status": "ok",
     "timestamp": 1611478425393,
     "user": {
      "displayName": "KHONG FAN YI",
      "photoUrl": "",
      "userId": "02416044610109286808"
     },
     "user_tz": -480
    },
    "id": "rqra6YFDygC4",
    "outputId": "5536f269-ade0-4573-d1da-d902fe6b6d84",
    "scrolled": true
   },
   "outputs": [
    {
     "name": "stdout",
     "output_type": "stream",
     "text": [
      "21.11966347694397 seconds\n"
     ]
    }
   ],
   "source": [
    "# Train the classifier\n",
    "\n",
    "rf = RandomForestClassifier(n_estimators=1200,\n",
    "                            n_jobs=-1, \n",
    "                            random_state=None)\n",
    "\n",
    "start_train_ill = time.time()\n",
    "rf.fit(X_train_ill, y_train_ill)\n",
    "end_train_ill = time.time()\n",
    "print(end_train_ill - start_train_ill, \"seconds\")"
   ]
  },
  {
   "cell_type": "markdown",
   "metadata": {
    "id": "swJ8LjgWygC4"
   },
   "source": [
    "#### Training Performance"
   ]
  },
  {
   "cell_type": "code",
   "execution_count": 70,
   "metadata": {
    "colab": {
     "base_uri": "https://localhost:8080/"
    },
    "executionInfo": {
     "elapsed": 180829,
     "status": "ok",
     "timestamp": 1611478425970,
     "user": {
      "displayName": "KHONG FAN YI",
      "photoUrl": "",
      "userId": "02416044610109286808"
     },
     "user_tz": -480
    },
    "id": "3ala_g2bygC5",
    "outputId": "e9e24653-f0f6-48bc-d454-5df434f00c40"
   },
   "outputs": [
    {
     "name": "stdout",
     "output_type": "stream",
     "text": [
      "Classification report for - \n",
      "RandomForestClassifier(bootstrap=True, ccp_alpha=0.0, class_weight=None,\n",
      "                       criterion='gini', max_depth=None, max_features='auto',\n",
      "                       max_leaf_nodes=None, max_samples=None,\n",
      "                       min_impurity_decrease=0.0, min_impurity_split=None,\n",
      "                       min_samples_leaf=1, min_samples_split=2,\n",
      "                       min_weight_fraction_leaf=0.0, n_estimators=1200,\n",
      "                       n_jobs=-1, oob_score=False, random_state=None, verbose=0,\n",
      "                       warm_start=False):\n",
      "              precision    recall  f1-score   support\n",
      "\n",
      "           0       1.00      1.00      1.00        98\n",
      "           1       1.00      1.00      1.00        95\n",
      "           2       1.00      1.00      1.00        98\n",
      "\n",
      "    accuracy                           1.00       291\n",
      "   macro avg       1.00      1.00      1.00       291\n",
      "weighted avg       1.00      1.00      1.00       291\n",
      "\n",
      "\n",
      "Training accuracy: 100.0\n"
     ]
    }
   ],
   "source": [
    "y_pred_ill = rf.predict(X_train_ill)\n",
    "\n",
    "print(\"Classification report for - \\n{}:\\n{}\\n\".format(\n",
    "    rf, metrics.classification_report(y_train_ill, y_pred_ill)))\n",
    "\n",
    "train_ill_acc = metrics.accuracy_score(y_train_ill, y_pred_ill)*100\n",
    "print(\"Training accuracy: \" + str(train_ill_acc))"
   ]
  },
  {
   "cell_type": "code",
   "execution_count": 71,
   "metadata": {
    "colab": {
     "base_uri": "https://localhost:8080/",
     "height": 296
    },
    "executionInfo": {
     "elapsed": 181601,
     "status": "ok",
     "timestamp": 1611478426759,
     "user": {
      "displayName": "KHONG FAN YI",
      "photoUrl": "",
      "userId": "02416044610109286808"
     },
     "user_tz": -480
    },
    "id": "nQxLihzDygC5",
    "outputId": "aeceac13-2299-4764-8bbc-247d7a4eaae9",
    "scrolled": false
   },
   "outputs": [
    {
     "data": {
      "text/plain": [
       "<sklearn.metrics._plot.confusion_matrix.ConfusionMatrixDisplay at 0x7f0844a8d5f8>"
      ]
     },
     "execution_count": 71,
     "metadata": {
      "tags": []
     },
     "output_type": "execute_result"
    },
    {
     "data": {
      "image/png": "[encoded data removed]",
      "text/plain": [
       "<Figure size 432x288 with 2 Axes>"
      ]
     },
     "metadata": {
      "needs_background": "light",
      "tags": []
     },
     "output_type": "display_data"
    }
   ],
   "source": [
    "plot_confusion_matrix(rf, X_train_ill, y_train_ill, cmap='viridis')"
   ]
  },
  {
   "cell_type": "markdown",
   "metadata": {
    "id": "XmCjmxIsygC5"
   },
   "source": [
    "#### Testing Performance"
   ]
  },
  {
   "cell_type": "code",
   "execution_count": 72,
   "metadata": {
    "colab": {
     "base_uri": "https://localhost:8080/"
    },
    "executionInfo": {
     "elapsed": 181592,
     "status": "ok",
     "timestamp": 1611478426762,
     "user": {
      "displayName": "KHONG FAN YI",
      "photoUrl": "",
      "userId": "02416044610109286808"
     },
     "user_tz": -480
    },
    "id": "wrFfZUFuygC5",
    "outputId": "0c15cb94-097d-4fca-fc74-02a40ea77d7b"
   },
   "outputs": [
    {
     "name": "stdout",
     "output_type": "stream",
     "text": [
      "Classification report for - \n",
      "RandomForestClassifier(bootstrap=True, ccp_alpha=0.0, class_weight=None,\n",
      "                       criterion='gini', max_depth=None, max_features='auto',\n",
      "                       max_leaf_nodes=None, max_samples=None,\n",
      "                       min_impurity_decrease=0.0, min_impurity_split=None,\n",
      "                       min_samples_leaf=1, min_samples_split=2,\n",
      "                       min_weight_fraction_leaf=0.0, n_estimators=1200,\n",
      "                       n_jobs=-1, oob_score=False, random_state=None, verbose=0,\n",
      "                       warm_start=False):\n",
      "              precision    recall  f1-score   support\n",
      "\n",
      "           0       0.63      0.62      0.63        42\n",
      "           1       0.84      0.79      0.82        48\n",
      "           2       0.53      0.58      0.55        36\n",
      "\n",
      "    accuracy                           0.67       126\n",
      "   macro avg       0.67      0.66      0.67       126\n",
      "weighted avg       0.68      0.67      0.68       126\n",
      "\n",
      "\n",
      "Testing accuracy: 67.46031746031747\n"
     ]
    }
   ],
   "source": [
    "y_pred_ill = rf.predict(X_test_ill)\n",
    "\n",
    "print(\"Classification report for - \\n{}:\\n{}\\n\".format(\n",
    "    rf, metrics.classification_report(y_test_ill, y_pred_ill)))\n",
    "\n",
    "test_ill_acc = metrics.accuracy_score(y_test_ill, y_pred_ill)*100\n",
    "print(\"Testing accuracy: \" + str(test_ill_acc))"
   ]
  },
  {
   "cell_type": "code",
   "execution_count": 73,
   "metadata": {
    "colab": {
     "base_uri": "https://localhost:8080/",
     "height": 296
    },
    "executionInfo": {
     "elapsed": 182355,
     "status": "ok",
     "timestamp": 1611478427540,
     "user": {
      "displayName": "KHONG FAN YI",
      "photoUrl": "",
      "userId": "02416044610109286808"
     },
     "user_tz": -480
    },
    "id": "A11HC6qsygC5",
    "outputId": "ce40b0c6-b7b2-424d-a8dd-bbeb6d145ca8",
    "scrolled": true
   },
   "outputs": [
    {
     "data": {
      "text/plain": [
       "<sklearn.metrics._plot.confusion_matrix.ConfusionMatrixDisplay at 0x7f0825c5d9b0>"
      ]
     },
     "execution_count": 73,
     "metadata": {
      "tags": []
     },
     "output_type": "execute_result"
    },
    {
     "data": {
      "image/png": "[encoded data removed]",
      "text/plain": [
       "<Figure size 432x288 with 2 Axes>"
      ]
     },
     "metadata": {
      "needs_background": "light",
      "tags": []
     },
     "output_type": "display_data"
    }
   ],
   "source": [
    "plot_confusion_matrix(rf, X_test_ill, y_test_ill, cmap='viridis')"
   ]
  },
  {
   "cell_type": "code",
   "execution_count": 74,
   "metadata": {
    "executionInfo": {
     "elapsed": 182345,
     "status": "ok",
     "timestamp": 1611478427542,
     "user": {
      "displayName": "KHONG FAN YI",
      "photoUrl": "",
      "userId": "02416044610109286808"
     },
     "user_tz": -480
    },
    "id": "xB_jBx2MygC6",
    "scrolled": true
   },
   "outputs": [],
   "source": [
    "wrong_case = []\n",
    "get_wrong_case(y_pred_ill, y_test_ill)"
   ]
  },
  {
   "cell_type": "code",
   "execution_count": 75,
   "metadata": {
    "colab": {
     "base_uri": "https://localhost:8080/",
     "height": 772,
     "output_embedded_package_id": "1oTuB7kOUQSYLQJkZcLhQLTJjYz6u_krf"
    },
    "executionInfo": {
     "elapsed": 189852,
     "status": "ok",
     "timestamp": 1611478435065,
     "user": {
      "displayName": "KHONG FAN YI",
      "photoUrl": "",
      "userId": "02416044610109286808"
     },
     "user_tz": -480
    },
    "id": "7PDTXprvygC6",
    "outputId": "e9dfc916-1407-4995-89fd-4888f3105bb6"
   },
   "outputs": [
    {
     "data": {
      "text/plain": [
       "Output hidden; open in https://colab.research.google.com to view."
      ]
     },
     "metadata": {},
     "output_type": "display_data"
    }
   ],
   "source": [
    "# To visualise misclassified samples\n",
    "col = 9\n",
    "row = len(wrong_case) / col + len(wrong_case) % 9\n",
    "\n",
    "plot(wrong_case, row, col, gray_img_ill2, SUBCLASSES)"
   ]
  }
 ],
 "metadata": {
  "colab": {
   "collapsed_sections": [],
   "name": "Gabor_RF_classification.ipynb",
   "provenance": [],
   "toc_visible": true
  },
  "kernelspec": {
   "display_name": "Python 3",
   "language": "python",
   "name": "python3"
  },
  "language_info": {
   "codemirror_mode": {
    "name": "ipython",
    "version": 3
   },
   "file_extension": ".py",
   "mimetype": "text/x-python",
   "name": "python",
   "nbconvert_exporter": "python",
   "pygments_lexer": "ipython3",
   "version": "3.8.5"
  },
  "widgets": {
   "application/vnd.jupyter.widget-state+json": {
    "03a201e2feca41c999e4bb59cbeb7d58": {
     "model_module": "@jupyter-widgets/controls",
     "model_name": "HTMLModel",
     "state": {
      "_dom_classes": [],
      "_model_module": "@jupyter-widgets/controls",
      "_model_module_version": "1.5.0",
      "_model_name": "HTMLModel",
      "_view_count": null,
      "_view_module": "@jupyter-widgets/controls",
      "_view_module_version": "1.5.0",
      "_view_name": "HTMLView",
      "description": "",
      "description_tooltip": null,
      "layout": "IPY_MODEL_2a1da562ddb74db68fa8a72b60f465ff",
      "placeholder": "​",
      "style": "IPY_MODEL_9d82353bf903452cb8c8ad7dccb03163",
      "value": " 78/78 [01:15&lt;00:00,  1.03it/s]"
     }
    },
    "04eb8ef27b9a4610bcce2ec29807f49d": {
     "model_module": "@jupyter-widgets/controls",
     "model_name": "HTMLModel",
     "state": {
      "_dom_classes": [],
      "_model_module": "@jupyter-widgets/controls",
      "_model_module_version": "1.5.0",
      "_model_name": "HTMLModel",
      "_view_count": null,
      "_view_module": "@jupyter-widgets/controls",
      "_view_module_version": "1.5.0",
      "_view_name": "HTMLView",
      "description": "",
      "description_tooltip": null,
      "layout": "IPY_MODEL_55cd816625ee48c598f68f0f60a85933",
      "placeholder": "​",
      "style": "IPY_MODEL_8c5a0b979e6542c3864197d89c8e2bf1",
      "value": " 1466/1466 [00:47&lt;00:00, 30.57it/s]"
     }
    },
    "08008e80b21d44a8b44a8fa1cdab1386": {
     "model_module": "@jupyter-widgets/controls",
     "model_name": "HTMLModel",
     "state": {
      "_dom_classes": [],
      "_model_module": "@jupyter-widgets/controls",
      "_model_module_version": "1.5.0",
      "_model_name": "HTMLModel",
      "_view_count": null,
      "_view_module": "@jupyter-widgets/controls",
      "_view_module_version": "1.5.0",
      "_view_name": "HTMLView",
      "description": "",
      "description_tooltip": null,
      "layout": "IPY_MODEL_b708018c6f8a41a6aa356614669a40ca",
      "placeholder": "​",
      "style": "IPY_MODEL_5448bf0da0be4ecbb5be4f15cb69325e",
      "value": " 78/78 [00:45&lt;00:00,  1.71it/s]"
     }
    },
    "0a80ef20ef774b888c1b35559920b6dd": {
     "model_module": "@jupyter-widgets/controls",
     "model_name": "DescriptionStyleModel",
     "state": {
      "_model_module": "@jupyter-widgets/controls",
      "_model_module_version": "1.5.0",
      "_model_name": "DescriptionStyleModel",
      "_view_count": null,
      "_view_module": "@jupyter-widgets/base",
      "_view_module_version": "1.2.0",
      "_view_name": "StyleView",
      "description_width": ""
     }
    },
    "0aeca7e1945e469b90ca24d81c2c4133": {
     "model_module": "@jupyter-widgets/base",
     "model_name": "LayoutModel",
     "state": {
      "_model_module": "@jupyter-widgets/base",
      "_model_module_version": "1.2.0",
      "_model_name": "LayoutModel",
      "_view_count": null,
      "_view_module": "@jupyter-widgets/base",
      "_view_module_version": "1.2.0",
      "_view_name": "LayoutView",
      "align_content": null,
      "align_items": null,
      "align_self": null,
      "border": null,
      "bottom": null,
      "display": null,
      "flex": null,
      "flex_flow": null,
      "grid_area": null,
      "grid_auto_columns": null,
      "grid_auto_flow": null,
      "grid_auto_rows": null,
      "grid_column": null,
      "grid_gap": null,
      "grid_row": null,
      "grid_template_areas": null,
      "grid_template_columns": null,
      "grid_template_rows": null,
      "height": null,
      "justify_content": null,
      "justify_items": null,
      "left": null,
      "margin": null,
      "max_height": null,
      "max_width": null,
      "min_height": null,
      "min_width": null,
      "object_fit": null,
      "object_position": null,
      "order": null,
      "overflow": null,
      "overflow_x": null,
      "overflow_y": null,
      "padding": null,
      "right": null,
      "top": null,
      "visibility": null,
      "width": null
     }
    },
    "0af07cd3a63145f88a8d94835cb62a7c": {
     "model_module": "@jupyter-widgets/base",
     "model_name": "LayoutModel",
     "state": {
      "_model_module": "@jupyter-widgets/base",
      "_model_module_version": "1.2.0",
      "_model_name": "LayoutModel",
      "_view_count": null,
      "_view_module": "@jupyter-widgets/base",
      "_view_module_version": "1.2.0",
      "_view_name": "LayoutView",
      "align_content": null,
      "align_items": null,
      "align_self": null,
      "border": null,
      "bottom": null,
      "display": null,
      "flex": null,
      "flex_flow": null,
      "grid_area": null,
      "grid_auto_columns": null,
      "grid_auto_flow": null,
      "grid_auto_rows": null,
      "grid_column": null,
      "grid_gap": null,
      "grid_row": null,
      "grid_template_areas": null,
      "grid_template_columns": null,
      "grid_template_rows": null,
      "height": null,
      "justify_content": null,
      "justify_items": null,
      "left": null,
      "margin": null,
      "max_height": null,
      "max_width": null,
      "min_height": null,
      "min_width": null,
      "object_fit": null,
      "object_position": null,
      "order": null,
      "overflow": null,
      "overflow_x": null,
      "overflow_y": null,
      "padding": null,
      "right": null,
      "top": null,
      "visibility": null,
      "width": null
     }
    },
    "1109440e332a45b98e96bf1feb259436": {
     "model_module": "@jupyter-widgets/controls",
     "model_name": "DescriptionStyleModel",
     "state": {
      "_model_module": "@jupyter-widgets/controls",
      "_model_module_version": "1.5.0",
      "_model_name": "DescriptionStyleModel",
      "_view_count": null,
      "_view_module": "@jupyter-widgets/base",
      "_view_module_version": "1.2.0",
      "_view_name": "StyleView",
      "description_width": ""
     }
    },
    "11babdaa1d81466796aac18dbf8f1c1b": {
     "model_module": "@jupyter-widgets/controls",
     "model_name": "DescriptionStyleModel",
     "state": {
      "_model_module": "@jupyter-widgets/controls",
      "_model_module_version": "1.5.0",
      "_model_name": "DescriptionStyleModel",
      "_view_count": null,
      "_view_module": "@jupyter-widgets/base",
      "_view_module_version": "1.2.0",
      "_view_name": "StyleView",
      "description_width": ""
     }
    },
    "17fca7b7a03b464493632270cd9f61a0": {
     "model_module": "@jupyter-widgets/base",
     "model_name": "LayoutModel",
     "state": {
      "_model_module": "@jupyter-widgets/base",
      "_model_module_version": "1.2.0",
      "_model_name": "LayoutModel",
      "_view_count": null,
      "_view_module": "@jupyter-widgets/base",
      "_view_module_version": "1.2.0",
      "_view_name": "LayoutView",
      "align_content": null,
      "align_items": null,
      "align_self": null,
      "border": null,
      "bottom": null,
      "display": null,
      "flex": null,
      "flex_flow": null,
      "grid_area": null,
      "grid_auto_columns": null,
      "grid_auto_flow": null,
      "grid_auto_rows": null,
      "grid_column": null,
      "grid_gap": null,
      "grid_row": null,
      "grid_template_areas": null,
      "grid_template_columns": null,
      "grid_template_rows": null,
      "height": null,
      "justify_content": null,
      "justify_items": null,
      "left": null,
      "margin": null,
      "max_height": null,
      "max_width": null,
      "min_height": null,
      "min_width": null,
      "object_fit": null,
      "object_position": null,
      "order": null,
      "overflow": null,
      "overflow_x": null,
      "overflow_y": null,
      "padding": null,
      "right": null,
      "top": null,
      "visibility": null,
      "width": null
     }
    },
    "1b8dfbfc6178453d9a634abec5aad163": {
     "model_module": "@jupyter-widgets/controls",
     "model_name": "ProgressStyleModel",
     "state": {
      "_model_module": "@jupyter-widgets/controls",
      "_model_module_version": "1.5.0",
      "_model_name": "ProgressStyleModel",
      "_view_count": null,
      "_view_module": "@jupyter-widgets/base",
      "_view_module_version": "1.2.0",
      "_view_name": "StyleView",
      "bar_color": null,
      "description_width": "initial"
     }
    },
    "1e0a9e5148d7435889d5beb3d19f2f68": {
     "model_module": "@jupyter-widgets/controls",
     "model_name": "ProgressStyleModel",
     "state": {
      "_model_module": "@jupyter-widgets/controls",
      "_model_module_version": "1.5.0",
      "_model_name": "ProgressStyleModel",
      "_view_count": null,
      "_view_module": "@jupyter-widgets/base",
      "_view_module_version": "1.2.0",
      "_view_name": "StyleView",
      "bar_color": null,
      "description_width": "initial"
     }
    },
    "21dcba6d86fb4399a60970d7e43acabe": {
     "model_module": "@jupyter-widgets/base",
     "model_name": "LayoutModel",
     "state": {
      "_model_module": "@jupyter-widgets/base",
      "_model_module_version": "1.2.0",
      "_model_name": "LayoutModel",
      "_view_count": null,
      "_view_module": "@jupyter-widgets/base",
      "_view_module_version": "1.2.0",
      "_view_name": "LayoutView",
      "align_content": null,
      "align_items": null,
      "align_self": null,
      "border": null,
      "bottom": null,
      "display": null,
      "flex": null,
      "flex_flow": null,
      "grid_area": null,
      "grid_auto_columns": null,
      "grid_auto_flow": null,
      "grid_auto_rows": null,
      "grid_column": null,
      "grid_gap": null,
      "grid_row": null,
      "grid_template_areas": null,
      "grid_template_columns": null,
      "grid_template_rows": null,
      "height": null,
      "justify_content": null,
      "justify_items": null,
      "left": null,
      "margin": null,
      "max_height": null,
      "max_width": null,
      "min_height": null,
      "min_width": null,
      "object_fit": null,
      "object_position": null,
      "order": null,
      "overflow": null,
      "overflow_x": null,
      "overflow_y": null,
      "padding": null,
      "right": null,
      "top": null,
      "visibility": null,
      "width": null
     }
    },
    "2a1da562ddb74db68fa8a72b60f465ff": {
     "model_module": "@jupyter-widgets/base",
     "model_name": "LayoutModel",
     "state": {
      "_model_module": "@jupyter-widgets/base",
      "_model_module_version": "1.2.0",
      "_model_name": "LayoutModel",
      "_view_count": null,
      "_view_module": "@jupyter-widgets/base",
      "_view_module_version": "1.2.0",
      "_view_name": "LayoutView",
      "align_content": null,
      "align_items": null,
      "align_self": null,
      "border": null,
      "bottom": null,
      "display": null,
      "flex": null,
      "flex_flow": null,
      "grid_area": null,
      "grid_auto_columns": null,
      "grid_auto_flow": null,
      "grid_auto_rows": null,
      "grid_column": null,
      "grid_gap": null,
      "grid_row": null,
      "grid_template_areas": null,
      "grid_template_columns": null,
      "grid_template_rows": null,
      "height": null,
      "justify_content": null,
      "justify_items": null,
      "left": null,
      "margin": null,
      "max_height": null,
      "max_width": null,
      "min_height": null,
      "min_width": null,
      "object_fit": null,
      "object_position": null,
      "order": null,
      "overflow": null,
      "overflow_x": null,
      "overflow_y": null,
      "padding": null,
      "right": null,
      "top": null,
      "visibility": null,
      "width": null
     }
    },
    "2f9680482d71446d93c8c147ccbc4521": {
     "model_module": "@jupyter-widgets/controls",
     "model_name": "FloatProgressModel",
     "state": {
      "_dom_classes": [],
      "_model_module": "@jupyter-widgets/controls",
      "_model_module_version": "1.5.0",
      "_model_name": "FloatProgressModel",
      "_view_count": null,
      "_view_module": "@jupyter-widgets/controls",
      "_view_module_version": "1.5.0",
      "_view_name": "ProgressView",
      "bar_style": "success",
      "description": "100%",
      "description_tooltip": null,
      "layout": "IPY_MODEL_21dcba6d86fb4399a60970d7e43acabe",
      "max": 500,
      "min": 0,
      "orientation": "horizontal",
      "style": "IPY_MODEL_a6972a66d3aa4d8c91ff71bd4e370e32",
      "value": 500
     }
    },
    "33e9c5741a2943b0a92e529b214d3417": {
     "model_module": "@jupyter-widgets/base",
     "model_name": "LayoutModel",
     "state": {
      "_model_module": "@jupyter-widgets/base",
      "_model_module_version": "1.2.0",
      "_model_name": "LayoutModel",
      "_view_count": null,
      "_view_module": "@jupyter-widgets/base",
      "_view_module_version": "1.2.0",
      "_view_name": "LayoutView",
      "align_content": null,
      "align_items": null,
      "align_self": null,
      "border": null,
      "bottom": null,
      "display": null,
      "flex": null,
      "flex_flow": null,
      "grid_area": null,
      "grid_auto_columns": null,
      "grid_auto_flow": null,
      "grid_auto_rows": null,
      "grid_column": null,
      "grid_gap": null,
      "grid_row": null,
      "grid_template_areas": null,
      "grid_template_columns": null,
      "grid_template_rows": null,
      "height": null,
      "justify_content": null,
      "justify_items": null,
      "left": null,
      "margin": null,
      "max_height": null,
      "max_width": null,
      "min_height": null,
      "min_width": null,
      "object_fit": null,
      "object_position": null,
      "order": null,
      "overflow": null,
      "overflow_x": null,
      "overflow_y": null,
      "padding": null,
      "right": null,
      "top": null,
      "visibility": null,
      "width": null
     }
    },
    "3934b39193e94c9490e3147244903863": {
     "model_module": "@jupyter-widgets/controls",
     "model_name": "ProgressStyleModel",
     "state": {
      "_model_module": "@jupyter-widgets/controls",
      "_model_module_version": "1.5.0",
      "_model_name": "ProgressStyleModel",
      "_view_count": null,
      "_view_module": "@jupyter-widgets/base",
      "_view_module_version": "1.2.0",
      "_view_name": "StyleView",
      "bar_color": null,
      "description_width": "initial"
     }
    },
    "42db55d5650d49b4a87e7db3dc83e333": {
     "model_module": "@jupyter-widgets/controls",
     "model_name": "FloatProgressModel",
     "state": {
      "_dom_classes": [],
      "_model_module": "@jupyter-widgets/controls",
      "_model_module_version": "1.5.0",
      "_model_name": "FloatProgressModel",
      "_view_count": null,
      "_view_module": "@jupyter-widgets/controls",
      "_view_module_version": "1.5.0",
      "_view_name": "ProgressView",
      "bar_style": "success",
      "description": "100%",
      "description_tooltip": null,
      "layout": "IPY_MODEL_54b1616e95144114a1d00fa6be2a9acf",
      "max": 80,
      "min": 0,
      "orientation": "horizontal",
      "style": "IPY_MODEL_3934b39193e94c9490e3147244903863",
      "value": 80
     }
    },
    "43e3354f88db4f4cafb8825dd120f156": {
     "model_module": "@jupyter-widgets/controls",
     "model_name": "HBoxModel",
     "state": {
      "_dom_classes": [],
      "_model_module": "@jupyter-widgets/controls",
      "_model_module_version": "1.5.0",
      "_model_name": "HBoxModel",
      "_view_count": null,
      "_view_module": "@jupyter-widgets/controls",
      "_view_module_version": "1.5.0",
      "_view_name": "HBoxView",
      "box_style": "",
      "children": [
       "IPY_MODEL_998e79894d194cb2b368d836b1670fc9",
       "IPY_MODEL_a8adf24594fc4ce18224698f6ba0f201"
      ],
      "layout": "IPY_MODEL_68147c99ec0b48239e0fdd2f03e8d567"
     }
    },
    "4b4a192aa6f64bfa8a66ad658bb0b679": {
     "model_module": "@jupyter-widgets/base",
     "model_name": "LayoutModel",
     "state": {
      "_model_module": "@jupyter-widgets/base",
      "_model_module_version": "1.2.0",
      "_model_name": "LayoutModel",
      "_view_count": null,
      "_view_module": "@jupyter-widgets/base",
      "_view_module_version": "1.2.0",
      "_view_name": "LayoutView",
      "align_content": null,
      "align_items": null,
      "align_self": null,
      "border": null,
      "bottom": null,
      "display": null,
      "flex": null,
      "flex_flow": null,
      "grid_area": null,
      "grid_auto_columns": null,
      "grid_auto_flow": null,
      "grid_auto_rows": null,
      "grid_column": null,
      "grid_gap": null,
      "grid_row": null,
      "grid_template_areas": null,
      "grid_template_columns": null,
      "grid_template_rows": null,
      "height": null,
      "justify_content": null,
      "justify_items": null,
      "left": null,
      "margin": null,
      "max_height": null,
      "max_width": null,
      "min_height": null,
      "min_width": null,
      "object_fit": null,
      "object_position": null,
      "order": null,
      "overflow": null,
      "overflow_x": null,
      "overflow_y": null,
      "padding": null,
      "right": null,
      "top": null,
      "visibility": null,
      "width": null
     }
    },
    "4e3675b3b2a9455fb88a9ec04560055c": {
     "model_module": "@jupyter-widgets/base",
     "model_name": "LayoutModel",
     "state": {
      "_model_module": "@jupyter-widgets/base",
      "_model_module_version": "1.2.0",
      "_model_name": "LayoutModel",
      "_view_count": null,
      "_view_module": "@jupyter-widgets/base",
      "_view_module_version": "1.2.0",
      "_view_name": "LayoutView",
      "align_content": null,
      "align_items": null,
      "align_self": null,
      "border": null,
      "bottom": null,
      "display": null,
      "flex": null,
      "flex_flow": null,
      "grid_area": null,
      "grid_auto_columns": null,
      "grid_auto_flow": null,
      "grid_auto_rows": null,
      "grid_column": null,
      "grid_gap": null,
      "grid_row": null,
      "grid_template_areas": null,
      "grid_template_columns": null,
      "grid_template_rows": null,
      "height": null,
      "justify_content": null,
      "justify_items": null,
      "left": null,
      "margin": null,
      "max_height": null,
      "max_width": null,
      "min_height": null,
      "min_width": null,
      "object_fit": null,
      "object_position": null,
      "order": null,
      "overflow": null,
      "overflow_x": null,
      "overflow_y": null,
      "padding": null,
      "right": null,
      "top": null,
      "visibility": null,
      "width": null
     }
    },
    "4fe19e035691428e8a33728560bf948d": {
     "model_module": "@jupyter-widgets/base",
     "model_name": "LayoutModel",
     "state": {
      "_model_module": "@jupyter-widgets/base",
      "_model_module_version": "1.2.0",
      "_model_name": "LayoutModel",
      "_view_count": null,
      "_view_module": "@jupyter-widgets/base",
      "_view_module_version": "1.2.0",
      "_view_name": "LayoutView",
      "align_content": null,
      "align_items": null,
      "align_self": null,
      "border": null,
      "bottom": null,
      "display": null,
      "flex": null,
      "flex_flow": null,
      "grid_area": null,
      "grid_auto_columns": null,
      "grid_auto_flow": null,
      "grid_auto_rows": null,
      "grid_column": null,
      "grid_gap": null,
      "grid_row": null,
      "grid_template_areas": null,
      "grid_template_columns": null,
      "grid_template_rows": null,
      "height": null,
      "justify_content": null,
      "justify_items": null,
      "left": null,
      "margin": null,
      "max_height": null,
      "max_width": null,
      "min_height": null,
      "min_width": null,
      "object_fit": null,
      "object_position": null,
      "order": null,
      "overflow": null,
      "overflow_x": null,
      "overflow_y": null,
      "padding": null,
      "right": null,
      "top": null,
      "visibility": null,
      "width": null
     }
    },
    "5349309113a44161ae3998787934f15f": {
     "model_module": "@jupyter-widgets/base",
     "model_name": "LayoutModel",
     "state": {
      "_model_module": "@jupyter-widgets/base",
      "_model_module_version": "1.2.0",
      "_model_name": "LayoutModel",
      "_view_count": null,
      "_view_module": "@jupyter-widgets/base",
      "_view_module_version": "1.2.0",
      "_view_name": "LayoutView",
      "align_content": null,
      "align_items": null,
      "align_self": null,
      "border": null,
      "bottom": null,
      "display": null,
      "flex": null,
      "flex_flow": null,
      "grid_area": null,
      "grid_auto_columns": null,
      "grid_auto_flow": null,
      "grid_auto_rows": null,
      "grid_column": null,
      "grid_gap": null,
      "grid_row": null,
      "grid_template_areas": null,
      "grid_template_columns": null,
      "grid_template_rows": null,
      "height": null,
      "justify_content": null,
      "justify_items": null,
      "left": null,
      "margin": null,
      "max_height": null,
      "max_width": null,
      "min_height": null,
      "min_width": null,
      "object_fit": null,
      "object_position": null,
      "order": null,
      "overflow": null,
      "overflow_x": null,
      "overflow_y": null,
      "padding": null,
      "right": null,
      "top": null,
      "visibility": null,
      "width": null
     }
    },
    "5448bf0da0be4ecbb5be4f15cb69325e": {
     "model_module": "@jupyter-widgets/controls",
     "model_name": "DescriptionStyleModel",
     "state": {
      "_model_module": "@jupyter-widgets/controls",
      "_model_module_version": "1.5.0",
      "_model_name": "DescriptionStyleModel",
      "_view_count": null,
      "_view_module": "@jupyter-widgets/base",
      "_view_module_version": "1.2.0",
      "_view_name": "StyleView",
      "description_width": ""
     }
    },
    "54b1616e95144114a1d00fa6be2a9acf": {
     "model_module": "@jupyter-widgets/base",
     "model_name": "LayoutModel",
     "state": {
      "_model_module": "@jupyter-widgets/base",
      "_model_module_version": "1.2.0",
      "_model_name": "LayoutModel",
      "_view_count": null,
      "_view_module": "@jupyter-widgets/base",
      "_view_module_version": "1.2.0",
      "_view_name": "LayoutView",
      "align_content": null,
      "align_items": null,
      "align_self": null,
      "border": null,
      "bottom": null,
      "display": null,
      "flex": null,
      "flex_flow": null,
      "grid_area": null,
      "grid_auto_columns": null,
      "grid_auto_flow": null,
      "grid_auto_rows": null,
      "grid_column": null,
      "grid_gap": null,
      "grid_row": null,
      "grid_template_areas": null,
      "grid_template_columns": null,
      "grid_template_rows": null,
      "height": null,
      "justify_content": null,
      "justify_items": null,
      "left": null,
      "margin": null,
      "max_height": null,
      "max_width": null,
      "min_height": null,
      "min_width": null,
      "object_fit": null,
      "object_position": null,
      "order": null,
      "overflow": null,
      "overflow_x": null,
      "overflow_y": null,
      "padding": null,
      "right": null,
      "top": null,
      "visibility": null,
      "width": null
     }
    },
    "55cd816625ee48c598f68f0f60a85933": {
     "model_module": "@jupyter-widgets/base",
     "model_name": "LayoutModel",
     "state": {
      "_model_module": "@jupyter-widgets/base",
      "_model_module_version": "1.2.0",
      "_model_name": "LayoutModel",
      "_view_count": null,
      "_view_module": "@jupyter-widgets/base",
      "_view_module_version": "1.2.0",
      "_view_name": "LayoutView",
      "align_content": null,
      "align_items": null,
      "align_self": null,
      "border": null,
      "bottom": null,
      "display": null,
      "flex": null,
      "flex_flow": null,
      "grid_area": null,
      "grid_auto_columns": null,
      "grid_auto_flow": null,
      "grid_auto_rows": null,
      "grid_column": null,
      "grid_gap": null,
      "grid_row": null,
      "grid_template_areas": null,
      "grid_template_columns": null,
      "grid_template_rows": null,
      "height": null,
      "justify_content": null,
      "justify_items": null,
      "left": null,
      "margin": null,
      "max_height": null,
      "max_width": null,
      "min_height": null,
      "min_width": null,
      "object_fit": null,
      "object_position": null,
      "order": null,
      "overflow": null,
      "overflow_x": null,
      "overflow_y": null,
      "padding": null,
      "right": null,
      "top": null,
      "visibility": null,
      "width": null
     }
    },
    "6062538eaf654ba4bb338811b41e7412": {
     "model_module": "@jupyter-widgets/controls",
     "model_name": "FloatProgressModel",
     "state": {
      "_dom_classes": [],
      "_model_module": "@jupyter-widgets/controls",
      "_model_module_version": "1.5.0",
      "_model_name": "FloatProgressModel",
      "_view_count": null,
      "_view_module": "@jupyter-widgets/controls",
      "_view_module_version": "1.5.0",
      "_view_name": "ProgressView",
      "bar_style": "success",
      "description": "100%",
      "description_tooltip": null,
      "layout": "IPY_MODEL_d77ec298cd764e0c9dc9cc79107cfb23",
      "max": 78,
      "min": 0,
      "orientation": "horizontal",
      "style": "IPY_MODEL_da667b78c2e44bb7b28f5a93c34e0938",
      "value": 78
     }
    },
    "637527fff3f24e53ba33fe4b2a8c1247": {
     "model_module": "@jupyter-widgets/controls",
     "model_name": "ProgressStyleModel",
     "state": {
      "_model_module": "@jupyter-widgets/controls",
      "_model_module_version": "1.5.0",
      "_model_name": "ProgressStyleModel",
      "_view_count": null,
      "_view_module": "@jupyter-widgets/base",
      "_view_module_version": "1.2.0",
      "_view_name": "StyleView",
      "bar_color": null,
      "description_width": "initial"
     }
    },
    "6593a224140146dab421c1420b77b2d5": {
     "model_module": "@jupyter-widgets/controls",
     "model_name": "HTMLModel",
     "state": {
      "_dom_classes": [],
      "_model_module": "@jupyter-widgets/controls",
      "_model_module_version": "1.5.0",
      "_model_name": "HTMLModel",
      "_view_count": null,
      "_view_module": "@jupyter-widgets/controls",
      "_view_module_version": "1.5.0",
      "_view_name": "HTMLView",
      "description": "",
      "description_tooltip": null,
      "layout": "IPY_MODEL_4b4a192aa6f64bfa8a66ad658bb0b679",
      "placeholder": "​",
      "style": "IPY_MODEL_de0d4609acf241ca8b98851b45b30248",
      "value": " 80/80 [00:49&lt;00:00,  1.60it/s]"
     }
    },
    "68147c99ec0b48239e0fdd2f03e8d567": {
     "model_module": "@jupyter-widgets/base",
     "model_name": "LayoutModel",
     "state": {
      "_model_module": "@jupyter-widgets/base",
      "_model_module_version": "1.2.0",
      "_model_name": "LayoutModel",
      "_view_count": null,
      "_view_module": "@jupyter-widgets/base",
      "_view_module_version": "1.2.0",
      "_view_name": "LayoutView",
      "align_content": null,
      "align_items": null,
      "align_self": null,
      "border": null,
      "bottom": null,
      "display": null,
      "flex": null,
      "flex_flow": null,
      "grid_area": null,
      "grid_auto_columns": null,
      "grid_auto_flow": null,
      "grid_auto_rows": null,
      "grid_column": null,
      "grid_gap": null,
      "grid_row": null,
      "grid_template_areas": null,
      "grid_template_columns": null,
      "grid_template_rows": null,
      "height": null,
      "justify_content": null,
      "justify_items": null,
      "left": null,
      "margin": null,
      "max_height": null,
      "max_width": null,
      "min_height": null,
      "min_width": null,
      "object_fit": null,
      "object_position": null,
      "order": null,
      "overflow": null,
      "overflow_x": null,
      "overflow_y": null,
      "padding": null,
      "right": null,
      "top": null,
      "visibility": null,
      "width": null
     }
    },
    "692389d23fa447afa43f0afb25f0a38e": {
     "model_module": "@jupyter-widgets/controls",
     "model_name": "HBoxModel",
     "state": {
      "_dom_classes": [],
      "_model_module": "@jupyter-widgets/controls",
      "_model_module_version": "1.5.0",
      "_model_name": "HBoxModel",
      "_view_count": null,
      "_view_module": "@jupyter-widgets/controls",
      "_view_module_version": "1.5.0",
      "_view_name": "HBoxView",
      "box_style": "",
      "children": [
       "IPY_MODEL_2f9680482d71446d93c8c147ccbc4521",
       "IPY_MODEL_ea82af498ef9490b9172327bd83b6406"
      ],
      "layout": "IPY_MODEL_aec9c0816d0b4c83af02b0cc1dfd5e3c"
     }
    },
    "6a9c663529ee4d08a9558c9907dc4dca": {
     "model_module": "@jupyter-widgets/controls",
     "model_name": "HBoxModel",
     "state": {
      "_dom_classes": [],
      "_model_module": "@jupyter-widgets/controls",
      "_model_module_version": "1.5.0",
      "_model_name": "HBoxModel",
      "_view_count": null,
      "_view_module": "@jupyter-widgets/controls",
      "_view_module_version": "1.5.0",
      "_view_name": "HBoxView",
      "box_style": "",
      "children": [
       "IPY_MODEL_75785d6f732146f886c6575955b3e2bc",
       "IPY_MODEL_08008e80b21d44a8b44a8fa1cdab1386"
      ],
      "layout": "IPY_MODEL_ba7302f463744c6cb8ae7fac902d2a90"
     }
    },
    "75785d6f732146f886c6575955b3e2bc": {
     "model_module": "@jupyter-widgets/controls",
     "model_name": "FloatProgressModel",
     "state": {
      "_dom_classes": [],
      "_model_module": "@jupyter-widgets/controls",
      "_model_module_version": "1.5.0",
      "_model_name": "FloatProgressModel",
      "_view_count": null,
      "_view_module": "@jupyter-widgets/controls",
      "_view_module_version": "1.5.0",
      "_view_name": "ProgressView",
      "bar_style": "success",
      "description": "100%",
      "description_tooltip": null,
      "layout": "IPY_MODEL_97dc52744287472a8065cc9306f3c847",
      "max": 78,
      "min": 0,
      "orientation": "horizontal",
      "style": "IPY_MODEL_1e0a9e5148d7435889d5beb3d19f2f68",
      "value": 78
     }
    },
    "7bb95351f4454f89b69d3541428b147b": {
     "model_module": "@jupyter-widgets/controls",
     "model_name": "ProgressStyleModel",
     "state": {
      "_model_module": "@jupyter-widgets/controls",
      "_model_module_version": "1.5.0",
      "_model_name": "ProgressStyleModel",
      "_view_count": null,
      "_view_module": "@jupyter-widgets/base",
      "_view_module_version": "1.2.0",
      "_view_name": "StyleView",
      "bar_color": null,
      "description_width": "initial"
     }
    },
    "7bd4c25cd6a24b1cb683853ae270d8df": {
     "model_module": "@jupyter-widgets/controls",
     "model_name": "FloatProgressModel",
     "state": {
      "_dom_classes": [],
      "_model_module": "@jupyter-widgets/controls",
      "_model_module_version": "1.5.0",
      "_model_name": "FloatProgressModel",
      "_view_count": null,
      "_view_module": "@jupyter-widgets/controls",
      "_view_module_version": "1.5.0",
      "_view_name": "ProgressView",
      "bar_style": "success",
      "description": "100%",
      "description_tooltip": null,
      "layout": "IPY_MODEL_4fe19e035691428e8a33728560bf948d",
      "max": 80,
      "min": 0,
      "orientation": "horizontal",
      "style": "IPY_MODEL_637527fff3f24e53ba33fe4b2a8c1247",
      "value": 80
     }
    },
    "84476ac27f784558b32f22756c4cb119": {
     "model_module": "@jupyter-widgets/controls",
     "model_name": "ProgressStyleModel",
     "state": {
      "_model_module": "@jupyter-widgets/controls",
      "_model_module_version": "1.5.0",
      "_model_name": "ProgressStyleModel",
      "_view_count": null,
      "_view_module": "@jupyter-widgets/base",
      "_view_module_version": "1.2.0",
      "_view_name": "StyleView",
      "bar_color": null,
      "description_width": "initial"
     }
    },
    "87372490d6334b53bfb2caacc95c3272": {
     "model_module": "@jupyter-widgets/base",
     "model_name": "LayoutModel",
     "state": {
      "_model_module": "@jupyter-widgets/base",
      "_model_module_version": "1.2.0",
      "_model_name": "LayoutModel",
      "_view_count": null,
      "_view_module": "@jupyter-widgets/base",
      "_view_module_version": "1.2.0",
      "_view_name": "LayoutView",
      "align_content": null,
      "align_items": null,
      "align_self": null,
      "border": null,
      "bottom": null,
      "display": null,
      "flex": null,
      "flex_flow": null,
      "grid_area": null,
      "grid_auto_columns": null,
      "grid_auto_flow": null,
      "grid_auto_rows": null,
      "grid_column": null,
      "grid_gap": null,
      "grid_row": null,
      "grid_template_areas": null,
      "grid_template_columns": null,
      "grid_template_rows": null,
      "height": null,
      "justify_content": null,
      "justify_items": null,
      "left": null,
      "margin": null,
      "max_height": null,
      "max_width": null,
      "min_height": null,
      "min_width": null,
      "object_fit": null,
      "object_position": null,
      "order": null,
      "overflow": null,
      "overflow_x": null,
      "overflow_y": null,
      "padding": null,
      "right": null,
      "top": null,
      "visibility": null,
      "width": null
     }
    },
    "87e305f983194fd2a9c2ccb0507805ce": {
     "model_module": "@jupyter-widgets/controls",
     "model_name": "HBoxModel",
     "state": {
      "_dom_classes": [],
      "_model_module": "@jupyter-widgets/controls",
      "_model_module_version": "1.5.0",
      "_model_name": "HBoxModel",
      "_view_count": null,
      "_view_module": "@jupyter-widgets/controls",
      "_view_module_version": "1.5.0",
      "_view_name": "HBoxView",
      "box_style": "",
      "children": [
       "IPY_MODEL_42db55d5650d49b4a87e7db3dc83e333",
       "IPY_MODEL_6593a224140146dab421c1420b77b2d5"
      ],
      "layout": "IPY_MODEL_4e3675b3b2a9455fb88a9ec04560055c"
     }
    },
    "8c5a0b979e6542c3864197d89c8e2bf1": {
     "model_module": "@jupyter-widgets/controls",
     "model_name": "DescriptionStyleModel",
     "state": {
      "_model_module": "@jupyter-widgets/controls",
      "_model_module_version": "1.5.0",
      "_model_name": "DescriptionStyleModel",
      "_view_count": null,
      "_view_module": "@jupyter-widgets/base",
      "_view_module_version": "1.2.0",
      "_view_name": "StyleView",
      "description_width": ""
     }
    },
    "97dc52744287472a8065cc9306f3c847": {
     "model_module": "@jupyter-widgets/base",
     "model_name": "LayoutModel",
     "state": {
      "_model_module": "@jupyter-widgets/base",
      "_model_module_version": "1.2.0",
      "_model_name": "LayoutModel",
      "_view_count": null,
      "_view_module": "@jupyter-widgets/base",
      "_view_module_version": "1.2.0",
      "_view_name": "LayoutView",
      "align_content": null,
      "align_items": null,
      "align_self": null,
      "border": null,
      "bottom": null,
      "display": null,
      "flex": null,
      "flex_flow": null,
      "grid_area": null,
      "grid_auto_columns": null,
      "grid_auto_flow": null,
      "grid_auto_rows": null,
      "grid_column": null,
      "grid_gap": null,
      "grid_row": null,
      "grid_template_areas": null,
      "grid_template_columns": null,
      "grid_template_rows": null,
      "height": null,
      "justify_content": null,
      "justify_items": null,
      "left": null,
      "margin": null,
      "max_height": null,
      "max_width": null,
      "min_height": null,
      "min_width": null,
      "object_fit": null,
      "object_position": null,
      "order": null,
      "overflow": null,
      "overflow_x": null,
      "overflow_y": null,
      "padding": null,
      "right": null,
      "top": null,
      "visibility": null,
      "width": null
     }
    },
    "998e79894d194cb2b368d836b1670fc9": {
     "model_module": "@jupyter-widgets/controls",
     "model_name": "FloatProgressModel",
     "state": {
      "_dom_classes": [],
      "_model_module": "@jupyter-widgets/controls",
      "_model_module_version": "1.5.0",
      "_model_name": "FloatProgressModel",
      "_view_count": null,
      "_view_module": "@jupyter-widgets/controls",
      "_view_module_version": "1.5.0",
      "_view_name": "ProgressView",
      "bar_style": "success",
      "description": "100%",
      "description_tooltip": null,
      "layout": "IPY_MODEL_e712a273ca4e4cb58bf61aa0ae9a3581",
      "max": 75,
      "min": 0,
      "orientation": "horizontal",
      "style": "IPY_MODEL_84476ac27f784558b32f22756c4cb119",
      "value": 75
     }
    },
    "9d82353bf903452cb8c8ad7dccb03163": {
     "model_module": "@jupyter-widgets/controls",
     "model_name": "DescriptionStyleModel",
     "state": {
      "_model_module": "@jupyter-widgets/controls",
      "_model_module_version": "1.5.0",
      "_model_name": "DescriptionStyleModel",
      "_view_count": null,
      "_view_module": "@jupyter-widgets/base",
      "_view_module_version": "1.2.0",
      "_view_name": "StyleView",
      "description_width": ""
     }
    },
    "a6972a66d3aa4d8c91ff71bd4e370e32": {
     "model_module": "@jupyter-widgets/controls",
     "model_name": "ProgressStyleModel",
     "state": {
      "_model_module": "@jupyter-widgets/controls",
      "_model_module_version": "1.5.0",
      "_model_name": "ProgressStyleModel",
      "_view_count": null,
      "_view_module": "@jupyter-widgets/base",
      "_view_module_version": "1.2.0",
      "_view_name": "StyleView",
      "bar_color": null,
      "description_width": "initial"
     }
    },
    "a8adf24594fc4ce18224698f6ba0f201": {
     "model_module": "@jupyter-widgets/controls",
     "model_name": "HTMLModel",
     "state": {
      "_dom_classes": [],
      "_model_module": "@jupyter-widgets/controls",
      "_model_module_version": "1.5.0",
      "_model_name": "HTMLModel",
      "_view_count": null,
      "_view_module": "@jupyter-widgets/controls",
      "_view_module_version": "1.5.0",
      "_view_name": "HTMLView",
      "description": "",
      "description_tooltip": null,
      "layout": "IPY_MODEL_5349309113a44161ae3998787934f15f",
      "placeholder": "​",
      "style": "IPY_MODEL_1109440e332a45b98e96bf1feb259436",
      "value": " 75/75 [01:09&lt;00:00,  1.07it/s]"
     }
    },
    "ad03844778734a8d9ca61e257f914889": {
     "model_module": "@jupyter-widgets/controls",
     "model_name": "HBoxModel",
     "state": {
      "_dom_classes": [],
      "_model_module": "@jupyter-widgets/controls",
      "_model_module_version": "1.5.0",
      "_model_name": "HBoxModel",
      "_view_count": null,
      "_view_module": "@jupyter-widgets/controls",
      "_view_module_version": "1.5.0",
      "_view_name": "HBoxView",
      "box_style": "",
      "children": [
       "IPY_MODEL_c822586df9be4458a8c047a889251272",
       "IPY_MODEL_04eb8ef27b9a4610bcce2ec29807f49d"
      ],
      "layout": "IPY_MODEL_87372490d6334b53bfb2caacc95c3272"
     }
    },
    "aec9c0816d0b4c83af02b0cc1dfd5e3c": {
     "model_module": "@jupyter-widgets/base",
     "model_name": "LayoutModel",
     "state": {
      "_model_module": "@jupyter-widgets/base",
      "_model_module_version": "1.2.0",
      "_model_name": "LayoutModel",
      "_view_count": null,
      "_view_module": "@jupyter-widgets/base",
      "_view_module_version": "1.2.0",
      "_view_name": "LayoutView",
      "align_content": null,
      "align_items": null,
      "align_self": null,
      "border": null,
      "bottom": null,
      "display": null,
      "flex": null,
      "flex_flow": null,
      "grid_area": null,
      "grid_auto_columns": null,
      "grid_auto_flow": null,
      "grid_auto_rows": null,
      "grid_column": null,
      "grid_gap": null,
      "grid_row": null,
      "grid_template_areas": null,
      "grid_template_columns": null,
      "grid_template_rows": null,
      "height": null,
      "justify_content": null,
      "justify_items": null,
      "left": null,
      "margin": null,
      "max_height": null,
      "max_width": null,
      "min_height": null,
      "min_width": null,
      "object_fit": null,
      "object_position": null,
      "order": null,
      "overflow": null,
      "overflow_x": null,
      "overflow_y": null,
      "padding": null,
      "right": null,
      "top": null,
      "visibility": null,
      "width": null
     }
    },
    "b538a64dd0f84bf3b6830e6ee43128a7": {
     "model_module": "@jupyter-widgets/base",
     "model_name": "LayoutModel",
     "state": {
      "_model_module": "@jupyter-widgets/base",
      "_model_module_version": "1.2.0",
      "_model_name": "LayoutModel",
      "_view_count": null,
      "_view_module": "@jupyter-widgets/base",
      "_view_module_version": "1.2.0",
      "_view_name": "LayoutView",
      "align_content": null,
      "align_items": null,
      "align_self": null,
      "border": null,
      "bottom": null,
      "display": null,
      "flex": null,
      "flex_flow": null,
      "grid_area": null,
      "grid_auto_columns": null,
      "grid_auto_flow": null,
      "grid_auto_rows": null,
      "grid_column": null,
      "grid_gap": null,
      "grid_row": null,
      "grid_template_areas": null,
      "grid_template_columns": null,
      "grid_template_rows": null,
      "height": null,
      "justify_content": null,
      "justify_items": null,
      "left": null,
      "margin": null,
      "max_height": null,
      "max_width": null,
      "min_height": null,
      "min_width": null,
      "object_fit": null,
      "object_position": null,
      "order": null,
      "overflow": null,
      "overflow_x": null,
      "overflow_y": null,
      "padding": null,
      "right": null,
      "top": null,
      "visibility": null,
      "width": null
     }
    },
    "b708018c6f8a41a6aa356614669a40ca": {
     "model_module": "@jupyter-widgets/base",
     "model_name": "LayoutModel",
     "state": {
      "_model_module": "@jupyter-widgets/base",
      "_model_module_version": "1.2.0",
      "_model_name": "LayoutModel",
      "_view_count": null,
      "_view_module": "@jupyter-widgets/base",
      "_view_module_version": "1.2.0",
      "_view_name": "LayoutView",
      "align_content": null,
      "align_items": null,
      "align_self": null,
      "border": null,
      "bottom": null,
      "display": null,
      "flex": null,
      "flex_flow": null,
      "grid_area": null,
      "grid_auto_columns": null,
      "grid_auto_flow": null,
      "grid_auto_rows": null,
      "grid_column": null,
      "grid_gap": null,
      "grid_row": null,
      "grid_template_areas": null,
      "grid_template_columns": null,
      "grid_template_rows": null,
      "height": null,
      "justify_content": null,
      "justify_items": null,
      "left": null,
      "margin": null,
      "max_height": null,
      "max_width": null,
      "min_height": null,
      "min_width": null,
      "object_fit": null,
      "object_position": null,
      "order": null,
      "overflow": null,
      "overflow_x": null,
      "overflow_y": null,
      "padding": null,
      "right": null,
      "top": null,
      "visibility": null,
      "width": null
     }
    },
    "ba7302f463744c6cb8ae7fac902d2a90": {
     "model_module": "@jupyter-widgets/base",
     "model_name": "LayoutModel",
     "state": {
      "_model_module": "@jupyter-widgets/base",
      "_model_module_version": "1.2.0",
      "_model_name": "LayoutModel",
      "_view_count": null,
      "_view_module": "@jupyter-widgets/base",
      "_view_module_version": "1.2.0",
      "_view_name": "LayoutView",
      "align_content": null,
      "align_items": null,
      "align_self": null,
      "border": null,
      "bottom": null,
      "display": null,
      "flex": null,
      "flex_flow": null,
      "grid_area": null,
      "grid_auto_columns": null,
      "grid_auto_flow": null,
      "grid_auto_rows": null,
      "grid_column": null,
      "grid_gap": null,
      "grid_row": null,
      "grid_template_areas": null,
      "grid_template_columns": null,
      "grid_template_rows": null,
      "height": null,
      "justify_content": null,
      "justify_items": null,
      "left": null,
      "margin": null,
      "max_height": null,
      "max_width": null,
      "min_height": null,
      "min_width": null,
      "object_fit": null,
      "object_position": null,
      "order": null,
      "overflow": null,
      "overflow_x": null,
      "overflow_y": null,
      "padding": null,
      "right": null,
      "top": null,
      "visibility": null,
      "width": null
     }
    },
    "bbdd1620c0e64a37af9b48ce0953897e": {
     "model_module": "@jupyter-widgets/controls",
     "model_name": "HTMLModel",
     "state": {
      "_dom_classes": [],
      "_model_module": "@jupyter-widgets/controls",
      "_model_module_version": "1.5.0",
      "_model_name": "HTMLModel",
      "_view_count": null,
      "_view_module": "@jupyter-widgets/controls",
      "_view_module_version": "1.5.0",
      "_view_name": "HTMLView",
      "description": "",
      "description_tooltip": null,
      "layout": "IPY_MODEL_33e9c5741a2943b0a92e529b214d3417",
      "placeholder": "​",
      "style": "IPY_MODEL_de2ec9b1a34448ee9bc7c947498d5b96",
      "value": " 500/500 [03:16&lt;00:00,  2.54it/s]"
     }
    },
    "be1902371df7412cb98ea3afbc664f4d": {
     "model_module": "@jupyter-widgets/base",
     "model_name": "LayoutModel",
     "state": {
      "_model_module": "@jupyter-widgets/base",
      "_model_module_version": "1.2.0",
      "_model_name": "LayoutModel",
      "_view_count": null,
      "_view_module": "@jupyter-widgets/base",
      "_view_module_version": "1.2.0",
      "_view_name": "LayoutView",
      "align_content": null,
      "align_items": null,
      "align_self": null,
      "border": null,
      "bottom": null,
      "display": null,
      "flex": null,
      "flex_flow": null,
      "grid_area": null,
      "grid_auto_columns": null,
      "grid_auto_flow": null,
      "grid_auto_rows": null,
      "grid_column": null,
      "grid_gap": null,
      "grid_row": null,
      "grid_template_areas": null,
      "grid_template_columns": null,
      "grid_template_rows": null,
      "height": null,
      "justify_content": null,
      "justify_items": null,
      "left": null,
      "margin": null,
      "max_height": null,
      "max_width": null,
      "min_height": null,
      "min_width": null,
      "object_fit": null,
      "object_position": null,
      "order": null,
      "overflow": null,
      "overflow_x": null,
      "overflow_y": null,
      "padding": null,
      "right": null,
      "top": null,
      "visibility": null,
      "width": null
     }
    },
    "bfff801374e147b68358b16b5e542c27": {
     "model_module": "@jupyter-widgets/base",
     "model_name": "LayoutModel",
     "state": {
      "_model_module": "@jupyter-widgets/base",
      "_model_module_version": "1.2.0",
      "_model_name": "LayoutModel",
      "_view_count": null,
      "_view_module": "@jupyter-widgets/base",
      "_view_module_version": "1.2.0",
      "_view_name": "LayoutView",
      "align_content": null,
      "align_items": null,
      "align_self": null,
      "border": null,
      "bottom": null,
      "display": null,
      "flex": null,
      "flex_flow": null,
      "grid_area": null,
      "grid_auto_columns": null,
      "grid_auto_flow": null,
      "grid_auto_rows": null,
      "grid_column": null,
      "grid_gap": null,
      "grid_row": null,
      "grid_template_areas": null,
      "grid_template_columns": null,
      "grid_template_rows": null,
      "height": null,
      "justify_content": null,
      "justify_items": null,
      "left": null,
      "margin": null,
      "max_height": null,
      "max_width": null,
      "min_height": null,
      "min_width": null,
      "object_fit": null,
      "object_position": null,
      "order": null,
      "overflow": null,
      "overflow_x": null,
      "overflow_y": null,
      "padding": null,
      "right": null,
      "top": null,
      "visibility": null,
      "width": null
     }
    },
    "c1a3d9f4cb8d4ba0b25aa43b02905260": {
     "model_module": "@jupyter-widgets/controls",
     "model_name": "HBoxModel",
     "state": {
      "_dom_classes": [],
      "_model_module": "@jupyter-widgets/controls",
      "_model_module_version": "1.5.0",
      "_model_name": "HBoxModel",
      "_view_count": null,
      "_view_module": "@jupyter-widgets/controls",
      "_view_module_version": "1.5.0",
      "_view_name": "HBoxView",
      "box_style": "",
      "children": [
       "IPY_MODEL_ca5e187bce854ee6bc0e53c48d736f9c",
       "IPY_MODEL_bbdd1620c0e64a37af9b48ce0953897e"
      ],
      "layout": "IPY_MODEL_bfff801374e147b68358b16b5e542c27"
     }
    },
    "c822586df9be4458a8c047a889251272": {
     "model_module": "@jupyter-widgets/controls",
     "model_name": "FloatProgressModel",
     "state": {
      "_dom_classes": [],
      "_model_module": "@jupyter-widgets/controls",
      "_model_module_version": "1.5.0",
      "_model_name": "FloatProgressModel",
      "_view_count": null,
      "_view_module": "@jupyter-widgets/controls",
      "_view_module_version": "1.5.0",
      "_view_name": "ProgressView",
      "bar_style": "success",
      "description": "100%",
      "description_tooltip": null,
      "layout": "IPY_MODEL_b538a64dd0f84bf3b6830e6ee43128a7",
      "max": 1466,
      "min": 0,
      "orientation": "horizontal",
      "style": "IPY_MODEL_d3d254f2b905497d8db11ed0f9e116db",
      "value": 1466
     }
    },
    "ca5e187bce854ee6bc0e53c48d736f9c": {
     "model_module": "@jupyter-widgets/controls",
     "model_name": "FloatProgressModel",
     "state": {
      "_dom_classes": [],
      "_model_module": "@jupyter-widgets/controls",
      "_model_module_version": "1.5.0",
      "_model_name": "FloatProgressModel",
      "_view_count": null,
      "_view_module": "@jupyter-widgets/controls",
      "_view_module_version": "1.5.0",
      "_view_name": "ProgressView",
      "bar_style": "success",
      "description": "100%",
      "description_tooltip": null,
      "layout": "IPY_MODEL_be1902371df7412cb98ea3afbc664f4d",
      "max": 500,
      "min": 0,
      "orientation": "horizontal",
      "style": "IPY_MODEL_7bb95351f4454f89b69d3541428b147b",
      "value": 500
     }
    },
    "cdb743e9a90a4f2ab91e21145f9a6319": {
     "model_module": "@jupyter-widgets/controls",
     "model_name": "FloatProgressModel",
     "state": {
      "_dom_classes": [],
      "_model_module": "@jupyter-widgets/controls",
      "_model_module_version": "1.5.0",
      "_model_name": "FloatProgressModel",
      "_view_count": null,
      "_view_module": "@jupyter-widgets/controls",
      "_view_module_version": "1.5.0",
      "_view_name": "ProgressView",
      "bar_style": "success",
      "description": "100%",
      "description_tooltip": null,
      "layout": "IPY_MODEL_0af07cd3a63145f88a8d94835cb62a7c",
      "max": 75,
      "min": 0,
      "orientation": "horizontal",
      "style": "IPY_MODEL_1b8dfbfc6178453d9a634abec5aad163",
      "value": 75
     }
    },
    "ce972b0aa11a4c5f81130f5966c1dbde": {
     "model_module": "@jupyter-widgets/controls",
     "model_name": "HBoxModel",
     "state": {
      "_dom_classes": [],
      "_model_module": "@jupyter-widgets/controls",
      "_model_module_version": "1.5.0",
      "_model_name": "HBoxModel",
      "_view_count": null,
      "_view_module": "@jupyter-widgets/controls",
      "_view_module_version": "1.5.0",
      "_view_name": "HBoxView",
      "box_style": "",
      "children": [
       "IPY_MODEL_cdb743e9a90a4f2ab91e21145f9a6319",
       "IPY_MODEL_d3993bf08623448cb060e220c95e3a98"
      ],
      "layout": "IPY_MODEL_0aeca7e1945e469b90ca24d81c2c4133"
     }
    },
    "d06d626a4d7946c4938be55678d5d174": {
     "model_module": "@jupyter-widgets/controls",
     "model_name": "HBoxModel",
     "state": {
      "_dom_classes": [],
      "_model_module": "@jupyter-widgets/controls",
      "_model_module_version": "1.5.0",
      "_model_name": "HBoxModel",
      "_view_count": null,
      "_view_module": "@jupyter-widgets/controls",
      "_view_module_version": "1.5.0",
      "_view_name": "HBoxView",
      "box_style": "",
      "children": [
       "IPY_MODEL_6062538eaf654ba4bb338811b41e7412",
       "IPY_MODEL_03a201e2feca41c999e4bb59cbeb7d58"
      ],
      "layout": "IPY_MODEL_e5d577f2add74bde98d17bdc5a1f3547"
     }
    },
    "d3993bf08623448cb060e220c95e3a98": {
     "model_module": "@jupyter-widgets/controls",
     "model_name": "HTMLModel",
     "state": {
      "_dom_classes": [],
      "_model_module": "@jupyter-widgets/controls",
      "_model_module_version": "1.5.0",
      "_model_name": "HTMLModel",
      "_view_count": null,
      "_view_module": "@jupyter-widgets/controls",
      "_view_module_version": "1.5.0",
      "_view_name": "HTMLView",
      "description": "",
      "description_tooltip": null,
      "layout": "IPY_MODEL_f6abc2be950b4a8c8bebe95389b01b03",
      "placeholder": "​",
      "style": "IPY_MODEL_0a80ef20ef774b888c1b35559920b6dd",
      "value": " 75/75 [00:24&lt;00:00,  3.12it/s]"
     }
    },
    "d3d254f2b905497d8db11ed0f9e116db": {
     "model_module": "@jupyter-widgets/controls",
     "model_name": "ProgressStyleModel",
     "state": {
      "_model_module": "@jupyter-widgets/controls",
      "_model_module_version": "1.5.0",
      "_model_name": "ProgressStyleModel",
      "_view_count": null,
      "_view_module": "@jupyter-widgets/base",
      "_view_module_version": "1.2.0",
      "_view_name": "StyleView",
      "bar_color": null,
      "description_width": "initial"
     }
    },
    "d77ec298cd764e0c9dc9cc79107cfb23": {
     "model_module": "@jupyter-widgets/base",
     "model_name": "LayoutModel",
     "state": {
      "_model_module": "@jupyter-widgets/base",
      "_model_module_version": "1.2.0",
      "_model_name": "LayoutModel",
      "_view_count": null,
      "_view_module": "@jupyter-widgets/base",
      "_view_module_version": "1.2.0",
      "_view_name": "LayoutView",
      "align_content": null,
      "align_items": null,
      "align_self": null,
      "border": null,
      "bottom": null,
      "display": null,
      "flex": null,
      "flex_flow": null,
      "grid_area": null,
      "grid_auto_columns": null,
      "grid_auto_flow": null,
      "grid_auto_rows": null,
      "grid_column": null,
      "grid_gap": null,
      "grid_row": null,
      "grid_template_areas": null,
      "grid_template_columns": null,
      "grid_template_rows": null,
      "height": null,
      "justify_content": null,
      "justify_items": null,
      "left": null,
      "margin": null,
      "max_height": null,
      "max_width": null,
      "min_height": null,
      "min_width": null,
      "object_fit": null,
      "object_position": null,
      "order": null,
      "overflow": null,
      "overflow_x": null,
      "overflow_y": null,
      "padding": null,
      "right": null,
      "top": null,
      "visibility": null,
      "width": null
     }
    },
    "da667b78c2e44bb7b28f5a93c34e0938": {
     "model_module": "@jupyter-widgets/controls",
     "model_name": "ProgressStyleModel",
     "state": {
      "_model_module": "@jupyter-widgets/controls",
      "_model_module_version": "1.5.0",
      "_model_name": "ProgressStyleModel",
      "_view_count": null,
      "_view_module": "@jupyter-widgets/base",
      "_view_module_version": "1.2.0",
      "_view_name": "StyleView",
      "bar_color": null,
      "description_width": "initial"
     }
    },
    "de0d4609acf241ca8b98851b45b30248": {
     "model_module": "@jupyter-widgets/controls",
     "model_name": "DescriptionStyleModel",
     "state": {
      "_model_module": "@jupyter-widgets/controls",
      "_model_module_version": "1.5.0",
      "_model_name": "DescriptionStyleModel",
      "_view_count": null,
      "_view_module": "@jupyter-widgets/base",
      "_view_module_version": "1.2.0",
      "_view_name": "StyleView",
      "description_width": ""
     }
    },
    "de2ec9b1a34448ee9bc7c947498d5b96": {
     "model_module": "@jupyter-widgets/controls",
     "model_name": "DescriptionStyleModel",
     "state": {
      "_model_module": "@jupyter-widgets/controls",
      "_model_module_version": "1.5.0",
      "_model_name": "DescriptionStyleModel",
      "_view_count": null,
      "_view_module": "@jupyter-widgets/base",
      "_view_module_version": "1.2.0",
      "_view_name": "StyleView",
      "description_width": ""
     }
    },
    "dfe742c45af04a6c99fe7cc14916aa4c": {
     "model_module": "@jupyter-widgets/controls",
     "model_name": "HBoxModel",
     "state": {
      "_dom_classes": [],
      "_model_module": "@jupyter-widgets/controls",
      "_model_module_version": "1.5.0",
      "_model_name": "HBoxModel",
      "_view_count": null,
      "_view_module": "@jupyter-widgets/controls",
      "_view_module_version": "1.5.0",
      "_view_name": "HBoxView",
      "box_style": "",
      "children": [
       "IPY_MODEL_7bd4c25cd6a24b1cb683853ae270d8df",
       "IPY_MODEL_e8e171c08af342e3a6ee9eeb6f97baee"
      ],
      "layout": "IPY_MODEL_f8a825cf0d7741fcbdb187c36ea817a6"
     }
    },
    "e5c3f5ae4b404c32b2b20cd94a053749": {
     "model_module": "@jupyter-widgets/base",
     "model_name": "LayoutModel",
     "state": {
      "_model_module": "@jupyter-widgets/base",
      "_model_module_version": "1.2.0",
      "_model_name": "LayoutModel",
      "_view_count": null,
      "_view_module": "@jupyter-widgets/base",
      "_view_module_version": "1.2.0",
      "_view_name": "LayoutView",
      "align_content": null,
      "align_items": null,
      "align_self": null,
      "border": null,
      "bottom": null,
      "display": null,
      "flex": null,
      "flex_flow": null,
      "grid_area": null,
      "grid_auto_columns": null,
      "grid_auto_flow": null,
      "grid_auto_rows": null,
      "grid_column": null,
      "grid_gap": null,
      "grid_row": null,
      "grid_template_areas": null,
      "grid_template_columns": null,
      "grid_template_rows": null,
      "height": null,
      "justify_content": null,
      "justify_items": null,
      "left": null,
      "margin": null,
      "max_height": null,
      "max_width": null,
      "min_height": null,
      "min_width": null,
      "object_fit": null,
      "object_position": null,
      "order": null,
      "overflow": null,
      "overflow_x": null,
      "overflow_y": null,
      "padding": null,
      "right": null,
      "top": null,
      "visibility": null,
      "width": null
     }
    },
    "e5d577f2add74bde98d17bdc5a1f3547": {
     "model_module": "@jupyter-widgets/base",
     "model_name": "LayoutModel",
     "state": {
      "_model_module": "@jupyter-widgets/base",
      "_model_module_version": "1.2.0",
      "_model_name": "LayoutModel",
      "_view_count": null,
      "_view_module": "@jupyter-widgets/base",
      "_view_module_version": "1.2.0",
      "_view_name": "LayoutView",
      "align_content": null,
      "align_items": null,
      "align_self": null,
      "border": null,
      "bottom": null,
      "display": null,
      "flex": null,
      "flex_flow": null,
      "grid_area": null,
      "grid_auto_columns": null,
      "grid_auto_flow": null,
      "grid_auto_rows": null,
      "grid_column": null,
      "grid_gap": null,
      "grid_row": null,
      "grid_template_areas": null,
      "grid_template_columns": null,
      "grid_template_rows": null,
      "height": null,
      "justify_content": null,
      "justify_items": null,
      "left": null,
      "margin": null,
      "max_height": null,
      "max_width": null,
      "min_height": null,
      "min_width": null,
      "object_fit": null,
      "object_position": null,
      "order": null,
      "overflow": null,
      "overflow_x": null,
      "overflow_y": null,
      "padding": null,
      "right": null,
      "top": null,
      "visibility": null,
      "width": null
     }
    },
    "e712a273ca4e4cb58bf61aa0ae9a3581": {
     "model_module": "@jupyter-widgets/base",
     "model_name": "LayoutModel",
     "state": {
      "_model_module": "@jupyter-widgets/base",
      "_model_module_version": "1.2.0",
      "_model_name": "LayoutModel",
      "_view_count": null,
      "_view_module": "@jupyter-widgets/base",
      "_view_module_version": "1.2.0",
      "_view_name": "LayoutView",
      "align_content": null,
      "align_items": null,
      "align_self": null,
      "border": null,
      "bottom": null,
      "display": null,
      "flex": null,
      "flex_flow": null,
      "grid_area": null,
      "grid_auto_columns": null,
      "grid_auto_flow": null,
      "grid_auto_rows": null,
      "grid_column": null,
      "grid_gap": null,
      "grid_row": null,
      "grid_template_areas": null,
      "grid_template_columns": null,
      "grid_template_rows": null,
      "height": null,
      "justify_content": null,
      "justify_items": null,
      "left": null,
      "margin": null,
      "max_height": null,
      "max_width": null,
      "min_height": null,
      "min_width": null,
      "object_fit": null,
      "object_position": null,
      "order": null,
      "overflow": null,
      "overflow_x": null,
      "overflow_y": null,
      "padding": null,
      "right": null,
      "top": null,
      "visibility": null,
      "width": null
     }
    },
    "e8e171c08af342e3a6ee9eeb6f97baee": {
     "model_module": "@jupyter-widgets/controls",
     "model_name": "HTMLModel",
     "state": {
      "_dom_classes": [],
      "_model_module": "@jupyter-widgets/controls",
      "_model_module_version": "1.5.0",
      "_model_name": "HTMLModel",
      "_view_count": null,
      "_view_module": "@jupyter-widgets/controls",
      "_view_module_version": "1.5.0",
      "_view_name": "HTMLView",
      "description": "",
      "description_tooltip": null,
      "layout": "IPY_MODEL_17fca7b7a03b464493632270cd9f61a0",
      "placeholder": "​",
      "style": "IPY_MODEL_11babdaa1d81466796aac18dbf8f1c1b",
      "value": " 80/80 [00:23&lt;00:00,  3.41it/s]"
     }
    },
    "ea82af498ef9490b9172327bd83b6406": {
     "model_module": "@jupyter-widgets/controls",
     "model_name": "HTMLModel",
     "state": {
      "_dom_classes": [],
      "_model_module": "@jupyter-widgets/controls",
      "_model_module_version": "1.5.0",
      "_model_name": "HTMLModel",
      "_view_count": null,
      "_view_module": "@jupyter-widgets/controls",
      "_view_module_version": "1.5.0",
      "_view_name": "HTMLView",
      "description": "",
      "description_tooltip": null,
      "layout": "IPY_MODEL_e5c3f5ae4b404c32b2b20cd94a053749",
      "placeholder": "​",
      "style": "IPY_MODEL_ff151f04c23243f8bdfb7346085c0480",
      "value": " 500/500 [07:59&lt;00:00,  1.04it/s]"
     }
    },
    "f6abc2be950b4a8c8bebe95389b01b03": {
     "model_module": "@jupyter-widgets/base",
     "model_name": "LayoutModel",
     "state": {
      "_model_module": "@jupyter-widgets/base",
      "_model_module_version": "1.2.0",
      "_model_name": "LayoutModel",
      "_view_count": null,
      "_view_module": "@jupyter-widgets/base",
      "_view_module_version": "1.2.0",
      "_view_name": "LayoutView",
      "align_content": null,
      "align_items": null,
      "align_self": null,
      "border": null,
      "bottom": null,
      "display": null,
      "flex": null,
      "flex_flow": null,
      "grid_area": null,
      "grid_auto_columns": null,
      "grid_auto_flow": null,
      "grid_auto_rows": null,
      "grid_column": null,
      "grid_gap": null,
      "grid_row": null,
      "grid_template_areas": null,
      "grid_template_columns": null,
      "grid_template_rows": null,
      "height": null,
      "justify_content": null,
      "justify_items": null,
      "left": null,
      "margin": null,
      "max_height": null,
      "max_width": null,
      "min_height": null,
      "min_width": null,
      "object_fit": null,
      "object_position": null,
      "order": null,
      "overflow": null,
      "overflow_x": null,
      "overflow_y": null,
      "padding": null,
      "right": null,
      "top": null,
      "visibility": null,
      "width": null
     }
    },
    "f8a825cf0d7741fcbdb187c36ea817a6": {
     "model_module": "@jupyter-widgets/base",
     "model_name": "LayoutModel",
     "state": {
      "_model_module": "@jupyter-widgets/base",
      "_model_module_version": "1.2.0",
      "_model_name": "LayoutModel",
      "_view_count": null,
      "_view_module": "@jupyter-widgets/base",
      "_view_module_version": "1.2.0",
      "_view_name": "LayoutView",
      "align_content": null,
      "align_items": null,
      "align_self": null,
      "border": null,
      "bottom": null,
      "display": null,
      "flex": null,
      "flex_flow": null,
      "grid_area": null,
      "grid_auto_columns": null,
      "grid_auto_flow": null,
      "grid_auto_rows": null,
      "grid_column": null,
      "grid_gap": null,
      "grid_row": null,
      "grid_template_areas": null,
      "grid_template_columns": null,
      "grid_template_rows": null,
      "height": null,
      "justify_content": null,
      "justify_items": null,
      "left": null,
      "margin": null,
      "max_height": null,
      "max_width": null,
      "min_height": null,
      "min_width": null,
      "object_fit": null,
      "object_position": null,
      "order": null,
      "overflow": null,
      "overflow_x": null,
      "overflow_y": null,
      "padding": null,
      "right": null,
      "top": null,
      "visibility": null,
      "width": null
     }
    },
    "ff151f04c23243f8bdfb7346085c0480": {
     "model_module": "@jupyter-widgets/controls",
     "model_name": "DescriptionStyleModel",
     "state": {
      "_model_module": "@jupyter-widgets/controls",
      "_model_module_version": "1.5.0",
      "_model_name": "DescriptionStyleModel",
      "_view_count": null,
      "_view_module": "@jupyter-widgets/base",
      "_view_module_version": "1.2.0",
      "_view_name": "StyleView",
      "description_width": ""
     }
    }
   }
  }
 },
 "nbformat": 4,
 "nbformat_minor": 1
}
