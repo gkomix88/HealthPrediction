{
 "cells": [
  {
   "cell_type": "code",
   "execution_count": null,
   "metadata": {
    "colab": {
     "base_uri": "https://localhost:8080/"
    },
    "executionInfo": {
     "elapsed": 1119,
     "status": "ok",
     "timestamp": 1611412375886,
     "user": {
      "displayName": "KHONG FAN YI",
      "photoUrl": "",
      "userId": "02416044610109286808"
     },
     "user_tz": -480
    },
    "id": "2usGK3TYMbsr",
    "outputId": "386945da-44ff-4a59-92f4-2db85fcf05b7"
   },
   "outputs": [
    {
     "name": "stdout",
     "output_type": "stream",
     "text": [
      "Drive already mounted at /content/drive; to attempt to forcibly remount, call drive.mount(\"/content/drive\", force_remount=True).\n"
     ]
    }
   ],
   "source": [
    "from google.colab import drive\n",
    "drive.mount('/content/drive')"
   ]
  },
  {
   "cell_type": "markdown",
   "metadata": {
    "id": "iqI5L27rHjAg"
   },
   "source": [
    "##Import Packages"
   ]
  },
  {
   "cell_type": "code",
   "execution_count": null,
   "metadata": {
    "id": "p5f5yyHCKV6D"
   },
   "outputs": [],
   "source": [
    "import time\n",
    "import numpy as np\n",
    "import os\n",
    "import cv2\n",
    "import random\n",
    "import pickle\n",
    "import matplotlib.pyplot as plt\n",
    "import sklearn.metrics as metrics\n",
    "from tqdm.notebook import tqdm\n",
    "from sklearn.model_selection import train_test_split\n",
    "from sklearn.svm import SVC, LinearSVC\n",
    "from sklearn.metrics import plot_confusion_matrix\n",
    "from sklearn.preprocessing import StandardScaler"
   ]
  },
  {
   "cell_type": "markdown",
   "metadata": {
    "id": "ciqkz1NoIE9L"
   },
   "source": [
    "##Load Dataset"
   ]
  },
  {
   "cell_type": "code",
   "execution_count": null,
   "metadata": {
    "id": "Rqd8054Idd7z"
   },
   "outputs": [],
   "source": [
    "# Define labels of the classes and subclasses\n",
    "\n",
    "CLASSES = [\"healthy\", \"ill\"]\n",
    "SUBCLASSES = [\"fever\", \"sore throat\", \"running nose\"]"
   ]
  },
  {
   "cell_type": "code",
   "execution_count": null,
   "metadata": {
    "colab": {
     "base_uri": "https://localhost:8080/",
     "height": 215,
     "referenced_widgets": [
      "f8107d2926f449b8b2edd96ce5dd1d9a",
      "faad0f2653794e35aa1213a8b47d839e",
      "e143b506cdce4e5398829eb4eebf5044",
      "ccc4fc5ab3354ba8a385e29f38a78c52",
      "41ab8a9972834e51a9e931789d603e00",
      "a6f2e298fa364b36b93ab6c3b2aa9629",
      "207d62c1d47c412bb33e12d845f6e7b5",
      "b795a5a09d3b42be838a8f57b85ee355",
      "51d77813f12a45ff9fab95c7b1892574",
      "26442589ed9d4e0abfdcab6b5f578c1b",
      "72a493b7ee4545a48ef39f3b6d756336",
      "efe43a41ad294a5286af25b508b17b99",
      "a7c5eb8916f84e9085f298916047a3e5",
      "1120ed1b797c4e3f873b4f9bfc00b1c3",
      "81cc333e21fd457d98f63339f1d11335",
      "b644a7c4423447a19916ad8d470be80f",
      "1936eab6c7be4f11a991a7da069a814d",
      "4e1dc07fdc764b7f97145cc859012f47",
      "eaa73feffe534b92bbb00b531e6bbc71",
      "1b3135e5f21a4d84b2a25f06647c722c",
      "451261e26fa3444fb7addb13056a6403",
      "4e509f7556d6426a8769d1848d44fcf0",
      "072c83edbd3b4a73b7609b8b874506ed",
      "624791321d8b45f890cc1f9b5429a346",
      "83ac032741174687849a8059e65e1bba",
      "e15c6075974642d595cbb7e840f77ee3",
      "1b145225e2924f5291c8f01273fa7f23",
      "f9010150c6d846aa9d5122eef0908d96",
      "19b125d9123e4da6bc027ef930a2c58d",
      "c38de644cbfb465bb574a6ae6f878226",
      "1db658029dc8455a8c3948df53efe721",
      "5047bfd2462b4898ad1e3f1e0a6728a8"
     ]
    },
    "executionInfo": {
     "elapsed": 5539,
     "status": "ok",
     "timestamp": 1611412380343,
     "user": {
      "displayName": "KHONG FAN YI",
      "photoUrl": "",
      "userId": "02416044610109286808"
     },
     "user_tz": -480
    },
    "id": "azh7MJDPcS9u",
    "outputId": "121aabd5-0e18-4bc2-c2e2-7cbd2bba5851",
    "scrolled": true
   },
   "outputs": [
    {
     "data": {
      "application/vnd.jupyter.widget-view+json": {
       "model_id": "f8107d2926f449b8b2edd96ce5dd1d9a",
       "version_major": 2,
       "version_minor": 0
      },
      "text/plain": [
       "HBox(children=(FloatProgress(value=0.0, max=500.0), HTML(value='')))"
      ]
     },
     "metadata": {
      "tags": []
     },
     "output_type": "display_data"
    },
    {
     "name": "stdout",
     "output_type": "stream",
     "text": [
      "\n"
     ]
    },
    {
     "data": {
      "application/vnd.jupyter.widget-view+json": {
       "model_id": "51d77813f12a45ff9fab95c7b1892574",
       "version_major": 2,
       "version_minor": 0
      },
      "text/plain": [
       "HBox(children=(FloatProgress(value=0.0, max=78.0), HTML(value='')))"
      ]
     },
     "metadata": {
      "tags": []
     },
     "output_type": "display_data"
    },
    {
     "name": "stdout",
     "output_type": "stream",
     "text": [
      "\n"
     ]
    },
    {
     "data": {
      "application/vnd.jupyter.widget-view+json": {
       "model_id": "1936eab6c7be4f11a991a7da069a814d",
       "version_major": 2,
       "version_minor": 0
      },
      "text/plain": [
       "HBox(children=(FloatProgress(value=0.0, max=80.0), HTML(value='')))"
      ]
     },
     "metadata": {
      "tags": []
     },
     "output_type": "display_data"
    },
    {
     "name": "stdout",
     "output_type": "stream",
     "text": [
      "\n"
     ]
    },
    {
     "data": {
      "application/vnd.jupyter.widget-view+json": {
       "model_id": "83ac032741174687849a8059e65e1bba",
       "version_major": 2,
       "version_minor": 0
      },
      "text/plain": [
       "HBox(children=(FloatProgress(value=0.0, max=75.0), HTML(value='')))"
      ]
     },
     "metadata": {
      "tags": []
     },
     "output_type": "display_data"
    },
    {
     "name": "stdout",
     "output_type": "stream",
     "text": [
      "\n"
     ]
    }
   ],
   "source": [
    "folder = \"/content/drive/MyDrive/FYP/dataset\"\n",
    "img_array = []\n",
    "class_num_list1 = []\n",
    "subcls_num_list1 = [\"None\"]*500   # fill the list with 500 \"None's\" first to represent \"healthy\" samples\n",
    "\n",
    "for c in CLASSES: \n",
    "        \n",
    "    if (c == \"healthy\"):\n",
    "        path = os.path.join(folder,c)  # create path to dataset folder\n",
    "        class_num = 0  # get the CLASSES index, 0 = healthy, 1 = ill\n",
    "        for img in tqdm(os.listdir(path)):  # iterate over each image per folder\n",
    "            try:\n",
    "                img = cv2.imread(os.path.join(path,img))  # read image into a list \n",
    "                img_array.append(img)\n",
    "                class_num_list1.append(class_num) # save a list of the class numbers\n",
    "            except Exception as e: \n",
    "                print(\"error\")\n",
    "                \n",
    "    elif (c == \"ill\"):\n",
    "        for s in SUBCLASSES:\n",
    "            path = os.path.join(folder,c,s) # create path to ill subfolders \n",
    "            class_num = 1\n",
    "            subclass_num = SUBCLASSES.index(s)\n",
    "            for img in tqdm(os.listdir(path)):  # iterate over each image per folder\n",
    "                try:\n",
    "                    img = cv2.imread(os.path.join(path,img))  # read image into a list\n",
    "                    img_array.append(img)\n",
    "                    class_num_list1.append(class_num) \n",
    "                    subcls_num_list1.append(subclass_num) # save a list of the subclass numbers; 0 = fever, 1 = sore throat, 2 = running nose\n",
    "                except Exception as e: \n",
    "                    print(\"error\")"
   ]
  },
  {
   "cell_type": "code",
   "execution_count": null,
   "metadata": {
    "colab": {
     "base_uri": "https://localhost:8080/",
     "height": 215,
     "referenced_widgets": [
      "f7c088237ad74acabbf7d9a3641b1385",
      "497334f8508149cd9f8aa41b3e169e91",
      "7c312e7831ac48a3823384127bb6ea3c",
      "b52e8954d0d04a99aa7b7b8b7f48bd9b",
      "5ba71df540f840a6bb3d216d79b5172f",
      "840d5c032f184e658b02b7de82cd53bf",
      "30e67f6fc6824f068777ab52f6725136",
      "e14a1b3291dd47198b8432dc9db1c0dd",
      "9ce1902277f5433aa0e153973f33278e",
      "236f7d11b0eb4dd6bc6660f895356720",
      "c4c15118d1f84009ae0bdc9c91e18351",
      "d893492ec29442c0b846ad5bdfbd34e1",
      "36dec592b3da47d3a5e23ac5b81ac538",
      "25e6e1c280bd45dca9e8a8840697e910",
      "b83496a1f9034864b57a3ee33c17d527",
      "8b783a6ec5094ccf88539757a393fa96",
      "61a32e5219284f48b209b6f43a5f2571",
      "6f99e95476d64b25b935f8c552183b5e",
      "f1416fcd090a406ebad072577dcaa5d6",
      "c598060b168b4768b8928420fe80580b",
      "1f0b0b2d3d6342dc84677365f233844b",
      "15861565c7c84a92a73da10d7f7bc7a1",
      "09b25c385dc043e28369caa91d80634a",
      "db0c424ae15a4d8f923b7e850bf84778",
      "d20c88da34364992b3004c0500e504d0",
      "83a6c18a6e6048909044704b2cfa7392",
      "bc5e684676ae4e03bb43e645dcf3bcf4",
      "11507176d8134d0e9da3c6c5175db569",
      "5b18040e4f974906ae0701baa7bdcd7a",
      "d30c7f1d07a746e29020ad6ec47f2682",
      "a4d8ae4d7a694f76b2d0817c888848f7",
      "31bc858213c24653b2b1762dddc197b2"
     ]
    },
    "executionInfo": {
     "elapsed": 8380,
     "status": "ok",
     "timestamp": 1611412383211,
     "user": {
      "displayName": "KHONG FAN YI",
      "photoUrl": "",
      "userId": "02416044610109286808"
     },
     "user_tz": -480
    },
    "id": "Auf0PEu2cS9x",
    "outputId": "d2f858e7-c0e8-4ffb-9d42-1ca42e187389"
   },
   "outputs": [
    {
     "data": {
      "application/vnd.jupyter.widget-view+json": {
       "model_id": "f7c088237ad74acabbf7d9a3641b1385",
       "version_major": 2,
       "version_minor": 0
      },
      "text/plain": [
       "HBox(children=(FloatProgress(value=0.0, max=500.0), HTML(value='')))"
      ]
     },
     "metadata": {
      "tags": []
     },
     "output_type": "display_data"
    },
    {
     "name": "stdout",
     "output_type": "stream",
     "text": [
      "\n"
     ]
    },
    {
     "data": {
      "application/vnd.jupyter.widget-view+json": {
       "model_id": "9ce1902277f5433aa0e153973f33278e",
       "version_major": 2,
       "version_minor": 0
      },
      "text/plain": [
       "HBox(children=(FloatProgress(value=0.0, max=78.0), HTML(value='')))"
      ]
     },
     "metadata": {
      "tags": []
     },
     "output_type": "display_data"
    },
    {
     "name": "stdout",
     "output_type": "stream",
     "text": [
      "\n"
     ]
    },
    {
     "data": {
      "application/vnd.jupyter.widget-view+json": {
       "model_id": "61a32e5219284f48b209b6f43a5f2571",
       "version_major": 2,
       "version_minor": 0
      },
      "text/plain": [
       "HBox(children=(FloatProgress(value=0.0, max=80.0), HTML(value='')))"
      ]
     },
     "metadata": {
      "tags": []
     },
     "output_type": "display_data"
    },
    {
     "name": "stdout",
     "output_type": "stream",
     "text": [
      "\n"
     ]
    },
    {
     "data": {
      "application/vnd.jupyter.widget-view+json": {
       "model_id": "d20c88da34364992b3004c0500e504d0",
       "version_major": 2,
       "version_minor": 0
      },
      "text/plain": [
       "HBox(children=(FloatProgress(value=0.0, max=75.0), HTML(value='')))"
      ]
     },
     "metadata": {
      "tags": []
     },
     "output_type": "display_data"
    },
    {
     "name": "stdout",
     "output_type": "stream",
     "text": [
      "\n"
     ]
    }
   ],
   "source": [
    "folder_aug = \"/content/drive/MyDrive/FYP/augmented images\"\n",
    "aug_array = []\n",
    "class_num_list2 = []\n",
    "subcls_num_list2 = [\"None\"]*500 # fill the list with 500 \"None's\" first to represent \"healthy\" samples\n",
    "\n",
    "for c in CLASSES: \n",
    "        \n",
    "    if (c == \"healthy\"):\n",
    "        path = os.path.join(folder_aug,c)  # create path to dataset folder_aug\n",
    "        class_num = 0  # get the CLASSES index, 0 = healthy, 1 = ill\n",
    "        for img in tqdm(os.listdir(path)):  # iterate over each image per folder_aug\n",
    "            try:\n",
    "                img = cv2.imread(os.path.join(path,img))  # read image into a list \n",
    "                aug_array.append(img)\n",
    "                class_num_list2.append(class_num) # save a list of the class numbers\n",
    "            except Exception as e: \n",
    "                print(\"error\")\n",
    "                \n",
    "    elif (c == \"ill\"):\n",
    "        for s in SUBCLASSES:\n",
    "            path = os.path.join(folder_aug,c,s) # create path to ill subfolder_augs \n",
    "            class_num = 1\n",
    "            subclass_num = SUBCLASSES.index(s)\n",
    "            for img in tqdm(os.listdir(path)):  # iterate over each image per folder_aug\n",
    "                try:\n",
    "                    img = cv2.imread(os.path.join(path,img))  # read image into a list\n",
    "                    aug_array.append(img)\n",
    "                    class_num_list2.append(class_num) \n",
    "                    subcls_num_list2.append(subclass_num) # save a list of the subclass numbers; 0 = fever, 1 = sore throat, 2 = running nose\n",
    "                except Exception as e: \n",
    "                    print(\"error\")"
   ]
  },
  {
   "cell_type": "code",
   "execution_count": null,
   "metadata": {
    "colab": {
     "base_uri": "https://localhost:8080/"
    },
    "executionInfo": {
     "elapsed": 8370,
     "status": "ok",
     "timestamp": 1611412383215,
     "user": {
      "displayName": "KHONG FAN YI",
      "photoUrl": "",
      "userId": "02416044610109286808"
     },
     "user_tz": -480
    },
    "id": "RfqWsTGIKV6S",
    "outputId": "1ec21467-aebb-4abf-be5c-89719a03b211"
   },
   "outputs": [
    {
     "name": "stdout",
     "output_type": "stream",
     "text": [
      "1466\n"
     ]
    }
   ],
   "source": [
    "# Combine the original and augmented images into a new list\n",
    "\n",
    "all_imgs = []\n",
    "\n",
    "all_imgs = img_array.copy()\n",
    "\n",
    "for i, img in enumerate(aug_array):\n",
    "    all_imgs.append(img)\n",
    "\n",
    "print(len(all_imgs))"
   ]
  },
  {
   "cell_type": "markdown",
   "metadata": {
    "id": "-IK1KAsRF0ou"
   },
   "source": [
    "## Feature Extraction"
   ]
  },
  {
   "cell_type": "code",
   "execution_count": null,
   "metadata": {
    "id": "adzcQf6RKV6T"
   },
   "outputs": [],
   "source": [
    "# Apply Gabor filter to extract features\n",
    "def build_filters():\n",
    "    filters = []\n",
    "    ksize = 31\n",
    "    for theta in np.arange(0, np.pi, np.pi / 16):\n",
    "        kern = cv2.getGaborKernel((ksize, ksize), 4.0, theta, 10.0, 0.5, 0, ktype=cv2.CV_32F)\n",
    "        kern /= 1.5*kern.sum()\n",
    "        filters.append(kern)\n",
    "    return filters\n",
    " \n",
    "def process(img, filters):\n",
    "    accum = np.zeros_like(img)\n",
    "    for kern in filters:\n",
    "        fimg = cv2.filter2D(img, cv2.CV_8UC3, kern)\n",
    "        np.maximum(accum, fimg, accum)\n",
    "    return accum"
   ]
  },
  {
   "cell_type": "code",
   "execution_count": null,
   "metadata": {
    "colab": {
     "base_uri": "https://localhost:8080/",
     "height": 66,
     "referenced_widgets": [
      "64ceace6220a4e2a86178da7c7367d66",
      "bece79bb94e2414f82cdc66041319379",
      "0be4d505955d43a38b41db0e572507c0",
      "fee9e3b7c74741ad90b95f46cf1c5b92",
      "327e6c8997904ef0be1081aa5b668a6c",
      "755d3fedb5c84d619a1475278d58d654",
      "00ad1e94c3f141ddae43a08f59235b82",
      "559f43a862f7432395082a98e5bab868"
     ]
    },
    "executionInfo": {
     "elapsed": 55769,
     "status": "ok",
     "timestamp": 1611412430638,
     "user": {
      "displayName": "KHONG FAN YI",
      "photoUrl": "",
      "userId": "02416044610109286808"
     },
     "user_tz": -480
    },
    "id": "qAlT78VsKV6T",
    "outputId": "186fda33-1c6c-44a9-b8bc-13c7f483fc01"
   },
   "outputs": [
    {
     "data": {
      "application/vnd.jupyter.widget-view+json": {
       "model_id": "64ceace6220a4e2a86178da7c7367d66",
       "version_major": 2,
       "version_minor": 0
      },
      "text/plain": [
       "HBox(children=(FloatProgress(value=0.0, max=1466.0), HTML(value='')))"
      ]
     },
     "metadata": {
      "tags": []
     },
     "output_type": "display_data"
    },
    {
     "name": "stdout",
     "output_type": "stream",
     "text": [
      "\n"
     ]
    }
   ],
   "source": [
    "# Extract all features from the whole dataset\n",
    "\n",
    "all_gab_features = []\n",
    "\n",
    "for img in tqdm(all_imgs):\n",
    "    img = cv2.cvtColor(img, cv2.COLOR_BGR2GRAY) # convert color image to grayscale\n",
    "    filters = build_filters()\n",
    "    extracted = process(img, filters)\n",
    "    all_gab_features.append(extracted)"
   ]
  },
  {
   "cell_type": "code",
   "execution_count": null,
   "metadata": {
    "colab": {
     "base_uri": "https://localhost:8080/"
    },
    "executionInfo": {
     "elapsed": 55766,
     "status": "ok",
     "timestamp": 1611412430641,
     "user": {
      "displayName": "KHONG FAN YI",
      "photoUrl": "",
      "userId": "02416044610109286808"
     },
     "user_tz": -480
    },
    "id": "vxjyJL_cKV6U",
    "outputId": "ad2b4b8e-92ee-4243-fa73-a06b8641af5c"
   },
   "outputs": [
    {
     "name": "stdout",
     "output_type": "stream",
     "text": [
      "733\n",
      "733\n"
     ]
    }
   ],
   "source": [
    "# Separate the features of augmented images from original images\n",
    "# to prevent information leakage during splitting \n",
    "\n",
    "aug_gab_features = []\n",
    "gab_features = []\n",
    "\n",
    "for j in range(len(all_gab_features)):\n",
    "    if(j >= 733):\n",
    "        aug_gab_features.append(all_gab_features[j])\n",
    "    else:\n",
    "        gab_features.append(all_gab_features[j])\n",
    "\n",
    "print(len(gab_features))\n",
    "print(len(aug_gab_features))"
   ]
  },
  {
   "cell_type": "markdown",
   "metadata": {
    "id": "7J5IOQKAygCo"
   },
   "source": [
    "## First-Level Classification\n",
    "> ### *Classify samples into healthy (0) and ill (1) classes*\n"
   ]
  },
  {
   "cell_type": "code",
   "execution_count": null,
   "metadata": {
    "id": "WEkhJEdcygCu"
   },
   "outputs": [],
   "source": [
    "# Create partial dataset with features of original images (will add in the augmented set after spliting)\n",
    "dataset = []\n",
    "\n",
    "for i, features in enumerate(gab_features):  \n",
    "    try:\n",
    "        img_gray = cv2.cvtColor(img_array[i], cv2.COLOR_BGR2GRAY)\n",
    "        dataset.append([features, class_num_list1[i], subcls_num_list1[i], img_gray])\n",
    "    except Exception as e: \n",
    "        print(\"error\")"
   ]
  },
  {
   "cell_type": "code",
   "execution_count": null,
   "metadata": {
    "id": "z-b6W-qBygCv"
   },
   "outputs": [],
   "source": [
    "# Create the augmented images' dataset \n",
    "aug_dataset = []\n",
    "\n",
    "for i, aug_features in enumerate(aug_gab_features):  \n",
    "    try:\n",
    "        aug_gray = cv2.cvtColor(aug_array[i], cv2.COLOR_BGR2GRAY)\n",
    "        aug_dataset.append([aug_features, class_num_list2[i], subcls_num_list2[i], aug_gray])\n",
    "    except Exception as e: \n",
    "        print(\"error\")"
   ]
  },
  {
   "cell_type": "code",
   "execution_count": null,
   "metadata": {
    "colab": {
     "base_uri": "https://localhost:8080/"
    },
    "executionInfo": {
     "elapsed": 55748,
     "status": "ok",
     "timestamp": 1611412430646,
     "user": {
      "displayName": "KHONG FAN YI",
      "photoUrl": "",
      "userId": "02416044610109286808"
     },
     "user_tz": -480
    },
    "id": "8ZTjTzlFygCv",
    "outputId": "ff387977-12b9-42a2-d5d4-30c5e44b4ac7"
   },
   "outputs": [
    {
     "name": "stdout",
     "output_type": "stream",
     "text": [
      "Train set length before data augmentation:  586\n",
      "Test set length:  147\n"
     ]
    }
   ],
   "source": [
    "# Split the original dataset\n",
    "train_set_before, test_set = train_test_split(dataset, test_size=0.2, shuffle=True)\n",
    "\n",
    "print('Train set length before data augmentation: ', len(train_set_before))\n",
    "print('Test set length: ', len(test_set))"
   ]
  },
  {
   "cell_type": "code",
   "execution_count": null,
   "metadata": {
    "colab": {
     "base_uri": "https://localhost:8080/"
    },
    "executionInfo": {
     "elapsed": 56139,
     "status": "ok",
     "timestamp": 1611412431043,
     "user": {
      "displayName": "KHONG FAN YI",
      "photoUrl": "",
      "userId": "02416044610109286808"
     },
     "user_tz": -480
    },
    "id": "CVST_RV9ygCw",
    "outputId": "ba1d1d7d-2d94-483e-a231-520c2bd85175"
   },
   "outputs": [
    {
     "data": {
      "text/plain": [
       "1319"
      ]
     },
     "execution_count": 15,
     "metadata": {
      "tags": []
     },
     "output_type": "execute_result"
    }
   ],
   "source": [
    "# Add the augmented dataset into the training set, then shuffle\n",
    "train_set = []\n",
    "\n",
    "train_set = train_set_before.copy()\n",
    "\n",
    "for aug_set in aug_dataset:  \n",
    "    if (len(train_set) < 1319):\n",
    "        train_set.append(aug_set)\n",
    "        \n",
    "random.shuffle(train_set)\n",
    "len(train_set)"
   ]
  },
  {
   "cell_type": "code",
   "execution_count": null,
   "metadata": {
    "colab": {
     "base_uri": "https://localhost:8080/"
    },
    "executionInfo": {
     "elapsed": 56135,
     "status": "ok",
     "timestamp": 1611412431046,
     "user": {
      "displayName": "KHONG FAN YI",
      "photoUrl": "",
      "userId": "02416044610109286808"
     },
     "user_tz": -480
    },
    "id": "piVebWAbygCx",
    "outputId": "1efe3504-37a8-4eac-fc88-1fe873428ae1"
   },
   "outputs": [
    {
     "name": "stdout",
     "output_type": "stream",
     "text": [
      "(1319, 40000)\n",
      "(1319,)\n"
     ]
    }
   ],
   "source": [
    "# Create training set\n",
    "\n",
    "X_train = []\n",
    "y_train = []\n",
    "gray_img1 = []\n",
    "subcls_num = []\n",
    "\n",
    "for features, label, subcls, gray in train_set:\n",
    "    X_train.append(features)\n",
    "    y_train.append(label)\n",
    "    gray_img1.append(gray)\n",
    "    subcls_num.append(subcls)\n",
    "\n",
    "X_train = np.array(X_train).reshape(len(y_train), -1)\n",
    "y_train = np.array(y_train)\n",
    "\n",
    "print(X_train.shape)\n",
    "print(y_train.shape)"
   ]
  },
  {
   "cell_type": "code",
   "execution_count": null,
   "metadata": {
    "colab": {
     "base_uri": "https://localhost:8080/"
    },
    "executionInfo": {
     "elapsed": 56126,
     "status": "ok",
     "timestamp": 1611412431048,
     "user": {
      "displayName": "KHONG FAN YI",
      "photoUrl": "",
      "userId": "02416044610109286808"
     },
     "user_tz": -480
    },
    "id": "fh0-oxXpygCx",
    "outputId": "8f218c84-9b9d-4467-b519-340c23ff04f9"
   },
   "outputs": [
    {
     "name": "stdout",
     "output_type": "stream",
     "text": [
      "(147, 40000)\n",
      "(147,)\n"
     ]
    }
   ],
   "source": [
    "# Create testing set\n",
    "\n",
    "X_test = []\n",
    "y_test = []\n",
    "gray_img2 = []\n",
    "\n",
    "for features, label, subcls, gray in test_set:\n",
    "    X_test.append(features)\n",
    "    y_test.append(label)\n",
    "    gray_img2.append(gray)\n",
    "\n",
    "X_test = np.array(X_test).reshape(len(y_test), -1)\n",
    "y_test = np.array(y_test)\n",
    "\n",
    "print(X_test.shape)\n",
    "print(y_test.shape)"
   ]
  },
  {
   "cell_type": "markdown",
   "metadata": {
    "id": "4eO3wQoPygCy"
   },
   "source": [
    "### Train Model"
   ]
  },
  {
   "cell_type": "code",
   "execution_count": null,
   "metadata": {
    "colab": {
     "base_uri": "https://localhost:8080/"
    },
    "executionInfo": {
     "elapsed": 241769,
     "status": "ok",
     "timestamp": 1611412616705,
     "user": {
      "displayName": "KHONG FAN YI",
      "photoUrl": "",
      "userId": "02416044610109286808"
     },
     "user_tz": -480
    },
    "id": "roQhL5F7ygCy",
    "outputId": "63e8c38d-01f9-4167-eb5b-f709cc255eda",
    "scrolled": true
   },
   "outputs": [
    {
     "name": "stdout",
     "output_type": "stream",
     "text": [
      "185.52421593666077 seconds\n"
     ]
    }
   ],
   "source": [
    "# Train the classifier\n",
    "\n",
    "svm = LinearSVC(C=1, max_iter=8000)   # LinearSVC is faster than SVC\n",
    "\n",
    "start_train = time.time() # to record the training time\n",
    "svm.fit(X_train, y_train)\n",
    "end_train = time.time()\n",
    "print(end_train - start_train, \"seconds\")"
   ]
  },
  {
   "cell_type": "markdown",
   "metadata": {
    "id": "5Ugi9ASLygCz"
   },
   "source": [
    "#### Training Performance"
   ]
  },
  {
   "cell_type": "code",
   "execution_count": null,
   "metadata": {
    "colab": {
     "base_uri": "https://localhost:8080/"
    },
    "executionInfo": {
     "elapsed": 241765,
     "status": "ok",
     "timestamp": 1611412616709,
     "user": {
      "displayName": "KHONG FAN YI",
      "photoUrl": "",
      "userId": "02416044610109286808"
     },
     "user_tz": -480
    },
    "id": "NRuEyap2ygCz",
    "outputId": "4ea2d5d8-2b7c-432f-ab77-3f4d51cb3845",
    "scrolled": true
   },
   "outputs": [
    {
     "name": "stdout",
     "output_type": "stream",
     "text": [
      "Classification report for - \n",
      "LinearSVC(C=1, class_weight=None, dual=True, fit_intercept=True,\n",
      "          intercept_scaling=1, loss='squared_hinge', max_iter=8000,\n",
      "          multi_class='ovr', penalty='l2', random_state=None, tol=0.0001,\n",
      "          verbose=0):\n",
      "              precision    recall  f1-score   support\n",
      "\n",
      "           0       1.00      1.00      1.00       897\n",
      "           1       1.00      1.00      1.00       422\n",
      "\n",
      "    accuracy                           1.00      1319\n",
      "   macro avg       1.00      1.00      1.00      1319\n",
      "weighted avg       1.00      1.00      1.00      1319\n",
      "\n",
      "\n",
      "Training accuracy: 100.0\n"
     ]
    }
   ],
   "source": [
    "y_pred = svm.predict(X_train)\n",
    "\n",
    "ill_pred = y_pred\n",
    "\n",
    "print(\"Classification report for - \\n{}:\\n{}\\n\".format(\n",
    "    svm, metrics.classification_report(y_train, y_pred)))\n",
    "\n",
    "train_acc = metrics.accuracy_score(y_train, y_pred)*100\n",
    "print(\"Training accuracy: \" + str(train_acc))"
   ]
  },
  {
   "cell_type": "code",
   "execution_count": null,
   "metadata": {
    "colab": {
     "base_uri": "https://localhost:8080/",
     "height": 296
    },
    "executionInfo": {
     "elapsed": 242335,
     "status": "ok",
     "timestamp": 1611412617288,
     "user": {
      "displayName": "KHONG FAN YI",
      "photoUrl": "",
      "userId": "02416044610109286808"
     },
     "user_tz": -480
    },
    "id": "2D5esNSOygC0",
    "outputId": "81536bba-44c4-400a-8e06-e59d34c66517",
    "scrolled": false
   },
   "outputs": [
    {
     "data": {
      "text/plain": [
       "<sklearn.metrics._plot.confusion_matrix.ConfusionMatrixDisplay at 0x7f053b0239e8>"
      ]
     },
     "execution_count": 20,
     "metadata": {
      "tags": []
     },
     "output_type": "execute_result"
    },
    {
     "data": {
      "image/png": "[encoded data removed]",
      "text/plain": [
       "<Figure size 432x288 with 2 Axes>"
      ]
     },
     "metadata": {
      "needs_background": "light",
      "tags": []
     },
     "output_type": "display_data"
    }
   ],
   "source": [
    "plot_confusion_matrix(svm, X_train, y_train, cmap='plasma')"
   ]
  },
  {
   "cell_type": "markdown",
   "metadata": {
    "id": "x_OuXxwGygC0"
   },
   "source": [
    "#### Testing Performance"
   ]
  },
  {
   "cell_type": "code",
   "execution_count": null,
   "metadata": {
    "colab": {
     "base_uri": "https://localhost:8080/"
    },
    "executionInfo": {
     "elapsed": 242330,
     "status": "ok",
     "timestamp": 1611412617291,
     "user": {
      "displayName": "KHONG FAN YI",
      "photoUrl": "",
      "userId": "02416044610109286808"
     },
     "user_tz": -480
    },
    "id": "k09gFyEnygC0",
    "outputId": "64167105-1b1d-43c3-a7ea-57cd86191750"
   },
   "outputs": [
    {
     "name": "stdout",
     "output_type": "stream",
     "text": [
      "Classification report for - \n",
      "LinearSVC(C=1, class_weight=None, dual=True, fit_intercept=True,\n",
      "          intercept_scaling=1, loss='squared_hinge', max_iter=8000,\n",
      "          multi_class='ovr', penalty='l2', random_state=None, tol=0.0001,\n",
      "          verbose=0):\n",
      "              precision    recall  f1-score   support\n",
      "\n",
      "           0       0.85      0.86      0.86       103\n",
      "           1       0.67      0.64      0.65        44\n",
      "\n",
      "    accuracy                           0.80       147\n",
      "   macro avg       0.76      0.75      0.75       147\n",
      "weighted avg       0.79      0.80      0.79       147\n",
      "\n",
      "\n",
      "Testing accuracy: 79.59183673469387\n"
     ]
    }
   ],
   "source": [
    "y_pred = svm.predict(X_test)\n",
    "\n",
    "print(\"Classification report for - \\n{}:\\n{}\\n\".format(\n",
    "    svm, metrics.classification_report(y_test, y_pred)))\n",
    "\n",
    "test_acc = metrics.accuracy_score(y_test, y_pred)*100\n",
    "print(\"Testing accuracy: \" + str(test_acc))"
   ]
  },
  {
   "cell_type": "code",
   "execution_count": null,
   "metadata": {
    "colab": {
     "base_uri": "https://localhost:8080/",
     "height": 296
    },
    "executionInfo": {
     "elapsed": 242323,
     "status": "ok",
     "timestamp": 1611412617294,
     "user": {
      "displayName": "KHONG FAN YI",
      "photoUrl": "",
      "userId": "02416044610109286808"
     },
     "user_tz": -480
    },
    "id": "ZCaafwoIygC1",
    "outputId": "3552fbb3-6a66-4c3e-f5ca-a6d97ca318d4"
   },
   "outputs": [
    {
     "data": {
      "text/plain": [
       "<sklearn.metrics._plot.confusion_matrix.ConfusionMatrixDisplay at 0x7f053b0237b8>"
      ]
     },
     "execution_count": 22,
     "metadata": {
      "tags": []
     },
     "output_type": "execute_result"
    },
    {
     "data": {
      "image/png": "[encoded data removed]",
      "text/plain": [
       "<Figure size 432x288 with 2 Axes>"
      ]
     },
     "metadata": {
      "needs_background": "light",
      "tags": []
     },
     "output_type": "display_data"
    }
   ],
   "source": [
    "plot_confusion_matrix(svm, X_test, y_test, cmap='plasma')"
   ]
  },
  {
   "cell_type": "code",
   "execution_count": null,
   "metadata": {
    "id": "SNqix4fEygC1"
   },
   "outputs": [],
   "source": [
    "# Get wrongly classified samples\n",
    "def get_wrong_case(pred_result, test_result):\n",
    "    \n",
    "    for i in range(len(pred_result)):\n",
    "        predicted = pred_result[i]\n",
    "        actual = test_result[i]\n",
    "        if(actual != predicted):\n",
    "            wrong_case.append([i,predicted,actual])"
   ]
  },
  {
   "cell_type": "code",
   "execution_count": null,
   "metadata": {
    "id": "zjAVaEpDygC1"
   },
   "outputs": [],
   "source": [
    "def plot(wrong_case, row, col, gray, labels):\n",
    "    \n",
    "    if (labels == SUBCLASSES):\n",
    "        fsize = 18\n",
    "        top = 5\n",
    "        bottom = 4.3\n",
    "    else:\n",
    "        fsize = 20\n",
    "        top = 3\n",
    "        bottom = 2.4\n",
    "        \n",
    "    \n",
    "    plt.figure(figsize=(40, 40))\n",
    "    plt.subplots_adjust(top=top, bottom=bottom)\n",
    "    \n",
    "    for i in range(len(wrong_case)):\n",
    "        plt.subplot(row, col, i+1)\n",
    "        plt.xticks([])\n",
    "        plt.yticks([])\n",
    "        plt.grid(False)\n",
    "        title = str(i+1) + '. Predicted: ' + labels[wrong_case[i][1]] + '\\nActual: ' + labels[wrong_case[i][2]]\n",
    "        plt.title(title, fontdict = {'fontsize' : fsize})\n",
    "        plt.imshow(gray[wrong_case[i][0]], cmap='gray')\n",
    "\n",
    "    plt.show()\n",
    "    \n",
    "    print(\"The number of misclassified images: \")\n",
    "    print(len(wrong_case))"
   ]
  },
  {
   "cell_type": "code",
   "execution_count": null,
   "metadata": {
    "id": "2QZqTzbCygC2"
   },
   "outputs": [],
   "source": [
    "wrong_case = []\n",
    "get_wrong_case(y_pred, y_test)"
   ]
  },
  {
   "cell_type": "markdown",
   "metadata": {
    "id": "Ip_hL0ONygC2"
   },
   "source": [
    "## Second-Level Classification\n",
    "> ### *Classify  'ill' cases into fever (0), sore throat (1) and running nose (2) subclasses*\n",
    "\n"
   ]
  },
  {
   "cell_type": "code",
   "execution_count": null,
   "metadata": {
    "id": "56m9pgxfygC2"
   },
   "outputs": [],
   "source": [
    "ill_case_index = []\n",
    "ill_dataset = []"
   ]
  },
  {
   "cell_type": "code",
   "execution_count": null,
   "metadata": {
    "id": "qvE2gzLOygC2"
   },
   "outputs": [],
   "source": [
    "# Get the indexes of samples correctly classified as \"ill\"\n",
    "\n",
    "for i, a in enumerate(ill_pred):\n",
    "    if((ill_pred[i] == 1) and (ill_pred[i] == y_train[i]) and (subcls_num[i] != \"None\")):  # 1 = ill, filter out the cases with \"healthy\" true labels\n",
    "        ill_case_index.append(i) # save the indexes of ill cases"
   ]
  },
  {
   "cell_type": "code",
   "execution_count": null,
   "metadata": {
    "id": "66IDFWLwygC3"
   },
   "outputs": [],
   "source": [
    "# Create dataset for second-level classification\n",
    "\n",
    "for a in ill_case_index:\n",
    "    ill_dataset.append([X_train[a], subcls_num[a], gray_img1[a]])\n",
    "    \n",
    "ill_dataset = np.array(ill_dataset, dtype=object)"
   ]
  },
  {
   "cell_type": "code",
   "execution_count": null,
   "metadata": {
    "colab": {
     "base_uri": "https://localhost:8080/"
    },
    "executionInfo": {
     "elapsed": 245889,
     "status": "ok",
     "timestamp": 1611412620926,
     "user": {
      "displayName": "KHONG FAN YI",
      "photoUrl": "",
      "userId": "02416044610109286808"
     },
     "user_tz": -480
    },
    "id": "z0yh_gokygC3",
    "outputId": "362093f0-915b-4702-b355-d1bedb0ac30d",
    "scrolled": true
   },
   "outputs": [
    {
     "name": "stdout",
     "output_type": "stream",
     "text": [
      "Train set length:  295\n",
      "Test set length:  127\n"
     ]
    }
   ],
   "source": [
    "train_ill_set, test_ill_set = train_test_split(ill_dataset, test_size=0.3, shuffle=True)\n",
    "\n",
    "print('Train set length: ', len(train_ill_set))\n",
    "print('Test set length: ', len(test_ill_set))"
   ]
  },
  {
   "cell_type": "code",
   "execution_count": null,
   "metadata": {
    "colab": {
     "base_uri": "https://localhost:8080/"
    },
    "executionInfo": {
     "elapsed": 245884,
     "status": "ok",
     "timestamp": 1611412620928,
     "user": {
      "displayName": "KHONG FAN YI",
      "photoUrl": "",
      "userId": "02416044610109286808"
     },
     "user_tz": -480
    },
    "id": "MAUo1H7vygC3",
    "outputId": "f3faa907-bb3e-4c15-bbc8-db510d07d5b5"
   },
   "outputs": [
    {
     "name": "stdout",
     "output_type": "stream",
     "text": [
      "(295, 40000)\n",
      "(295,)\n"
     ]
    }
   ],
   "source": [
    "X_train_ill = []\n",
    "y_train_ill = []\n",
    "gray_img_ill1 = []\n",
    "\n",
    "for features, label, gray in train_ill_set:\n",
    "    X_train_ill.append(features)\n",
    "    y_train_ill.append(label)\n",
    "    gray_img_ill1.append(gray)\n",
    "\n",
    "X_train_ill = np.array(X_train_ill).reshape(len(y_train_ill), -1)\n",
    "y_train_ill = np.array(y_train_ill)\n",
    "\n",
    "print(X_train_ill.shape)\n",
    "print(y_train_ill.shape)"
   ]
  },
  {
   "cell_type": "code",
   "execution_count": null,
   "metadata": {
    "colab": {
     "base_uri": "https://localhost:8080/"
    },
    "executionInfo": {
     "elapsed": 245877,
     "status": "ok",
     "timestamp": 1611412620930,
     "user": {
      "displayName": "KHONG FAN YI",
      "photoUrl": "",
      "userId": "02416044610109286808"
     },
     "user_tz": -480
    },
    "id": "qVW99XF7ygC3",
    "outputId": "d109921e-4294-40da-c027-1235a86ef4a7",
    "scrolled": false
   },
   "outputs": [
    {
     "name": "stdout",
     "output_type": "stream",
     "text": [
      "(127, 40000)\n",
      "(127,)\n"
     ]
    }
   ],
   "source": [
    "X_test_ill = []\n",
    "y_test_ill = []\n",
    "gray_img_ill2 = []\n",
    "\n",
    "for features, label, gray in test_ill_set:\n",
    "    X_test_ill.append(features)\n",
    "    y_test_ill.append(label)\n",
    "    gray_img_ill2.append(gray)\n",
    "\n",
    "X_test_ill = np.array(X_test_ill).reshape(len(y_test_ill), -1)\n",
    "y_test_ill = np.array(y_test_ill)\n",
    "\n",
    "print(X_test_ill.shape)\n",
    "print(y_test_ill.shape)"
   ]
  },
  {
   "cell_type": "code",
   "execution_count": null,
   "metadata": {
    "id": "_7u9YV00ygC4"
   },
   "outputs": [],
   "source": [
    "scaling = StandardScaler()\n",
    "scaling.fit(X_train_ill) \n",
    "X_train_ill = scaling.transform(X_train_ill)\n",
    "X_test_ill = scaling.transform(X_test_ill)"
   ]
  },
  {
   "cell_type": "markdown",
   "metadata": {
    "id": "PoeU5DxyygC4"
   },
   "source": [
    "### Train Model"
   ]
  },
  {
   "cell_type": "code",
   "execution_count": null,
   "metadata": {
    "colab": {
     "base_uri": "https://localhost:8080/"
    },
    "executionInfo": {
     "elapsed": 251463,
     "status": "ok",
     "timestamp": 1611412626531,
     "user": {
      "displayName": "KHONG FAN YI",
      "photoUrl": "",
      "userId": "02416044610109286808"
     },
     "user_tz": -480
    },
    "id": "rqra6YFDygC4",
    "outputId": "3dd75bfb-866a-449c-f3c9-ee54f64d64af",
    "scrolled": true
   },
   "outputs": [
    {
     "name": "stdout",
     "output_type": "stream",
     "text": [
      "6.702991485595703 seconds\n"
     ]
    }
   ],
   "source": [
    "# Train the classifier\n",
    "\n",
    "svm = SVC(gamma=0.00001, C=1, kernel='rbf')\n",
    "\n",
    "start_train_ill = time.time()\n",
    "svm.fit(X_train_ill, y_train_ill)\n",
    "end_train_ill = time.time()\n",
    "print(end_train_ill - start_train_ill, \"seconds\")"
   ]
  },
  {
   "cell_type": "markdown",
   "metadata": {
    "id": "swJ8LjgWygC4"
   },
   "source": [
    "#### Training Performance"
   ]
  },
  {
   "cell_type": "code",
   "execution_count": null,
   "metadata": {
    "colab": {
     "base_uri": "https://localhost:8080/"
    },
    "executionInfo": {
     "elapsed": 257468,
     "status": "ok",
     "timestamp": 1611412632543,
     "user": {
      "displayName": "KHONG FAN YI",
      "photoUrl": "",
      "userId": "02416044610109286808"
     },
     "user_tz": -480
    },
    "id": "3ala_g2bygC5",
    "outputId": "01cdc46b-b272-4ad9-e6d0-e00f90727360"
   },
   "outputs": [
    {
     "name": "stdout",
     "output_type": "stream",
     "text": [
      "Classification report for - \n",
      "SVC(C=1, break_ties=False, cache_size=200, class_weight=None, coef0=0.0,\n",
      "    decision_function_shape='ovr', degree=3, gamma=1e-05, kernel='rbf',\n",
      "    max_iter=-1, probability=False, random_state=None, shrinking=True,\n",
      "    tol=0.001, verbose=False):\n",
      "              precision    recall  f1-score   support\n",
      "\n",
      "           0       0.82      0.89      0.85        99\n",
      "           1       0.91      0.94      0.92        96\n",
      "           2       0.90      0.80      0.85       100\n",
      "\n",
      "    accuracy                           0.87       295\n",
      "   macro avg       0.88      0.88      0.87       295\n",
      "weighted avg       0.88      0.87      0.87       295\n",
      "\n",
      "\n",
      "Training accuracy: 87.45762711864407\n"
     ]
    }
   ],
   "source": [
    "y_pred_ill = svm.predict(X_train_ill)\n",
    "\n",
    "print(\"Classification report for - \\n{}:\\n{}\\n\".format(\n",
    "    svm, metrics.classification_report(y_train_ill, y_pred_ill)))\n",
    "\n",
    "train_ill_acc = metrics.accuracy_score(y_train_ill, y_pred_ill)*100\n",
    "print(\"Training accuracy: \" + str(train_ill_acc))"
   ]
  },
  {
   "cell_type": "code",
   "execution_count": null,
   "metadata": {
    "colab": {
     "base_uri": "https://localhost:8080/",
     "height": 301
    },
    "executionInfo": {
     "elapsed": 263316,
     "status": "ok",
     "timestamp": 1611412638398,
     "user": {
      "displayName": "KHONG FAN YI",
      "photoUrl": "",
      "userId": "02416044610109286808"
     },
     "user_tz": -480
    },
    "id": "nQxLihzDygC5",
    "outputId": "b0aa1295-37cd-4576-b002-95e84a64d953",
    "scrolled": false
   },
   "outputs": [
    {
     "data": {
      "text/plain": [
       "<sklearn.metrics._plot.confusion_matrix.ConfusionMatrixDisplay at 0x7f0532267cc0>"
      ]
     },
     "execution_count": 36,
     "metadata": {
      "tags": []
     },
     "output_type": "execute_result"
    },
    {
     "data": {
      "image/png": "[encoded data removed]",
      "text/plain": [
       "<Figure size 432x288 with 2 Axes>"
      ]
     },
     "metadata": {
      "needs_background": "light",
      "tags": []
     },
     "output_type": "display_data"
    }
   ],
   "source": [
    "plot_confusion_matrix(svm, X_train_ill, y_train_ill, cmap='viridis')"
   ]
  },
  {
   "cell_type": "markdown",
   "metadata": {
    "id": "XmCjmxIsygC5"
   },
   "source": [
    "#### Testing Performance"
   ]
  },
  {
   "cell_type": "code",
   "execution_count": null,
   "metadata": {
    "colab": {
     "base_uri": "https://localhost:8080/"
    },
    "executionInfo": {
     "elapsed": 265993,
     "status": "ok",
     "timestamp": 1611412641083,
     "user": {
      "displayName": "KHONG FAN YI",
      "photoUrl": "",
      "userId": "02416044610109286808"
     },
     "user_tz": -480
    },
    "id": "wrFfZUFuygC5",
    "outputId": "40a04c4d-83e7-4fa5-9738-6278017e2722"
   },
   "outputs": [
    {
     "name": "stdout",
     "output_type": "stream",
     "text": [
      "Classification report for - \n",
      "SVC(C=1, break_ties=False, cache_size=200, class_weight=None, coef0=0.0,\n",
      "    decision_function_shape='ovr', degree=3, gamma=1e-05, kernel='rbf',\n",
      "    max_iter=-1, probability=False, random_state=None, shrinking=True,\n",
      "    tol=0.001, verbose=False):\n",
      "              precision    recall  f1-score   support\n",
      "\n",
      "           0       0.56      0.53      0.55        45\n",
      "           1       0.81      0.88      0.84        48\n",
      "           2       0.41      0.38      0.39        34\n",
      "\n",
      "    accuracy                           0.62       127\n",
      "   macro avg       0.59      0.60      0.59       127\n",
      "weighted avg       0.61      0.62      0.62       127\n",
      "\n",
      "\n",
      "Testing accuracy: 62.20472440944882\n"
     ]
    }
   ],
   "source": [
    "y_pred_ill = svm.predict(X_test_ill)\n",
    "\n",
    "print(\"Classification report for - \\n{}:\\n{}\\n\".format(\n",
    "    svm, metrics.classification_report(y_test_ill, y_pred_ill)))\n",
    "\n",
    "test_ill_acc = metrics.accuracy_score(y_test_ill, y_pred_ill)*100\n",
    "print(\"Testing accuracy: \" + str(test_ill_acc))"
   ]
  },
  {
   "cell_type": "code",
   "execution_count": null,
   "metadata": {
    "colab": {
     "base_uri": "https://localhost:8080/",
     "height": 296
    },
    "executionInfo": {
     "elapsed": 268605,
     "status": "ok",
     "timestamp": 1611412643703,
     "user": {
      "displayName": "KHONG FAN YI",
      "photoUrl": "",
      "userId": "02416044610109286808"
     },
     "user_tz": -480
    },
    "id": "A11HC6qsygC5",
    "outputId": "b55a83e7-bed9-420a-84de-4319f45a25a7",
    "scrolled": true
   },
   "outputs": [
    {
     "data": {
      "text/plain": [
       "<sklearn.metrics._plot.confusion_matrix.ConfusionMatrixDisplay at 0x7f0532267e10>"
      ]
     },
     "execution_count": 38,
     "metadata": {
      "tags": []
     },
     "output_type": "execute_result"
    },
    {
     "data": {
      "image/png": "[encoded data removed]",
      "text/plain": [
       "<Figure size 432x288 with 2 Axes>"
      ]
     },
     "metadata": {
      "needs_background": "light",
      "tags": []
     },
     "output_type": "display_data"
    }
   ],
   "source": [
    "plot_confusion_matrix(svm, X_test_ill, y_test_ill, cmap='viridis')"
   ]
  },
  {
   "cell_type": "code",
   "execution_count": null,
   "metadata": {
    "id": "xB_jBx2MygC6",
    "scrolled": true
   },
   "outputs": [],
   "source": [
    "wrong_case = []\n",
    "get_wrong_case(y_pred_ill, y_test_ill)"
   ]
  },
  {
   "cell_type": "code",
   "execution_count": null,
   "metadata": {
    "colab": {
     "base_uri": "https://localhost:8080/",
     "height": 995,
     "output_embedded_package_id": "1YLpZC2pX8K7P72_hOLxmgcqQPB5huco7"
    },
    "executionInfo": {
     "elapsed": 7619,
     "status": "ok",
     "timestamp": 1611413552635,
     "user": {
      "displayName": "KHONG FAN YI",
      "photoUrl": "",
      "userId": "02416044610109286808"
     },
     "user_tz": -480
    },
    "id": "7PDTXprvygC6",
    "outputId": "c4a76704-b50c-4e69-b49c-cde486887071"
   },
   "outputs": [
    {
     "data": {
      "text/plain": [
       "Output hidden; open in https://colab.research.google.com to view."
      ]
     },
     "metadata": {},
     "output_type": "display_data"
    }
   ],
   "source": [
    "# To visualise misclassified samples\n",
    "col = 8\n",
    "row = len(wrong_case) / col + len(wrong_case) % 8\n",
    "\n",
    "plot(wrong_case, row, col, gray_img_ill2, SUBCLASSES)"
   ]
  }
 ],
 "metadata": {
  "colab": {
   "collapsed_sections": [],
   "name": "Gabor_SVM_classification.ipynb",
   "provenance": [],
   "toc_visible": true
  },
  "kernelspec": {
   "display_name": "Python 3",
   "language": "python",
   "name": "python3"
  },
  "language_info": {
   "codemirror_mode": {
    "name": "ipython",
    "version": 3
   },
   "file_extension": ".py",
   "mimetype": "text/x-python",
   "name": "python",
   "nbconvert_exporter": "python",
   "pygments_lexer": "ipython3",
   "version": "3.8.5"
  },
  "widgets": {
   "application/vnd.jupyter.widget-state+json": {
    "00ad1e94c3f141ddae43a08f59235b82": {
     "model_module": "@jupyter-widgets/controls",
     "model_name": "DescriptionStyleModel",
     "state": {
      "_model_module": "@jupyter-widgets/controls",
      "_model_module_version": "1.5.0",
      "_model_name": "DescriptionStyleModel",
      "_view_count": null,
      "_view_module": "@jupyter-widgets/base",
      "_view_module_version": "1.2.0",
      "_view_name": "StyleView",
      "description_width": ""
     }
    },
    "072c83edbd3b4a73b7609b8b874506ed": {
     "model_module": "@jupyter-widgets/controls",
     "model_name": "DescriptionStyleModel",
     "state": {
      "_model_module": "@jupyter-widgets/controls",
      "_model_module_version": "1.5.0",
      "_model_name": "DescriptionStyleModel",
      "_view_count": null,
      "_view_module": "@jupyter-widgets/base",
      "_view_module_version": "1.2.0",
      "_view_name": "StyleView",
      "description_width": ""
     }
    },
    "09b25c385dc043e28369caa91d80634a": {
     "model_module": "@jupyter-widgets/controls",
     "model_name": "DescriptionStyleModel",
     "state": {
      "_model_module": "@jupyter-widgets/controls",
      "_model_module_version": "1.5.0",
      "_model_name": "DescriptionStyleModel",
      "_view_count": null,
      "_view_module": "@jupyter-widgets/base",
      "_view_module_version": "1.2.0",
      "_view_name": "StyleView",
      "description_width": ""
     }
    },
    "0be4d505955d43a38b41db0e572507c0": {
     "model_module": "@jupyter-widgets/controls",
     "model_name": "FloatProgressModel",
     "state": {
      "_dom_classes": [],
      "_model_module": "@jupyter-widgets/controls",
      "_model_module_version": "1.5.0",
      "_model_name": "FloatProgressModel",
      "_view_count": null,
      "_view_module": "@jupyter-widgets/controls",
      "_view_module_version": "1.5.0",
      "_view_name": "ProgressView",
      "bar_style": "success",
      "description": "100%",
      "description_tooltip": null,
      "layout": "IPY_MODEL_755d3fedb5c84d619a1475278d58d654",
      "max": 1466,
      "min": 0,
      "orientation": "horizontal",
      "style": "IPY_MODEL_327e6c8997904ef0be1081aa5b668a6c",
      "value": 1466
     }
    },
    "1120ed1b797c4e3f873b4f9bfc00b1c3": {
     "model_module": "@jupyter-widgets/base",
     "model_name": "LayoutModel",
     "state": {
      "_model_module": "@jupyter-widgets/base",
      "_model_module_version": "1.2.0",
      "_model_name": "LayoutModel",
      "_view_count": null,
      "_view_module": "@jupyter-widgets/base",
      "_view_module_version": "1.2.0",
      "_view_name": "LayoutView",
      "align_content": null,
      "align_items": null,
      "align_self": null,
      "border": null,
      "bottom": null,
      "display": null,
      "flex": null,
      "flex_flow": null,
      "grid_area": null,
      "grid_auto_columns": null,
      "grid_auto_flow": null,
      "grid_auto_rows": null,
      "grid_column": null,
      "grid_gap": null,
      "grid_row": null,
      "grid_template_areas": null,
      "grid_template_columns": null,
      "grid_template_rows": null,
      "height": null,
      "justify_content": null,
      "justify_items": null,
      "left": null,
      "margin": null,
      "max_height": null,
      "max_width": null,
      "min_height": null,
      "min_width": null,
      "object_fit": null,
      "object_position": null,
      "order": null,
      "overflow": null,
      "overflow_x": null,
      "overflow_y": null,
      "padding": null,
      "right": null,
      "top": null,
      "visibility": null,
      "width": null
     }
    },
    "11507176d8134d0e9da3c6c5175db569": {
     "model_module": "@jupyter-widgets/controls",
     "model_name": "HTMLModel",
     "state": {
      "_dom_classes": [],
      "_model_module": "@jupyter-widgets/controls",
      "_model_module_version": "1.5.0",
      "_model_name": "HTMLModel",
      "_view_count": null,
      "_view_module": "@jupyter-widgets/controls",
      "_view_module_version": "1.5.0",
      "_view_name": "HTMLView",
      "description": "",
      "description_tooltip": null,
      "layout": "IPY_MODEL_31bc858213c24653b2b1762dddc197b2",
      "placeholder": "​",
      "style": "IPY_MODEL_a4d8ae4d7a694f76b2d0817c888848f7",
      "value": " 75/75 [00:00&lt;00:00, 172.81it/s]"
     }
    },
    "15861565c7c84a92a73da10d7f7bc7a1": {
     "model_module": "@jupyter-widgets/base",
     "model_name": "LayoutModel",
     "state": {
      "_model_module": "@jupyter-widgets/base",
      "_model_module_version": "1.2.0",
      "_model_name": "LayoutModel",
      "_view_count": null,
      "_view_module": "@jupyter-widgets/base",
      "_view_module_version": "1.2.0",
      "_view_name": "LayoutView",
      "align_content": null,
      "align_items": null,
      "align_self": null,
      "border": null,
      "bottom": null,
      "display": null,
      "flex": null,
      "flex_flow": null,
      "grid_area": null,
      "grid_auto_columns": null,
      "grid_auto_flow": null,
      "grid_auto_rows": null,
      "grid_column": null,
      "grid_gap": null,
      "grid_row": null,
      "grid_template_areas": null,
      "grid_template_columns": null,
      "grid_template_rows": null,
      "height": null,
      "justify_content": null,
      "justify_items": null,
      "left": null,
      "margin": null,
      "max_height": null,
      "max_width": null,
      "min_height": null,
      "min_width": null,
      "object_fit": null,
      "object_position": null,
      "order": null,
      "overflow": null,
      "overflow_x": null,
      "overflow_y": null,
      "padding": null,
      "right": null,
      "top": null,
      "visibility": null,
      "width": null
     }
    },
    "1936eab6c7be4f11a991a7da069a814d": {
     "model_module": "@jupyter-widgets/controls",
     "model_name": "HBoxModel",
     "state": {
      "_dom_classes": [],
      "_model_module": "@jupyter-widgets/controls",
      "_model_module_version": "1.5.0",
      "_model_name": "HBoxModel",
      "_view_count": null,
      "_view_module": "@jupyter-widgets/controls",
      "_view_module_version": "1.5.0",
      "_view_name": "HBoxView",
      "box_style": "",
      "children": [
       "IPY_MODEL_eaa73feffe534b92bbb00b531e6bbc71",
       "IPY_MODEL_1b3135e5f21a4d84b2a25f06647c722c"
      ],
      "layout": "IPY_MODEL_4e1dc07fdc764b7f97145cc859012f47"
     }
    },
    "19b125d9123e4da6bc027ef930a2c58d": {
     "model_module": "@jupyter-widgets/controls",
     "model_name": "ProgressStyleModel",
     "state": {
      "_model_module": "@jupyter-widgets/controls",
      "_model_module_version": "1.5.0",
      "_model_name": "ProgressStyleModel",
      "_view_count": null,
      "_view_module": "@jupyter-widgets/base",
      "_view_module_version": "1.2.0",
      "_view_name": "StyleView",
      "bar_color": null,
      "description_width": "initial"
     }
    },
    "1b145225e2924f5291c8f01273fa7f23": {
     "model_module": "@jupyter-widgets/controls",
     "model_name": "FloatProgressModel",
     "state": {
      "_dom_classes": [],
      "_model_module": "@jupyter-widgets/controls",
      "_model_module_version": "1.5.0",
      "_model_name": "FloatProgressModel",
      "_view_count": null,
      "_view_module": "@jupyter-widgets/controls",
      "_view_module_version": "1.5.0",
      "_view_name": "ProgressView",
      "bar_style": "success",
      "description": "100%",
      "description_tooltip": null,
      "layout": "IPY_MODEL_c38de644cbfb465bb574a6ae6f878226",
      "max": 75,
      "min": 0,
      "orientation": "horizontal",
      "style": "IPY_MODEL_19b125d9123e4da6bc027ef930a2c58d",
      "value": 75
     }
    },
    "1b3135e5f21a4d84b2a25f06647c722c": {
     "model_module": "@jupyter-widgets/controls",
     "model_name": "HTMLModel",
     "state": {
      "_dom_classes": [],
      "_model_module": "@jupyter-widgets/controls",
      "_model_module_version": "1.5.0",
      "_model_name": "HTMLModel",
      "_view_count": null,
      "_view_module": "@jupyter-widgets/controls",
      "_view_module_version": "1.5.0",
      "_view_name": "HTMLView",
      "description": "",
      "description_tooltip": null,
      "layout": "IPY_MODEL_624791321d8b45f890cc1f9b5429a346",
      "placeholder": "​",
      "style": "IPY_MODEL_072c83edbd3b4a73b7609b8b874506ed",
      "value": " 80/80 [03:57&lt;00:00,  2.97s/it]"
     }
    },
    "1db658029dc8455a8c3948df53efe721": {
     "model_module": "@jupyter-widgets/controls",
     "model_name": "DescriptionStyleModel",
     "state": {
      "_model_module": "@jupyter-widgets/controls",
      "_model_module_version": "1.5.0",
      "_model_name": "DescriptionStyleModel",
      "_view_count": null,
      "_view_module": "@jupyter-widgets/base",
      "_view_module_version": "1.2.0",
      "_view_name": "StyleView",
      "description_width": ""
     }
    },
    "1f0b0b2d3d6342dc84677365f233844b": {
     "model_module": "@jupyter-widgets/controls",
     "model_name": "ProgressStyleModel",
     "state": {
      "_model_module": "@jupyter-widgets/controls",
      "_model_module_version": "1.5.0",
      "_model_name": "ProgressStyleModel",
      "_view_count": null,
      "_view_module": "@jupyter-widgets/base",
      "_view_module_version": "1.2.0",
      "_view_name": "StyleView",
      "bar_color": null,
      "description_width": "initial"
     }
    },
    "207d62c1d47c412bb33e12d845f6e7b5": {
     "model_module": "@jupyter-widgets/controls",
     "model_name": "DescriptionStyleModel",
     "state": {
      "_model_module": "@jupyter-widgets/controls",
      "_model_module_version": "1.5.0",
      "_model_name": "DescriptionStyleModel",
      "_view_count": null,
      "_view_module": "@jupyter-widgets/base",
      "_view_module_version": "1.2.0",
      "_view_name": "StyleView",
      "description_width": ""
     }
    },
    "236f7d11b0eb4dd6bc6660f895356720": {
     "model_module": "@jupyter-widgets/base",
     "model_name": "LayoutModel",
     "state": {
      "_model_module": "@jupyter-widgets/base",
      "_model_module_version": "1.2.0",
      "_model_name": "LayoutModel",
      "_view_count": null,
      "_view_module": "@jupyter-widgets/base",
      "_view_module_version": "1.2.0",
      "_view_name": "LayoutView",
      "align_content": null,
      "align_items": null,
      "align_self": null,
      "border": null,
      "bottom": null,
      "display": null,
      "flex": null,
      "flex_flow": null,
      "grid_area": null,
      "grid_auto_columns": null,
      "grid_auto_flow": null,
      "grid_auto_rows": null,
      "grid_column": null,
      "grid_gap": null,
      "grid_row": null,
      "grid_template_areas": null,
      "grid_template_columns": null,
      "grid_template_rows": null,
      "height": null,
      "justify_content": null,
      "justify_items": null,
      "left": null,
      "margin": null,
      "max_height": null,
      "max_width": null,
      "min_height": null,
      "min_width": null,
      "object_fit": null,
      "object_position": null,
      "order": null,
      "overflow": null,
      "overflow_x": null,
      "overflow_y": null,
      "padding": null,
      "right": null,
      "top": null,
      "visibility": null,
      "width": null
     }
    },
    "25e6e1c280bd45dca9e8a8840697e910": {
     "model_module": "@jupyter-widgets/base",
     "model_name": "LayoutModel",
     "state": {
      "_model_module": "@jupyter-widgets/base",
      "_model_module_version": "1.2.0",
      "_model_name": "LayoutModel",
      "_view_count": null,
      "_view_module": "@jupyter-widgets/base",
      "_view_module_version": "1.2.0",
      "_view_name": "LayoutView",
      "align_content": null,
      "align_items": null,
      "align_self": null,
      "border": null,
      "bottom": null,
      "display": null,
      "flex": null,
      "flex_flow": null,
      "grid_area": null,
      "grid_auto_columns": null,
      "grid_auto_flow": null,
      "grid_auto_rows": null,
      "grid_column": null,
      "grid_gap": null,
      "grid_row": null,
      "grid_template_areas": null,
      "grid_template_columns": null,
      "grid_template_rows": null,
      "height": null,
      "justify_content": null,
      "justify_items": null,
      "left": null,
      "margin": null,
      "max_height": null,
      "max_width": null,
      "min_height": null,
      "min_width": null,
      "object_fit": null,
      "object_position": null,
      "order": null,
      "overflow": null,
      "overflow_x": null,
      "overflow_y": null,
      "padding": null,
      "right": null,
      "top": null,
      "visibility": null,
      "width": null
     }
    },
    "26442589ed9d4e0abfdcab6b5f578c1b": {
     "model_module": "@jupyter-widgets/base",
     "model_name": "LayoutModel",
     "state": {
      "_model_module": "@jupyter-widgets/base",
      "_model_module_version": "1.2.0",
      "_model_name": "LayoutModel",
      "_view_count": null,
      "_view_module": "@jupyter-widgets/base",
      "_view_module_version": "1.2.0",
      "_view_name": "LayoutView",
      "align_content": null,
      "align_items": null,
      "align_self": null,
      "border": null,
      "bottom": null,
      "display": null,
      "flex": null,
      "flex_flow": null,
      "grid_area": null,
      "grid_auto_columns": null,
      "grid_auto_flow": null,
      "grid_auto_rows": null,
      "grid_column": null,
      "grid_gap": null,
      "grid_row": null,
      "grid_template_areas": null,
      "grid_template_columns": null,
      "grid_template_rows": null,
      "height": null,
      "justify_content": null,
      "justify_items": null,
      "left": null,
      "margin": null,
      "max_height": null,
      "max_width": null,
      "min_height": null,
      "min_width": null,
      "object_fit": null,
      "object_position": null,
      "order": null,
      "overflow": null,
      "overflow_x": null,
      "overflow_y": null,
      "padding": null,
      "right": null,
      "top": null,
      "visibility": null,
      "width": null
     }
    },
    "30e67f6fc6824f068777ab52f6725136": {
     "model_module": "@jupyter-widgets/controls",
     "model_name": "DescriptionStyleModel",
     "state": {
      "_model_module": "@jupyter-widgets/controls",
      "_model_module_version": "1.5.0",
      "_model_name": "DescriptionStyleModel",
      "_view_count": null,
      "_view_module": "@jupyter-widgets/base",
      "_view_module_version": "1.2.0",
      "_view_name": "StyleView",
      "description_width": ""
     }
    },
    "31bc858213c24653b2b1762dddc197b2": {
     "model_module": "@jupyter-widgets/base",
     "model_name": "LayoutModel",
     "state": {
      "_model_module": "@jupyter-widgets/base",
      "_model_module_version": "1.2.0",
      "_model_name": "LayoutModel",
      "_view_count": null,
      "_view_module": "@jupyter-widgets/base",
      "_view_module_version": "1.2.0",
      "_view_name": "LayoutView",
      "align_content": null,
      "align_items": null,
      "align_self": null,
      "border": null,
      "bottom": null,
      "display": null,
      "flex": null,
      "flex_flow": null,
      "grid_area": null,
      "grid_auto_columns": null,
      "grid_auto_flow": null,
      "grid_auto_rows": null,
      "grid_column": null,
      "grid_gap": null,
      "grid_row": null,
      "grid_template_areas": null,
      "grid_template_columns": null,
      "grid_template_rows": null,
      "height": null,
      "justify_content": null,
      "justify_items": null,
      "left": null,
      "margin": null,
      "max_height": null,
      "max_width": null,
      "min_height": null,
      "min_width": null,
      "object_fit": null,
      "object_position": null,
      "order": null,
      "overflow": null,
      "overflow_x": null,
      "overflow_y": null,
      "padding": null,
      "right": null,
      "top": null,
      "visibility": null,
      "width": null
     }
    },
    "327e6c8997904ef0be1081aa5b668a6c": {
     "model_module": "@jupyter-widgets/controls",
     "model_name": "ProgressStyleModel",
     "state": {
      "_model_module": "@jupyter-widgets/controls",
      "_model_module_version": "1.5.0",
      "_model_name": "ProgressStyleModel",
      "_view_count": null,
      "_view_module": "@jupyter-widgets/base",
      "_view_module_version": "1.2.0",
      "_view_name": "StyleView",
      "bar_color": null,
      "description_width": "initial"
     }
    },
    "36dec592b3da47d3a5e23ac5b81ac538": {
     "model_module": "@jupyter-widgets/controls",
     "model_name": "ProgressStyleModel",
     "state": {
      "_model_module": "@jupyter-widgets/controls",
      "_model_module_version": "1.5.0",
      "_model_name": "ProgressStyleModel",
      "_view_count": null,
      "_view_module": "@jupyter-widgets/base",
      "_view_module_version": "1.2.0",
      "_view_name": "StyleView",
      "bar_color": null,
      "description_width": "initial"
     }
    },
    "41ab8a9972834e51a9e931789d603e00": {
     "model_module": "@jupyter-widgets/controls",
     "model_name": "ProgressStyleModel",
     "state": {
      "_model_module": "@jupyter-widgets/controls",
      "_model_module_version": "1.5.0",
      "_model_name": "ProgressStyleModel",
      "_view_count": null,
      "_view_module": "@jupyter-widgets/base",
      "_view_module_version": "1.2.0",
      "_view_name": "StyleView",
      "bar_color": null,
      "description_width": "initial"
     }
    },
    "451261e26fa3444fb7addb13056a6403": {
     "model_module": "@jupyter-widgets/controls",
     "model_name": "ProgressStyleModel",
     "state": {
      "_model_module": "@jupyter-widgets/controls",
      "_model_module_version": "1.5.0",
      "_model_name": "ProgressStyleModel",
      "_view_count": null,
      "_view_module": "@jupyter-widgets/base",
      "_view_module_version": "1.2.0",
      "_view_name": "StyleView",
      "bar_color": null,
      "description_width": "initial"
     }
    },
    "497334f8508149cd9f8aa41b3e169e91": {
     "model_module": "@jupyter-widgets/base",
     "model_name": "LayoutModel",
     "state": {
      "_model_module": "@jupyter-widgets/base",
      "_model_module_version": "1.2.0",
      "_model_name": "LayoutModel",
      "_view_count": null,
      "_view_module": "@jupyter-widgets/base",
      "_view_module_version": "1.2.0",
      "_view_name": "LayoutView",
      "align_content": null,
      "align_items": null,
      "align_self": null,
      "border": null,
      "bottom": null,
      "display": null,
      "flex": null,
      "flex_flow": null,
      "grid_area": null,
      "grid_auto_columns": null,
      "grid_auto_flow": null,
      "grid_auto_rows": null,
      "grid_column": null,
      "grid_gap": null,
      "grid_row": null,
      "grid_template_areas": null,
      "grid_template_columns": null,
      "grid_template_rows": null,
      "height": null,
      "justify_content": null,
      "justify_items": null,
      "left": null,
      "margin": null,
      "max_height": null,
      "max_width": null,
      "min_height": null,
      "min_width": null,
      "object_fit": null,
      "object_position": null,
      "order": null,
      "overflow": null,
      "overflow_x": null,
      "overflow_y": null,
      "padding": null,
      "right": null,
      "top": null,
      "visibility": null,
      "width": null
     }
    },
    "4e1dc07fdc764b7f97145cc859012f47": {
     "model_module": "@jupyter-widgets/base",
     "model_name": "LayoutModel",
     "state": {
      "_model_module": "@jupyter-widgets/base",
      "_model_module_version": "1.2.0",
      "_model_name": "LayoutModel",
      "_view_count": null,
      "_view_module": "@jupyter-widgets/base",
      "_view_module_version": "1.2.0",
      "_view_name": "LayoutView",
      "align_content": null,
      "align_items": null,
      "align_self": null,
      "border": null,
      "bottom": null,
      "display": null,
      "flex": null,
      "flex_flow": null,
      "grid_area": null,
      "grid_auto_columns": null,
      "grid_auto_flow": null,
      "grid_auto_rows": null,
      "grid_column": null,
      "grid_gap": null,
      "grid_row": null,
      "grid_template_areas": null,
      "grid_template_columns": null,
      "grid_template_rows": null,
      "height": null,
      "justify_content": null,
      "justify_items": null,
      "left": null,
      "margin": null,
      "max_height": null,
      "max_width": null,
      "min_height": null,
      "min_width": null,
      "object_fit": null,
      "object_position": null,
      "order": null,
      "overflow": null,
      "overflow_x": null,
      "overflow_y": null,
      "padding": null,
      "right": null,
      "top": null,
      "visibility": null,
      "width": null
     }
    },
    "4e509f7556d6426a8769d1848d44fcf0": {
     "model_module": "@jupyter-widgets/base",
     "model_name": "LayoutModel",
     "state": {
      "_model_module": "@jupyter-widgets/base",
      "_model_module_version": "1.2.0",
      "_model_name": "LayoutModel",
      "_view_count": null,
      "_view_module": "@jupyter-widgets/base",
      "_view_module_version": "1.2.0",
      "_view_name": "LayoutView",
      "align_content": null,
      "align_items": null,
      "align_self": null,
      "border": null,
      "bottom": null,
      "display": null,
      "flex": null,
      "flex_flow": null,
      "grid_area": null,
      "grid_auto_columns": null,
      "grid_auto_flow": null,
      "grid_auto_rows": null,
      "grid_column": null,
      "grid_gap": null,
      "grid_row": null,
      "grid_template_areas": null,
      "grid_template_columns": null,
      "grid_template_rows": null,
      "height": null,
      "justify_content": null,
      "justify_items": null,
      "left": null,
      "margin": null,
      "max_height": null,
      "max_width": null,
      "min_height": null,
      "min_width": null,
      "object_fit": null,
      "object_position": null,
      "order": null,
      "overflow": null,
      "overflow_x": null,
      "overflow_y": null,
      "padding": null,
      "right": null,
      "top": null,
      "visibility": null,
      "width": null
     }
    },
    "5047bfd2462b4898ad1e3f1e0a6728a8": {
     "model_module": "@jupyter-widgets/base",
     "model_name": "LayoutModel",
     "state": {
      "_model_module": "@jupyter-widgets/base",
      "_model_module_version": "1.2.0",
      "_model_name": "LayoutModel",
      "_view_count": null,
      "_view_module": "@jupyter-widgets/base",
      "_view_module_version": "1.2.0",
      "_view_name": "LayoutView",
      "align_content": null,
      "align_items": null,
      "align_self": null,
      "border": null,
      "bottom": null,
      "display": null,
      "flex": null,
      "flex_flow": null,
      "grid_area": null,
      "grid_auto_columns": null,
      "grid_auto_flow": null,
      "grid_auto_rows": null,
      "grid_column": null,
      "grid_gap": null,
      "grid_row": null,
      "grid_template_areas": null,
      "grid_template_columns": null,
      "grid_template_rows": null,
      "height": null,
      "justify_content": null,
      "justify_items": null,
      "left": null,
      "margin": null,
      "max_height": null,
      "max_width": null,
      "min_height": null,
      "min_width": null,
      "object_fit": null,
      "object_position": null,
      "order": null,
      "overflow": null,
      "overflow_x": null,
      "overflow_y": null,
      "padding": null,
      "right": null,
      "top": null,
      "visibility": null,
      "width": null
     }
    },
    "51d77813f12a45ff9fab95c7b1892574": {
     "model_module": "@jupyter-widgets/controls",
     "model_name": "HBoxModel",
     "state": {
      "_dom_classes": [],
      "_model_module": "@jupyter-widgets/controls",
      "_model_module_version": "1.5.0",
      "_model_name": "HBoxModel",
      "_view_count": null,
      "_view_module": "@jupyter-widgets/controls",
      "_view_module_version": "1.5.0",
      "_view_name": "HBoxView",
      "box_style": "",
      "children": [
       "IPY_MODEL_72a493b7ee4545a48ef39f3b6d756336",
       "IPY_MODEL_efe43a41ad294a5286af25b508b17b99"
      ],
      "layout": "IPY_MODEL_26442589ed9d4e0abfdcab6b5f578c1b"
     }
    },
    "559f43a862f7432395082a98e5bab868": {
     "model_module": "@jupyter-widgets/base",
     "model_name": "LayoutModel",
     "state": {
      "_model_module": "@jupyter-widgets/base",
      "_model_module_version": "1.2.0",
      "_model_name": "LayoutModel",
      "_view_count": null,
      "_view_module": "@jupyter-widgets/base",
      "_view_module_version": "1.2.0",
      "_view_name": "LayoutView",
      "align_content": null,
      "align_items": null,
      "align_self": null,
      "border": null,
      "bottom": null,
      "display": null,
      "flex": null,
      "flex_flow": null,
      "grid_area": null,
      "grid_auto_columns": null,
      "grid_auto_flow": null,
      "grid_auto_rows": null,
      "grid_column": null,
      "grid_gap": null,
      "grid_row": null,
      "grid_template_areas": null,
      "grid_template_columns": null,
      "grid_template_rows": null,
      "height": null,
      "justify_content": null,
      "justify_items": null,
      "left": null,
      "margin": null,
      "max_height": null,
      "max_width": null,
      "min_height": null,
      "min_width": null,
      "object_fit": null,
      "object_position": null,
      "order": null,
      "overflow": null,
      "overflow_x": null,
      "overflow_y": null,
      "padding": null,
      "right": null,
      "top": null,
      "visibility": null,
      "width": null
     }
    },
    "5b18040e4f974906ae0701baa7bdcd7a": {
     "model_module": "@jupyter-widgets/controls",
     "model_name": "ProgressStyleModel",
     "state": {
      "_model_module": "@jupyter-widgets/controls",
      "_model_module_version": "1.5.0",
      "_model_name": "ProgressStyleModel",
      "_view_count": null,
      "_view_module": "@jupyter-widgets/base",
      "_view_module_version": "1.2.0",
      "_view_name": "StyleView",
      "bar_color": null,
      "description_width": "initial"
     }
    },
    "5ba71df540f840a6bb3d216d79b5172f": {
     "model_module": "@jupyter-widgets/controls",
     "model_name": "ProgressStyleModel",
     "state": {
      "_model_module": "@jupyter-widgets/controls",
      "_model_module_version": "1.5.0",
      "_model_name": "ProgressStyleModel",
      "_view_count": null,
      "_view_module": "@jupyter-widgets/base",
      "_view_module_version": "1.2.0",
      "_view_name": "StyleView",
      "bar_color": null,
      "description_width": "initial"
     }
    },
    "61a32e5219284f48b209b6f43a5f2571": {
     "model_module": "@jupyter-widgets/controls",
     "model_name": "HBoxModel",
     "state": {
      "_dom_classes": [],
      "_model_module": "@jupyter-widgets/controls",
      "_model_module_version": "1.5.0",
      "_model_name": "HBoxModel",
      "_view_count": null,
      "_view_module": "@jupyter-widgets/controls",
      "_view_module_version": "1.5.0",
      "_view_name": "HBoxView",
      "box_style": "",
      "children": [
       "IPY_MODEL_f1416fcd090a406ebad072577dcaa5d6",
       "IPY_MODEL_c598060b168b4768b8928420fe80580b"
      ],
      "layout": "IPY_MODEL_6f99e95476d64b25b935f8c552183b5e"
     }
    },
    "624791321d8b45f890cc1f9b5429a346": {
     "model_module": "@jupyter-widgets/base",
     "model_name": "LayoutModel",
     "state": {
      "_model_module": "@jupyter-widgets/base",
      "_model_module_version": "1.2.0",
      "_model_name": "LayoutModel",
      "_view_count": null,
      "_view_module": "@jupyter-widgets/base",
      "_view_module_version": "1.2.0",
      "_view_name": "LayoutView",
      "align_content": null,
      "align_items": null,
      "align_self": null,
      "border": null,
      "bottom": null,
      "display": null,
      "flex": null,
      "flex_flow": null,
      "grid_area": null,
      "grid_auto_columns": null,
      "grid_auto_flow": null,
      "grid_auto_rows": null,
      "grid_column": null,
      "grid_gap": null,
      "grid_row": null,
      "grid_template_areas": null,
      "grid_template_columns": null,
      "grid_template_rows": null,
      "height": null,
      "justify_content": null,
      "justify_items": null,
      "left": null,
      "margin": null,
      "max_height": null,
      "max_width": null,
      "min_height": null,
      "min_width": null,
      "object_fit": null,
      "object_position": null,
      "order": null,
      "overflow": null,
      "overflow_x": null,
      "overflow_y": null,
      "padding": null,
      "right": null,
      "top": null,
      "visibility": null,
      "width": null
     }
    },
    "64ceace6220a4e2a86178da7c7367d66": {
     "model_module": "@jupyter-widgets/controls",
     "model_name": "HBoxModel",
     "state": {
      "_dom_classes": [],
      "_model_module": "@jupyter-widgets/controls",
      "_model_module_version": "1.5.0",
      "_model_name": "HBoxModel",
      "_view_count": null,
      "_view_module": "@jupyter-widgets/controls",
      "_view_module_version": "1.5.0",
      "_view_name": "HBoxView",
      "box_style": "",
      "children": [
       "IPY_MODEL_0be4d505955d43a38b41db0e572507c0",
       "IPY_MODEL_fee9e3b7c74741ad90b95f46cf1c5b92"
      ],
      "layout": "IPY_MODEL_bece79bb94e2414f82cdc66041319379"
     }
    },
    "6f99e95476d64b25b935f8c552183b5e": {
     "model_module": "@jupyter-widgets/base",
     "model_name": "LayoutModel",
     "state": {
      "_model_module": "@jupyter-widgets/base",
      "_model_module_version": "1.2.0",
      "_model_name": "LayoutModel",
      "_view_count": null,
      "_view_module": "@jupyter-widgets/base",
      "_view_module_version": "1.2.0",
      "_view_name": "LayoutView",
      "align_content": null,
      "align_items": null,
      "align_self": null,
      "border": null,
      "bottom": null,
      "display": null,
      "flex": null,
      "flex_flow": null,
      "grid_area": null,
      "grid_auto_columns": null,
      "grid_auto_flow": null,
      "grid_auto_rows": null,
      "grid_column": null,
      "grid_gap": null,
      "grid_row": null,
      "grid_template_areas": null,
      "grid_template_columns": null,
      "grid_template_rows": null,
      "height": null,
      "justify_content": null,
      "justify_items": null,
      "left": null,
      "margin": null,
      "max_height": null,
      "max_width": null,
      "min_height": null,
      "min_width": null,
      "object_fit": null,
      "object_position": null,
      "order": null,
      "overflow": null,
      "overflow_x": null,
      "overflow_y": null,
      "padding": null,
      "right": null,
      "top": null,
      "visibility": null,
      "width": null
     }
    },
    "72a493b7ee4545a48ef39f3b6d756336": {
     "model_module": "@jupyter-widgets/controls",
     "model_name": "FloatProgressModel",
     "state": {
      "_dom_classes": [],
      "_model_module": "@jupyter-widgets/controls",
      "_model_module_version": "1.5.0",
      "_model_name": "FloatProgressModel",
      "_view_count": null,
      "_view_module": "@jupyter-widgets/controls",
      "_view_module_version": "1.5.0",
      "_view_name": "ProgressView",
      "bar_style": "success",
      "description": "100%",
      "description_tooltip": null,
      "layout": "IPY_MODEL_1120ed1b797c4e3f873b4f9bfc00b1c3",
      "max": 78,
      "min": 0,
      "orientation": "horizontal",
      "style": "IPY_MODEL_a7c5eb8916f84e9085f298916047a3e5",
      "value": 78
     }
    },
    "755d3fedb5c84d619a1475278d58d654": {
     "model_module": "@jupyter-widgets/base",
     "model_name": "LayoutModel",
     "state": {
      "_model_module": "@jupyter-widgets/base",
      "_model_module_version": "1.2.0",
      "_model_name": "LayoutModel",
      "_view_count": null,
      "_view_module": "@jupyter-widgets/base",
      "_view_module_version": "1.2.0",
      "_view_name": "LayoutView",
      "align_content": null,
      "align_items": null,
      "align_self": null,
      "border": null,
      "bottom": null,
      "display": null,
      "flex": null,
      "flex_flow": null,
      "grid_area": null,
      "grid_auto_columns": null,
      "grid_auto_flow": null,
      "grid_auto_rows": null,
      "grid_column": null,
      "grid_gap": null,
      "grid_row": null,
      "grid_template_areas": null,
      "grid_template_columns": null,
      "grid_template_rows": null,
      "height": null,
      "justify_content": null,
      "justify_items": null,
      "left": null,
      "margin": null,
      "max_height": null,
      "max_width": null,
      "min_height": null,
      "min_width": null,
      "object_fit": null,
      "object_position": null,
      "order": null,
      "overflow": null,
      "overflow_x": null,
      "overflow_y": null,
      "padding": null,
      "right": null,
      "top": null,
      "visibility": null,
      "width": null
     }
    },
    "7c312e7831ac48a3823384127bb6ea3c": {
     "model_module": "@jupyter-widgets/controls",
     "model_name": "FloatProgressModel",
     "state": {
      "_dom_classes": [],
      "_model_module": "@jupyter-widgets/controls",
      "_model_module_version": "1.5.0",
      "_model_name": "FloatProgressModel",
      "_view_count": null,
      "_view_module": "@jupyter-widgets/controls",
      "_view_module_version": "1.5.0",
      "_view_name": "ProgressView",
      "bar_style": "success",
      "description": "100%",
      "description_tooltip": null,
      "layout": "IPY_MODEL_840d5c032f184e658b02b7de82cd53bf",
      "max": 500,
      "min": 0,
      "orientation": "horizontal",
      "style": "IPY_MODEL_5ba71df540f840a6bb3d216d79b5172f",
      "value": 500
     }
    },
    "81cc333e21fd457d98f63339f1d11335": {
     "model_module": "@jupyter-widgets/controls",
     "model_name": "DescriptionStyleModel",
     "state": {
      "_model_module": "@jupyter-widgets/controls",
      "_model_module_version": "1.5.0",
      "_model_name": "DescriptionStyleModel",
      "_view_count": null,
      "_view_module": "@jupyter-widgets/base",
      "_view_module_version": "1.2.0",
      "_view_name": "StyleView",
      "description_width": ""
     }
    },
    "83a6c18a6e6048909044704b2cfa7392": {
     "model_module": "@jupyter-widgets/base",
     "model_name": "LayoutModel",
     "state": {
      "_model_module": "@jupyter-widgets/base",
      "_model_module_version": "1.2.0",
      "_model_name": "LayoutModel",
      "_view_count": null,
      "_view_module": "@jupyter-widgets/base",
      "_view_module_version": "1.2.0",
      "_view_name": "LayoutView",
      "align_content": null,
      "align_items": null,
      "align_self": null,
      "border": null,
      "bottom": null,
      "display": null,
      "flex": null,
      "flex_flow": null,
      "grid_area": null,
      "grid_auto_columns": null,
      "grid_auto_flow": null,
      "grid_auto_rows": null,
      "grid_column": null,
      "grid_gap": null,
      "grid_row": null,
      "grid_template_areas": null,
      "grid_template_columns": null,
      "grid_template_rows": null,
      "height": null,
      "justify_content": null,
      "justify_items": null,
      "left": null,
      "margin": null,
      "max_height": null,
      "max_width": null,
      "min_height": null,
      "min_width": null,
      "object_fit": null,
      "object_position": null,
      "order": null,
      "overflow": null,
      "overflow_x": null,
      "overflow_y": null,
      "padding": null,
      "right": null,
      "top": null,
      "visibility": null,
      "width": null
     }
    },
    "83ac032741174687849a8059e65e1bba": {
     "model_module": "@jupyter-widgets/controls",
     "model_name": "HBoxModel",
     "state": {
      "_dom_classes": [],
      "_model_module": "@jupyter-widgets/controls",
      "_model_module_version": "1.5.0",
      "_model_name": "HBoxModel",
      "_view_count": null,
      "_view_module": "@jupyter-widgets/controls",
      "_view_module_version": "1.5.0",
      "_view_name": "HBoxView",
      "box_style": "",
      "children": [
       "IPY_MODEL_1b145225e2924f5291c8f01273fa7f23",
       "IPY_MODEL_f9010150c6d846aa9d5122eef0908d96"
      ],
      "layout": "IPY_MODEL_e15c6075974642d595cbb7e840f77ee3"
     }
    },
    "840d5c032f184e658b02b7de82cd53bf": {
     "model_module": "@jupyter-widgets/base",
     "model_name": "LayoutModel",
     "state": {
      "_model_module": "@jupyter-widgets/base",
      "_model_module_version": "1.2.0",
      "_model_name": "LayoutModel",
      "_view_count": null,
      "_view_module": "@jupyter-widgets/base",
      "_view_module_version": "1.2.0",
      "_view_name": "LayoutView",
      "align_content": null,
      "align_items": null,
      "align_self": null,
      "border": null,
      "bottom": null,
      "display": null,
      "flex": null,
      "flex_flow": null,
      "grid_area": null,
      "grid_auto_columns": null,
      "grid_auto_flow": null,
      "grid_auto_rows": null,
      "grid_column": null,
      "grid_gap": null,
      "grid_row": null,
      "grid_template_areas": null,
      "grid_template_columns": null,
      "grid_template_rows": null,
      "height": null,
      "justify_content": null,
      "justify_items": null,
      "left": null,
      "margin": null,
      "max_height": null,
      "max_width": null,
      "min_height": null,
      "min_width": null,
      "object_fit": null,
      "object_position": null,
      "order": null,
      "overflow": null,
      "overflow_x": null,
      "overflow_y": null,
      "padding": null,
      "right": null,
      "top": null,
      "visibility": null,
      "width": null
     }
    },
    "8b783a6ec5094ccf88539757a393fa96": {
     "model_module": "@jupyter-widgets/base",
     "model_name": "LayoutModel",
     "state": {
      "_model_module": "@jupyter-widgets/base",
      "_model_module_version": "1.2.0",
      "_model_name": "LayoutModel",
      "_view_count": null,
      "_view_module": "@jupyter-widgets/base",
      "_view_module_version": "1.2.0",
      "_view_name": "LayoutView",
      "align_content": null,
      "align_items": null,
      "align_self": null,
      "border": null,
      "bottom": null,
      "display": null,
      "flex": null,
      "flex_flow": null,
      "grid_area": null,
      "grid_auto_columns": null,
      "grid_auto_flow": null,
      "grid_auto_rows": null,
      "grid_column": null,
      "grid_gap": null,
      "grid_row": null,
      "grid_template_areas": null,
      "grid_template_columns": null,
      "grid_template_rows": null,
      "height": null,
      "justify_content": null,
      "justify_items": null,
      "left": null,
      "margin": null,
      "max_height": null,
      "max_width": null,
      "min_height": null,
      "min_width": null,
      "object_fit": null,
      "object_position": null,
      "order": null,
      "overflow": null,
      "overflow_x": null,
      "overflow_y": null,
      "padding": null,
      "right": null,
      "top": null,
      "visibility": null,
      "width": null
     }
    },
    "9ce1902277f5433aa0e153973f33278e": {
     "model_module": "@jupyter-widgets/controls",
     "model_name": "HBoxModel",
     "state": {
      "_dom_classes": [],
      "_model_module": "@jupyter-widgets/controls",
      "_model_module_version": "1.5.0",
      "_model_name": "HBoxModel",
      "_view_count": null,
      "_view_module": "@jupyter-widgets/controls",
      "_view_module_version": "1.5.0",
      "_view_name": "HBoxView",
      "box_style": "",
      "children": [
       "IPY_MODEL_c4c15118d1f84009ae0bdc9c91e18351",
       "IPY_MODEL_d893492ec29442c0b846ad5bdfbd34e1"
      ],
      "layout": "IPY_MODEL_236f7d11b0eb4dd6bc6660f895356720"
     }
    },
    "a4d8ae4d7a694f76b2d0817c888848f7": {
     "model_module": "@jupyter-widgets/controls",
     "model_name": "DescriptionStyleModel",
     "state": {
      "_model_module": "@jupyter-widgets/controls",
      "_model_module_version": "1.5.0",
      "_model_name": "DescriptionStyleModel",
      "_view_count": null,
      "_view_module": "@jupyter-widgets/base",
      "_view_module_version": "1.2.0",
      "_view_name": "StyleView",
      "description_width": ""
     }
    },
    "a6f2e298fa364b36b93ab6c3b2aa9629": {
     "model_module": "@jupyter-widgets/base",
     "model_name": "LayoutModel",
     "state": {
      "_model_module": "@jupyter-widgets/base",
      "_model_module_version": "1.2.0",
      "_model_name": "LayoutModel",
      "_view_count": null,
      "_view_module": "@jupyter-widgets/base",
      "_view_module_version": "1.2.0",
      "_view_name": "LayoutView",
      "align_content": null,
      "align_items": null,
      "align_self": null,
      "border": null,
      "bottom": null,
      "display": null,
      "flex": null,
      "flex_flow": null,
      "grid_area": null,
      "grid_auto_columns": null,
      "grid_auto_flow": null,
      "grid_auto_rows": null,
      "grid_column": null,
      "grid_gap": null,
      "grid_row": null,
      "grid_template_areas": null,
      "grid_template_columns": null,
      "grid_template_rows": null,
      "height": null,
      "justify_content": null,
      "justify_items": null,
      "left": null,
      "margin": null,
      "max_height": null,
      "max_width": null,
      "min_height": null,
      "min_width": null,
      "object_fit": null,
      "object_position": null,
      "order": null,
      "overflow": null,
      "overflow_x": null,
      "overflow_y": null,
      "padding": null,
      "right": null,
      "top": null,
      "visibility": null,
      "width": null
     }
    },
    "a7c5eb8916f84e9085f298916047a3e5": {
     "model_module": "@jupyter-widgets/controls",
     "model_name": "ProgressStyleModel",
     "state": {
      "_model_module": "@jupyter-widgets/controls",
      "_model_module_version": "1.5.0",
      "_model_name": "ProgressStyleModel",
      "_view_count": null,
      "_view_module": "@jupyter-widgets/base",
      "_view_module_version": "1.2.0",
      "_view_name": "StyleView",
      "bar_color": null,
      "description_width": "initial"
     }
    },
    "b52e8954d0d04a99aa7b7b8b7f48bd9b": {
     "model_module": "@jupyter-widgets/controls",
     "model_name": "HTMLModel",
     "state": {
      "_dom_classes": [],
      "_model_module": "@jupyter-widgets/controls",
      "_model_module_version": "1.5.0",
      "_model_name": "HTMLModel",
      "_view_count": null,
      "_view_module": "@jupyter-widgets/controls",
      "_view_module_version": "1.5.0",
      "_view_name": "HTMLView",
      "description": "",
      "description_tooltip": null,
      "layout": "IPY_MODEL_e14a1b3291dd47198b8432dc9db1c0dd",
      "placeholder": "​",
      "style": "IPY_MODEL_30e67f6fc6824f068777ab52f6725136",
      "value": " 500/500 [03:56&lt;00:00,  2.11it/s]"
     }
    },
    "b644a7c4423447a19916ad8d470be80f": {
     "model_module": "@jupyter-widgets/base",
     "model_name": "LayoutModel",
     "state": {
      "_model_module": "@jupyter-widgets/base",
      "_model_module_version": "1.2.0",
      "_model_name": "LayoutModel",
      "_view_count": null,
      "_view_module": "@jupyter-widgets/base",
      "_view_module_version": "1.2.0",
      "_view_name": "LayoutView",
      "align_content": null,
      "align_items": null,
      "align_self": null,
      "border": null,
      "bottom": null,
      "display": null,
      "flex": null,
      "flex_flow": null,
      "grid_area": null,
      "grid_auto_columns": null,
      "grid_auto_flow": null,
      "grid_auto_rows": null,
      "grid_column": null,
      "grid_gap": null,
      "grid_row": null,
      "grid_template_areas": null,
      "grid_template_columns": null,
      "grid_template_rows": null,
      "height": null,
      "justify_content": null,
      "justify_items": null,
      "left": null,
      "margin": null,
      "max_height": null,
      "max_width": null,
      "min_height": null,
      "min_width": null,
      "object_fit": null,
      "object_position": null,
      "order": null,
      "overflow": null,
      "overflow_x": null,
      "overflow_y": null,
      "padding": null,
      "right": null,
      "top": null,
      "visibility": null,
      "width": null
     }
    },
    "b795a5a09d3b42be838a8f57b85ee355": {
     "model_module": "@jupyter-widgets/base",
     "model_name": "LayoutModel",
     "state": {
      "_model_module": "@jupyter-widgets/base",
      "_model_module_version": "1.2.0",
      "_model_name": "LayoutModel",
      "_view_count": null,
      "_view_module": "@jupyter-widgets/base",
      "_view_module_version": "1.2.0",
      "_view_name": "LayoutView",
      "align_content": null,
      "align_items": null,
      "align_self": null,
      "border": null,
      "bottom": null,
      "display": null,
      "flex": null,
      "flex_flow": null,
      "grid_area": null,
      "grid_auto_columns": null,
      "grid_auto_flow": null,
      "grid_auto_rows": null,
      "grid_column": null,
      "grid_gap": null,
      "grid_row": null,
      "grid_template_areas": null,
      "grid_template_columns": null,
      "grid_template_rows": null,
      "height": null,
      "justify_content": null,
      "justify_items": null,
      "left": null,
      "margin": null,
      "max_height": null,
      "max_width": null,
      "min_height": null,
      "min_width": null,
      "object_fit": null,
      "object_position": null,
      "order": null,
      "overflow": null,
      "overflow_x": null,
      "overflow_y": null,
      "padding": null,
      "right": null,
      "top": null,
      "visibility": null,
      "width": null
     }
    },
    "b83496a1f9034864b57a3ee33c17d527": {
     "model_module": "@jupyter-widgets/controls",
     "model_name": "DescriptionStyleModel",
     "state": {
      "_model_module": "@jupyter-widgets/controls",
      "_model_module_version": "1.5.0",
      "_model_name": "DescriptionStyleModel",
      "_view_count": null,
      "_view_module": "@jupyter-widgets/base",
      "_view_module_version": "1.2.0",
      "_view_name": "StyleView",
      "description_width": ""
     }
    },
    "bc5e684676ae4e03bb43e645dcf3bcf4": {
     "model_module": "@jupyter-widgets/controls",
     "model_name": "FloatProgressModel",
     "state": {
      "_dom_classes": [],
      "_model_module": "@jupyter-widgets/controls",
      "_model_module_version": "1.5.0",
      "_model_name": "FloatProgressModel",
      "_view_count": null,
      "_view_module": "@jupyter-widgets/controls",
      "_view_module_version": "1.5.0",
      "_view_name": "ProgressView",
      "bar_style": "success",
      "description": "100%",
      "description_tooltip": null,
      "layout": "IPY_MODEL_d30c7f1d07a746e29020ad6ec47f2682",
      "max": 75,
      "min": 0,
      "orientation": "horizontal",
      "style": "IPY_MODEL_5b18040e4f974906ae0701baa7bdcd7a",
      "value": 75
     }
    },
    "bece79bb94e2414f82cdc66041319379": {
     "model_module": "@jupyter-widgets/base",
     "model_name": "LayoutModel",
     "state": {
      "_model_module": "@jupyter-widgets/base",
      "_model_module_version": "1.2.0",
      "_model_name": "LayoutModel",
      "_view_count": null,
      "_view_module": "@jupyter-widgets/base",
      "_view_module_version": "1.2.0",
      "_view_name": "LayoutView",
      "align_content": null,
      "align_items": null,
      "align_self": null,
      "border": null,
      "bottom": null,
      "display": null,
      "flex": null,
      "flex_flow": null,
      "grid_area": null,
      "grid_auto_columns": null,
      "grid_auto_flow": null,
      "grid_auto_rows": null,
      "grid_column": null,
      "grid_gap": null,
      "grid_row": null,
      "grid_template_areas": null,
      "grid_template_columns": null,
      "grid_template_rows": null,
      "height": null,
      "justify_content": null,
      "justify_items": null,
      "left": null,
      "margin": null,
      "max_height": null,
      "max_width": null,
      "min_height": null,
      "min_width": null,
      "object_fit": null,
      "object_position": null,
      "order": null,
      "overflow": null,
      "overflow_x": null,
      "overflow_y": null,
      "padding": null,
      "right": null,
      "top": null,
      "visibility": null,
      "width": null
     }
    },
    "c38de644cbfb465bb574a6ae6f878226": {
     "model_module": "@jupyter-widgets/base",
     "model_name": "LayoutModel",
     "state": {
      "_model_module": "@jupyter-widgets/base",
      "_model_module_version": "1.2.0",
      "_model_name": "LayoutModel",
      "_view_count": null,
      "_view_module": "@jupyter-widgets/base",
      "_view_module_version": "1.2.0",
      "_view_name": "LayoutView",
      "align_content": null,
      "align_items": null,
      "align_self": null,
      "border": null,
      "bottom": null,
      "display": null,
      "flex": null,
      "flex_flow": null,
      "grid_area": null,
      "grid_auto_columns": null,
      "grid_auto_flow": null,
      "grid_auto_rows": null,
      "grid_column": null,
      "grid_gap": null,
      "grid_row": null,
      "grid_template_areas": null,
      "grid_template_columns": null,
      "grid_template_rows": null,
      "height": null,
      "justify_content": null,
      "justify_items": null,
      "left": null,
      "margin": null,
      "max_height": null,
      "max_width": null,
      "min_height": null,
      "min_width": null,
      "object_fit": null,
      "object_position": null,
      "order": null,
      "overflow": null,
      "overflow_x": null,
      "overflow_y": null,
      "padding": null,
      "right": null,
      "top": null,
      "visibility": null,
      "width": null
     }
    },
    "c4c15118d1f84009ae0bdc9c91e18351": {
     "model_module": "@jupyter-widgets/controls",
     "model_name": "FloatProgressModel",
     "state": {
      "_dom_classes": [],
      "_model_module": "@jupyter-widgets/controls",
      "_model_module_version": "1.5.0",
      "_model_name": "FloatProgressModel",
      "_view_count": null,
      "_view_module": "@jupyter-widgets/controls",
      "_view_module_version": "1.5.0",
      "_view_name": "ProgressView",
      "bar_style": "success",
      "description": "100%",
      "description_tooltip": null,
      "layout": "IPY_MODEL_25e6e1c280bd45dca9e8a8840697e910",
      "max": 78,
      "min": 0,
      "orientation": "horizontal",
      "style": "IPY_MODEL_36dec592b3da47d3a5e23ac5b81ac538",
      "value": 78
     }
    },
    "c598060b168b4768b8928420fe80580b": {
     "model_module": "@jupyter-widgets/controls",
     "model_name": "HTMLModel",
     "state": {
      "_dom_classes": [],
      "_model_module": "@jupyter-widgets/controls",
      "_model_module_version": "1.5.0",
      "_model_name": "HTMLModel",
      "_view_count": null,
      "_view_module": "@jupyter-widgets/controls",
      "_view_module_version": "1.5.0",
      "_view_name": "HTMLView",
      "description": "",
      "description_tooltip": null,
      "layout": "IPY_MODEL_db0c424ae15a4d8f923b7e850bf84778",
      "placeholder": "​",
      "style": "IPY_MODEL_09b25c385dc043e28369caa91d80634a",
      "value": " 80/80 [00:00&lt;00:00, 97.58it/s]"
     }
    },
    "ccc4fc5ab3354ba8a385e29f38a78c52": {
     "model_module": "@jupyter-widgets/controls",
     "model_name": "HTMLModel",
     "state": {
      "_dom_classes": [],
      "_model_module": "@jupyter-widgets/controls",
      "_model_module_version": "1.5.0",
      "_model_name": "HTMLModel",
      "_view_count": null,
      "_view_module": "@jupyter-widgets/controls",
      "_view_module_version": "1.5.0",
      "_view_name": "HTMLView",
      "description": "",
      "description_tooltip": null,
      "layout": "IPY_MODEL_b795a5a09d3b42be838a8f57b85ee355",
      "placeholder": "​",
      "style": "IPY_MODEL_207d62c1d47c412bb33e12d845f6e7b5",
      "value": " 500/500 [03:59&lt;00:00,  2.09it/s]"
     }
    },
    "d20c88da34364992b3004c0500e504d0": {
     "model_module": "@jupyter-widgets/controls",
     "model_name": "HBoxModel",
     "state": {
      "_dom_classes": [],
      "_model_module": "@jupyter-widgets/controls",
      "_model_module_version": "1.5.0",
      "_model_name": "HBoxModel",
      "_view_count": null,
      "_view_module": "@jupyter-widgets/controls",
      "_view_module_version": "1.5.0",
      "_view_name": "HBoxView",
      "box_style": "",
      "children": [
       "IPY_MODEL_bc5e684676ae4e03bb43e645dcf3bcf4",
       "IPY_MODEL_11507176d8134d0e9da3c6c5175db569"
      ],
      "layout": "IPY_MODEL_83a6c18a6e6048909044704b2cfa7392"
     }
    },
    "d30c7f1d07a746e29020ad6ec47f2682": {
     "model_module": "@jupyter-widgets/base",
     "model_name": "LayoutModel",
     "state": {
      "_model_module": "@jupyter-widgets/base",
      "_model_module_version": "1.2.0",
      "_model_name": "LayoutModel",
      "_view_count": null,
      "_view_module": "@jupyter-widgets/base",
      "_view_module_version": "1.2.0",
      "_view_name": "LayoutView",
      "align_content": null,
      "align_items": null,
      "align_self": null,
      "border": null,
      "bottom": null,
      "display": null,
      "flex": null,
      "flex_flow": null,
      "grid_area": null,
      "grid_auto_columns": null,
      "grid_auto_flow": null,
      "grid_auto_rows": null,
      "grid_column": null,
      "grid_gap": null,
      "grid_row": null,
      "grid_template_areas": null,
      "grid_template_columns": null,
      "grid_template_rows": null,
      "height": null,
      "justify_content": null,
      "justify_items": null,
      "left": null,
      "margin": null,
      "max_height": null,
      "max_width": null,
      "min_height": null,
      "min_width": null,
      "object_fit": null,
      "object_position": null,
      "order": null,
      "overflow": null,
      "overflow_x": null,
      "overflow_y": null,
      "padding": null,
      "right": null,
      "top": null,
      "visibility": null,
      "width": null
     }
    },
    "d893492ec29442c0b846ad5bdfbd34e1": {
     "model_module": "@jupyter-widgets/controls",
     "model_name": "HTMLModel",
     "state": {
      "_dom_classes": [],
      "_model_module": "@jupyter-widgets/controls",
      "_model_module_version": "1.5.0",
      "_model_name": "HTMLModel",
      "_view_count": null,
      "_view_module": "@jupyter-widgets/controls",
      "_view_module_version": "1.5.0",
      "_view_name": "HTMLView",
      "description": "",
      "description_tooltip": null,
      "layout": "IPY_MODEL_8b783a6ec5094ccf88539757a393fa96",
      "placeholder": "​",
      "style": "IPY_MODEL_b83496a1f9034864b57a3ee33c17d527",
      "value": " 78/78 [00:01&lt;00:00, 65.16it/s]"
     }
    },
    "db0c424ae15a4d8f923b7e850bf84778": {
     "model_module": "@jupyter-widgets/base",
     "model_name": "LayoutModel",
     "state": {
      "_model_module": "@jupyter-widgets/base",
      "_model_module_version": "1.2.0",
      "_model_name": "LayoutModel",
      "_view_count": null,
      "_view_module": "@jupyter-widgets/base",
      "_view_module_version": "1.2.0",
      "_view_name": "LayoutView",
      "align_content": null,
      "align_items": null,
      "align_self": null,
      "border": null,
      "bottom": null,
      "display": null,
      "flex": null,
      "flex_flow": null,
      "grid_area": null,
      "grid_auto_columns": null,
      "grid_auto_flow": null,
      "grid_auto_rows": null,
      "grid_column": null,
      "grid_gap": null,
      "grid_row": null,
      "grid_template_areas": null,
      "grid_template_columns": null,
      "grid_template_rows": null,
      "height": null,
      "justify_content": null,
      "justify_items": null,
      "left": null,
      "margin": null,
      "max_height": null,
      "max_width": null,
      "min_height": null,
      "min_width": null,
      "object_fit": null,
      "object_position": null,
      "order": null,
      "overflow": null,
      "overflow_x": null,
      "overflow_y": null,
      "padding": null,
      "right": null,
      "top": null,
      "visibility": null,
      "width": null
     }
    },
    "e143b506cdce4e5398829eb4eebf5044": {
     "model_module": "@jupyter-widgets/controls",
     "model_name": "FloatProgressModel",
     "state": {
      "_dom_classes": [],
      "_model_module": "@jupyter-widgets/controls",
      "_model_module_version": "1.5.0",
      "_model_name": "FloatProgressModel",
      "_view_count": null,
      "_view_module": "@jupyter-widgets/controls",
      "_view_module_version": "1.5.0",
      "_view_name": "ProgressView",
      "bar_style": "success",
      "description": "100%",
      "description_tooltip": null,
      "layout": "IPY_MODEL_a6f2e298fa364b36b93ab6c3b2aa9629",
      "max": 500,
      "min": 0,
      "orientation": "horizontal",
      "style": "IPY_MODEL_41ab8a9972834e51a9e931789d603e00",
      "value": 500
     }
    },
    "e14a1b3291dd47198b8432dc9db1c0dd": {
     "model_module": "@jupyter-widgets/base",
     "model_name": "LayoutModel",
     "state": {
      "_model_module": "@jupyter-widgets/base",
      "_model_module_version": "1.2.0",
      "_model_name": "LayoutModel",
      "_view_count": null,
      "_view_module": "@jupyter-widgets/base",
      "_view_module_version": "1.2.0",
      "_view_name": "LayoutView",
      "align_content": null,
      "align_items": null,
      "align_self": null,
      "border": null,
      "bottom": null,
      "display": null,
      "flex": null,
      "flex_flow": null,
      "grid_area": null,
      "grid_auto_columns": null,
      "grid_auto_flow": null,
      "grid_auto_rows": null,
      "grid_column": null,
      "grid_gap": null,
      "grid_row": null,
      "grid_template_areas": null,
      "grid_template_columns": null,
      "grid_template_rows": null,
      "height": null,
      "justify_content": null,
      "justify_items": null,
      "left": null,
      "margin": null,
      "max_height": null,
      "max_width": null,
      "min_height": null,
      "min_width": null,
      "object_fit": null,
      "object_position": null,
      "order": null,
      "overflow": null,
      "overflow_x": null,
      "overflow_y": null,
      "padding": null,
      "right": null,
      "top": null,
      "visibility": null,
      "width": null
     }
    },
    "e15c6075974642d595cbb7e840f77ee3": {
     "model_module": "@jupyter-widgets/base",
     "model_name": "LayoutModel",
     "state": {
      "_model_module": "@jupyter-widgets/base",
      "_model_module_version": "1.2.0",
      "_model_name": "LayoutModel",
      "_view_count": null,
      "_view_module": "@jupyter-widgets/base",
      "_view_module_version": "1.2.0",
      "_view_name": "LayoutView",
      "align_content": null,
      "align_items": null,
      "align_self": null,
      "border": null,
      "bottom": null,
      "display": null,
      "flex": null,
      "flex_flow": null,
      "grid_area": null,
      "grid_auto_columns": null,
      "grid_auto_flow": null,
      "grid_auto_rows": null,
      "grid_column": null,
      "grid_gap": null,
      "grid_row": null,
      "grid_template_areas": null,
      "grid_template_columns": null,
      "grid_template_rows": null,
      "height": null,
      "justify_content": null,
      "justify_items": null,
      "left": null,
      "margin": null,
      "max_height": null,
      "max_width": null,
      "min_height": null,
      "min_width": null,
      "object_fit": null,
      "object_position": null,
      "order": null,
      "overflow": null,
      "overflow_x": null,
      "overflow_y": null,
      "padding": null,
      "right": null,
      "top": null,
      "visibility": null,
      "width": null
     }
    },
    "eaa73feffe534b92bbb00b531e6bbc71": {
     "model_module": "@jupyter-widgets/controls",
     "model_name": "FloatProgressModel",
     "state": {
      "_dom_classes": [],
      "_model_module": "@jupyter-widgets/controls",
      "_model_module_version": "1.5.0",
      "_model_name": "FloatProgressModel",
      "_view_count": null,
      "_view_module": "@jupyter-widgets/controls",
      "_view_module_version": "1.5.0",
      "_view_name": "ProgressView",
      "bar_style": "success",
      "description": "100%",
      "description_tooltip": null,
      "layout": "IPY_MODEL_4e509f7556d6426a8769d1848d44fcf0",
      "max": 80,
      "min": 0,
      "orientation": "horizontal",
      "style": "IPY_MODEL_451261e26fa3444fb7addb13056a6403",
      "value": 80
     }
    },
    "efe43a41ad294a5286af25b508b17b99": {
     "model_module": "@jupyter-widgets/controls",
     "model_name": "HTMLModel",
     "state": {
      "_dom_classes": [],
      "_model_module": "@jupyter-widgets/controls",
      "_model_module_version": "1.5.0",
      "_model_name": "HTMLModel",
      "_view_count": null,
      "_view_module": "@jupyter-widgets/controls",
      "_view_module_version": "1.5.0",
      "_view_name": "HTMLView",
      "description": "",
      "description_tooltip": null,
      "layout": "IPY_MODEL_b644a7c4423447a19916ad8d470be80f",
      "placeholder": "​",
      "style": "IPY_MODEL_81cc333e21fd457d98f63339f1d11335",
      "value": " 78/78 [00:00&lt;00:00, 111.87it/s]"
     }
    },
    "f1416fcd090a406ebad072577dcaa5d6": {
     "model_module": "@jupyter-widgets/controls",
     "model_name": "FloatProgressModel",
     "state": {
      "_dom_classes": [],
      "_model_module": "@jupyter-widgets/controls",
      "_model_module_version": "1.5.0",
      "_model_name": "FloatProgressModel",
      "_view_count": null,
      "_view_module": "@jupyter-widgets/controls",
      "_view_module_version": "1.5.0",
      "_view_name": "ProgressView",
      "bar_style": "success",
      "description": "100%",
      "description_tooltip": null,
      "layout": "IPY_MODEL_15861565c7c84a92a73da10d7f7bc7a1",
      "max": 80,
      "min": 0,
      "orientation": "horizontal",
      "style": "IPY_MODEL_1f0b0b2d3d6342dc84677365f233844b",
      "value": 80
     }
    },
    "f7c088237ad74acabbf7d9a3641b1385": {
     "model_module": "@jupyter-widgets/controls",
     "model_name": "HBoxModel",
     "state": {
      "_dom_classes": [],
      "_model_module": "@jupyter-widgets/controls",
      "_model_module_version": "1.5.0",
      "_model_name": "HBoxModel",
      "_view_count": null,
      "_view_module": "@jupyter-widgets/controls",
      "_view_module_version": "1.5.0",
      "_view_name": "HBoxView",
      "box_style": "",
      "children": [
       "IPY_MODEL_7c312e7831ac48a3823384127bb6ea3c",
       "IPY_MODEL_b52e8954d0d04a99aa7b7b8b7f48bd9b"
      ],
      "layout": "IPY_MODEL_497334f8508149cd9f8aa41b3e169e91"
     }
    },
    "f8107d2926f449b8b2edd96ce5dd1d9a": {
     "model_module": "@jupyter-widgets/controls",
     "model_name": "HBoxModel",
     "state": {
      "_dom_classes": [],
      "_model_module": "@jupyter-widgets/controls",
      "_model_module_version": "1.5.0",
      "_model_name": "HBoxModel",
      "_view_count": null,
      "_view_module": "@jupyter-widgets/controls",
      "_view_module_version": "1.5.0",
      "_view_name": "HBoxView",
      "box_style": "",
      "children": [
       "IPY_MODEL_e143b506cdce4e5398829eb4eebf5044",
       "IPY_MODEL_ccc4fc5ab3354ba8a385e29f38a78c52"
      ],
      "layout": "IPY_MODEL_faad0f2653794e35aa1213a8b47d839e"
     }
    },
    "f9010150c6d846aa9d5122eef0908d96": {
     "model_module": "@jupyter-widgets/controls",
     "model_name": "HTMLModel",
     "state": {
      "_dom_classes": [],
      "_model_module": "@jupyter-widgets/controls",
      "_model_module_version": "1.5.0",
      "_model_name": "HTMLModel",
      "_view_count": null,
      "_view_module": "@jupyter-widgets/controls",
      "_view_module_version": "1.5.0",
      "_view_name": "HTMLView",
      "description": "",
      "description_tooltip": null,
      "layout": "IPY_MODEL_5047bfd2462b4898ad1e3f1e0a6728a8",
      "placeholder": "​",
      "style": "IPY_MODEL_1db658029dc8455a8c3948df53efe721",
      "value": " 75/75 [00:00&lt;00:00, 167.85it/s]"
     }
    },
    "faad0f2653794e35aa1213a8b47d839e": {
     "model_module": "@jupyter-widgets/base",
     "model_name": "LayoutModel",
     "state": {
      "_model_module": "@jupyter-widgets/base",
      "_model_module_version": "1.2.0",
      "_model_name": "LayoutModel",
      "_view_count": null,
      "_view_module": "@jupyter-widgets/base",
      "_view_module_version": "1.2.0",
      "_view_name": "LayoutView",
      "align_content": null,
      "align_items": null,
      "align_self": null,
      "border": null,
      "bottom": null,
      "display": null,
      "flex": null,
      "flex_flow": null,
      "grid_area": null,
      "grid_auto_columns": null,
      "grid_auto_flow": null,
      "grid_auto_rows": null,
      "grid_column": null,
      "grid_gap": null,
      "grid_row": null,
      "grid_template_areas": null,
      "grid_template_columns": null,
      "grid_template_rows": null,
      "height": null,
      "justify_content": null,
      "justify_items": null,
      "left": null,
      "margin": null,
      "max_height": null,
      "max_width": null,
      "min_height": null,
      "min_width": null,
      "object_fit": null,
      "object_position": null,
      "order": null,
      "overflow": null,
      "overflow_x": null,
      "overflow_y": null,
      "padding": null,
      "right": null,
      "top": null,
      "visibility": null,
      "width": null
     }
    },
    "fee9e3b7c74741ad90b95f46cf1c5b92": {
     "model_module": "@jupyter-widgets/controls",
     "model_name": "HTMLModel",
     "state": {
      "_dom_classes": [],
      "_model_module": "@jupyter-widgets/controls",
      "_model_module_version": "1.5.0",
      "_model_name": "HTMLModel",
      "_view_count": null,
      "_view_module": "@jupyter-widgets/controls",
      "_view_module_version": "1.5.0",
      "_view_name": "HTMLView",
      "description": "",
      "description_tooltip": null,
      "layout": "IPY_MODEL_559f43a862f7432395082a98e5bab868",
      "placeholder": "​",
      "style": "IPY_MODEL_00ad1e94c3f141ddae43a08f59235b82",
      "value": " 1466/1466 [00:47&lt;00:00, 30.85it/s]"
     }
    }
   }
  }
 },
 "nbformat": 4,
 "nbformat_minor": 1
}
