{
 "cells": [
  {
   "cell_type": "code",
   "execution_count": null,
   "metadata": {
    "colab": {
     "base_uri": "https://localhost:8080/"
    },
    "executionInfo": {
     "elapsed": 37393,
     "status": "ok",
     "timestamp": 1611333012865,
     "user": {
      "displayName": "KHONG FAN YI",
      "photoUrl": "",
      "userId": "02416044610109286808"
     },
     "user_tz": -480
    },
    "id": "W5FsjVYcO3gv",
    "outputId": "31f3ebb5-0fae-49f4-eb0f-2e66c43a3f8b"
   },
   "outputs": [
    {
     "name": "stdout",
     "output_type": "stream",
     "text": [
      "Mounted at /content/drive\n"
     ]
    }
   ],
   "source": [
    "from google.colab import drive\n",
    "drive.mount('/content/drive')"
   ]
  },
  {
   "cell_type": "markdown",
   "metadata": {
    "id": "iqI5L27rHjAg"
   },
   "source": [
    "##Import Packages"
   ]
  },
  {
   "cell_type": "code",
   "execution_count": null,
   "metadata": {
    "id": "CF2Wjtpo5Ovs"
   },
   "outputs": [],
   "source": [
    "import time\n",
    "import numpy as np\n",
    "import os\n",
    "import cv2\n",
    "import random\n",
    "import math\n",
    "import matplotlib.pyplot as plt\n",
    "import pickle\n",
    "from tqdm.notebook import tqdm\n",
    "from sklearn.model_selection import train_test_split\n",
    "from sklearn.decomposition import PCA\n",
    "import sklearn.metrics as metrics\n",
    "from sklearn.metrics import plot_confusion_matrix\n",
    "from sklearn.neural_network import MLPClassifier"
   ]
  },
  {
   "cell_type": "code",
   "execution_count": null,
   "metadata": {
    "id": "UvxIGvY_5OwA"
   },
   "outputs": [],
   "source": [
    "# Define labels of the classes and subclasses\n",
    "\n",
    "CLASSES = [\"healthy\", \"ill\"]\n",
    "SUBCLASSES = [\"fever\", \"sore throat\", \"running nose\"]"
   ]
  },
  {
   "cell_type": "markdown",
   "metadata": {
    "id": "ciqkz1NoIE9L"
   },
   "source": [
    "##Load Dataset"
   ]
  },
  {
   "cell_type": "code",
   "execution_count": null,
   "metadata": {
    "colab": {
     "base_uri": "https://localhost:8080/",
     "height": 210,
     "referenced_widgets": [
      "705e42382123455e95a070ed99a798a3",
      "6eadb6aef57e4f1293b5c3e5de16180e",
      "d54d4a4dc2b34ba39e13ffe9e8c26586",
      "4deede37637e451c8c07f09d98c14c6d",
      "77301815c8644d23b9f080667944c77b",
      "b1a6e1a66c104d43b9fbecf1c6fcb89c",
      "eac8de29c86e4b20973537b44c49ff39",
      "1e2c2981d0bc41efbef1f55c877279c8",
      "6feb81e352074fe19111860059bfa735",
      "f52ef0d739c14788874f16c6839ca6ce",
      "b63f52e06c6646729eadde54e6f12882",
      "54b84702a5c345ea82135fbc49618191",
      "e73c063e51c84349be6a35922c5a86f0",
      "f0646542d3a1494dbf8e9d0871b6096b",
      "c7095c26165d423fa491ac99da0b8650",
      "7094c41d38614d4a86fbbdd0bf4ec627",
      "1366b0ec9a5948a9b57ea92c7fdd0098",
      "105aabd925604e33b98c74bacdd005a9",
      "2e45a6e5ac4b408883b4585770853bdb",
      "09cc992d05404acaa4b4fe1c48e650fe",
      "a439be6d36334bf4847870902f4a5019",
      "788679b8b48a4d669560a29ff6e7c4e2",
      "9f657230a52842acb5875c89b3551b45",
      "616cba3f43fb4e22864e53bb58f8d18d",
      "337cd14a3cb44d128e2f25c660cf0c0c",
      "4cdbf33837ee47ffa09a21547ccdff32",
      "7b6e7b1f9bf844ce99473af4855977e7",
      "ba683a4b0b7343c389d269f207f578a7",
      "212fe8f335634efa9a0c6de4b206346f",
      "9396f2317c05411183f457040d157494",
      "b19fd8cda15a49af9280b44a92622f0b",
      "cd9f4337bf12437699b6aad6d181bc20"
     ]
    },
    "executionInfo": {
     "elapsed": 296710,
     "status": "ok",
     "timestamp": 1611333385450,
     "user": {
      "displayName": "KHONG FAN YI",
      "photoUrl": "",
      "userId": "02416044610109286808"
     },
     "user_tz": -480
    },
    "id": "azh7MJDPcS9u",
    "outputId": "420c9ca3-d283-44e8-a016-0b37d8eef3f6",
    "scrolled": true
   },
   "outputs": [
    {
     "data": {
      "application/vnd.jupyter.widget-view+json": {
       "model_id": "705e42382123455e95a070ed99a798a3",
       "version_major": 2,
       "version_minor": 0
      },
      "text/plain": [
       "HBox(children=(FloatProgress(value=0.0, max=500.0), HTML(value='')))"
      ]
     },
     "metadata": {
      "tags": []
     },
     "output_type": "display_data"
    },
    {
     "name": "stdout",
     "output_type": "stream",
     "text": [
      "\n"
     ]
    },
    {
     "data": {
      "application/vnd.jupyter.widget-view+json": {
       "model_id": "6feb81e352074fe19111860059bfa735",
       "version_major": 2,
       "version_minor": 0
      },
      "text/plain": [
       "HBox(children=(FloatProgress(value=0.0, max=78.0), HTML(value='')))"
      ]
     },
     "metadata": {
      "tags": []
     },
     "output_type": "display_data"
    },
    {
     "name": "stdout",
     "output_type": "stream",
     "text": [
      "\n"
     ]
    },
    {
     "data": {
      "application/vnd.jupyter.widget-view+json": {
       "model_id": "1366b0ec9a5948a9b57ea92c7fdd0098",
       "version_major": 2,
       "version_minor": 0
      },
      "text/plain": [
       "HBox(children=(FloatProgress(value=0.0, max=80.0), HTML(value='')))"
      ]
     },
     "metadata": {
      "tags": []
     },
     "output_type": "display_data"
    },
    {
     "name": "stdout",
     "output_type": "stream",
     "text": [
      "\n"
     ]
    },
    {
     "data": {
      "application/vnd.jupyter.widget-view+json": {
       "model_id": "337cd14a3cb44d128e2f25c660cf0c0c",
       "version_major": 2,
       "version_minor": 0
      },
      "text/plain": [
       "HBox(children=(FloatProgress(value=0.0, max=75.0), HTML(value='')))"
      ]
     },
     "metadata": {
      "tags": []
     },
     "output_type": "display_data"
    },
    {
     "name": "stdout",
     "output_type": "stream",
     "text": [
      "\n"
     ]
    }
   ],
   "source": [
    "folder = \"/content/drive/MyDrive/FYP/dataset\"\n",
    "img_array = []\n",
    "class_num_list1 = []\n",
    "subcls_num_list1 = [\"None\"]*500   # fill the list with 500 \"None's\" first to represent \"healthy\" samples\n",
    "\n",
    "for c in CLASSES: \n",
    "        \n",
    "    if (c == \"healthy\"):\n",
    "        path = os.path.join(folder,c)  # create path to dataset folder\n",
    "        class_num = 0  # get the CLASSES index, 0 = healthy, 1 = ill\n",
    "        for img in tqdm(os.listdir(path)):  # iterate over each image per folder\n",
    "            try:\n",
    "                img = cv2.imread(os.path.join(path,img))  # read image into a list \n",
    "                img_array.append(img)\n",
    "                class_num_list1.append(class_num) # save a list of the class numbers\n",
    "            except Exception as e: \n",
    "                print(\"error\")\n",
    "                \n",
    "    elif (c == \"ill\"):\n",
    "        for s in SUBCLASSES:\n",
    "            path = os.path.join(folder,c,s) # create path to ill subfolders \n",
    "            class_num = 1\n",
    "            subclass_num = SUBCLASSES.index(s)\n",
    "            for img in tqdm(os.listdir(path)):  # iterate over each image per folder\n",
    "                try:\n",
    "                    img = cv2.imread(os.path.join(path,img))  # read image into a list\n",
    "                    img_array.append(img)\n",
    "                    class_num_list1.append(class_num) \n",
    "                    subcls_num_list1.append(subclass_num) # save a list of the subclass numbers; 0 = fever, 1 = sore throat, 2 = running nose\n",
    "                except Exception as e: \n",
    "                    print(\"error\")"
   ]
  },
  {
   "cell_type": "code",
   "execution_count": null,
   "metadata": {
    "colab": {
     "base_uri": "https://localhost:8080/",
     "height": 210,
     "referenced_widgets": [
      "9efe3eb408ac4e61b86662fb4ac93518",
      "8bf7869e856c47f8b978ad171eddd6de",
      "cef5d0ffa77c42bd8be7e1baf0600882",
      "8af1569890a1424282896063ee186711",
      "82ffc50373c64d76b288c492bcf02282",
      "418b56c363194804b37a201fd624e550",
      "13d0c8b3d72940f99a82ff8b1f8080c4",
      "ebeb83865bc64823843b1d4a87e5a6a0",
      "b72e6524cbf44af4a31b4cbb5c5cdd8d",
      "f065e03ae66b4a9890648df1ab6b6f38",
      "4c5b6916e56240678017f6361b5f89a8",
      "5b966b6daacb479aab75317b086970b0",
      "c0fbd79bdf6e4e8e9ed48326c206f4f6",
      "ba5c972d80214288b38060b78ee60952",
      "bd9a2fef2cca464ea022378431a47a37",
      "1936da6b08944f9cbc058da6c4f0721c",
      "7961046cf4724d11a212d7b9ba25e334",
      "d72c749710fd405fab88fa4262f85878",
      "bbf1f3ce06c1417eb55319373c280bc9",
      "8308e9a1a6744201a306ec2c7ce4831b",
      "91de86ba45554440b37198b5c4f1bbe5",
      "adae8536998c4c0da204e692e4ca3a70",
      "250dc179e12c41a485f6c1c79582a009",
      "9f04230aa3ea402a960b5828057a5ec3",
      "66c9a1e0421b4240a2f7f5672feb3fc7",
      "5ab368c90aee41ad8e67621c2c0f3c15",
      "066d97cde891443bb1904346e943c250",
      "afd0a4a3be9343d1978abfecfb2d556f",
      "4a3bac2c9d794c92880c84d96d62fd23",
      "b73c1fa5b4974a4a8432cbdc9aad94fd",
      "01a7ca89f022441aa51a3fac800b8685",
      "e0d715f665a548fb8d599252aafcbe50"
     ]
    },
    "executionInfo": {
     "elapsed": 583924,
     "status": "ok",
     "timestamp": 1611333673923,
     "user": {
      "displayName": "KHONG FAN YI",
      "photoUrl": "",
      "userId": "02416044610109286808"
     },
     "user_tz": -480
    },
    "id": "Auf0PEu2cS9x",
    "outputId": "721b6a82-29be-4d93-d0ab-a35a7642092a"
   },
   "outputs": [
    {
     "data": {
      "application/vnd.jupyter.widget-view+json": {
       "model_id": "9efe3eb408ac4e61b86662fb4ac93518",
       "version_major": 2,
       "version_minor": 0
      },
      "text/plain": [
       "HBox(children=(FloatProgress(value=0.0, max=500.0), HTML(value='')))"
      ]
     },
     "metadata": {
      "tags": []
     },
     "output_type": "display_data"
    },
    {
     "name": "stdout",
     "output_type": "stream",
     "text": [
      "\n"
     ]
    },
    {
     "data": {
      "application/vnd.jupyter.widget-view+json": {
       "model_id": "b72e6524cbf44af4a31b4cbb5c5cdd8d",
       "version_major": 2,
       "version_minor": 0
      },
      "text/plain": [
       "HBox(children=(FloatProgress(value=0.0, max=78.0), HTML(value='')))"
      ]
     },
     "metadata": {
      "tags": []
     },
     "output_type": "display_data"
    },
    {
     "name": "stdout",
     "output_type": "stream",
     "text": [
      "\n"
     ]
    },
    {
     "data": {
      "application/vnd.jupyter.widget-view+json": {
       "model_id": "7961046cf4724d11a212d7b9ba25e334",
       "version_major": 2,
       "version_minor": 0
      },
      "text/plain": [
       "HBox(children=(FloatProgress(value=0.0, max=80.0), HTML(value='')))"
      ]
     },
     "metadata": {
      "tags": []
     },
     "output_type": "display_data"
    },
    {
     "name": "stdout",
     "output_type": "stream",
     "text": [
      "\n"
     ]
    },
    {
     "data": {
      "application/vnd.jupyter.widget-view+json": {
       "model_id": "66c9a1e0421b4240a2f7f5672feb3fc7",
       "version_major": 2,
       "version_minor": 0
      },
      "text/plain": [
       "HBox(children=(FloatProgress(value=0.0, max=75.0), HTML(value='')))"
      ]
     },
     "metadata": {
      "tags": []
     },
     "output_type": "display_data"
    },
    {
     "name": "stdout",
     "output_type": "stream",
     "text": [
      "\n"
     ]
    }
   ],
   "source": [
    "folder_aug = \"/content/drive/MyDrive/FYP/augmented images\"\n",
    "aug_array = []\n",
    "class_num_list2 = []\n",
    "subcls_num_list2 = [\"None\"]*500 # fill the list with 500 \"None's\" first to represent \"healthy\" samples\n",
    "\n",
    "for c in CLASSES: \n",
    "        \n",
    "    if (c == \"healthy\"):\n",
    "        path = os.path.join(folder_aug,c)  # create path to dataset folder_aug\n",
    "        class_num = 0  # get the CLASSES index, 0 = healthy, 1 = ill\n",
    "        for img in tqdm(os.listdir(path)):  # iterate over each image per folder_aug\n",
    "            try:\n",
    "                img = cv2.imread(os.path.join(path,img))  # read image into a list \n",
    "                aug_array.append(img)\n",
    "                class_num_list2.append(class_num) # save a list of the class numbers\n",
    "            except Exception as e: \n",
    "                print(\"error\")\n",
    "                \n",
    "    elif (c == \"ill\"):\n",
    "        for s in SUBCLASSES:\n",
    "            path = os.path.join(folder_aug,c,s) # create path to ill subfolder_augs \n",
    "            class_num = 1\n",
    "            subclass_num = SUBCLASSES.index(s)\n",
    "            for img in tqdm(os.listdir(path)):  # iterate over each image per folder_aug\n",
    "                try:\n",
    "                    img = cv2.imread(os.path.join(path,img))  # read image into a list\n",
    "                    aug_array.append(img)\n",
    "                    class_num_list2.append(class_num) \n",
    "                    subcls_num_list2.append(subclass_num) # save a list of the subclass numbers; 0 = fever, 1 = sore throat, 2 = running nose\n",
    "                except Exception as e: \n",
    "                    print(\"error\")"
   ]
  },
  {
   "cell_type": "markdown",
   "metadata": {
    "id": "2kLF31p6HGit"
   },
   "source": [
    "## First-Level Classification\n",
    "> ### *Classify samples into healthy (0) and ill (1) classes*\n"
   ]
  },
  {
   "cell_type": "code",
   "execution_count": null,
   "metadata": {
    "id": "MEuw9582cS91"
   },
   "outputs": [],
   "source": [
    "# Create partial dataset of original images (will add in the augmented set after spliting)\n",
    "dataset = []\n",
    "\n",
    "for i, img in enumerate(img_array):  \n",
    "    try:\n",
    "        img_gray = cv2.cvtColor(img, cv2.COLOR_BGR2GRAY)\n",
    "        dataset.append([img_gray, class_num_list1[i], subcls_num_list1[i]])\n",
    "    except Exception as e: \n",
    "        print(\"error\")"
   ]
  },
  {
   "cell_type": "code",
   "execution_count": null,
   "metadata": {
    "id": "_XSiQmhxcS93"
   },
   "outputs": [],
   "source": [
    "# Create the augmented images' dataset \n",
    "aug_dataset = []\n",
    "\n",
    "for i, aug in enumerate(aug_array):  \n",
    "    try:\n",
    "        aug_gray = cv2.cvtColor(aug, cv2.COLOR_BGR2GRAY)\n",
    "        aug_dataset.append([aug_gray, class_num_list2[i], subcls_num_list2[i]])\n",
    "    except Exception as e: \n",
    "        print(\"error\")"
   ]
  },
  {
   "cell_type": "code",
   "execution_count": null,
   "metadata": {
    "colab": {
     "base_uri": "https://localhost:8080/"
    },
    "executionInfo": {
     "elapsed": 1191,
     "status": "ok",
     "timestamp": 1611336085881,
     "user": {
      "displayName": "KHONG FAN YI",
      "photoUrl": "",
      "userId": "02416044610109286808"
     },
     "user_tz": -480
    },
    "id": "58eiMLPFcS94",
    "outputId": "ea4150ab-f44e-4839-9dad-6cfb565c23ef"
   },
   "outputs": [
    {
     "name": "stdout",
     "output_type": "stream",
     "text": [
      "Train set length before data augmentation:  586\n",
      "Test set length:  147\n"
     ]
    }
   ],
   "source": [
    "# Split the original dataset\n",
    "train_set_before, test_set = train_test_split(dataset, test_size=0.2, shuffle=True)\n",
    "\n",
    "print('Train set length before data augmentation: ', len(train_set_before))\n",
    "print('Test set length: ', len(test_set))"
   ]
  },
  {
   "cell_type": "code",
   "execution_count": null,
   "metadata": {
    "colab": {
     "base_uri": "https://localhost:8080/"
    },
    "executionInfo": {
     "elapsed": 1174,
     "status": "ok",
     "timestamp": 1611336085887,
     "user": {
      "displayName": "KHONG FAN YI",
      "photoUrl": "",
      "userId": "02416044610109286808"
     },
     "user_tz": -480
    },
    "id": "x3rHcqT8cS95",
    "outputId": "c58afaa5-5c82-4731-f82a-be1196ef8b4e"
   },
   "outputs": [
    {
     "data": {
      "text/plain": [
       "1319"
      ]
     },
     "execution_count": 169,
     "metadata": {
      "tags": []
     },
     "output_type": "execute_result"
    }
   ],
   "source": [
    "# Add the augmented dataset into the training set, then shuffle\n",
    "train_set = []\n",
    "\n",
    "train_set = train_set_before.copy()\n",
    "\n",
    "for aug_set in aug_dataset:  \n",
    "    if (len(train_set) < 1319):\n",
    "        train_set.append(aug_set)\n",
    "        \n",
    "random.shuffle(train_set)\n",
    "len(train_set)"
   ]
  },
  {
   "cell_type": "code",
   "execution_count": null,
   "metadata": {
    "colab": {
     "base_uri": "https://localhost:8080/"
    },
    "executionInfo": {
     "elapsed": 1162,
     "status": "ok",
     "timestamp": 1611336085890,
     "user": {
      "displayName": "KHONG FAN YI",
      "photoUrl": "",
      "userId": "02416044610109286808"
     },
     "user_tz": -480
    },
    "id": "O9Z3yfSY5OwN",
    "outputId": "fa5ea77c-f675-4f76-cb24-44c3a2253640"
   },
   "outputs": [
    {
     "name": "stdout",
     "output_type": "stream",
     "text": [
      "(1319, 40000)\n",
      "(1319,)\n"
     ]
    }
   ],
   "source": [
    "# Create training set\n",
    "\n",
    "X_train = []\n",
    "y_train = []\n",
    "gray_img1 = []\n",
    "subcls_num = []\n",
    "\n",
    "for features, label, subcls in train_set:\n",
    "    X_train.append(features)\n",
    "    y_train.append(label)\n",
    "    subcls_num.append(subcls)\n",
    "    gray_img1.append(features) \n",
    "\n",
    "#X_train = np.array(X_train).reshape(-1, 200, 200, 1)\n",
    "X_train = np.array(X_train).reshape(len(y_train), -1)\n",
    "y_train = np.array(y_train)\n",
    "\n",
    "print(X_train.shape)\n",
    "print(y_train.shape)"
   ]
  },
  {
   "cell_type": "code",
   "execution_count": null,
   "metadata": {
    "colab": {
     "base_uri": "https://localhost:8080/"
    },
    "executionInfo": {
     "elapsed": 1151,
     "status": "ok",
     "timestamp": 1611336085892,
     "user": {
      "displayName": "KHONG FAN YI",
      "photoUrl": "",
      "userId": "02416044610109286808"
     },
     "user_tz": -480
    },
    "id": "m8kNRZrX5OwO",
    "outputId": "47c6b0f8-200f-4bf9-f1f6-794c4d92052f"
   },
   "outputs": [
    {
     "name": "stdout",
     "output_type": "stream",
     "text": [
      "(147, 40000)\n",
      "(147,)\n"
     ]
    }
   ],
   "source": [
    "# Create testing set\n",
    "\n",
    "X_test = []\n",
    "y_test = []\n",
    "gray_img2 = []\n",
    "\n",
    "for features, label, subcls in test_set:\n",
    "    X_test.append(features)\n",
    "    y_test.append(label)\n",
    "    gray_img2.append(features)\n",
    "\n",
    "#X_test = np.array(X_test).reshape(-1, 200, 200, 1)\n",
    "X_test = np.array(X_test).reshape(len(y_test), -1)\n",
    "y_test = np.array(y_test)\n",
    "\n",
    "print(X_test.shape)\n",
    "print(y_test.shape)"
   ]
  },
  {
   "cell_type": "markdown",
   "metadata": {
    "id": "-IK1KAsRF0ou"
   },
   "source": [
    "### Feature Extraction"
   ]
  },
  {
   "cell_type": "code",
   "execution_count": null,
   "metadata": {
    "id": "wXb4-XExdd8H",
    "scrolled": false
   },
   "outputs": [],
   "source": [
    "# Apply PCA to extract features\n",
    "n_components =  100\n",
    "\n",
    "pca = PCA(n_components=n_components, svd_solver='randomized',\n",
    "          whiten=True).fit(X_train)\n",
    "X_train = pca.transform(X_train)\n",
    "X_test = pca.transform(X_test)"
   ]
  },
  {
   "cell_type": "markdown",
   "metadata": {
    "id": "84UEBtn7idcv"
   },
   "source": [
    "### Train Model"
   ]
  },
  {
   "cell_type": "code",
   "execution_count": null,
   "metadata": {
    "colab": {
     "base_uri": "https://localhost:8080/"
    },
    "executionInfo": {
     "elapsed": 18715,
     "status": "ok",
     "timestamp": 1611336103482,
     "user": {
      "displayName": "KHONG FAN YI",
      "photoUrl": "",
      "userId": "02416044610109286808"
     },
     "user_tz": -480
    },
    "id": "yw-8CAJS5OwW",
    "outputId": "c86817c1-5dc5-4584-9e90-0a4a03bf7d90"
   },
   "outputs": [
    {
     "name": "stdout",
     "output_type": "stream",
     "text": [
      "6.388272047042847 seconds\n"
     ]
    }
   ],
   "source": [
    "# Train the classifier\n",
    "\n",
    "mlp = MLPClassifier(solver='adam', \n",
    "                    hidden_layer_sizes=(500,500), \n",
    "                    #early_stopping=True,\n",
    "                    =0.001,\n",
    "                    random_state=None)\n",
    "\n",
    "start_train = time.time() # to record the training time\n",
    "mlp.fit(X_train, y_train)\n",
    "end_train = time.time()\n",
    "print(end_train - start_train, \"seconds\")"
   ]
  },
  {
   "cell_type": "markdown",
   "metadata": {
    "id": "EN0feoe9o5yx"
   },
   "source": [
    "#### Training Performance"
   ]
  },
  {
   "cell_type": "code",
   "execution_count": null,
   "metadata": {
    "colab": {
     "base_uri": "https://localhost:8080/"
    },
    "executionInfo": {
     "elapsed": 18705,
     "status": "ok",
     "timestamp": 1611336103485,
     "user": {
      "displayName": "KHONG FAN YI",
      "photoUrl": "",
      "userId": "02416044610109286808"
     },
     "user_tz": -480
    },
    "id": "5flMCsPGcS-C",
    "outputId": "c67538ca-298c-4e9c-d6aa-812abaa5169e",
    "scrolled": false
   },
   "outputs": [
    {
     "name": "stdout",
     "output_type": "stream",
     "text": [
      "Classification report for - \n",
      "MLPClassifier(activation='relu', alpha=0.001, batch_size='auto', beta_1=0.9,\n",
      "              beta_2=0.999, early_stopping=False, epsilon=1e-08,\n",
      "              hidden_layer_sizes=(500, 500), learning_rate='constant',\n",
      "              learning_rate_init=0.001, max_fun=15000, max_iter=200,\n",
      "              momentum=0.9, n_iter_no_change=10, nesterovs_momentum=True,\n",
      "              power_t=0.5, random_state=None, shuffle=True, solver='adam',\n",
      "              tol=0.0001, validation_fraction=0.1, verbose=False,\n",
      "              warm_start=False):\n",
      "              precision    recall  f1-score   support\n",
      "\n",
      "           0       1.00      1.00      1.00       904\n",
      "           1       1.00      1.00      1.00       415\n",
      "\n",
      "    accuracy                           1.00      1319\n",
      "   macro avg       1.00      1.00      1.00      1319\n",
      "weighted avg       1.00      1.00      1.00      1319\n",
      "\n",
      "\n",
      "Training accuracy: 100.0\n"
     ]
    }
   ],
   "source": [
    "y_pred = mlp.predict(X_train)\n",
    "\n",
    "ill_pred = y_pred\n",
    "\n",
    "print(\"Classification report for - \\n{}:\\n{}\\n\".format(\n",
    "    mlp, metrics.classification_report(y_train, y_pred)))\n",
    "\n",
    "train_acc = metrics.accuracy_score(y_train, y_pred)*100\n",
    "print(\"Training accuracy: \" + str(train_acc))"
   ]
  },
  {
   "cell_type": "code",
   "execution_count": null,
   "metadata": {
    "colab": {
     "base_uri": "https://localhost:8080/",
     "height": 295
    },
    "executionInfo": {
     "elapsed": 19146,
     "status": "ok",
     "timestamp": 1611336103945,
     "user": {
      "displayName": "KHONG FAN YI",
      "photoUrl": "",
      "userId": "02416044610109286808"
     },
     "user_tz": -480
    },
    "id": "zBZGN1w9cS-D",
    "outputId": "f0661a52-a6d5-429c-f0e1-735d2d263303"
   },
   "outputs": [
    {
     "data": {
      "text/plain": [
       "<sklearn.metrics._plot.confusion_matrix.ConfusionMatrixDisplay at 0x7f8fffa91908>"
      ]
     },
     "execution_count": 175,
     "metadata": {
      "tags": []
     },
     "output_type": "execute_result"
    },
    {
     "data": {
      "image/png": "[encoded data removed]",
      "text/plain": [
       "<Figure size 432x288 with 2 Axes>"
      ]
     },
     "metadata": {
      "needs_background": "light",
      "tags": []
     },
     "output_type": "display_data"
    }
   ],
   "source": [
    "plot_confusion_matrix(mlp, X_train, y_train, cmap='plasma')"
   ]
  },
  {
   "cell_type": "markdown",
   "metadata": {
    "id": "d5qV4luLo5yz"
   },
   "source": [
    "#### Testing Performance"
   ]
  },
  {
   "cell_type": "code",
   "execution_count": null,
   "metadata": {
    "colab": {
     "base_uri": "https://localhost:8080/"
    },
    "executionInfo": {
     "elapsed": 19142,
     "status": "ok",
     "timestamp": 1611336103956,
     "user": {
      "displayName": "KHONG FAN YI",
      "photoUrl": "",
      "userId": "02416044610109286808"
     },
     "user_tz": -480
    },
    "id": "5AzTPuIncS-E",
    "outputId": "8d01bf1d-ed0b-45bc-c43f-c7ac80a9f0b5"
   },
   "outputs": [
    {
     "name": "stdout",
     "output_type": "stream",
     "text": [
      "Classification report for - \n",
      "MLPClassifier(activation='relu', alpha=0.001, batch_size='auto', beta_1=0.9,\n",
      "              beta_2=0.999, early_stopping=False, epsilon=1e-08,\n",
      "              hidden_layer_sizes=(500, 500), learning_rate='constant',\n",
      "              learning_rate_init=0.001, max_fun=15000, max_iter=200,\n",
      "              momentum=0.9, n_iter_no_change=10, nesterovs_momentum=True,\n",
      "              power_t=0.5, random_state=None, shuffle=True, solver='adam',\n",
      "              tol=0.0001, validation_fraction=0.1, verbose=False,\n",
      "              warm_start=False):\n",
      "              precision    recall  f1-score   support\n",
      "\n",
      "           0       0.89      0.96      0.92        96\n",
      "           1       0.91      0.78      0.84        51\n",
      "\n",
      "    accuracy                           0.90       147\n",
      "   macro avg       0.90      0.87      0.88       147\n",
      "weighted avg       0.90      0.90      0.90       147\n",
      "\n",
      "\n",
      "Testing accuracy: 89.79591836734694\n"
     ]
    }
   ],
   "source": [
    "y_pred = mlp.predict(X_test)\n",
    "\n",
    "print(\"Classification report for - \\n{}:\\n{}\\n\".format(\n",
    "    mlp, metrics.classification_report(y_test, y_pred)))\n",
    "\n",
    "test_acc = metrics.accuracy_score(y_test, y_pred)*100\n",
    "print(\"Testing accuracy: \" + str(test_acc))"
   ]
  },
  {
   "cell_type": "code",
   "execution_count": null,
   "metadata": {
    "colab": {
     "base_uri": "https://localhost:8080/",
     "height": 295
    },
    "executionInfo": {
     "elapsed": 19124,
     "status": "ok",
     "timestamp": 1611336103957,
     "user": {
      "displayName": "KHONG FAN YI",
      "photoUrl": "",
      "userId": "02416044610109286808"
     },
     "user_tz": -480
    },
    "id": "x0VzOzcRcS-F",
    "outputId": "143ffe7d-9295-4d06-e061-a62f21182f3b",
    "scrolled": true
   },
   "outputs": [
    {
     "data": {
      "text/plain": [
       "<sklearn.metrics._plot.confusion_matrix.ConfusionMatrixDisplay at 0x7f8fff5b5b38>"
      ]
     },
     "execution_count": 177,
     "metadata": {
      "tags": []
     },
     "output_type": "execute_result"
    },
    {
     "data": {
      "image/png": "[encoded data removed]",
      "text/plain": [
       "<Figure size 432x288 with 2 Axes>"
      ]
     },
     "metadata": {
      "needs_background": "light",
      "tags": []
     },
     "output_type": "display_data"
    }
   ],
   "source": [
    "plot_confusion_matrix(mlp, X_test, y_test, cmap='plasma')"
   ]
  },
  {
   "cell_type": "code",
   "execution_count": null,
   "metadata": {
    "id": "5Pbb-Mm9dd8L"
   },
   "outputs": [],
   "source": [
    "def get_wrong_case(pred_result, test_result):\n",
    "    \n",
    "    #get wrongly classified samples\n",
    "    for i in range(len(pred_result)):\n",
    "        predicted = pred_result[i]\n",
    "        actual = test_result[i]\n",
    "        if(actual != predicted):\n",
    "            wrong_case.append([i,predicted,actual])"
   ]
  },
  {
   "cell_type": "code",
   "execution_count": null,
   "metadata": {
    "id": "ZYpCERhsdd8L"
   },
   "outputs": [],
   "source": [
    "def plot(wrong_case, row, col, gray, labels):\n",
    "    \n",
    "    if (labels == SUBCLASSES):\n",
    "        fsize = 18\n",
    "        top = 5\n",
    "        bottom = 4.5\n",
    "    else:\n",
    "        fsize = 20\n",
    "        top = 3\n",
    "        bottom = 2.3\n",
    "       \n",
    "    plt.figure(figsize=(40, 40))\n",
    "    plt.subplots_adjust(top=top, bottom=bottom)\n",
    "    \n",
    "    for i in range(len(wrong_case)):\n",
    "        plt.subplot(row, col, i+1)\n",
    "        plt.xticks([])\n",
    "        plt.yticks([])\n",
    "        plt.grid(False)\n",
    "        title = str(i+1) + '. Predicted: ' + labels[wrong_case[i][1]] + '\\nActual: ' + labels[wrong_case[i][2]]\n",
    "        plt.title(title, fontdict = {'fontsize' : fsize})\n",
    "        plt.imshow(gray[wrong_case[i][0]], cmap='gray')\n",
    "\n",
    "    plt.show()\n",
    "    \n",
    "    print(\"The number of misclassified images: \")\n",
    "    print(len(wrong_case))"
   ]
  },
  {
   "cell_type": "code",
   "execution_count": null,
   "metadata": {
    "id": "QljJDCD1dd8M"
   },
   "outputs": [],
   "source": [
    "wrong_case = []\n",
    "get_wrong_case(y_pred, y_test)"
   ]
  },
  {
   "cell_type": "markdown",
   "metadata": {
    "id": "v8np4hKTo5y4"
   },
   "source": [
    "## Second-Level Classification\n",
    "> ### *Classify  'ill' cases into fever (0), sore throat (1) and running nose (2) subclasses*\n",
    "\n"
   ]
  },
  {
   "cell_type": "code",
   "execution_count": null,
   "metadata": {
    "id": "nrBA0NQzdd8O"
   },
   "outputs": [],
   "source": [
    "ill_case_index = []\n",
    "ill_dataset = []"
   ]
  },
  {
   "cell_type": "code",
   "execution_count": null,
   "metadata": {
    "id": "j1WjQ8N4dd8P",
    "scrolled": true
   },
   "outputs": [],
   "source": [
    "# Get the indexes of samples correctly classified as \"ill\"\n",
    "\n",
    "for i, a in enumerate(ill_pred):\n",
    "    if((ill_pred[i] == 1) and (ill_pred[i] == y_train[i]) and (subcls_num[i] != \"None\")):  # 1 = ill, filter out the cases with \"healthy\" true labels\n",
    "        ill_case_index.append(i) # save the indexes of ill cases"
   ]
  },
  {
   "cell_type": "code",
   "execution_count": null,
   "metadata": {
    "id": "1eV_TObZdd8Q",
    "scrolled": true
   },
   "outputs": [],
   "source": [
    "# Create dataset for second-level classification\n",
    "\n",
    "for a in ill_case_index:\n",
    "    ill_dataset.append([X_train[a], subcls_num[a], gray_img1[a]]) # subcls_num[] contains subclass labels (e.g 0, 1, 2)\n",
    "    \n",
    "ill_dataset = np.array(ill_dataset, dtype=object)"
   ]
  },
  {
   "cell_type": "code",
   "execution_count": null,
   "metadata": {
    "colab": {
     "base_uri": "https://localhost:8080/"
    },
    "executionInfo": {
     "elapsed": 856,
     "status": "ok",
     "timestamp": 1611336148472,
     "user": {
      "displayName": "KHONG FAN YI",
      "photoUrl": "",
      "userId": "02416044610109286808"
     },
     "user_tz": -480
    },
    "id": "M6m_e-cAdd8U",
    "outputId": "58f10057-d781-449e-d290-ec14fd6a4127",
    "scrolled": true
   },
   "outputs": [
    {
     "name": "stdout",
     "output_type": "stream",
     "text": [
      "Train set length:  290\n",
      "Test set length:  125\n"
     ]
    }
   ],
   "source": [
    "train_ill_set, test_ill_set = train_test_split(ill_dataset, test_size=0.3, shuffle=True)\n",
    "\n",
    "print('Train set length: ', len(train_ill_set))\n",
    "print('Test set length: ', len(test_ill_set))"
   ]
  },
  {
   "cell_type": "code",
   "execution_count": null,
   "metadata": {
    "colab": {
     "base_uri": "https://localhost:8080/"
    },
    "executionInfo": {
     "elapsed": 1226,
     "status": "ok",
     "timestamp": 1611336148860,
     "user": {
      "displayName": "KHONG FAN YI",
      "photoUrl": "",
      "userId": "02416044610109286808"
     },
     "user_tz": -480
    },
    "id": "TUfvP3iMdd8V",
    "outputId": "e2d0ebe5-829e-47d4-ed04-658336e48c41"
   },
   "outputs": [
    {
     "name": "stdout",
     "output_type": "stream",
     "text": [
      "(290, 100)\n",
      "(290,)\n"
     ]
    }
   ],
   "source": [
    "X_train_ill = []\n",
    "y_train_ill = []\n",
    "gray_img_ill1 = []\n",
    "\n",
    "for features, label, gray in train_ill_set:\n",
    "    X_train_ill.append(features)\n",
    "    y_train_ill.append(label)\n",
    "    gray_img_ill1.append(gray)\n",
    "\n",
    "X_train_ill = np.array(X_train_ill)\n",
    "y_train_ill = np.array(y_train_ill)\n",
    "\n",
    "print(X_train_ill.shape)\n",
    "print(y_train_ill.shape)"
   ]
  },
  {
   "cell_type": "code",
   "execution_count": null,
   "metadata": {
    "colab": {
     "base_uri": "https://localhost:8080/"
    },
    "executionInfo": {
     "elapsed": 1215,
     "status": "ok",
     "timestamp": 1611336148862,
     "user": {
      "displayName": "KHONG FAN YI",
      "photoUrl": "",
      "userId": "02416044610109286808"
     },
     "user_tz": -480
    },
    "id": "d2AdlGZMdd8W",
    "outputId": "338a452a-e744-4257-adf6-13d7434e6d07"
   },
   "outputs": [
    {
     "name": "stdout",
     "output_type": "stream",
     "text": [
      "(125, 100)\n",
      "(125,)\n"
     ]
    }
   ],
   "source": [
    "X_test_ill = []\n",
    "y_test_ill = []\n",
    "gray_img_ill2 = []\n",
    "\n",
    "for features, label, gray in test_ill_set:\n",
    "    X_test_ill.append(features)\n",
    "    y_test_ill.append(label)\n",
    "    gray_img_ill2.append(gray)\n",
    "\n",
    "X_test_ill = np.array(X_test_ill)\n",
    "y_test_ill = np.array(y_test_ill)\n",
    "\n",
    "print(X_test_ill.shape)\n",
    "print(y_test_ill.shape)"
   ]
  },
  {
   "cell_type": "markdown",
   "metadata": {
    "id": "HZwp1-eSi04s"
   },
   "source": [
    "### Train Model"
   ]
  },
  {
   "cell_type": "code",
   "execution_count": null,
   "metadata": {
    "colab": {
     "base_uri": "https://localhost:8080/"
    },
    "executionInfo": {
     "elapsed": 2009,
     "status": "ok",
     "timestamp": 1611336275094,
     "user": {
      "displayName": "KHONG FAN YI",
      "photoUrl": "",
      "userId": "02416044610109286808"
     },
     "user_tz": -480
    },
    "id": "sO_ygpoBdd8Y",
    "outputId": "e18ac38a-d11b-48cc-ebfe-b4a44ff55836"
   },
   "outputs": [
    {
     "name": "stdout",
     "output_type": "stream",
     "text": [
      "1.2629008293151855 seconds\n"
     ]
    }
   ],
   "source": [
    "mlp = MLPClassifier(solver='adam', \n",
    "                    hidden_layer_sizes=(300,300), \n",
    "                    #early_stopping=True, \n",
    "                    random_state=None)\n",
    "\n",
    "start_train_ill = time.time()\n",
    "mlp.fit(X_train_ill, y_train_ill)\n",
    "end_train_ill = time.time()\n",
    "print(end_train_ill - start_train_ill, \"seconds\")"
   ]
  },
  {
   "cell_type": "markdown",
   "metadata": {
    "id": "iflaNAaZIRLQ"
   },
   "source": [
    "#### Training Performance"
   ]
  },
  {
   "cell_type": "code",
   "execution_count": null,
   "metadata": {
    "colab": {
     "base_uri": "https://localhost:8080/"
    },
    "executionInfo": {
     "elapsed": 1989,
     "status": "ok",
     "timestamp": 1611336275096,
     "user": {
      "displayName": "KHONG FAN YI",
      "photoUrl": "",
      "userId": "02416044610109286808"
     },
     "user_tz": -480
    },
    "id": "tUXmJWoRcS-M",
    "outputId": "79fff7fc-d865-4afe-ea70-e8d67bbaabe5",
    "scrolled": false
   },
   "outputs": [
    {
     "name": "stdout",
     "output_type": "stream",
     "text": [
      "Classification report for - \n",
      "MLPClassifier(activation='relu', alpha=0.0001, batch_size='auto', beta_1=0.9,\n",
      "              beta_2=0.999, early_stopping=False, epsilon=1e-08,\n",
      "              hidden_layer_sizes=(300, 300), learning_rate='constant',\n",
      "              learning_rate_init=0.001, max_fun=15000, max_iter=200,\n",
      "              momentum=0.9, n_iter_no_change=10, nesterovs_momentum=True,\n",
      "              power_t=0.5, random_state=None, shuffle=True, solver='adam',\n",
      "              tol=0.0001, validation_fraction=0.1, verbose=False,\n",
      "              warm_start=False):\n",
      "              precision    recall  f1-score   support\n",
      "\n",
      "           0       1.00      1.00      1.00       106\n",
      "           1       1.00      1.00      1.00        94\n",
      "           2       1.00      1.00      1.00        90\n",
      "\n",
      "    accuracy                           1.00       290\n",
      "   macro avg       1.00      1.00      1.00       290\n",
      "weighted avg       1.00      1.00      1.00       290\n",
      "\n",
      "\n",
      "Training accuracy: 100.0\n"
     ]
    }
   ],
   "source": [
    "y_pred_ill = mlp.predict(X_train_ill)\n",
    "\n",
    "print(\"Classification report for - \\n{}:\\n{}\\n\".format(\n",
    "    mlp, metrics.classification_report(y_train_ill, y_pred_ill)))\n",
    "\n",
    "train_ill_acc = metrics.accuracy_score(y_train_ill, y_pred_ill)*100\n",
    "print(\"Training accuracy: \" + str(train_ill_acc))"
   ]
  },
  {
   "cell_type": "code",
   "execution_count": null,
   "metadata": {
    "colab": {
     "base_uri": "https://localhost:8080/",
     "height": 295
    },
    "executionInfo": {
     "elapsed": 1972,
     "status": "ok",
     "timestamp": 1611336275101,
     "user": {
      "displayName": "KHONG FAN YI",
      "photoUrl": "",
      "userId": "02416044610109286808"
     },
     "user_tz": -480
    },
    "id": "xnyct16DcS-M",
    "outputId": "fd252eb9-968e-4732-859b-b6751abbe33f",
    "scrolled": true
   },
   "outputs": [
    {
     "data": {
      "text/plain": [
       "<sklearn.metrics._plot.confusion_matrix.ConfusionMatrixDisplay at 0x7f90005efe10>"
      ]
     },
     "execution_count": 217,
     "metadata": {
      "tags": []
     },
     "output_type": "execute_result"
    },
    {
     "data": {
      "image/png": "[encoded data removed]",
      "text/plain": [
       "<Figure size 432x288 with 2 Axes>"
      ]
     },
     "metadata": {
      "needs_background": "light",
      "tags": []
     },
     "output_type": "display_data"
    }
   ],
   "source": [
    "plot_confusion_matrix(mlp, X_train_ill, y_train_ill, cmap='viridis')"
   ]
  },
  {
   "cell_type": "markdown",
   "metadata": {
    "id": "P9WK2WiqIXdl"
   },
   "source": [
    "#### Testing Performance"
   ]
  },
  {
   "cell_type": "code",
   "execution_count": null,
   "metadata": {
    "colab": {
     "base_uri": "https://localhost:8080/"
    },
    "executionInfo": {
     "elapsed": 1948,
     "status": "ok",
     "timestamp": 1611336275103,
     "user": {
      "displayName": "KHONG FAN YI",
      "photoUrl": "",
      "userId": "02416044610109286808"
     },
     "user_tz": -480
    },
    "id": "bzoPpMUMcS-N",
    "outputId": "c504f7f1-5202-4060-ff67-37ee1d2b2609",
    "scrolled": false
   },
   "outputs": [
    {
     "name": "stdout",
     "output_type": "stream",
     "text": [
      "Classification report for - \n",
      "MLPClassifier(activation='relu', alpha=0.0001, batch_size='auto', beta_1=0.9,\n",
      "              beta_2=0.999, early_stopping=False, epsilon=1e-08,\n",
      "              hidden_layer_sizes=(300, 300), learning_rate='constant',\n",
      "              learning_rate_init=0.001, max_fun=15000, max_iter=200,\n",
      "              momentum=0.9, n_iter_no_change=10, nesterovs_momentum=True,\n",
      "              power_t=0.5, random_state=None, shuffle=True, solver='adam',\n",
      "              tol=0.0001, validation_fraction=0.1, verbose=False,\n",
      "              warm_start=False):\n",
      "              precision    recall  f1-score   support\n",
      "\n",
      "           0       0.39      0.56      0.46        32\n",
      "           1       0.84      0.80      0.82        51\n",
      "           2       0.70      0.50      0.58        42\n",
      "\n",
      "    accuracy                           0.64       125\n",
      "   macro avg       0.64      0.62      0.62       125\n",
      "weighted avg       0.68      0.64      0.65       125\n",
      "\n",
      "\n",
      "Testing accuracy: 64.0\n"
     ]
    }
   ],
   "source": [
    "y_pred_ill = mlp.predict(X_test_ill)\n",
    "\n",
    "print(\"Classification report for - \\n{}:\\n{}\\n\".format(\n",
    "    mlp, metrics.classification_report(y_test_ill, y_pred_ill)))\n",
    "\n",
    "test_ill_acc = metrics.accuracy_score(y_test_ill, y_pred_ill)*100\n",
    "print(\"Testing accuracy: \" + str(test_ill_acc))"
   ]
  },
  {
   "cell_type": "code",
   "execution_count": null,
   "metadata": {
    "colab": {
     "base_uri": "https://localhost:8080/",
     "height": 295
    },
    "executionInfo": {
     "elapsed": 2589,
     "status": "ok",
     "timestamp": 1611336275769,
     "user": {
      "displayName": "KHONG FAN YI",
      "photoUrl": "",
      "userId": "02416044610109286808"
     },
     "user_tz": -480
    },
    "id": "XPfD2ihBcS-O",
    "outputId": "51600957-d1ec-4f69-891e-ebc626fca11e",
    "scrolled": true
   },
   "outputs": [
    {
     "data": {
      "text/plain": [
       "<sklearn.metrics._plot.confusion_matrix.ConfusionMatrixDisplay at 0x7f8fff565f28>"
      ]
     },
     "execution_count": 219,
     "metadata": {
      "tags": []
     },
     "output_type": "execute_result"
    },
    {
     "data": {
      "image/png": "[encoded data removed]",
      "text/plain": [
       "<Figure size 432x288 with 2 Axes>"
      ]
     },
     "metadata": {
      "needs_background": "light",
      "tags": []
     },
     "output_type": "display_data"
    }
   ],
   "source": [
    "plot_confusion_matrix(mlp, X_test_ill, y_test_ill, cmap='viridis')"
   ]
  },
  {
   "cell_type": "code",
   "execution_count": null,
   "metadata": {
    "id": "ICP4o56RcS-O"
   },
   "outputs": [],
   "source": [
    "wrong_case = []\n",
    "get_wrong_case(y_pred_ill, y_test_ill)"
   ]
  },
  {
   "cell_type": "code",
   "execution_count": null,
   "metadata": {
    "colab": {
     "base_uri": "https://localhost:8080/",
     "height": 841,
     "output_embedded_package_id": "1DAIVwE6aO81eoytv7EQ2JPkQrcCCrDQT"
    },
    "executionInfo": {
     "elapsed": 7231,
     "status": "ok",
     "timestamp": 1611336443845,
     "user": {
      "displayName": "KHONG FAN YI",
      "photoUrl": "",
      "userId": "02416044610109286808"
     },
     "user_tz": -480
    },
    "id": "Esb9_-CXcS-O",
    "outputId": "113c7b04-c3d0-4481-fb9f-72dac28fc853"
   },
   "outputs": [
    {
     "data": {
      "text/plain": [
       "Output hidden; open in https://colab.research.google.com to view."
      ]
     },
     "metadata": {},
     "output_type": "display_data"
    }
   ],
   "source": [
    "col = 9\n",
    "row = len(wrong_case) / col + len(wrong_case) % 9\n",
    "\n",
    "plot(wrong_case, row, col, gray_img_ill2, SUBCLASSES)"
   ]
  }
 ],
 "metadata": {
  "colab": {
   "collapsed_sections": [],
   "name": "PCA_MLP_classification.ipynb",
   "provenance": [],
   "toc_visible": true
  },
  "kernelspec": {
   "display_name": "Python 3",
   "language": "python",
   "name": "python3"
  },
  "language_info": {
   "codemirror_mode": {
    "name": "ipython",
    "version": 3
   },
   "file_extension": ".py",
   "mimetype": "text/x-python",
   "name": "python",
   "nbconvert_exporter": "python",
   "pygments_lexer": "ipython3",
   "version": "3.8.5"
  },
  "widgets": {
   "application/vnd.jupyter.widget-state+json": {
    "01a7ca89f022441aa51a3fac800b8685": {
     "model_module": "@jupyter-widgets/controls",
     "model_name": "DescriptionStyleModel",
     "state": {
      "_model_module": "@jupyter-widgets/controls",
      "_model_module_version": "1.5.0",
      "_model_name": "DescriptionStyleModel",
      "_view_count": null,
      "_view_module": "@jupyter-widgets/base",
      "_view_module_version": "1.2.0",
      "_view_name": "StyleView",
      "description_width": ""
     }
    },
    "066d97cde891443bb1904346e943c250": {
     "model_module": "@jupyter-widgets/controls",
     "model_name": "FloatProgressModel",
     "state": {
      "_dom_classes": [],
      "_model_module": "@jupyter-widgets/controls",
      "_model_module_version": "1.5.0",
      "_model_name": "FloatProgressModel",
      "_view_count": null,
      "_view_module": "@jupyter-widgets/controls",
      "_view_module_version": "1.5.0",
      "_view_name": "ProgressView",
      "bar_style": "success",
      "description": "100%",
      "description_tooltip": null,
      "layout": "IPY_MODEL_b73c1fa5b4974a4a8432cbdc9aad94fd",
      "max": 75,
      "min": 0,
      "orientation": "horizontal",
      "style": "IPY_MODEL_4a3bac2c9d794c92880c84d96d62fd23",
      "value": 75
     }
    },
    "09cc992d05404acaa4b4fe1c48e650fe": {
     "model_module": "@jupyter-widgets/controls",
     "model_name": "HTMLModel",
     "state": {
      "_dom_classes": [],
      "_model_module": "@jupyter-widgets/controls",
      "_model_module_version": "1.5.0",
      "_model_name": "HTMLModel",
      "_view_count": null,
      "_view_module": "@jupyter-widgets/controls",
      "_view_module_version": "1.5.0",
      "_view_name": "HTMLView",
      "description": "",
      "description_tooltip": null,
      "layout": "IPY_MODEL_616cba3f43fb4e22864e53bb58f8d18d",
      "placeholder": "​",
      "style": "IPY_MODEL_9f657230a52842acb5875c89b3551b45",
      "value": " 80/80 [01:00&lt;00:00,  1.33it/s]"
     }
    },
    "105aabd925604e33b98c74bacdd005a9": {
     "model_module": "@jupyter-widgets/base",
     "model_name": "LayoutModel",
     "state": {
      "_model_module": "@jupyter-widgets/base",
      "_model_module_version": "1.2.0",
      "_model_name": "LayoutModel",
      "_view_count": null,
      "_view_module": "@jupyter-widgets/base",
      "_view_module_version": "1.2.0",
      "_view_name": "LayoutView",
      "align_content": null,
      "align_items": null,
      "align_self": null,
      "border": null,
      "bottom": null,
      "display": null,
      "flex": null,
      "flex_flow": null,
      "grid_area": null,
      "grid_auto_columns": null,
      "grid_auto_flow": null,
      "grid_auto_rows": null,
      "grid_column": null,
      "grid_gap": null,
      "grid_row": null,
      "grid_template_areas": null,
      "grid_template_columns": null,
      "grid_template_rows": null,
      "height": null,
      "justify_content": null,
      "justify_items": null,
      "left": null,
      "margin": null,
      "max_height": null,
      "max_width": null,
      "min_height": null,
      "min_width": null,
      "object_fit": null,
      "object_position": null,
      "order": null,
      "overflow": null,
      "overflow_x": null,
      "overflow_y": null,
      "padding": null,
      "right": null,
      "top": null,
      "visibility": null,
      "width": null
     }
    },
    "1366b0ec9a5948a9b57ea92c7fdd0098": {
     "model_module": "@jupyter-widgets/controls",
     "model_name": "HBoxModel",
     "state": {
      "_dom_classes": [],
      "_model_module": "@jupyter-widgets/controls",
      "_model_module_version": "1.5.0",
      "_model_name": "HBoxModel",
      "_view_count": null,
      "_view_module": "@jupyter-widgets/controls",
      "_view_module_version": "1.5.0",
      "_view_name": "HBoxView",
      "box_style": "",
      "children": [
       "IPY_MODEL_2e45a6e5ac4b408883b4585770853bdb",
       "IPY_MODEL_09cc992d05404acaa4b4fe1c48e650fe"
      ],
      "layout": "IPY_MODEL_105aabd925604e33b98c74bacdd005a9"
     }
    },
    "13d0c8b3d72940f99a82ff8b1f8080c4": {
     "model_module": "@jupyter-widgets/controls",
     "model_name": "DescriptionStyleModel",
     "state": {
      "_model_module": "@jupyter-widgets/controls",
      "_model_module_version": "1.5.0",
      "_model_name": "DescriptionStyleModel",
      "_view_count": null,
      "_view_module": "@jupyter-widgets/base",
      "_view_module_version": "1.2.0",
      "_view_name": "StyleView",
      "description_width": ""
     }
    },
    "1936da6b08944f9cbc058da6c4f0721c": {
     "model_module": "@jupyter-widgets/base",
     "model_name": "LayoutModel",
     "state": {
      "_model_module": "@jupyter-widgets/base",
      "_model_module_version": "1.2.0",
      "_model_name": "LayoutModel",
      "_view_count": null,
      "_view_module": "@jupyter-widgets/base",
      "_view_module_version": "1.2.0",
      "_view_name": "LayoutView",
      "align_content": null,
      "align_items": null,
      "align_self": null,
      "border": null,
      "bottom": null,
      "display": null,
      "flex": null,
      "flex_flow": null,
      "grid_area": null,
      "grid_auto_columns": null,
      "grid_auto_flow": null,
      "grid_auto_rows": null,
      "grid_column": null,
      "grid_gap": null,
      "grid_row": null,
      "grid_template_areas": null,
      "grid_template_columns": null,
      "grid_template_rows": null,
      "height": null,
      "justify_content": null,
      "justify_items": null,
      "left": null,
      "margin": null,
      "max_height": null,
      "max_width": null,
      "min_height": null,
      "min_width": null,
      "object_fit": null,
      "object_position": null,
      "order": null,
      "overflow": null,
      "overflow_x": null,
      "overflow_y": null,
      "padding": null,
      "right": null,
      "top": null,
      "visibility": null,
      "width": null
     }
    },
    "1e2c2981d0bc41efbef1f55c877279c8": {
     "model_module": "@jupyter-widgets/base",
     "model_name": "LayoutModel",
     "state": {
      "_model_module": "@jupyter-widgets/base",
      "_model_module_version": "1.2.0",
      "_model_name": "LayoutModel",
      "_view_count": null,
      "_view_module": "@jupyter-widgets/base",
      "_view_module_version": "1.2.0",
      "_view_name": "LayoutView",
      "align_content": null,
      "align_items": null,
      "align_self": null,
      "border": null,
      "bottom": null,
      "display": null,
      "flex": null,
      "flex_flow": null,
      "grid_area": null,
      "grid_auto_columns": null,
      "grid_auto_flow": null,
      "grid_auto_rows": null,
      "grid_column": null,
      "grid_gap": null,
      "grid_row": null,
      "grid_template_areas": null,
      "grid_template_columns": null,
      "grid_template_rows": null,
      "height": null,
      "justify_content": null,
      "justify_items": null,
      "left": null,
      "margin": null,
      "max_height": null,
      "max_width": null,
      "min_height": null,
      "min_width": null,
      "object_fit": null,
      "object_position": null,
      "order": null,
      "overflow": null,
      "overflow_x": null,
      "overflow_y": null,
      "padding": null,
      "right": null,
      "top": null,
      "visibility": null,
      "width": null
     }
    },
    "212fe8f335634efa9a0c6de4b206346f": {
     "model_module": "@jupyter-widgets/controls",
     "model_name": "ProgressStyleModel",
     "state": {
      "_model_module": "@jupyter-widgets/controls",
      "_model_module_version": "1.5.0",
      "_model_name": "ProgressStyleModel",
      "_view_count": null,
      "_view_module": "@jupyter-widgets/base",
      "_view_module_version": "1.2.0",
      "_view_name": "StyleView",
      "bar_color": null,
      "description_width": "initial"
     }
    },
    "250dc179e12c41a485f6c1c79582a009": {
     "model_module": "@jupyter-widgets/controls",
     "model_name": "DescriptionStyleModel",
     "state": {
      "_model_module": "@jupyter-widgets/controls",
      "_model_module_version": "1.5.0",
      "_model_name": "DescriptionStyleModel",
      "_view_count": null,
      "_view_module": "@jupyter-widgets/base",
      "_view_module_version": "1.2.0",
      "_view_name": "StyleView",
      "description_width": ""
     }
    },
    "2e45a6e5ac4b408883b4585770853bdb": {
     "model_module": "@jupyter-widgets/controls",
     "model_name": "FloatProgressModel",
     "state": {
      "_dom_classes": [],
      "_model_module": "@jupyter-widgets/controls",
      "_model_module_version": "1.5.0",
      "_model_name": "FloatProgressModel",
      "_view_count": null,
      "_view_module": "@jupyter-widgets/controls",
      "_view_module_version": "1.5.0",
      "_view_name": "ProgressView",
      "bar_style": "success",
      "description": "100%",
      "description_tooltip": null,
      "layout": "IPY_MODEL_788679b8b48a4d669560a29ff6e7c4e2",
      "max": 80,
      "min": 0,
      "orientation": "horizontal",
      "style": "IPY_MODEL_a439be6d36334bf4847870902f4a5019",
      "value": 80
     }
    },
    "337cd14a3cb44d128e2f25c660cf0c0c": {
     "model_module": "@jupyter-widgets/controls",
     "model_name": "HBoxModel",
     "state": {
      "_dom_classes": [],
      "_model_module": "@jupyter-widgets/controls",
      "_model_module_version": "1.5.0",
      "_model_name": "HBoxModel",
      "_view_count": null,
      "_view_module": "@jupyter-widgets/controls",
      "_view_module_version": "1.5.0",
      "_view_name": "HBoxView",
      "box_style": "",
      "children": [
       "IPY_MODEL_7b6e7b1f9bf844ce99473af4855977e7",
       "IPY_MODEL_ba683a4b0b7343c389d269f207f578a7"
      ],
      "layout": "IPY_MODEL_4cdbf33837ee47ffa09a21547ccdff32"
     }
    },
    "418b56c363194804b37a201fd624e550": {
     "model_module": "@jupyter-widgets/base",
     "model_name": "LayoutModel",
     "state": {
      "_model_module": "@jupyter-widgets/base",
      "_model_module_version": "1.2.0",
      "_model_name": "LayoutModel",
      "_view_count": null,
      "_view_module": "@jupyter-widgets/base",
      "_view_module_version": "1.2.0",
      "_view_name": "LayoutView",
      "align_content": null,
      "align_items": null,
      "align_self": null,
      "border": null,
      "bottom": null,
      "display": null,
      "flex": null,
      "flex_flow": null,
      "grid_area": null,
      "grid_auto_columns": null,
      "grid_auto_flow": null,
      "grid_auto_rows": null,
      "grid_column": null,
      "grid_gap": null,
      "grid_row": null,
      "grid_template_areas": null,
      "grid_template_columns": null,
      "grid_template_rows": null,
      "height": null,
      "justify_content": null,
      "justify_items": null,
      "left": null,
      "margin": null,
      "max_height": null,
      "max_width": null,
      "min_height": null,
      "min_width": null,
      "object_fit": null,
      "object_position": null,
      "order": null,
      "overflow": null,
      "overflow_x": null,
      "overflow_y": null,
      "padding": null,
      "right": null,
      "top": null,
      "visibility": null,
      "width": null
     }
    },
    "4a3bac2c9d794c92880c84d96d62fd23": {
     "model_module": "@jupyter-widgets/controls",
     "model_name": "ProgressStyleModel",
     "state": {
      "_model_module": "@jupyter-widgets/controls",
      "_model_module_version": "1.5.0",
      "_model_name": "ProgressStyleModel",
      "_view_count": null,
      "_view_module": "@jupyter-widgets/base",
      "_view_module_version": "1.2.0",
      "_view_name": "StyleView",
      "bar_color": null,
      "description_width": "initial"
     }
    },
    "4c5b6916e56240678017f6361b5f89a8": {
     "model_module": "@jupyter-widgets/controls",
     "model_name": "FloatProgressModel",
     "state": {
      "_dom_classes": [],
      "_model_module": "@jupyter-widgets/controls",
      "_model_module_version": "1.5.0",
      "_model_name": "FloatProgressModel",
      "_view_count": null,
      "_view_module": "@jupyter-widgets/controls",
      "_view_module_version": "1.5.0",
      "_view_name": "ProgressView",
      "bar_style": "success",
      "description": "100%",
      "description_tooltip": null,
      "layout": "IPY_MODEL_ba5c972d80214288b38060b78ee60952",
      "max": 78,
      "min": 0,
      "orientation": "horizontal",
      "style": "IPY_MODEL_c0fbd79bdf6e4e8e9ed48326c206f4f6",
      "value": 78
     }
    },
    "4cdbf33837ee47ffa09a21547ccdff32": {
     "model_module": "@jupyter-widgets/base",
     "model_name": "LayoutModel",
     "state": {
      "_model_module": "@jupyter-widgets/base",
      "_model_module_version": "1.2.0",
      "_model_name": "LayoutModel",
      "_view_count": null,
      "_view_module": "@jupyter-widgets/base",
      "_view_module_version": "1.2.0",
      "_view_name": "LayoutView",
      "align_content": null,
      "align_items": null,
      "align_self": null,
      "border": null,
      "bottom": null,
      "display": null,
      "flex": null,
      "flex_flow": null,
      "grid_area": null,
      "grid_auto_columns": null,
      "grid_auto_flow": null,
      "grid_auto_rows": null,
      "grid_column": null,
      "grid_gap": null,
      "grid_row": null,
      "grid_template_areas": null,
      "grid_template_columns": null,
      "grid_template_rows": null,
      "height": null,
      "justify_content": null,
      "justify_items": null,
      "left": null,
      "margin": null,
      "max_height": null,
      "max_width": null,
      "min_height": null,
      "min_width": null,
      "object_fit": null,
      "object_position": null,
      "order": null,
      "overflow": null,
      "overflow_x": null,
      "overflow_y": null,
      "padding": null,
      "right": null,
      "top": null,
      "visibility": null,
      "width": null
     }
    },
    "4deede37637e451c8c07f09d98c14c6d": {
     "model_module": "@jupyter-widgets/controls",
     "model_name": "HTMLModel",
     "state": {
      "_dom_classes": [],
      "_model_module": "@jupyter-widgets/controls",
      "_model_module_version": "1.5.0",
      "_model_name": "HTMLModel",
      "_view_count": null,
      "_view_module": "@jupyter-widgets/controls",
      "_view_module_version": "1.5.0",
      "_view_name": "HTMLView",
      "description": "",
      "description_tooltip": null,
      "layout": "IPY_MODEL_1e2c2981d0bc41efbef1f55c877279c8",
      "placeholder": "​",
      "style": "IPY_MODEL_eac8de29c86e4b20973537b44c49ff39",
      "value": " 500/500 [13:58&lt;00:00,  1.68s/it]"
     }
    },
    "54b84702a5c345ea82135fbc49618191": {
     "model_module": "@jupyter-widgets/controls",
     "model_name": "HTMLModel",
     "state": {
      "_dom_classes": [],
      "_model_module": "@jupyter-widgets/controls",
      "_model_module_version": "1.5.0",
      "_model_name": "HTMLModel",
      "_view_count": null,
      "_view_module": "@jupyter-widgets/controls",
      "_view_module_version": "1.5.0",
      "_view_name": "HTMLView",
      "description": "",
      "description_tooltip": null,
      "layout": "IPY_MODEL_7094c41d38614d4a86fbbdd0bf4ec627",
      "placeholder": "​",
      "style": "IPY_MODEL_c7095c26165d423fa491ac99da0b8650",
      "value": " 78/78 [01:31&lt;00:00,  1.17s/it]"
     }
    },
    "5ab368c90aee41ad8e67621c2c0f3c15": {
     "model_module": "@jupyter-widgets/base",
     "model_name": "LayoutModel",
     "state": {
      "_model_module": "@jupyter-widgets/base",
      "_model_module_version": "1.2.0",
      "_model_name": "LayoutModel",
      "_view_count": null,
      "_view_module": "@jupyter-widgets/base",
      "_view_module_version": "1.2.0",
      "_view_name": "LayoutView",
      "align_content": null,
      "align_items": null,
      "align_self": null,
      "border": null,
      "bottom": null,
      "display": null,
      "flex": null,
      "flex_flow": null,
      "grid_area": null,
      "grid_auto_columns": null,
      "grid_auto_flow": null,
      "grid_auto_rows": null,
      "grid_column": null,
      "grid_gap": null,
      "grid_row": null,
      "grid_template_areas": null,
      "grid_template_columns": null,
      "grid_template_rows": null,
      "height": null,
      "justify_content": null,
      "justify_items": null,
      "left": null,
      "margin": null,
      "max_height": null,
      "max_width": null,
      "min_height": null,
      "min_width": null,
      "object_fit": null,
      "object_position": null,
      "order": null,
      "overflow": null,
      "overflow_x": null,
      "overflow_y": null,
      "padding": null,
      "right": null,
      "top": null,
      "visibility": null,
      "width": null
     }
    },
    "5b966b6daacb479aab75317b086970b0": {
     "model_module": "@jupyter-widgets/controls",
     "model_name": "HTMLModel",
     "state": {
      "_dom_classes": [],
      "_model_module": "@jupyter-widgets/controls",
      "_model_module_version": "1.5.0",
      "_model_name": "HTMLModel",
      "_view_count": null,
      "_view_module": "@jupyter-widgets/controls",
      "_view_module_version": "1.5.0",
      "_view_name": "HTMLView",
      "description": "",
      "description_tooltip": null,
      "layout": "IPY_MODEL_1936da6b08944f9cbc058da6c4f0721c",
      "placeholder": "​",
      "style": "IPY_MODEL_bd9a2fef2cca464ea022378431a47a37",
      "value": " 78/78 [00:32&lt;00:00,  2.40it/s]"
     }
    },
    "616cba3f43fb4e22864e53bb58f8d18d": {
     "model_module": "@jupyter-widgets/base",
     "model_name": "LayoutModel",
     "state": {
      "_model_module": "@jupyter-widgets/base",
      "_model_module_version": "1.2.0",
      "_model_name": "LayoutModel",
      "_view_count": null,
      "_view_module": "@jupyter-widgets/base",
      "_view_module_version": "1.2.0",
      "_view_name": "LayoutView",
      "align_content": null,
      "align_items": null,
      "align_self": null,
      "border": null,
      "bottom": null,
      "display": null,
      "flex": null,
      "flex_flow": null,
      "grid_area": null,
      "grid_auto_columns": null,
      "grid_auto_flow": null,
      "grid_auto_rows": null,
      "grid_column": null,
      "grid_gap": null,
      "grid_row": null,
      "grid_template_areas": null,
      "grid_template_columns": null,
      "grid_template_rows": null,
      "height": null,
      "justify_content": null,
      "justify_items": null,
      "left": null,
      "margin": null,
      "max_height": null,
      "max_width": null,
      "min_height": null,
      "min_width": null,
      "object_fit": null,
      "object_position": null,
      "order": null,
      "overflow": null,
      "overflow_x": null,
      "overflow_y": null,
      "padding": null,
      "right": null,
      "top": null,
      "visibility": null,
      "width": null
     }
    },
    "66c9a1e0421b4240a2f7f5672feb3fc7": {
     "model_module": "@jupyter-widgets/controls",
     "model_name": "HBoxModel",
     "state": {
      "_dom_classes": [],
      "_model_module": "@jupyter-widgets/controls",
      "_model_module_version": "1.5.0",
      "_model_name": "HBoxModel",
      "_view_count": null,
      "_view_module": "@jupyter-widgets/controls",
      "_view_module_version": "1.5.0",
      "_view_name": "HBoxView",
      "box_style": "",
      "children": [
       "IPY_MODEL_066d97cde891443bb1904346e943c250",
       "IPY_MODEL_afd0a4a3be9343d1978abfecfb2d556f"
      ],
      "layout": "IPY_MODEL_5ab368c90aee41ad8e67621c2c0f3c15"
     }
    },
    "6eadb6aef57e4f1293b5c3e5de16180e": {
     "model_module": "@jupyter-widgets/base",
     "model_name": "LayoutModel",
     "state": {
      "_model_module": "@jupyter-widgets/base",
      "_model_module_version": "1.2.0",
      "_model_name": "LayoutModel",
      "_view_count": null,
      "_view_module": "@jupyter-widgets/base",
      "_view_module_version": "1.2.0",
      "_view_name": "LayoutView",
      "align_content": null,
      "align_items": null,
      "align_self": null,
      "border": null,
      "bottom": null,
      "display": null,
      "flex": null,
      "flex_flow": null,
      "grid_area": null,
      "grid_auto_columns": null,
      "grid_auto_flow": null,
      "grid_auto_rows": null,
      "grid_column": null,
      "grid_gap": null,
      "grid_row": null,
      "grid_template_areas": null,
      "grid_template_columns": null,
      "grid_template_rows": null,
      "height": null,
      "justify_content": null,
      "justify_items": null,
      "left": null,
      "margin": null,
      "max_height": null,
      "max_width": null,
      "min_height": null,
      "min_width": null,
      "object_fit": null,
      "object_position": null,
      "order": null,
      "overflow": null,
      "overflow_x": null,
      "overflow_y": null,
      "padding": null,
      "right": null,
      "top": null,
      "visibility": null,
      "width": null
     }
    },
    "6feb81e352074fe19111860059bfa735": {
     "model_module": "@jupyter-widgets/controls",
     "model_name": "HBoxModel",
     "state": {
      "_dom_classes": [],
      "_model_module": "@jupyter-widgets/controls",
      "_model_module_version": "1.5.0",
      "_model_name": "HBoxModel",
      "_view_count": null,
      "_view_module": "@jupyter-widgets/controls",
      "_view_module_version": "1.5.0",
      "_view_name": "HBoxView",
      "box_style": "",
      "children": [
       "IPY_MODEL_b63f52e06c6646729eadde54e6f12882",
       "IPY_MODEL_54b84702a5c345ea82135fbc49618191"
      ],
      "layout": "IPY_MODEL_f52ef0d739c14788874f16c6839ca6ce"
     }
    },
    "705e42382123455e95a070ed99a798a3": {
     "model_module": "@jupyter-widgets/controls",
     "model_name": "HBoxModel",
     "state": {
      "_dom_classes": [],
      "_model_module": "@jupyter-widgets/controls",
      "_model_module_version": "1.5.0",
      "_model_name": "HBoxModel",
      "_view_count": null,
      "_view_module": "@jupyter-widgets/controls",
      "_view_module_version": "1.5.0",
      "_view_name": "HBoxView",
      "box_style": "",
      "children": [
       "IPY_MODEL_d54d4a4dc2b34ba39e13ffe9e8c26586",
       "IPY_MODEL_4deede37637e451c8c07f09d98c14c6d"
      ],
      "layout": "IPY_MODEL_6eadb6aef57e4f1293b5c3e5de16180e"
     }
    },
    "7094c41d38614d4a86fbbdd0bf4ec627": {
     "model_module": "@jupyter-widgets/base",
     "model_name": "LayoutModel",
     "state": {
      "_model_module": "@jupyter-widgets/base",
      "_model_module_version": "1.2.0",
      "_model_name": "LayoutModel",
      "_view_count": null,
      "_view_module": "@jupyter-widgets/base",
      "_view_module_version": "1.2.0",
      "_view_name": "LayoutView",
      "align_content": null,
      "align_items": null,
      "align_self": null,
      "border": null,
      "bottom": null,
      "display": null,
      "flex": null,
      "flex_flow": null,
      "grid_area": null,
      "grid_auto_columns": null,
      "grid_auto_flow": null,
      "grid_auto_rows": null,
      "grid_column": null,
      "grid_gap": null,
      "grid_row": null,
      "grid_template_areas": null,
      "grid_template_columns": null,
      "grid_template_rows": null,
      "height": null,
      "justify_content": null,
      "justify_items": null,
      "left": null,
      "margin": null,
      "max_height": null,
      "max_width": null,
      "min_height": null,
      "min_width": null,
      "object_fit": null,
      "object_position": null,
      "order": null,
      "overflow": null,
      "overflow_x": null,
      "overflow_y": null,
      "padding": null,
      "right": null,
      "top": null,
      "visibility": null,
      "width": null
     }
    },
    "77301815c8644d23b9f080667944c77b": {
     "model_module": "@jupyter-widgets/controls",
     "model_name": "ProgressStyleModel",
     "state": {
      "_model_module": "@jupyter-widgets/controls",
      "_model_module_version": "1.5.0",
      "_model_name": "ProgressStyleModel",
      "_view_count": null,
      "_view_module": "@jupyter-widgets/base",
      "_view_module_version": "1.2.0",
      "_view_name": "StyleView",
      "bar_color": null,
      "description_width": "initial"
     }
    },
    "788679b8b48a4d669560a29ff6e7c4e2": {
     "model_module": "@jupyter-widgets/base",
     "model_name": "LayoutModel",
     "state": {
      "_model_module": "@jupyter-widgets/base",
      "_model_module_version": "1.2.0",
      "_model_name": "LayoutModel",
      "_view_count": null,
      "_view_module": "@jupyter-widgets/base",
      "_view_module_version": "1.2.0",
      "_view_name": "LayoutView",
      "align_content": null,
      "align_items": null,
      "align_self": null,
      "border": null,
      "bottom": null,
      "display": null,
      "flex": null,
      "flex_flow": null,
      "grid_area": null,
      "grid_auto_columns": null,
      "grid_auto_flow": null,
      "grid_auto_rows": null,
      "grid_column": null,
      "grid_gap": null,
      "grid_row": null,
      "grid_template_areas": null,
      "grid_template_columns": null,
      "grid_template_rows": null,
      "height": null,
      "justify_content": null,
      "justify_items": null,
      "left": null,
      "margin": null,
      "max_height": null,
      "max_width": null,
      "min_height": null,
      "min_width": null,
      "object_fit": null,
      "object_position": null,
      "order": null,
      "overflow": null,
      "overflow_x": null,
      "overflow_y": null,
      "padding": null,
      "right": null,
      "top": null,
      "visibility": null,
      "width": null
     }
    },
    "7961046cf4724d11a212d7b9ba25e334": {
     "model_module": "@jupyter-widgets/controls",
     "model_name": "HBoxModel",
     "state": {
      "_dom_classes": [],
      "_model_module": "@jupyter-widgets/controls",
      "_model_module_version": "1.5.0",
      "_model_name": "HBoxModel",
      "_view_count": null,
      "_view_module": "@jupyter-widgets/controls",
      "_view_module_version": "1.5.0",
      "_view_name": "HBoxView",
      "box_style": "",
      "children": [
       "IPY_MODEL_bbf1f3ce06c1417eb55319373c280bc9",
       "IPY_MODEL_8308e9a1a6744201a306ec2c7ce4831b"
      ],
      "layout": "IPY_MODEL_d72c749710fd405fab88fa4262f85878"
     }
    },
    "7b6e7b1f9bf844ce99473af4855977e7": {
     "model_module": "@jupyter-widgets/controls",
     "model_name": "FloatProgressModel",
     "state": {
      "_dom_classes": [],
      "_model_module": "@jupyter-widgets/controls",
      "_model_module_version": "1.5.0",
      "_model_name": "FloatProgressModel",
      "_view_count": null,
      "_view_module": "@jupyter-widgets/controls",
      "_view_module_version": "1.5.0",
      "_view_name": "ProgressView",
      "bar_style": "success",
      "description": "100%",
      "description_tooltip": null,
      "layout": "IPY_MODEL_9396f2317c05411183f457040d157494",
      "max": 75,
      "min": 0,
      "orientation": "horizontal",
      "style": "IPY_MODEL_212fe8f335634efa9a0c6de4b206346f",
      "value": 75
     }
    },
    "82ffc50373c64d76b288c492bcf02282": {
     "model_module": "@jupyter-widgets/controls",
     "model_name": "ProgressStyleModel",
     "state": {
      "_model_module": "@jupyter-widgets/controls",
      "_model_module_version": "1.5.0",
      "_model_name": "ProgressStyleModel",
      "_view_count": null,
      "_view_module": "@jupyter-widgets/base",
      "_view_module_version": "1.2.0",
      "_view_name": "StyleView",
      "bar_color": null,
      "description_width": "initial"
     }
    },
    "8308e9a1a6744201a306ec2c7ce4831b": {
     "model_module": "@jupyter-widgets/controls",
     "model_name": "HTMLModel",
     "state": {
      "_dom_classes": [],
      "_model_module": "@jupyter-widgets/controls",
      "_model_module_version": "1.5.0",
      "_model_name": "HTMLModel",
      "_view_count": null,
      "_view_module": "@jupyter-widgets/controls",
      "_view_module_version": "1.5.0",
      "_view_name": "HTMLView",
      "description": "",
      "description_tooltip": null,
      "layout": "IPY_MODEL_9f04230aa3ea402a960b5828057a5ec3",
      "placeholder": "​",
      "style": "IPY_MODEL_250dc179e12c41a485f6c1c79582a009",
      "value": " 80/80 [05:18&lt;00:00,  3.98s/it]"
     }
    },
    "8af1569890a1424282896063ee186711": {
     "model_module": "@jupyter-widgets/controls",
     "model_name": "HTMLModel",
     "state": {
      "_dom_classes": [],
      "_model_module": "@jupyter-widgets/controls",
      "_model_module_version": "1.5.0",
      "_model_name": "HTMLModel",
      "_view_count": null,
      "_view_module": "@jupyter-widgets/controls",
      "_view_module_version": "1.5.0",
      "_view_name": "HTMLView",
      "description": "",
      "description_tooltip": null,
      "layout": "IPY_MODEL_ebeb83865bc64823843b1d4a87e5a6a0",
      "placeholder": "​",
      "style": "IPY_MODEL_13d0c8b3d72940f99a82ff8b1f8080c4",
      "value": " 500/500 [03:45&lt;00:00,  2.21it/s]"
     }
    },
    "8bf7869e856c47f8b978ad171eddd6de": {
     "model_module": "@jupyter-widgets/base",
     "model_name": "LayoutModel",
     "state": {
      "_model_module": "@jupyter-widgets/base",
      "_model_module_version": "1.2.0",
      "_model_name": "LayoutModel",
      "_view_count": null,
      "_view_module": "@jupyter-widgets/base",
      "_view_module_version": "1.2.0",
      "_view_name": "LayoutView",
      "align_content": null,
      "align_items": null,
      "align_self": null,
      "border": null,
      "bottom": null,
      "display": null,
      "flex": null,
      "flex_flow": null,
      "grid_area": null,
      "grid_auto_columns": null,
      "grid_auto_flow": null,
      "grid_auto_rows": null,
      "grid_column": null,
      "grid_gap": null,
      "grid_row": null,
      "grid_template_areas": null,
      "grid_template_columns": null,
      "grid_template_rows": null,
      "height": null,
      "justify_content": null,
      "justify_items": null,
      "left": null,
      "margin": null,
      "max_height": null,
      "max_width": null,
      "min_height": null,
      "min_width": null,
      "object_fit": null,
      "object_position": null,
      "order": null,
      "overflow": null,
      "overflow_x": null,
      "overflow_y": null,
      "padding": null,
      "right": null,
      "top": null,
      "visibility": null,
      "width": null
     }
    },
    "91de86ba45554440b37198b5c4f1bbe5": {
     "model_module": "@jupyter-widgets/controls",
     "model_name": "ProgressStyleModel",
     "state": {
      "_model_module": "@jupyter-widgets/controls",
      "_model_module_version": "1.5.0",
      "_model_name": "ProgressStyleModel",
      "_view_count": null,
      "_view_module": "@jupyter-widgets/base",
      "_view_module_version": "1.2.0",
      "_view_name": "StyleView",
      "bar_color": null,
      "description_width": "initial"
     }
    },
    "9396f2317c05411183f457040d157494": {
     "model_module": "@jupyter-widgets/base",
     "model_name": "LayoutModel",
     "state": {
      "_model_module": "@jupyter-widgets/base",
      "_model_module_version": "1.2.0",
      "_model_name": "LayoutModel",
      "_view_count": null,
      "_view_module": "@jupyter-widgets/base",
      "_view_module_version": "1.2.0",
      "_view_name": "LayoutView",
      "align_content": null,
      "align_items": null,
      "align_self": null,
      "border": null,
      "bottom": null,
      "display": null,
      "flex": null,
      "flex_flow": null,
      "grid_area": null,
      "grid_auto_columns": null,
      "grid_auto_flow": null,
      "grid_auto_rows": null,
      "grid_column": null,
      "grid_gap": null,
      "grid_row": null,
      "grid_template_areas": null,
      "grid_template_columns": null,
      "grid_template_rows": null,
      "height": null,
      "justify_content": null,
      "justify_items": null,
      "left": null,
      "margin": null,
      "max_height": null,
      "max_width": null,
      "min_height": null,
      "min_width": null,
      "object_fit": null,
      "object_position": null,
      "order": null,
      "overflow": null,
      "overflow_x": null,
      "overflow_y": null,
      "padding": null,
      "right": null,
      "top": null,
      "visibility": null,
      "width": null
     }
    },
    "9efe3eb408ac4e61b86662fb4ac93518": {
     "model_module": "@jupyter-widgets/controls",
     "model_name": "HBoxModel",
     "state": {
      "_dom_classes": [],
      "_model_module": "@jupyter-widgets/controls",
      "_model_module_version": "1.5.0",
      "_model_name": "HBoxModel",
      "_view_count": null,
      "_view_module": "@jupyter-widgets/controls",
      "_view_module_version": "1.5.0",
      "_view_name": "HBoxView",
      "box_style": "",
      "children": [
       "IPY_MODEL_cef5d0ffa77c42bd8be7e1baf0600882",
       "IPY_MODEL_8af1569890a1424282896063ee186711"
      ],
      "layout": "IPY_MODEL_8bf7869e856c47f8b978ad171eddd6de"
     }
    },
    "9f04230aa3ea402a960b5828057a5ec3": {
     "model_module": "@jupyter-widgets/base",
     "model_name": "LayoutModel",
     "state": {
      "_model_module": "@jupyter-widgets/base",
      "_model_module_version": "1.2.0",
      "_model_name": "LayoutModel",
      "_view_count": null,
      "_view_module": "@jupyter-widgets/base",
      "_view_module_version": "1.2.0",
      "_view_name": "LayoutView",
      "align_content": null,
      "align_items": null,
      "align_self": null,
      "border": null,
      "bottom": null,
      "display": null,
      "flex": null,
      "flex_flow": null,
      "grid_area": null,
      "grid_auto_columns": null,
      "grid_auto_flow": null,
      "grid_auto_rows": null,
      "grid_column": null,
      "grid_gap": null,
      "grid_row": null,
      "grid_template_areas": null,
      "grid_template_columns": null,
      "grid_template_rows": null,
      "height": null,
      "justify_content": null,
      "justify_items": null,
      "left": null,
      "margin": null,
      "max_height": null,
      "max_width": null,
      "min_height": null,
      "min_width": null,
      "object_fit": null,
      "object_position": null,
      "order": null,
      "overflow": null,
      "overflow_x": null,
      "overflow_y": null,
      "padding": null,
      "right": null,
      "top": null,
      "visibility": null,
      "width": null
     }
    },
    "9f657230a52842acb5875c89b3551b45": {
     "model_module": "@jupyter-widgets/controls",
     "model_name": "DescriptionStyleModel",
     "state": {
      "_model_module": "@jupyter-widgets/controls",
      "_model_module_version": "1.5.0",
      "_model_name": "DescriptionStyleModel",
      "_view_count": null,
      "_view_module": "@jupyter-widgets/base",
      "_view_module_version": "1.2.0",
      "_view_name": "StyleView",
      "description_width": ""
     }
    },
    "a439be6d36334bf4847870902f4a5019": {
     "model_module": "@jupyter-widgets/controls",
     "model_name": "ProgressStyleModel",
     "state": {
      "_model_module": "@jupyter-widgets/controls",
      "_model_module_version": "1.5.0",
      "_model_name": "ProgressStyleModel",
      "_view_count": null,
      "_view_module": "@jupyter-widgets/base",
      "_view_module_version": "1.2.0",
      "_view_name": "StyleView",
      "bar_color": null,
      "description_width": "initial"
     }
    },
    "adae8536998c4c0da204e692e4ca3a70": {
     "model_module": "@jupyter-widgets/base",
     "model_name": "LayoutModel",
     "state": {
      "_model_module": "@jupyter-widgets/base",
      "_model_module_version": "1.2.0",
      "_model_name": "LayoutModel",
      "_view_count": null,
      "_view_module": "@jupyter-widgets/base",
      "_view_module_version": "1.2.0",
      "_view_name": "LayoutView",
      "align_content": null,
      "align_items": null,
      "align_self": null,
      "border": null,
      "bottom": null,
      "display": null,
      "flex": null,
      "flex_flow": null,
      "grid_area": null,
      "grid_auto_columns": null,
      "grid_auto_flow": null,
      "grid_auto_rows": null,
      "grid_column": null,
      "grid_gap": null,
      "grid_row": null,
      "grid_template_areas": null,
      "grid_template_columns": null,
      "grid_template_rows": null,
      "height": null,
      "justify_content": null,
      "justify_items": null,
      "left": null,
      "margin": null,
      "max_height": null,
      "max_width": null,
      "min_height": null,
      "min_width": null,
      "object_fit": null,
      "object_position": null,
      "order": null,
      "overflow": null,
      "overflow_x": null,
      "overflow_y": null,
      "padding": null,
      "right": null,
      "top": null,
      "visibility": null,
      "width": null
     }
    },
    "afd0a4a3be9343d1978abfecfb2d556f": {
     "model_module": "@jupyter-widgets/controls",
     "model_name": "HTMLModel",
     "state": {
      "_dom_classes": [],
      "_model_module": "@jupyter-widgets/controls",
      "_model_module_version": "1.5.0",
      "_model_name": "HTMLModel",
      "_view_count": null,
      "_view_module": "@jupyter-widgets/controls",
      "_view_module_version": "1.5.0",
      "_view_name": "HTMLView",
      "description": "",
      "description_tooltip": null,
      "layout": "IPY_MODEL_e0d715f665a548fb8d599252aafcbe50",
      "placeholder": "​",
      "style": "IPY_MODEL_01a7ca89f022441aa51a3fac800b8685",
      "value": " 75/75 [04:47&lt;00:00,  3.83s/it]"
     }
    },
    "b19fd8cda15a49af9280b44a92622f0b": {
     "model_module": "@jupyter-widgets/controls",
     "model_name": "DescriptionStyleModel",
     "state": {
      "_model_module": "@jupyter-widgets/controls",
      "_model_module_version": "1.5.0",
      "_model_name": "DescriptionStyleModel",
      "_view_count": null,
      "_view_module": "@jupyter-widgets/base",
      "_view_module_version": "1.2.0",
      "_view_name": "StyleView",
      "description_width": ""
     }
    },
    "b1a6e1a66c104d43b9fbecf1c6fcb89c": {
     "model_module": "@jupyter-widgets/base",
     "model_name": "LayoutModel",
     "state": {
      "_model_module": "@jupyter-widgets/base",
      "_model_module_version": "1.2.0",
      "_model_name": "LayoutModel",
      "_view_count": null,
      "_view_module": "@jupyter-widgets/base",
      "_view_module_version": "1.2.0",
      "_view_name": "LayoutView",
      "align_content": null,
      "align_items": null,
      "align_self": null,
      "border": null,
      "bottom": null,
      "display": null,
      "flex": null,
      "flex_flow": null,
      "grid_area": null,
      "grid_auto_columns": null,
      "grid_auto_flow": null,
      "grid_auto_rows": null,
      "grid_column": null,
      "grid_gap": null,
      "grid_row": null,
      "grid_template_areas": null,
      "grid_template_columns": null,
      "grid_template_rows": null,
      "height": null,
      "justify_content": null,
      "justify_items": null,
      "left": null,
      "margin": null,
      "max_height": null,
      "max_width": null,
      "min_height": null,
      "min_width": null,
      "object_fit": null,
      "object_position": null,
      "order": null,
      "overflow": null,
      "overflow_x": null,
      "overflow_y": null,
      "padding": null,
      "right": null,
      "top": null,
      "visibility": null,
      "width": null
     }
    },
    "b63f52e06c6646729eadde54e6f12882": {
     "model_module": "@jupyter-widgets/controls",
     "model_name": "FloatProgressModel",
     "state": {
      "_dom_classes": [],
      "_model_module": "@jupyter-widgets/controls",
      "_model_module_version": "1.5.0",
      "_model_name": "FloatProgressModel",
      "_view_count": null,
      "_view_module": "@jupyter-widgets/controls",
      "_view_module_version": "1.5.0",
      "_view_name": "ProgressView",
      "bar_style": "success",
      "description": "100%",
      "description_tooltip": null,
      "layout": "IPY_MODEL_f0646542d3a1494dbf8e9d0871b6096b",
      "max": 78,
      "min": 0,
      "orientation": "horizontal",
      "style": "IPY_MODEL_e73c063e51c84349be6a35922c5a86f0",
      "value": 78
     }
    },
    "b72e6524cbf44af4a31b4cbb5c5cdd8d": {
     "model_module": "@jupyter-widgets/controls",
     "model_name": "HBoxModel",
     "state": {
      "_dom_classes": [],
      "_model_module": "@jupyter-widgets/controls",
      "_model_module_version": "1.5.0",
      "_model_name": "HBoxModel",
      "_view_count": null,
      "_view_module": "@jupyter-widgets/controls",
      "_view_module_version": "1.5.0",
      "_view_name": "HBoxView",
      "box_style": "",
      "children": [
       "IPY_MODEL_4c5b6916e56240678017f6361b5f89a8",
       "IPY_MODEL_5b966b6daacb479aab75317b086970b0"
      ],
      "layout": "IPY_MODEL_f065e03ae66b4a9890648df1ab6b6f38"
     }
    },
    "b73c1fa5b4974a4a8432cbdc9aad94fd": {
     "model_module": "@jupyter-widgets/base",
     "model_name": "LayoutModel",
     "state": {
      "_model_module": "@jupyter-widgets/base",
      "_model_module_version": "1.2.0",
      "_model_name": "LayoutModel",
      "_view_count": null,
      "_view_module": "@jupyter-widgets/base",
      "_view_module_version": "1.2.0",
      "_view_name": "LayoutView",
      "align_content": null,
      "align_items": null,
      "align_self": null,
      "border": null,
      "bottom": null,
      "display": null,
      "flex": null,
      "flex_flow": null,
      "grid_area": null,
      "grid_auto_columns": null,
      "grid_auto_flow": null,
      "grid_auto_rows": null,
      "grid_column": null,
      "grid_gap": null,
      "grid_row": null,
      "grid_template_areas": null,
      "grid_template_columns": null,
      "grid_template_rows": null,
      "height": null,
      "justify_content": null,
      "justify_items": null,
      "left": null,
      "margin": null,
      "max_height": null,
      "max_width": null,
      "min_height": null,
      "min_width": null,
      "object_fit": null,
      "object_position": null,
      "order": null,
      "overflow": null,
      "overflow_x": null,
      "overflow_y": null,
      "padding": null,
      "right": null,
      "top": null,
      "visibility": null,
      "width": null
     }
    },
    "ba5c972d80214288b38060b78ee60952": {
     "model_module": "@jupyter-widgets/base",
     "model_name": "LayoutModel",
     "state": {
      "_model_module": "@jupyter-widgets/base",
      "_model_module_version": "1.2.0",
      "_model_name": "LayoutModel",
      "_view_count": null,
      "_view_module": "@jupyter-widgets/base",
      "_view_module_version": "1.2.0",
      "_view_name": "LayoutView",
      "align_content": null,
      "align_items": null,
      "align_self": null,
      "border": null,
      "bottom": null,
      "display": null,
      "flex": null,
      "flex_flow": null,
      "grid_area": null,
      "grid_auto_columns": null,
      "grid_auto_flow": null,
      "grid_auto_rows": null,
      "grid_column": null,
      "grid_gap": null,
      "grid_row": null,
      "grid_template_areas": null,
      "grid_template_columns": null,
      "grid_template_rows": null,
      "height": null,
      "justify_content": null,
      "justify_items": null,
      "left": null,
      "margin": null,
      "max_height": null,
      "max_width": null,
      "min_height": null,
      "min_width": null,
      "object_fit": null,
      "object_position": null,
      "order": null,
      "overflow": null,
      "overflow_x": null,
      "overflow_y": null,
      "padding": null,
      "right": null,
      "top": null,
      "visibility": null,
      "width": null
     }
    },
    "ba683a4b0b7343c389d269f207f578a7": {
     "model_module": "@jupyter-widgets/controls",
     "model_name": "HTMLModel",
     "state": {
      "_dom_classes": [],
      "_model_module": "@jupyter-widgets/controls",
      "_model_module_version": "1.5.0",
      "_model_name": "HTMLModel",
      "_view_count": null,
      "_view_module": "@jupyter-widgets/controls",
      "_view_module_version": "1.5.0",
      "_view_name": "HTMLView",
      "description": "",
      "description_tooltip": null,
      "layout": "IPY_MODEL_cd9f4337bf12437699b6aad6d181bc20",
      "placeholder": "​",
      "style": "IPY_MODEL_b19fd8cda15a49af9280b44a92622f0b",
      "value": " 75/75 [00:29&lt;00:00,  2.54it/s]"
     }
    },
    "bbf1f3ce06c1417eb55319373c280bc9": {
     "model_module": "@jupyter-widgets/controls",
     "model_name": "FloatProgressModel",
     "state": {
      "_dom_classes": [],
      "_model_module": "@jupyter-widgets/controls",
      "_model_module_version": "1.5.0",
      "_model_name": "FloatProgressModel",
      "_view_count": null,
      "_view_module": "@jupyter-widgets/controls",
      "_view_module_version": "1.5.0",
      "_view_name": "ProgressView",
      "bar_style": "success",
      "description": "100%",
      "description_tooltip": null,
      "layout": "IPY_MODEL_adae8536998c4c0da204e692e4ca3a70",
      "max": 80,
      "min": 0,
      "orientation": "horizontal",
      "style": "IPY_MODEL_91de86ba45554440b37198b5c4f1bbe5",
      "value": 80
     }
    },
    "bd9a2fef2cca464ea022378431a47a37": {
     "model_module": "@jupyter-widgets/controls",
     "model_name": "DescriptionStyleModel",
     "state": {
      "_model_module": "@jupyter-widgets/controls",
      "_model_module_version": "1.5.0",
      "_model_name": "DescriptionStyleModel",
      "_view_count": null,
      "_view_module": "@jupyter-widgets/base",
      "_view_module_version": "1.2.0",
      "_view_name": "StyleView",
      "description_width": ""
     }
    },
    "c0fbd79bdf6e4e8e9ed48326c206f4f6": {
     "model_module": "@jupyter-widgets/controls",
     "model_name": "ProgressStyleModel",
     "state": {
      "_model_module": "@jupyter-widgets/controls",
      "_model_module_version": "1.5.0",
      "_model_name": "ProgressStyleModel",
      "_view_count": null,
      "_view_module": "@jupyter-widgets/base",
      "_view_module_version": "1.2.0",
      "_view_name": "StyleView",
      "bar_color": null,
      "description_width": "initial"
     }
    },
    "c7095c26165d423fa491ac99da0b8650": {
     "model_module": "@jupyter-widgets/controls",
     "model_name": "DescriptionStyleModel",
     "state": {
      "_model_module": "@jupyter-widgets/controls",
      "_model_module_version": "1.5.0",
      "_model_name": "DescriptionStyleModel",
      "_view_count": null,
      "_view_module": "@jupyter-widgets/base",
      "_view_module_version": "1.2.0",
      "_view_name": "StyleView",
      "description_width": ""
     }
    },
    "cd9f4337bf12437699b6aad6d181bc20": {
     "model_module": "@jupyter-widgets/base",
     "model_name": "LayoutModel",
     "state": {
      "_model_module": "@jupyter-widgets/base",
      "_model_module_version": "1.2.0",
      "_model_name": "LayoutModel",
      "_view_count": null,
      "_view_module": "@jupyter-widgets/base",
      "_view_module_version": "1.2.0",
      "_view_name": "LayoutView",
      "align_content": null,
      "align_items": null,
      "align_self": null,
      "border": null,
      "bottom": null,
      "display": null,
      "flex": null,
      "flex_flow": null,
      "grid_area": null,
      "grid_auto_columns": null,
      "grid_auto_flow": null,
      "grid_auto_rows": null,
      "grid_column": null,
      "grid_gap": null,
      "grid_row": null,
      "grid_template_areas": null,
      "grid_template_columns": null,
      "grid_template_rows": null,
      "height": null,
      "justify_content": null,
      "justify_items": null,
      "left": null,
      "margin": null,
      "max_height": null,
      "max_width": null,
      "min_height": null,
      "min_width": null,
      "object_fit": null,
      "object_position": null,
      "order": null,
      "overflow": null,
      "overflow_x": null,
      "overflow_y": null,
      "padding": null,
      "right": null,
      "top": null,
      "visibility": null,
      "width": null
     }
    },
    "cef5d0ffa77c42bd8be7e1baf0600882": {
     "model_module": "@jupyter-widgets/controls",
     "model_name": "FloatProgressModel",
     "state": {
      "_dom_classes": [],
      "_model_module": "@jupyter-widgets/controls",
      "_model_module_version": "1.5.0",
      "_model_name": "FloatProgressModel",
      "_view_count": null,
      "_view_module": "@jupyter-widgets/controls",
      "_view_module_version": "1.5.0",
      "_view_name": "ProgressView",
      "bar_style": "success",
      "description": "100%",
      "description_tooltip": null,
      "layout": "IPY_MODEL_418b56c363194804b37a201fd624e550",
      "max": 500,
      "min": 0,
      "orientation": "horizontal",
      "style": "IPY_MODEL_82ffc50373c64d76b288c492bcf02282",
      "value": 500
     }
    },
    "d54d4a4dc2b34ba39e13ffe9e8c26586": {
     "model_module": "@jupyter-widgets/controls",
     "model_name": "FloatProgressModel",
     "state": {
      "_dom_classes": [],
      "_model_module": "@jupyter-widgets/controls",
      "_model_module_version": "1.5.0",
      "_model_name": "FloatProgressModel",
      "_view_count": null,
      "_view_module": "@jupyter-widgets/controls",
      "_view_module_version": "1.5.0",
      "_view_name": "ProgressView",
      "bar_style": "success",
      "description": "100%",
      "description_tooltip": null,
      "layout": "IPY_MODEL_b1a6e1a66c104d43b9fbecf1c6fcb89c",
      "max": 500,
      "min": 0,
      "orientation": "horizontal",
      "style": "IPY_MODEL_77301815c8644d23b9f080667944c77b",
      "value": 500
     }
    },
    "d72c749710fd405fab88fa4262f85878": {
     "model_module": "@jupyter-widgets/base",
     "model_name": "LayoutModel",
     "state": {
      "_model_module": "@jupyter-widgets/base",
      "_model_module_version": "1.2.0",
      "_model_name": "LayoutModel",
      "_view_count": null,
      "_view_module": "@jupyter-widgets/base",
      "_view_module_version": "1.2.0",
      "_view_name": "LayoutView",
      "align_content": null,
      "align_items": null,
      "align_self": null,
      "border": null,
      "bottom": null,
      "display": null,
      "flex": null,
      "flex_flow": null,
      "grid_area": null,
      "grid_auto_columns": null,
      "grid_auto_flow": null,
      "grid_auto_rows": null,
      "grid_column": null,
      "grid_gap": null,
      "grid_row": null,
      "grid_template_areas": null,
      "grid_template_columns": null,
      "grid_template_rows": null,
      "height": null,
      "justify_content": null,
      "justify_items": null,
      "left": null,
      "margin": null,
      "max_height": null,
      "max_width": null,
      "min_height": null,
      "min_width": null,
      "object_fit": null,
      "object_position": null,
      "order": null,
      "overflow": null,
      "overflow_x": null,
      "overflow_y": null,
      "padding": null,
      "right": null,
      "top": null,
      "visibility": null,
      "width": null
     }
    },
    "e0d715f665a548fb8d599252aafcbe50": {
     "model_module": "@jupyter-widgets/base",
     "model_name": "LayoutModel",
     "state": {
      "_model_module": "@jupyter-widgets/base",
      "_model_module_version": "1.2.0",
      "_model_name": "LayoutModel",
      "_view_count": null,
      "_view_module": "@jupyter-widgets/base",
      "_view_module_version": "1.2.0",
      "_view_name": "LayoutView",
      "align_content": null,
      "align_items": null,
      "align_self": null,
      "border": null,
      "bottom": null,
      "display": null,
      "flex": null,
      "flex_flow": null,
      "grid_area": null,
      "grid_auto_columns": null,
      "grid_auto_flow": null,
      "grid_auto_rows": null,
      "grid_column": null,
      "grid_gap": null,
      "grid_row": null,
      "grid_template_areas": null,
      "grid_template_columns": null,
      "grid_template_rows": null,
      "height": null,
      "justify_content": null,
      "justify_items": null,
      "left": null,
      "margin": null,
      "max_height": null,
      "max_width": null,
      "min_height": null,
      "min_width": null,
      "object_fit": null,
      "object_position": null,
      "order": null,
      "overflow": null,
      "overflow_x": null,
      "overflow_y": null,
      "padding": null,
      "right": null,
      "top": null,
      "visibility": null,
      "width": null
     }
    },
    "e73c063e51c84349be6a35922c5a86f0": {
     "model_module": "@jupyter-widgets/controls",
     "model_name": "ProgressStyleModel",
     "state": {
      "_model_module": "@jupyter-widgets/controls",
      "_model_module_version": "1.5.0",
      "_model_name": "ProgressStyleModel",
      "_view_count": null,
      "_view_module": "@jupyter-widgets/base",
      "_view_module_version": "1.2.0",
      "_view_name": "StyleView",
      "bar_color": null,
      "description_width": "initial"
     }
    },
    "eac8de29c86e4b20973537b44c49ff39": {
     "model_module": "@jupyter-widgets/controls",
     "model_name": "DescriptionStyleModel",
     "state": {
      "_model_module": "@jupyter-widgets/controls",
      "_model_module_version": "1.5.0",
      "_model_name": "DescriptionStyleModel",
      "_view_count": null,
      "_view_module": "@jupyter-widgets/base",
      "_view_module_version": "1.2.0",
      "_view_name": "StyleView",
      "description_width": ""
     }
    },
    "ebeb83865bc64823843b1d4a87e5a6a0": {
     "model_module": "@jupyter-widgets/base",
     "model_name": "LayoutModel",
     "state": {
      "_model_module": "@jupyter-widgets/base",
      "_model_module_version": "1.2.0",
      "_model_name": "LayoutModel",
      "_view_count": null,
      "_view_module": "@jupyter-widgets/base",
      "_view_module_version": "1.2.0",
      "_view_name": "LayoutView",
      "align_content": null,
      "align_items": null,
      "align_self": null,
      "border": null,
      "bottom": null,
      "display": null,
      "flex": null,
      "flex_flow": null,
      "grid_area": null,
      "grid_auto_columns": null,
      "grid_auto_flow": null,
      "grid_auto_rows": null,
      "grid_column": null,
      "grid_gap": null,
      "grid_row": null,
      "grid_template_areas": null,
      "grid_template_columns": null,
      "grid_template_rows": null,
      "height": null,
      "justify_content": null,
      "justify_items": null,
      "left": null,
      "margin": null,
      "max_height": null,
      "max_width": null,
      "min_height": null,
      "min_width": null,
      "object_fit": null,
      "object_position": null,
      "order": null,
      "overflow": null,
      "overflow_x": null,
      "overflow_y": null,
      "padding": null,
      "right": null,
      "top": null,
      "visibility": null,
      "width": null
     }
    },
    "f0646542d3a1494dbf8e9d0871b6096b": {
     "model_module": "@jupyter-widgets/base",
     "model_name": "LayoutModel",
     "state": {
      "_model_module": "@jupyter-widgets/base",
      "_model_module_version": "1.2.0",
      "_model_name": "LayoutModel",
      "_view_count": null,
      "_view_module": "@jupyter-widgets/base",
      "_view_module_version": "1.2.0",
      "_view_name": "LayoutView",
      "align_content": null,
      "align_items": null,
      "align_self": null,
      "border": null,
      "bottom": null,
      "display": null,
      "flex": null,
      "flex_flow": null,
      "grid_area": null,
      "grid_auto_columns": null,
      "grid_auto_flow": null,
      "grid_auto_rows": null,
      "grid_column": null,
      "grid_gap": null,
      "grid_row": null,
      "grid_template_areas": null,
      "grid_template_columns": null,
      "grid_template_rows": null,
      "height": null,
      "justify_content": null,
      "justify_items": null,
      "left": null,
      "margin": null,
      "max_height": null,
      "max_width": null,
      "min_height": null,
      "min_width": null,
      "object_fit": null,
      "object_position": null,
      "order": null,
      "overflow": null,
      "overflow_x": null,
      "overflow_y": null,
      "padding": null,
      "right": null,
      "top": null,
      "visibility": null,
      "width": null
     }
    },
    "f065e03ae66b4a9890648df1ab6b6f38": {
     "model_module": "@jupyter-widgets/base",
     "model_name": "LayoutModel",
     "state": {
      "_model_module": "@jupyter-widgets/base",
      "_model_module_version": "1.2.0",
      "_model_name": "LayoutModel",
      "_view_count": null,
      "_view_module": "@jupyter-widgets/base",
      "_view_module_version": "1.2.0",
      "_view_name": "LayoutView",
      "align_content": null,
      "align_items": null,
      "align_self": null,
      "border": null,
      "bottom": null,
      "display": null,
      "flex": null,
      "flex_flow": null,
      "grid_area": null,
      "grid_auto_columns": null,
      "grid_auto_flow": null,
      "grid_auto_rows": null,
      "grid_column": null,
      "grid_gap": null,
      "grid_row": null,
      "grid_template_areas": null,
      "grid_template_columns": null,
      "grid_template_rows": null,
      "height": null,
      "justify_content": null,
      "justify_items": null,
      "left": null,
      "margin": null,
      "max_height": null,
      "max_width": null,
      "min_height": null,
      "min_width": null,
      "object_fit": null,
      "object_position": null,
      "order": null,
      "overflow": null,
      "overflow_x": null,
      "overflow_y": null,
      "padding": null,
      "right": null,
      "top": null,
      "visibility": null,
      "width": null
     }
    },
    "f52ef0d739c14788874f16c6839ca6ce": {
     "model_module": "@jupyter-widgets/base",
     "model_name": "LayoutModel",
     "state": {
      "_model_module": "@jupyter-widgets/base",
      "_model_module_version": "1.2.0",
      "_model_name": "LayoutModel",
      "_view_count": null,
      "_view_module": "@jupyter-widgets/base",
      "_view_module_version": "1.2.0",
      "_view_name": "LayoutView",
      "align_content": null,
      "align_items": null,
      "align_self": null,
      "border": null,
      "bottom": null,
      "display": null,
      "flex": null,
      "flex_flow": null,
      "grid_area": null,
      "grid_auto_columns": null,
      "grid_auto_flow": null,
      "grid_auto_rows": null,
      "grid_column": null,
      "grid_gap": null,
      "grid_row": null,
      "grid_template_areas": null,
      "grid_template_columns": null,
      "grid_template_rows": null,
      "height": null,
      "justify_content": null,
      "justify_items": null,
      "left": null,
      "margin": null,
      "max_height": null,
      "max_width": null,
      "min_height": null,
      "min_width": null,
      "object_fit": null,
      "object_position": null,
      "order": null,
      "overflow": null,
      "overflow_x": null,
      "overflow_y": null,
      "padding": null,
      "right": null,
      "top": null,
      "visibility": null,
      "width": null
     }
    }
   }
  }
 },
 "nbformat": 4,
 "nbformat_minor": 1
}
