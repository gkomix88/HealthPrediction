{
 "cells": [
  {
   "cell_type": "code",
   "execution_count": 1,
   "metadata": {
    "colab": {
     "base_uri": "https://localhost:8080/"
    },
    "executionInfo": {
     "elapsed": 57785,
     "status": "ok",
     "timestamp": 1611410041928,
     "user": {
      "displayName": "KHONG FAN YI",
      "photoUrl": "",
      "userId": "02416044610109286808"
     },
     "user_tz": -480
    },
    "id": "U63_Vo-GdNSX",
    "outputId": "12f9d0d6-8322-4454-8de3-7de2322655ca"
   },
   "outputs": [
    {
     "name": "stdout",
     "output_type": "stream",
     "text": [
      "Mounted at /content/drive\n"
     ]
    }
   ],
   "source": [
    "from google.colab import drive\n",
    "drive.mount('/content/drive')"
   ]
  },
  {
   "cell_type": "markdown",
   "metadata": {
    "id": "iqI5L27rHjAg"
   },
   "source": [
    "##Import Packages"
   ]
  },
  {
   "cell_type": "code",
   "execution_count": 2,
   "metadata": {
    "executionInfo": {
     "elapsed": 3204,
     "status": "ok",
     "timestamp": 1611410053527,
     "user": {
      "displayName": "KHONG FAN YI",
      "photoUrl": "",
      "userId": "02416044610109286808"
     },
     "user_tz": -480
    },
    "id": "Qzgg5gPfcS9l"
   },
   "outputs": [],
   "source": [
    "import time\n",
    "import numpy as np\n",
    "import os\n",
    "import cv2\n",
    "import random\n",
    "import matplotlib.pyplot as plt\n",
    "import tensorflow as tf\n",
    "import pickle\n",
    "import sklearn.metrics as metrics\n",
    "from tqdm.notebook import tqdm\n",
    "from sklearn.model_selection import train_test_split\n",
    "from sklearn.discriminant_analysis import LinearDiscriminantAnalysis\n",
    "from sklearn.svm import SVC\n",
    "from sklearn.metrics import plot_confusion_matrix\n",
    "from sklearn.preprocessing import StandardScaler"
   ]
  },
  {
   "cell_type": "code",
   "execution_count": 3,
   "metadata": {
    "executionInfo": {
     "elapsed": 4077,
     "status": "ok",
     "timestamp": 1611410054417,
     "user": {
      "displayName": "KHONG FAN YI",
      "photoUrl": "",
      "userId": "02416044610109286808"
     },
     "user_tz": -480
    },
    "id": "YzUuI4AIcS9r"
   },
   "outputs": [],
   "source": [
    "# Define labels of the classes and subclasses\n",
    "\n",
    "CLASSES = [\"healthy\", \"ill\"]\n",
    "SUBCLASSES = [\"fever\", \"sore throat\", \"running nose\"]"
   ]
  },
  {
   "cell_type": "markdown",
   "metadata": {
    "id": "ciqkz1NoIE9L"
   },
   "source": [
    "##Load Dataset"
   ]
  },
  {
   "cell_type": "code",
   "execution_count": 4,
   "metadata": {
    "colab": {
     "base_uri": "https://localhost:8080/",
     "height": 215,
     "referenced_widgets": [
      "a8b7072ef6ad429491a6f6de03950425",
      "ab1c4c0f547c413a8879ca04e7c64251",
      "fcec5e9ee4934e4790acff692d91d5a0",
      "a08661d4e5d74b9689d917c311f5dd3f",
      "47144ab7ac854b18adbbb71a6d305388",
      "639035005ba04eab9c7e354f12326a4a",
      "a44d0c65b955404189cf19760ea49553",
      "e172ff30514f444e85eaa9ddd496555d",
      "56bdf70db5d14af5afb502a9f28a4c03",
      "fa0e7aaef75f4f56807bf638c345da17",
      "97027868009349a68acce4bb0b3f48f9",
      "99158f2f6ac841b4b064035ec04f5e32",
      "11842d5b91a0438baf93914d3f650c1b",
      "12ff1f81fdc64608b015055a059bbe7c",
      "c093148008cf4c4b890d41129c0c474e",
      "bafa6a49ed964830a4300a80cef3f925",
      "81b4554af0cf4829aa57266473fec217",
      "41951487fd964648b34a352c3d4d21f5",
      "b335f2c0ead343f6a7178e7ea23f0eed",
      "749af19283ca4aeab25eb0917f4389aa",
      "d321fc07ce0246d5a9a88fdfb21bd23b",
      "6009146fd1e24919ba4aed24bca08d90",
      "ee91050889fe468b9151ef3d6815cf00",
      "d2bf9bec4d8146a798c6ef16fd13254f",
      "cf8e96ba128a4f708053e2bb3d1fb38e",
      "8a349168f47441f1ad44e7c9fca32e9f",
      "173a9cb5762d464a90a7410f6d99064a",
      "e01d3ff326ab47eb8f3a7cf92d976018",
      "92a84106014c46d291fc6499d51363b1",
      "28ba70ff8cb94933b6ac4d04c12cde52",
      "60359adc55b5410495122ad9c59bb2dc",
      "ba987f16b94440a1996a065d182a49ef"
     ]
    },
    "executionInfo": {
     "elapsed": 233769,
     "status": "ok",
     "timestamp": 1611410284253,
     "user": {
      "displayName": "KHONG FAN YI",
      "photoUrl": "",
      "userId": "02416044610109286808"
     },
     "user_tz": -480
    },
    "id": "azh7MJDPcS9u",
    "outputId": "85150d3c-9e37-48b7-ae8b-20bf8554eb44",
    "scrolled": true
   },
   "outputs": [
    {
     "data": {
      "application/vnd.jupyter.widget-view+json": {
       "model_id": "a8b7072ef6ad429491a6f6de03950425",
       "version_major": 2,
       "version_minor": 0
      },
      "text/plain": [
       "HBox(children=(FloatProgress(value=0.0, max=500.0), HTML(value='')))"
      ]
     },
     "metadata": {
      "tags": []
     },
     "output_type": "display_data"
    },
    {
     "name": "stdout",
     "output_type": "stream",
     "text": [
      "\n"
     ]
    },
    {
     "data": {
      "application/vnd.jupyter.widget-view+json": {
       "model_id": "56bdf70db5d14af5afb502a9f28a4c03",
       "version_major": 2,
       "version_minor": 0
      },
      "text/plain": [
       "HBox(children=(FloatProgress(value=0.0, max=78.0), HTML(value='')))"
      ]
     },
     "metadata": {
      "tags": []
     },
     "output_type": "display_data"
    },
    {
     "name": "stdout",
     "output_type": "stream",
     "text": [
      "\n"
     ]
    },
    {
     "data": {
      "application/vnd.jupyter.widget-view+json": {
       "model_id": "81b4554af0cf4829aa57266473fec217",
       "version_major": 2,
       "version_minor": 0
      },
      "text/plain": [
       "HBox(children=(FloatProgress(value=0.0, max=80.0), HTML(value='')))"
      ]
     },
     "metadata": {
      "tags": []
     },
     "output_type": "display_data"
    },
    {
     "name": "stdout",
     "output_type": "stream",
     "text": [
      "\n"
     ]
    },
    {
     "data": {
      "application/vnd.jupyter.widget-view+json": {
       "model_id": "cf8e96ba128a4f708053e2bb3d1fb38e",
       "version_major": 2,
       "version_minor": 0
      },
      "text/plain": [
       "HBox(children=(FloatProgress(value=0.0, max=75.0), HTML(value='')))"
      ]
     },
     "metadata": {
      "tags": []
     },
     "output_type": "display_data"
    },
    {
     "name": "stdout",
     "output_type": "stream",
     "text": [
      "\n"
     ]
    }
   ],
   "source": [
    "folder = \"/content/drive/MyDrive/FYP/dataset\"\n",
    "img_array = []\n",
    "class_num_list1 = []\n",
    "subcls_num_list1 = [\"None\"]*500   # fill the list with 500 \"None's\" first to represent \"healthy\" samples\n",
    "\n",
    "for c in CLASSES: \n",
    "        \n",
    "    if (c == \"healthy\"):\n",
    "        path = os.path.join(folder,c)  # create path to dataset folder\n",
    "        class_num = 0  # get the CLASSES index, 0 = healthy, 1 = ill\n",
    "        for img in tqdm(os.listdir(path)):  # iterate over each image per folder\n",
    "            try:\n",
    "                img = cv2.imread(os.path.join(path,img))  # read image into a list \n",
    "                img_array.append(img)\n",
    "                class_num_list1.append(class_num) # save a list of the class numbers\n",
    "            except Exception as e: \n",
    "                print(\"error\")\n",
    "                \n",
    "    elif (c == \"ill\"):\n",
    "        for s in SUBCLASSES:\n",
    "            path = os.path.join(folder,c,s) # create path to ill subfolders \n",
    "            class_num = 1\n",
    "            subclass_num = SUBCLASSES.index(s)\n",
    "            for img in tqdm(os.listdir(path)):  # iterate over each image per folder\n",
    "                try:\n",
    "                    img = cv2.imread(os.path.join(path,img))  # read image into a list\n",
    "                    img_array.append(img)\n",
    "                    class_num_list1.append(class_num) \n",
    "                    subcls_num_list1.append(subclass_num) # save a list of the subclass numbers; 0 = fever, 1 = sore throat, 2 = running nose\n",
    "                except Exception as e: \n",
    "                    print(\"error\")"
   ]
  },
  {
   "cell_type": "code",
   "execution_count": 5,
   "metadata": {
    "colab": {
     "base_uri": "https://localhost:8080/",
     "height": 215,
     "referenced_widgets": [
      "6e8412f680c74fb8950acbb203e51ab9",
      "9bcea345e98d43c7aa793540361c2acb",
      "21157cec7c0a443b8820b11637249a14",
      "a06c89a8e65245958c14a459c6658400",
      "9cacd9fdbbf94f348eb53b0ae8bdcc64",
      "ba365cf7f1814e3c94421dcbb14a2f0d",
      "b0c2ab0f7e9c4775a59dd8e38f86ae85",
      "f9a835bf21694a6ebef34ec41db2445b",
      "9586fbb00c9842f3a1b66dccad234d10",
      "d03a48d511624c009c196fd57b29d149",
      "f15d0993d54a4561a2c4f855414930c2",
      "478f9403196e4380997d39932926312d",
      "7e1c476f70494717b3f1eb0df51aadd4",
      "18661c64e2a340b69461d17ab2a5d792",
      "847d6c1b146a4926a24e6d541ae99ce9",
      "2e3d539d10714d01a6329f863efff21c",
      "ae8163cfb42842dfb16287e70206426c",
      "59a35e8288044e39ad31dbc09cf9caeb",
      "65d953923196428c8d2a2583838c1b21",
      "7af45a50d40e4c658769ad096a43c42e",
      "a6752e7c8b0f4ccfa088334c4228e7d4",
      "b060f476c76d45efbcaefcf1458436b9",
      "43db3e3c9d6d4256a4f2393679faeedf",
      "e37877e1ed1f4d6493ead02f92c29f98",
      "f607f4a80cd5475bbdebb176755f031c",
      "6cf5bab9a14a4fbe9e412e4f3af7b0e7",
      "3950476af3824f0a84dbe5595a4f907e",
      "c0c6eccdad9f4c80a1fd15342ea75acc",
      "76da7867364e4b2b8e5409f1ddb5d700",
      "048aa2065b0b47339656dba075357b64",
      "67d2ebc5dcf44972be46c472107f77e9",
      "228f6dc3b19f4e80a455bd9519ad7cc3"
     ]
    },
    "executionInfo": {
     "elapsed": 460748,
     "status": "ok",
     "timestamp": 1611410511283,
     "user": {
      "displayName": "KHONG FAN YI",
      "photoUrl": "",
      "userId": "02416044610109286808"
     },
     "user_tz": -480
    },
    "id": "Auf0PEu2cS9x",
    "outputId": "a0d71a94-d029-48b7-dfee-dd53398ca403"
   },
   "outputs": [
    {
     "data": {
      "application/vnd.jupyter.widget-view+json": {
       "model_id": "6e8412f680c74fb8950acbb203e51ab9",
       "version_major": 2,
       "version_minor": 0
      },
      "text/plain": [
       "HBox(children=(FloatProgress(value=0.0, max=500.0), HTML(value='')))"
      ]
     },
     "metadata": {
      "tags": []
     },
     "output_type": "display_data"
    },
    {
     "name": "stdout",
     "output_type": "stream",
     "text": [
      "\n"
     ]
    },
    {
     "data": {
      "application/vnd.jupyter.widget-view+json": {
       "model_id": "9586fbb00c9842f3a1b66dccad234d10",
       "version_major": 2,
       "version_minor": 0
      },
      "text/plain": [
       "HBox(children=(FloatProgress(value=0.0, max=78.0), HTML(value='')))"
      ]
     },
     "metadata": {
      "tags": []
     },
     "output_type": "display_data"
    },
    {
     "name": "stdout",
     "output_type": "stream",
     "text": [
      "\n"
     ]
    },
    {
     "data": {
      "application/vnd.jupyter.widget-view+json": {
       "model_id": "ae8163cfb42842dfb16287e70206426c",
       "version_major": 2,
       "version_minor": 0
      },
      "text/plain": [
       "HBox(children=(FloatProgress(value=0.0, max=80.0), HTML(value='')))"
      ]
     },
     "metadata": {
      "tags": []
     },
     "output_type": "display_data"
    },
    {
     "name": "stdout",
     "output_type": "stream",
     "text": [
      "\n"
     ]
    },
    {
     "data": {
      "application/vnd.jupyter.widget-view+json": {
       "model_id": "f607f4a80cd5475bbdebb176755f031c",
       "version_major": 2,
       "version_minor": 0
      },
      "text/plain": [
       "HBox(children=(FloatProgress(value=0.0, max=75.0), HTML(value='')))"
      ]
     },
     "metadata": {
      "tags": []
     },
     "output_type": "display_data"
    },
    {
     "name": "stdout",
     "output_type": "stream",
     "text": [
      "\n"
     ]
    }
   ],
   "source": [
    "folder_aug = \"/content/drive/MyDrive/FYP/augmented images\"\n",
    "aug_array = []\n",
    "class_num_list2 = []\n",
    "subcls_num_list2 = [\"None\"]*500 # fill the list with 500 \"None's\" first to represent \"healthy\" samples\n",
    "\n",
    "for c in CLASSES: \n",
    "        \n",
    "    if (c == \"healthy\"):\n",
    "        path = os.path.join(folder_aug,c)  # create path to dataset folder_aug\n",
    "        class_num = 0  # get the CLASSES index, 0 = healthy, 1 = ill\n",
    "        for img in tqdm(os.listdir(path)):  # iterate over each image per folder_aug\n",
    "            try:\n",
    "                img = cv2.imread(os.path.join(path,img))  # read image into a list \n",
    "                aug_array.append(img)\n",
    "                class_num_list2.append(class_num) # save a list of the class numbers\n",
    "            except Exception as e: \n",
    "                print(\"error\")\n",
    "                \n",
    "    elif (c == \"ill\"):\n",
    "        for s in SUBCLASSES:\n",
    "            path = os.path.join(folder_aug,c,s) # create path to ill subfolder_augs \n",
    "            class_num = 1\n",
    "            subclass_num = SUBCLASSES.index(s)\n",
    "            for img in tqdm(os.listdir(path)):  # iterate over each image per folder_aug\n",
    "                try:\n",
    "                    img = cv2.imread(os.path.join(path,img))  # read image into a list\n",
    "                    aug_array.append(img)\n",
    "                    class_num_list2.append(class_num) \n",
    "                    subcls_num_list2.append(subclass_num) # save a list of the subclass numbers; 0 = fever, 1 = sore throat, 2 = running nose\n",
    "                except Exception as e: \n",
    "                    print(\"error\")"
   ]
  },
  {
   "cell_type": "markdown",
   "metadata": {
    "id": "2kLF31p6HGit"
   },
   "source": [
    "## First-Level Classification\n",
    "> ### *Classify samples into healthy (0) and ill (1) classes*\n"
   ]
  },
  {
   "cell_type": "code",
   "execution_count": 6,
   "metadata": {
    "executionInfo": {
     "elapsed": 461308,
     "status": "ok",
     "timestamp": 1611410511860,
     "user": {
      "displayName": "KHONG FAN YI",
      "photoUrl": "",
      "userId": "02416044610109286808"
     },
     "user_tz": -480
    },
    "id": "MEuw9582cS91"
   },
   "outputs": [],
   "source": [
    "# Create partial dataset of original images (will add in the augmented set after spliting)\n",
    "dataset = []\n",
    "\n",
    "for i, img in enumerate(img_array):  \n",
    "    try:\n",
    "        img_gray = cv2.cvtColor(img, cv2.COLOR_BGR2GRAY)\n",
    "        dataset.append([img_gray, class_num_list1[i], subcls_num_list1[i]])\n",
    "    except Exception as e: \n",
    "        print(\"error\")"
   ]
  },
  {
   "cell_type": "code",
   "execution_count": 7,
   "metadata": {
    "executionInfo": {
     "elapsed": 461300,
     "status": "ok",
     "timestamp": 1611410511865,
     "user": {
      "displayName": "KHONG FAN YI",
      "photoUrl": "",
      "userId": "02416044610109286808"
     },
     "user_tz": -480
    },
    "id": "_XSiQmhxcS93"
   },
   "outputs": [],
   "source": [
    "# Create the augmented images' dataset \n",
    "aug_dataset = []\n",
    "\n",
    "for i, aug in enumerate(aug_array):  \n",
    "    try:\n",
    "        aug_gray = cv2.cvtColor(aug, cv2.COLOR_BGR2GRAY)\n",
    "        aug_dataset.append([aug_gray, class_num_list2[i], subcls_num_list2[i]])\n",
    "    except Exception as e: \n",
    "        print(\"error\")"
   ]
  },
  {
   "cell_type": "code",
   "execution_count": 8,
   "metadata": {
    "colab": {
     "base_uri": "https://localhost:8080/"
    },
    "executionInfo": {
     "elapsed": 461289,
     "status": "ok",
     "timestamp": 1611410511867,
     "user": {
      "displayName": "KHONG FAN YI",
      "photoUrl": "",
      "userId": "02416044610109286808"
     },
     "user_tz": -480
    },
    "id": "58eiMLPFcS94",
    "outputId": "2cb568af-8bc8-4c0b-e020-867878b831f2"
   },
   "outputs": [
    {
     "name": "stdout",
     "output_type": "stream",
     "text": [
      "Train set length before data augmentation:  586\n",
      "Test set length:  147\n"
     ]
    }
   ],
   "source": [
    "# Split the original dataset\n",
    "train_set_before, test_set = train_test_split(dataset, test_size=0.2, shuffle=True)\n",
    "\n",
    "print('Train set length before data augmentation: ', len(train_set_before))\n",
    "print('Test set length: ', len(test_set))"
   ]
  },
  {
   "cell_type": "code",
   "execution_count": 9,
   "metadata": {
    "colab": {
     "base_uri": "https://localhost:8080/"
    },
    "executionInfo": {
     "elapsed": 461274,
     "status": "ok",
     "timestamp": 1611410511868,
     "user": {
      "displayName": "KHONG FAN YI",
      "photoUrl": "",
      "userId": "02416044610109286808"
     },
     "user_tz": -480
    },
    "id": "x3rHcqT8cS95",
    "outputId": "1fd05ed1-efba-4963-cad5-cc4c9732d4a4"
   },
   "outputs": [
    {
     "data": {
      "text/plain": [
       "1319"
      ]
     },
     "execution_count": 9,
     "metadata": {
      "tags": []
     },
     "output_type": "execute_result"
    }
   ],
   "source": [
    "# Add the augmented dataset into the training set, then shuffle\n",
    "train_set = []\n",
    "\n",
    "train_set = train_set_before.copy()\n",
    "\n",
    "for aug_set in aug_dataset:  \n",
    "    if (len(train_set) < 1319):\n",
    "        train_set.append(aug_set)\n",
    "        \n",
    "random.shuffle(train_set)\n",
    "len(train_set)"
   ]
  },
  {
   "cell_type": "code",
   "execution_count": 10,
   "metadata": {
    "colab": {
     "base_uri": "https://localhost:8080/"
    },
    "executionInfo": {
     "elapsed": 461259,
     "status": "ok",
     "timestamp": 1611410511871,
     "user": {
      "displayName": "KHONG FAN YI",
      "photoUrl": "",
      "userId": "02416044610109286808"
     },
     "user_tz": -480
    },
    "id": "YE7MBasIcS97",
    "outputId": "c72aaac7-9b59-4326-e05b-fdc97e53f7e2"
   },
   "outputs": [
    {
     "name": "stdout",
     "output_type": "stream",
     "text": [
      "(1319, 40000)\n",
      "(1319,)\n"
     ]
    }
   ],
   "source": [
    "# Create training set\n",
    "\n",
    "X_train = []\n",
    "y_train = []\n",
    "gray_img1 = []\n",
    "subcls_num = []\n",
    "\n",
    "for img_gray, label, subcls in train_set:\n",
    "    X_train.append(img_gray)\n",
    "    y_train.append(label)\n",
    "    subcls_num.append(subcls)\n",
    "    gray_img1.append(img_gray)\n",
    "\n",
    "X_train = np.array(X_train).reshape(len(y_train), -1)\n",
    "y_train = np.array(y_train)\n",
    "\n",
    "print(X_train.shape)\n",
    "print(y_train.shape)"
   ]
  },
  {
   "cell_type": "code",
   "execution_count": 11,
   "metadata": {
    "colab": {
     "base_uri": "https://localhost:8080/"
    },
    "executionInfo": {
     "elapsed": 461237,
     "status": "ok",
     "timestamp": 1611410511872,
     "user": {
      "displayName": "KHONG FAN YI",
      "photoUrl": "",
      "userId": "02416044610109286808"
     },
     "user_tz": -480
    },
    "id": "CoplEZ2OcS99",
    "outputId": "3370ca7c-5f6e-49e8-ba9e-a0648d24ad5d"
   },
   "outputs": [
    {
     "name": "stdout",
     "output_type": "stream",
     "text": [
      "(147, 40000)\n",
      "(147,)\n"
     ]
    }
   ],
   "source": [
    "# Create testing set\n",
    "\n",
    "X_test = []\n",
    "y_test = []\n",
    "gray_img2 = []\n",
    "\n",
    "for img_gray, label, subcls in test_set:\n",
    "    X_test.append(img_gray)\n",
    "    y_test.append(label)\n",
    "    gray_img2.append(img_gray)\n",
    "\n",
    "X_test = np.array(X_test).reshape(len(y_test), -1)\n",
    "y_test = np.array(y_test)\n",
    "\n",
    "print(X_test.shape)\n",
    "print(y_test.shape)"
   ]
  },
  {
   "cell_type": "code",
   "execution_count": 12,
   "metadata": {
    "executionInfo": {
     "elapsed": 462241,
     "status": "ok",
     "timestamp": 1611410512956,
     "user": {
      "displayName": "KHONG FAN YI",
      "photoUrl": "",
      "userId": "02416044610109286808"
     },
     "user_tz": -480
    },
    "id": "YxFfgMg5cS9_"
   },
   "outputs": [],
   "source": [
    "# Normalize the data\n",
    "\n",
    "scaling = StandardScaler()\n",
    "scaling.fit(X_train)\n",
    "X_train = scaling.transform(X_train)\n",
    "X_test = scaling.transform(X_test)"
   ]
  },
  {
   "cell_type": "markdown",
   "metadata": {
    "id": "-IK1KAsRF0ou"
   },
   "source": [
    "### Feature Extraction"
   ]
  },
  {
   "cell_type": "code",
   "execution_count": 13,
   "metadata": {
    "colab": {
     "base_uri": "https://localhost:8080/"
    },
    "executionInfo": {
     "elapsed": 490307,
     "status": "ok",
     "timestamp": 1611410541036,
     "user": {
      "displayName": "KHONG FAN YI",
      "photoUrl": "",
      "userId": "02416044610109286808"
     },
     "user_tz": -480
    },
    "id": "78SSEbJhcS9_",
    "outputId": "9a7dbf7f-5134-4954-c457-c75bb1c5dbfd",
    "scrolled": true
   },
   "outputs": [
    {
     "name": "stdout",
     "output_type": "stream",
     "text": [
      "(1319, 1)\n",
      "(147, 1)\n"
     ]
    }
   ],
   "source": [
    "# Apply LDA to extract features\n",
    "lda = LinearDiscriminantAnalysis(n_components = 1)\n",
    "X_train = lda.fit_transform(X_train, y_train)\n",
    "X_test = lda.transform(X_test)\n",
    "print(X_train.shape)\n",
    "print(X_test.shape)"
   ]
  },
  {
   "cell_type": "markdown",
   "metadata": {
    "id": "84UEBtn7idcv"
   },
   "source": [
    "### Train Model"
   ]
  },
  {
   "cell_type": "code",
   "execution_count": 14,
   "metadata": {
    "colab": {
     "base_uri": "https://localhost:8080/"
    },
    "executionInfo": {
     "elapsed": 490296,
     "status": "ok",
     "timestamp": 1611410541042,
     "user": {
      "displayName": "KHONG FAN YI",
      "photoUrl": "",
      "userId": "02416044610109286808"
     },
     "user_tz": -480
    },
    "id": "TahkdbINcS-A",
    "outputId": "13031f10-fd2c-4846-e642-aadf9c427e02",
    "scrolled": true
   },
   "outputs": [
    {
     "name": "stdout",
     "output_type": "stream",
     "text": [
      "0.014215946197509766 seconds\n"
     ]
    }
   ],
   "source": [
    "# Train the classifier\n",
    "\n",
    "svm = SVC(C=10, kernel='linear')\n",
    "\n",
    "start_train = time.time() # to record the training time\n",
    "svm.fit(X_train, y_train)\n",
    "end_train = time.time()\n",
    "print(end_train - start_train, \"seconds\")"
   ]
  },
  {
   "cell_type": "markdown",
   "metadata": {
    "id": "EN0feoe9o5yx"
   },
   "source": [
    "#### Training Performance"
   ]
  },
  {
   "cell_type": "code",
   "execution_count": 15,
   "metadata": {
    "colab": {
     "base_uri": "https://localhost:8080/"
    },
    "executionInfo": {
     "elapsed": 490292,
     "status": "ok",
     "timestamp": 1611410541056,
     "user": {
      "displayName": "KHONG FAN YI",
      "photoUrl": "",
      "userId": "02416044610109286808"
     },
     "user_tz": -480
    },
    "id": "5flMCsPGcS-C",
    "outputId": "7cb33836-fe05-48ab-fc8d-fa7cb49ee62d",
    "scrolled": false
   },
   "outputs": [
    {
     "name": "stdout",
     "output_type": "stream",
     "text": [
      "Classification report for - \n",
      "SVC(C=10, break_ties=False, cache_size=200, class_weight=None, coef0=0.0,\n",
      "    decision_function_shape='ovr', degree=3, gamma='scale', kernel='linear',\n",
      "    max_iter=-1, probability=False, random_state=None, shrinking=True,\n",
      "    tol=0.001, verbose=False):\n",
      "              precision    recall  f1-score   support\n",
      "\n",
      "           0       0.98      0.98      0.98       898\n",
      "           1       0.97      0.95      0.96       421\n",
      "\n",
      "    accuracy                           0.97      1319\n",
      "   macro avg       0.97      0.97      0.97      1319\n",
      "weighted avg       0.97      0.97      0.97      1319\n",
      "\n",
      "\n",
      "Training accuracy: 97.27065959059894\n"
     ]
    }
   ],
   "source": [
    "y_pred = svm.predict(X_train)\n",
    "\n",
    "ill_pred = y_pred\n",
    "\n",
    "print(\"Classification report for - \\n{}:\\n{}\\n\".format(\n",
    "    svm, metrics.classification_report(y_train, y_pred)))\n",
    "\n",
    "train_acc = metrics.accuracy_score(y_train, y_pred)*100\n",
    "print(\"Training accuracy: \" + str(train_acc))"
   ]
  },
  {
   "cell_type": "code",
   "execution_count": 16,
   "metadata": {
    "colab": {
     "base_uri": "https://localhost:8080/",
     "height": 296
    },
    "executionInfo": {
     "elapsed": 490273,
     "status": "ok",
     "timestamp": 1611410541058,
     "user": {
      "displayName": "KHONG FAN YI",
      "photoUrl": "",
      "userId": "02416044610109286808"
     },
     "user_tz": -480
    },
    "id": "zBZGN1w9cS-D",
    "outputId": "e5e2a081-fda4-4ffe-eeb6-6e14e465c5af"
   },
   "outputs": [
    {
     "data": {
      "text/plain": [
       "<sklearn.metrics._plot.confusion_matrix.ConfusionMatrixDisplay at 0x7f549a6e35f8>"
      ]
     },
     "execution_count": 16,
     "metadata": {
      "tags": []
     },
     "output_type": "execute_result"
    },
    {
     "data": {
      "image/png": "[encoded data removed]",
      "text/plain": [
       "<Figure size 432x288 with 2 Axes>"
      ]
     },
     "metadata": {
      "needs_background": "light",
      "tags": []
     },
     "output_type": "display_data"
    }
   ],
   "source": [
    "plot_confusion_matrix(svm, X_train, y_train, cmap='plasma')"
   ]
  },
  {
   "cell_type": "markdown",
   "metadata": {
    "id": "d5qV4luLo5yz"
   },
   "source": [
    "#### Testing Performance"
   ]
  },
  {
   "cell_type": "code",
   "execution_count": 17,
   "metadata": {
    "colab": {
     "base_uri": "https://localhost:8080/"
    },
    "executionInfo": {
     "elapsed": 490256,
     "status": "ok",
     "timestamp": 1611410541059,
     "user": {
      "displayName": "KHONG FAN YI",
      "photoUrl": "",
      "userId": "02416044610109286808"
     },
     "user_tz": -480
    },
    "id": "5AzTPuIncS-E",
    "outputId": "104cc1ad-556a-4d6a-c515-f91256e70887"
   },
   "outputs": [
    {
     "name": "stdout",
     "output_type": "stream",
     "text": [
      "Classification report for - \n",
      "SVC(C=10, break_ties=False, cache_size=200, class_weight=None, coef0=0.0,\n",
      "    decision_function_shape='ovr', degree=3, gamma='scale', kernel='linear',\n",
      "    max_iter=-1, probability=False, random_state=None, shrinking=True,\n",
      "    tol=0.001, verbose=False):\n",
      "              precision    recall  f1-score   support\n",
      "\n",
      "           0       0.82      0.95      0.88       102\n",
      "           1       0.82      0.51      0.63        45\n",
      "\n",
      "    accuracy                           0.82       147\n",
      "   macro avg       0.82      0.73      0.75       147\n",
      "weighted avg       0.82      0.82      0.80       147\n",
      "\n",
      "\n",
      "Testing accuracy: 81.63265306122449\n"
     ]
    }
   ],
   "source": [
    "y_pred = svm.predict(X_test)\n",
    "\n",
    "print(\"Classification report for - \\n{}:\\n{}\\n\".format(\n",
    "    svm, metrics.classification_report(y_test, y_pred)))\n",
    "\n",
    "test_acc = metrics.accuracy_score(y_test, y_pred)*100\n",
    "print(\"Testing accuracy: \" + str(test_acc))"
   ]
  },
  {
   "cell_type": "code",
   "execution_count": 18,
   "metadata": {
    "colab": {
     "base_uri": "https://localhost:8080/",
     "height": 296
    },
    "executionInfo": {
     "elapsed": 490599,
     "status": "ok",
     "timestamp": 1611410541442,
     "user": {
      "displayName": "KHONG FAN YI",
      "photoUrl": "",
      "userId": "02416044610109286808"
     },
     "user_tz": -480
    },
    "id": "x0VzOzcRcS-F",
    "outputId": "0aea8b35-44fd-449c-e37c-30bc17922655",
    "scrolled": true
   },
   "outputs": [
    {
     "data": {
      "text/plain": [
       "<sklearn.metrics._plot.confusion_matrix.ConfusionMatrixDisplay at 0x7f5499e852b0>"
      ]
     },
     "execution_count": 18,
     "metadata": {
      "tags": []
     },
     "output_type": "execute_result"
    },
    {
     "data": {
      "image/png": "[encoded data removed]",
      "text/plain": [
       "<Figure size 432x288 with 2 Axes>"
      ]
     },
     "metadata": {
      "needs_background": "light",
      "tags": []
     },
     "output_type": "display_data"
    }
   ],
   "source": [
    "plot_confusion_matrix(svm, X_test, y_test, cmap='plasma')"
   ]
  },
  {
   "cell_type": "code",
   "execution_count": 19,
   "metadata": {
    "executionInfo": {
     "elapsed": 490560,
     "status": "ok",
     "timestamp": 1611410541447,
     "user": {
      "displayName": "KHONG FAN YI",
      "photoUrl": "",
      "userId": "02416044610109286808"
     },
     "user_tz": -480
    },
    "id": "DdxcQY3IcS-G"
   },
   "outputs": [],
   "source": [
    "# Get wrongly classified samples\n",
    "def get_wrong_case(pred_result, test_result):\n",
    "    \n",
    "    for i in range(len(pred_result)):\n",
    "        predicted = pred_result[i]\n",
    "        actual = test_result[i]\n",
    "        if(actual != predicted):\n",
    "            wrong_case.append([i,predicted,actual])"
   ]
  },
  {
   "cell_type": "code",
   "execution_count": 40,
   "metadata": {
    "executionInfo": {
     "elapsed": 1421,
     "status": "ok",
     "timestamp": 1611410892401,
     "user": {
      "displayName": "KHONG FAN YI",
      "photoUrl": "",
      "userId": "02416044610109286808"
     },
     "user_tz": -480
    },
    "id": "8ukQNmNXcS-G"
   },
   "outputs": [],
   "source": [
    "def plot(wrong_case, row, col, gray, labels):\n",
    "    \n",
    "    if (labels == SUBCLASSES):\n",
    "        fsize = 18\n",
    "        top = 5\n",
    "        bottom = 4.5\n",
    "    else:\n",
    "        fsize = 20\n",
    "        top = 3\n",
    "        bottom = 2.3\n",
    "       \n",
    "    plt.figure(figsize=(40, 40))\n",
    "    plt.subplots_adjust(top=top, bottom=bottom)\n",
    "    \n",
    "    for i in range(len(wrong_case)):\n",
    "        plt.subplot(row, col, i+1)\n",
    "        plt.xticks([])\n",
    "        plt.yticks([])\n",
    "        plt.grid(False)\n",
    "        title = str(i+1) + '. Predicted: ' + labels[wrong_case[i][1]] + '\\nActual: ' + labels[wrong_case[i][2]]\n",
    "        plt.title(title, fontdict = {'fontsize' : fsize})\n",
    "        plt.imshow(gray[wrong_case[i][0]], cmap='gray')\n",
    "\n",
    "    plt.show()\n",
    "    \n",
    "    print(\"The number of misclassified images: \")\n",
    "    print(len(wrong_case))"
   ]
  },
  {
   "cell_type": "code",
   "execution_count": 21,
   "metadata": {
    "executionInfo": {
     "elapsed": 490527,
     "status": "ok",
     "timestamp": 1611410541450,
     "user": {
      "displayName": "KHONG FAN YI",
      "photoUrl": "",
      "userId": "02416044610109286808"
     },
     "user_tz": -480
    },
    "id": "_Xxjc79ycS-H"
   },
   "outputs": [],
   "source": [
    "wrong_case = []\n",
    "get_wrong_case(y_pred, y_test)"
   ]
  },
  {
   "cell_type": "markdown",
   "metadata": {
    "id": "v8np4hKTo5y4"
   },
   "source": [
    "## Second-Level Classification\n",
    "> ### *Classify  'ill' cases into fever (0), sore throat (1) and running nose (2) subclasses*\n",
    "\n"
   ]
  },
  {
   "cell_type": "code",
   "execution_count": 23,
   "metadata": {
    "executionInfo": {
     "elapsed": 494732,
     "status": "ok",
     "timestamp": 1611410545686,
     "user": {
      "displayName": "KHONG FAN YI",
      "photoUrl": "",
      "userId": "02416044610109286808"
     },
     "user_tz": -480
    },
    "id": "hQ0SP3lqo5y7"
   },
   "outputs": [],
   "source": [
    "ill_case_index = []\n",
    "ill_dataset = []"
   ]
  },
  {
   "cell_type": "code",
   "execution_count": 24,
   "metadata": {
    "executionInfo": {
     "elapsed": 494718,
     "status": "ok",
     "timestamp": 1611410545688,
     "user": {
      "displayName": "KHONG FAN YI",
      "photoUrl": "",
      "userId": "02416044610109286808"
     },
     "user_tz": -480
    },
    "id": "Bieq4CR4o5y8"
   },
   "outputs": [],
   "source": [
    "# Get the indexes of samples correctly classified as \"ill\"\n",
    "\n",
    "for i, a in enumerate(ill_pred):\n",
    "    if((ill_pred[i] == 1) and (ill_pred[i] == y_train[i]) and (subcls_num[i] != \"None\")):  # 1 = ill, filter out the cases with \"healthy\" true labels\n",
    "        ill_case_index.append(i) # save the indexes of ill cases"
   ]
  },
  {
   "cell_type": "code",
   "execution_count": 25,
   "metadata": {
    "executionInfo": {
     "elapsed": 494699,
     "status": "ok",
     "timestamp": 1611410545690,
     "user": {
      "displayName": "KHONG FAN YI",
      "photoUrl": "",
      "userId": "02416044610109286808"
     },
     "user_tz": -480
    },
    "id": "znoPXebZJMcQ"
   },
   "outputs": [],
   "source": [
    "# Create dataset for second-level classification\n",
    "\n",
    "for a in ill_case_index:\n",
    "    ill_dataset.append([gray_img1[a], subcls_num[a], gray_img1[a]])  # gray_img1 contains raw grayscale images\n",
    "    \n",
    "ill_dataset = np.array(ill_dataset, dtype=object)"
   ]
  },
  {
   "cell_type": "code",
   "execution_count": 26,
   "metadata": {
    "colab": {
     "base_uri": "https://localhost:8080/"
    },
    "executionInfo": {
     "elapsed": 494683,
     "status": "ok",
     "timestamp": 1611410545692,
     "user": {
      "displayName": "KHONG FAN YI",
      "photoUrl": "",
      "userId": "02416044610109286808"
     },
     "user_tz": -480
    },
    "id": "zCjbIBSOcS-J",
    "outputId": "7e3897eb-b898-4a99-8f56-d00912edd987"
   },
   "outputs": [
    {
     "name": "stdout",
     "output_type": "stream",
     "text": [
      "Train set length:  279\n",
      "Test set length:  120\n"
     ]
    }
   ],
   "source": [
    "train_ill_set, test_ill_set = train_test_split(ill_dataset, test_size=0.3, shuffle=True)\n",
    "\n",
    "print('Train set length: ', len(train_ill_set))\n",
    "print('Test set length: ', len(test_ill_set))"
   ]
  },
  {
   "cell_type": "code",
   "execution_count": 27,
   "metadata": {
    "colab": {
     "base_uri": "https://localhost:8080/"
    },
    "executionInfo": {
     "elapsed": 494663,
     "status": "ok",
     "timestamp": 1611410545694,
     "user": {
      "displayName": "KHONG FAN YI",
      "photoUrl": "",
      "userId": "02416044610109286808"
     },
     "user_tz": -480
    },
    "id": "4bhiqhtGcS-J",
    "outputId": "165fd261-0ba6-49ae-eac9-941e003ac5f6"
   },
   "outputs": [
    {
     "name": "stdout",
     "output_type": "stream",
     "text": [
      "(279, 40000)\n",
      "(279,)\n"
     ]
    }
   ],
   "source": [
    "X_train_ill = []\n",
    "y_train_ill = []\n",
    "gray_img_ill1 = []\n",
    "\n",
    "for features, label, gray in train_ill_set:\n",
    "    X_train_ill.append(features)\n",
    "    y_train_ill.append(label)\n",
    "    gray_img_ill1.append(gray)\n",
    "\n",
    "X_train_ill = np.array(X_train_ill).reshape(len(y_train_ill), -1)\n",
    "y_train_ill = np.array(y_train_ill)\n",
    "\n",
    "print(X_train_ill.shape)\n",
    "print(y_train_ill.shape)"
   ]
  },
  {
   "cell_type": "code",
   "execution_count": 28,
   "metadata": {
    "colab": {
     "base_uri": "https://localhost:8080/"
    },
    "executionInfo": {
     "elapsed": 494648,
     "status": "ok",
     "timestamp": 1611410545696,
     "user": {
      "displayName": "KHONG FAN YI",
      "photoUrl": "",
      "userId": "02416044610109286808"
     },
     "user_tz": -480
    },
    "id": "z_XFBmQucS-K",
    "outputId": "707ea860-4c18-45d4-f9b7-016fdc20634f"
   },
   "outputs": [
    {
     "name": "stdout",
     "output_type": "stream",
     "text": [
      "(120, 40000)\n",
      "(120,)\n"
     ]
    }
   ],
   "source": [
    "X_test_ill = []\n",
    "y_test_ill = []\n",
    "gray_img_ill2 = []\n",
    "\n",
    "for features, label, gray in test_ill_set:\n",
    "    X_test_ill.append(features)\n",
    "    y_test_ill.append(label)\n",
    "    gray_img_ill2.append(gray)\n",
    "\n",
    "X_test_ill = np.array(X_test_ill).reshape(len(y_test_ill), -1)\n",
    "y_test_ill = np.array(y_test_ill)\n",
    "\n",
    "print(X_test_ill.shape)\n",
    "print(y_test_ill.shape)"
   ]
  },
  {
   "cell_type": "markdown",
   "metadata": {
    "id": "JyJRfbO_Jq-d"
   },
   "source": [
    "### Feature Extraction"
   ]
  },
  {
   "cell_type": "code",
   "execution_count": 29,
   "metadata": {
    "executionInfo": {
     "elapsed": 496394,
     "status": "ok",
     "timestamp": 1611410547459,
     "user": {
      "displayName": "KHONG FAN YI",
      "photoUrl": "",
      "userId": "02416044610109286808"
     },
     "user_tz": -480
    },
    "id": "vo1k_gPWA43D"
   },
   "outputs": [],
   "source": [
    "# Apply LDA on classified ill images to extract features again\n",
    "lda = LinearDiscriminantAnalysis(n_components = 2)\n",
    "X_train_ill = lda.fit_transform(X_train_ill, y_train_ill)\n",
    "X_test_ill = lda.transform(X_test_ill)"
   ]
  },
  {
   "cell_type": "markdown",
   "metadata": {
    "id": "HZwp1-eSi04s"
   },
   "source": [
    "### Train Model"
   ]
  },
  {
   "cell_type": "code",
   "execution_count": 30,
   "metadata": {
    "colab": {
     "base_uri": "https://localhost:8080/"
    },
    "executionInfo": {
     "elapsed": 496393,
     "status": "ok",
     "timestamp": 1611410547471,
     "user": {
      "displayName": "KHONG FAN YI",
      "photoUrl": "",
      "userId": "02416044610109286808"
     },
     "user_tz": -480
    },
    "id": "ePJOIx87cS-L",
    "outputId": "ef92ad2e-fc23-4164-9f2b-49deea814ea6"
   },
   "outputs": [
    {
     "name": "stdout",
     "output_type": "stream",
     "text": [
      "0.0027358531951904297 seconds\n"
     ]
    }
   ],
   "source": [
    "# Train the classifier\n",
    "\n",
    "svm = SVC(gamma=0.01, C=100, kernel='rbf')\n",
    "\n",
    "start_train_ill = time.time()\n",
    "svm.fit(X_train_ill, y_train_ill)\n",
    "end_train_ill = time.time()\n",
    "print(end_train_ill - start_train_ill, \"seconds\")"
   ]
  },
  {
   "cell_type": "markdown",
   "metadata": {
    "id": "iflaNAaZIRLQ"
   },
   "source": [
    "#### Training Performance"
   ]
  },
  {
   "cell_type": "code",
   "execution_count": 31,
   "metadata": {
    "colab": {
     "base_uri": "https://localhost:8080/"
    },
    "executionInfo": {
     "elapsed": 496345,
     "status": "ok",
     "timestamp": 1611410547474,
     "user": {
      "displayName": "KHONG FAN YI",
      "photoUrl": "",
      "userId": "02416044610109286808"
     },
     "user_tz": -480
    },
    "id": "tUXmJWoRcS-M",
    "outputId": "42d5bdb6-e09d-40ff-e423-6478ae6c300f",
    "scrolled": false
   },
   "outputs": [
    {
     "name": "stdout",
     "output_type": "stream",
     "text": [
      "Classification report for - \n",
      "SVC(C=100, break_ties=False, cache_size=200, class_weight=None, coef0=0.0,\n",
      "    decision_function_shape='ovr', degree=3, gamma=0.01, kernel='rbf',\n",
      "    max_iter=-1, probability=False, random_state=None, shrinking=True,\n",
      "    tol=0.001, verbose=False):\n",
      "              precision    recall  f1-score   support\n",
      "\n",
      "           0       0.89      0.86      0.87        97\n",
      "           1       0.98      0.99      0.98        85\n",
      "           2       0.87      0.90      0.88        97\n",
      "\n",
      "    accuracy                           0.91       279\n",
      "   macro avg       0.91      0.91      0.91       279\n",
      "weighted avg       0.91      0.91      0.91       279\n",
      "\n",
      "\n",
      "Training accuracy: 91.0394265232975\n"
     ]
    }
   ],
   "source": [
    "y_pred_ill = svm.predict(X_train_ill)\n",
    "\n",
    "print(\"Classification report for - \\n{}:\\n{}\\n\".format(\n",
    "    svm, metrics.classification_report(y_train_ill, y_pred_ill)))\n",
    "\n",
    "train_ill_acc = metrics.accuracy_score(y_train_ill, y_pred_ill)*100\n",
    "print(\"Training accuracy: \" + str(train_ill_acc))"
   ]
  },
  {
   "cell_type": "code",
   "execution_count": 32,
   "metadata": {
    "colab": {
     "base_uri": "https://localhost:8080/",
     "height": 296
    },
    "executionInfo": {
     "elapsed": 496268,
     "status": "ok",
     "timestamp": 1611410547476,
     "user": {
      "displayName": "KHONG FAN YI",
      "photoUrl": "",
      "userId": "02416044610109286808"
     },
     "user_tz": -480
    },
    "id": "xnyct16DcS-M",
    "outputId": "c7f70762-e2c5-402b-d7d9-58dfb26c5f66",
    "scrolled": true
   },
   "outputs": [
    {
     "data": {
      "text/plain": [
       "<sklearn.metrics._plot.confusion_matrix.ConfusionMatrixDisplay at 0x7f548f21f208>"
      ]
     },
     "execution_count": 32,
     "metadata": {
      "tags": []
     },
     "output_type": "execute_result"
    },
    {
     "data": {
      "image/png": "[encoded data removed]",
      "text/plain": [
       "<Figure size 432x288 with 2 Axes>"
      ]
     },
     "metadata": {
      "needs_background": "light",
      "tags": []
     },
     "output_type": "display_data"
    }
   ],
   "source": [
    "plot_confusion_matrix(svm, X_train_ill, y_train_ill, cmap='viridis')"
   ]
  },
  {
   "cell_type": "markdown",
   "metadata": {
    "id": "P9WK2WiqIXdl"
   },
   "source": [
    "#### Testing Performance"
   ]
  },
  {
   "cell_type": "code",
   "execution_count": 33,
   "metadata": {
    "colab": {
     "base_uri": "https://localhost:8080/"
    },
    "executionInfo": {
     "elapsed": 496253,
     "status": "ok",
     "timestamp": 1611410547477,
     "user": {
      "displayName": "KHONG FAN YI",
      "photoUrl": "",
      "userId": "02416044610109286808"
     },
     "user_tz": -480
    },
    "id": "bzoPpMUMcS-N",
    "outputId": "9dd0df40-184f-4390-9935-7dc0df2d08f4",
    "scrolled": false
   },
   "outputs": [
    {
     "name": "stdout",
     "output_type": "stream",
     "text": [
      "Classification report for - \n",
      "SVC(C=100, break_ties=False, cache_size=200, class_weight=None, coef0=0.0,\n",
      "    decision_function_shape='ovr', degree=3, gamma=0.01, kernel='rbf',\n",
      "    max_iter=-1, probability=False, random_state=None, shrinking=True,\n",
      "    tol=0.001, verbose=False):\n",
      "              precision    recall  f1-score   support\n",
      "\n",
      "           0       0.71      0.60      0.65        40\n",
      "           1       0.76      0.90      0.83        42\n",
      "           2       0.58      0.55      0.57        38\n",
      "\n",
      "    accuracy                           0.69       120\n",
      "   macro avg       0.68      0.69      0.68       120\n",
      "weighted avg       0.69      0.69      0.69       120\n",
      "\n",
      "\n",
      "Testing accuracy: 69.16666666666667\n"
     ]
    }
   ],
   "source": [
    "y_pred_ill = svm.predict(X_test_ill)\n",
    "\n",
    "print(\"Classification report for - \\n{}:\\n{}\\n\".format(\n",
    "    svm, metrics.classification_report(y_test_ill, y_pred_ill)))\n",
    "\n",
    "test_ill_acc = metrics.accuracy_score(y_test_ill, y_pred_ill)*100\n",
    "print(\"Testing accuracy: \" + str(test_ill_acc ))"
   ]
  },
  {
   "cell_type": "code",
   "execution_count": 34,
   "metadata": {
    "colab": {
     "base_uri": "https://localhost:8080/",
     "height": 296
    },
    "executionInfo": {
     "elapsed": 496616,
     "status": "ok",
     "timestamp": 1611410547856,
     "user": {
      "displayName": "KHONG FAN YI",
      "photoUrl": "",
      "userId": "02416044610109286808"
     },
     "user_tz": -480
    },
    "id": "XPfD2ihBcS-O",
    "outputId": "adeb4fa0-4ccf-4fc4-c99c-f49980628417",
    "scrolled": true
   },
   "outputs": [
    {
     "data": {
      "text/plain": [
       "<sklearn.metrics._plot.confusion_matrix.ConfusionMatrixDisplay at 0x7f548f222d30>"
      ]
     },
     "execution_count": 34,
     "metadata": {
      "tags": []
     },
     "output_type": "execute_result"
    },
    {
     "data": {
      "image/png": "[encoded data removed]",
      "text/plain": [
       "<Figure size 432x288 with 2 Axes>"
      ]
     },
     "metadata": {
      "needs_background": "light",
      "tags": []
     },
     "output_type": "display_data"
    }
   ],
   "source": [
    "plot_confusion_matrix(svm, X_test_ill, y_test_ill, cmap='viridis')"
   ]
  },
  {
   "cell_type": "code",
   "execution_count": 35,
   "metadata": {
    "executionInfo": {
     "elapsed": 496604,
     "status": "ok",
     "timestamp": 1611410547860,
     "user": {
      "displayName": "KHONG FAN YI",
      "photoUrl": "",
      "userId": "02416044610109286808"
     },
     "user_tz": -480
    },
    "id": "ICP4o56RcS-O"
   },
   "outputs": [],
   "source": [
    "wrong_case = []\n",
    "get_wrong_case(y_pred_ill, y_test_ill)"
   ]
  }
 ],
 "metadata": {
  "colab": {
   "collapsed_sections": [],
   "name": "LDA_SVM_classification.ipynb",
   "provenance": [],
   "toc_visible": true
  },
  "kernelspec": {
   "display_name": "Python 3",
   "language": "python",
   "name": "python3"
  },
  "language_info": {
   "codemirror_mode": {
    "name": "ipython",
    "version": 3
   },
   "file_extension": ".py",
   "mimetype": "text/x-python",
   "name": "python",
   "nbconvert_exporter": "python",
   "pygments_lexer": "ipython3",
   "version": "3.8.5"
  },
  "widgets": {
   "application/vnd.jupyter.widget-state+json": {
    "048aa2065b0b47339656dba075357b64": {
     "model_module": "@jupyter-widgets/base",
     "model_name": "LayoutModel",
     "state": {
      "_model_module": "@jupyter-widgets/base",
      "_model_module_version": "1.2.0",
      "_model_name": "LayoutModel",
      "_view_count": null,
      "_view_module": "@jupyter-widgets/base",
      "_view_module_version": "1.2.0",
      "_view_name": "LayoutView",
      "align_content": null,
      "align_items": null,
      "align_self": null,
      "border": null,
      "bottom": null,
      "display": null,
      "flex": null,
      "flex_flow": null,
      "grid_area": null,
      "grid_auto_columns": null,
      "grid_auto_flow": null,
      "grid_auto_rows": null,
      "grid_column": null,
      "grid_gap": null,
      "grid_row": null,
      "grid_template_areas": null,
      "grid_template_columns": null,
      "grid_template_rows": null,
      "height": null,
      "justify_content": null,
      "justify_items": null,
      "left": null,
      "margin": null,
      "max_height": null,
      "max_width": null,
      "min_height": null,
      "min_width": null,
      "object_fit": null,
      "object_position": null,
      "order": null,
      "overflow": null,
      "overflow_x": null,
      "overflow_y": null,
      "padding": null,
      "right": null,
      "top": null,
      "visibility": null,
      "width": null
     }
    },
    "11842d5b91a0438baf93914d3f650c1b": {
     "model_module": "@jupyter-widgets/controls",
     "model_name": "ProgressStyleModel",
     "state": {
      "_model_module": "@jupyter-widgets/controls",
      "_model_module_version": "1.5.0",
      "_model_name": "ProgressStyleModel",
      "_view_count": null,
      "_view_module": "@jupyter-widgets/base",
      "_view_module_version": "1.2.0",
      "_view_name": "StyleView",
      "bar_color": null,
      "description_width": "initial"
     }
    },
    "12ff1f81fdc64608b015055a059bbe7c": {
     "model_module": "@jupyter-widgets/base",
     "model_name": "LayoutModel",
     "state": {
      "_model_module": "@jupyter-widgets/base",
      "_model_module_version": "1.2.0",
      "_model_name": "LayoutModel",
      "_view_count": null,
      "_view_module": "@jupyter-widgets/base",
      "_view_module_version": "1.2.0",
      "_view_name": "LayoutView",
      "align_content": null,
      "align_items": null,
      "align_self": null,
      "border": null,
      "bottom": null,
      "display": null,
      "flex": null,
      "flex_flow": null,
      "grid_area": null,
      "grid_auto_columns": null,
      "grid_auto_flow": null,
      "grid_auto_rows": null,
      "grid_column": null,
      "grid_gap": null,
      "grid_row": null,
      "grid_template_areas": null,
      "grid_template_columns": null,
      "grid_template_rows": null,
      "height": null,
      "justify_content": null,
      "justify_items": null,
      "left": null,
      "margin": null,
      "max_height": null,
      "max_width": null,
      "min_height": null,
      "min_width": null,
      "object_fit": null,
      "object_position": null,
      "order": null,
      "overflow": null,
      "overflow_x": null,
      "overflow_y": null,
      "padding": null,
      "right": null,
      "top": null,
      "visibility": null,
      "width": null
     }
    },
    "173a9cb5762d464a90a7410f6d99064a": {
     "model_module": "@jupyter-widgets/controls",
     "model_name": "FloatProgressModel",
     "state": {
      "_dom_classes": [],
      "_model_module": "@jupyter-widgets/controls",
      "_model_module_version": "1.5.0",
      "_model_name": "FloatProgressModel",
      "_view_count": null,
      "_view_module": "@jupyter-widgets/controls",
      "_view_module_version": "1.5.0",
      "_view_name": "ProgressView",
      "bar_style": "success",
      "description": "100%",
      "description_tooltip": null,
      "layout": "IPY_MODEL_28ba70ff8cb94933b6ac4d04c12cde52",
      "max": 75,
      "min": 0,
      "orientation": "horizontal",
      "style": "IPY_MODEL_92a84106014c46d291fc6499d51363b1",
      "value": 75
     }
    },
    "18661c64e2a340b69461d17ab2a5d792": {
     "model_module": "@jupyter-widgets/base",
     "model_name": "LayoutModel",
     "state": {
      "_model_module": "@jupyter-widgets/base",
      "_model_module_version": "1.2.0",
      "_model_name": "LayoutModel",
      "_view_count": null,
      "_view_module": "@jupyter-widgets/base",
      "_view_module_version": "1.2.0",
      "_view_name": "LayoutView",
      "align_content": null,
      "align_items": null,
      "align_self": null,
      "border": null,
      "bottom": null,
      "display": null,
      "flex": null,
      "flex_flow": null,
      "grid_area": null,
      "grid_auto_columns": null,
      "grid_auto_flow": null,
      "grid_auto_rows": null,
      "grid_column": null,
      "grid_gap": null,
      "grid_row": null,
      "grid_template_areas": null,
      "grid_template_columns": null,
      "grid_template_rows": null,
      "height": null,
      "justify_content": null,
      "justify_items": null,
      "left": null,
      "margin": null,
      "max_height": null,
      "max_width": null,
      "min_height": null,
      "min_width": null,
      "object_fit": null,
      "object_position": null,
      "order": null,
      "overflow": null,
      "overflow_x": null,
      "overflow_y": null,
      "padding": null,
      "right": null,
      "top": null,
      "visibility": null,
      "width": null
     }
    },
    "21157cec7c0a443b8820b11637249a14": {
     "model_module": "@jupyter-widgets/controls",
     "model_name": "FloatProgressModel",
     "state": {
      "_dom_classes": [],
      "_model_module": "@jupyter-widgets/controls",
      "_model_module_version": "1.5.0",
      "_model_name": "FloatProgressModel",
      "_view_count": null,
      "_view_module": "@jupyter-widgets/controls",
      "_view_module_version": "1.5.0",
      "_view_name": "ProgressView",
      "bar_style": "success",
      "description": "100%",
      "description_tooltip": null,
      "layout": "IPY_MODEL_ba365cf7f1814e3c94421dcbb14a2f0d",
      "max": 500,
      "min": 0,
      "orientation": "horizontal",
      "style": "IPY_MODEL_9cacd9fdbbf94f348eb53b0ae8bdcc64",
      "value": 500
     }
    },
    "228f6dc3b19f4e80a455bd9519ad7cc3": {
     "model_module": "@jupyter-widgets/base",
     "model_name": "LayoutModel",
     "state": {
      "_model_module": "@jupyter-widgets/base",
      "_model_module_version": "1.2.0",
      "_model_name": "LayoutModel",
      "_view_count": null,
      "_view_module": "@jupyter-widgets/base",
      "_view_module_version": "1.2.0",
      "_view_name": "LayoutView",
      "align_content": null,
      "align_items": null,
      "align_self": null,
      "border": null,
      "bottom": null,
      "display": null,
      "flex": null,
      "flex_flow": null,
      "grid_area": null,
      "grid_auto_columns": null,
      "grid_auto_flow": null,
      "grid_auto_rows": null,
      "grid_column": null,
      "grid_gap": null,
      "grid_row": null,
      "grid_template_areas": null,
      "grid_template_columns": null,
      "grid_template_rows": null,
      "height": null,
      "justify_content": null,
      "justify_items": null,
      "left": null,
      "margin": null,
      "max_height": null,
      "max_width": null,
      "min_height": null,
      "min_width": null,
      "object_fit": null,
      "object_position": null,
      "order": null,
      "overflow": null,
      "overflow_x": null,
      "overflow_y": null,
      "padding": null,
      "right": null,
      "top": null,
      "visibility": null,
      "width": null
     }
    },
    "28ba70ff8cb94933b6ac4d04c12cde52": {
     "model_module": "@jupyter-widgets/base",
     "model_name": "LayoutModel",
     "state": {
      "_model_module": "@jupyter-widgets/base",
      "_model_module_version": "1.2.0",
      "_model_name": "LayoutModel",
      "_view_count": null,
      "_view_module": "@jupyter-widgets/base",
      "_view_module_version": "1.2.0",
      "_view_name": "LayoutView",
      "align_content": null,
      "align_items": null,
      "align_self": null,
      "border": null,
      "bottom": null,
      "display": null,
      "flex": null,
      "flex_flow": null,
      "grid_area": null,
      "grid_auto_columns": null,
      "grid_auto_flow": null,
      "grid_auto_rows": null,
      "grid_column": null,
      "grid_gap": null,
      "grid_row": null,
      "grid_template_areas": null,
      "grid_template_columns": null,
      "grid_template_rows": null,
      "height": null,
      "justify_content": null,
      "justify_items": null,
      "left": null,
      "margin": null,
      "max_height": null,
      "max_width": null,
      "min_height": null,
      "min_width": null,
      "object_fit": null,
      "object_position": null,
      "order": null,
      "overflow": null,
      "overflow_x": null,
      "overflow_y": null,
      "padding": null,
      "right": null,
      "top": null,
      "visibility": null,
      "width": null
     }
    },
    "2e3d539d10714d01a6329f863efff21c": {
     "model_module": "@jupyter-widgets/base",
     "model_name": "LayoutModel",
     "state": {
      "_model_module": "@jupyter-widgets/base",
      "_model_module_version": "1.2.0",
      "_model_name": "LayoutModel",
      "_view_count": null,
      "_view_module": "@jupyter-widgets/base",
      "_view_module_version": "1.2.0",
      "_view_name": "LayoutView",
      "align_content": null,
      "align_items": null,
      "align_self": null,
      "border": null,
      "bottom": null,
      "display": null,
      "flex": null,
      "flex_flow": null,
      "grid_area": null,
      "grid_auto_columns": null,
      "grid_auto_flow": null,
      "grid_auto_rows": null,
      "grid_column": null,
      "grid_gap": null,
      "grid_row": null,
      "grid_template_areas": null,
      "grid_template_columns": null,
      "grid_template_rows": null,
      "height": null,
      "justify_content": null,
      "justify_items": null,
      "left": null,
      "margin": null,
      "max_height": null,
      "max_width": null,
      "min_height": null,
      "min_width": null,
      "object_fit": null,
      "object_position": null,
      "order": null,
      "overflow": null,
      "overflow_x": null,
      "overflow_y": null,
      "padding": null,
      "right": null,
      "top": null,
      "visibility": null,
      "width": null
     }
    },
    "3950476af3824f0a84dbe5595a4f907e": {
     "model_module": "@jupyter-widgets/controls",
     "model_name": "FloatProgressModel",
     "state": {
      "_dom_classes": [],
      "_model_module": "@jupyter-widgets/controls",
      "_model_module_version": "1.5.0",
      "_model_name": "FloatProgressModel",
      "_view_count": null,
      "_view_module": "@jupyter-widgets/controls",
      "_view_module_version": "1.5.0",
      "_view_name": "ProgressView",
      "bar_style": "success",
      "description": "100%",
      "description_tooltip": null,
      "layout": "IPY_MODEL_048aa2065b0b47339656dba075357b64",
      "max": 75,
      "min": 0,
      "orientation": "horizontal",
      "style": "IPY_MODEL_76da7867364e4b2b8e5409f1ddb5d700",
      "value": 75
     }
    },
    "41951487fd964648b34a352c3d4d21f5": {
     "model_module": "@jupyter-widgets/base",
     "model_name": "LayoutModel",
     "state": {
      "_model_module": "@jupyter-widgets/base",
      "_model_module_version": "1.2.0",
      "_model_name": "LayoutModel",
      "_view_count": null,
      "_view_module": "@jupyter-widgets/base",
      "_view_module_version": "1.2.0",
      "_view_name": "LayoutView",
      "align_content": null,
      "align_items": null,
      "align_self": null,
      "border": null,
      "bottom": null,
      "display": null,
      "flex": null,
      "flex_flow": null,
      "grid_area": null,
      "grid_auto_columns": null,
      "grid_auto_flow": null,
      "grid_auto_rows": null,
      "grid_column": null,
      "grid_gap": null,
      "grid_row": null,
      "grid_template_areas": null,
      "grid_template_columns": null,
      "grid_template_rows": null,
      "height": null,
      "justify_content": null,
      "justify_items": null,
      "left": null,
      "margin": null,
      "max_height": null,
      "max_width": null,
      "min_height": null,
      "min_width": null,
      "object_fit": null,
      "object_position": null,
      "order": null,
      "overflow": null,
      "overflow_x": null,
      "overflow_y": null,
      "padding": null,
      "right": null,
      "top": null,
      "visibility": null,
      "width": null
     }
    },
    "43db3e3c9d6d4256a4f2393679faeedf": {
     "model_module": "@jupyter-widgets/controls",
     "model_name": "DescriptionStyleModel",
     "state": {
      "_model_module": "@jupyter-widgets/controls",
      "_model_module_version": "1.5.0",
      "_model_name": "DescriptionStyleModel",
      "_view_count": null,
      "_view_module": "@jupyter-widgets/base",
      "_view_module_version": "1.2.0",
      "_view_name": "StyleView",
      "description_width": ""
     }
    },
    "47144ab7ac854b18adbbb71a6d305388": {
     "model_module": "@jupyter-widgets/controls",
     "model_name": "ProgressStyleModel",
     "state": {
      "_model_module": "@jupyter-widgets/controls",
      "_model_module_version": "1.5.0",
      "_model_name": "ProgressStyleModel",
      "_view_count": null,
      "_view_module": "@jupyter-widgets/base",
      "_view_module_version": "1.2.0",
      "_view_name": "StyleView",
      "bar_color": null,
      "description_width": "initial"
     }
    },
    "478f9403196e4380997d39932926312d": {
     "model_module": "@jupyter-widgets/controls",
     "model_name": "HTMLModel",
     "state": {
      "_dom_classes": [],
      "_model_module": "@jupyter-widgets/controls",
      "_model_module_version": "1.5.0",
      "_model_name": "HTMLModel",
      "_view_count": null,
      "_view_module": "@jupyter-widgets/controls",
      "_view_module_version": "1.5.0",
      "_view_name": "HTMLView",
      "description": "",
      "description_tooltip": null,
      "layout": "IPY_MODEL_2e3d539d10714d01a6329f863efff21c",
      "placeholder": "​",
      "style": "IPY_MODEL_847d6c1b146a4926a24e6d541ae99ce9",
      "value": " 78/78 [01:16&lt;00:00,  1.02it/s]"
     }
    },
    "56bdf70db5d14af5afb502a9f28a4c03": {
     "model_module": "@jupyter-widgets/controls",
     "model_name": "HBoxModel",
     "state": {
      "_dom_classes": [],
      "_model_module": "@jupyter-widgets/controls",
      "_model_module_version": "1.5.0",
      "_model_name": "HBoxModel",
      "_view_count": null,
      "_view_module": "@jupyter-widgets/controls",
      "_view_module_version": "1.5.0",
      "_view_name": "HBoxView",
      "box_style": "",
      "children": [
       "IPY_MODEL_97027868009349a68acce4bb0b3f48f9",
       "IPY_MODEL_99158f2f6ac841b4b064035ec04f5e32"
      ],
      "layout": "IPY_MODEL_fa0e7aaef75f4f56807bf638c345da17"
     }
    },
    "59a35e8288044e39ad31dbc09cf9caeb": {
     "model_module": "@jupyter-widgets/base",
     "model_name": "LayoutModel",
     "state": {
      "_model_module": "@jupyter-widgets/base",
      "_model_module_version": "1.2.0",
      "_model_name": "LayoutModel",
      "_view_count": null,
      "_view_module": "@jupyter-widgets/base",
      "_view_module_version": "1.2.0",
      "_view_name": "LayoutView",
      "align_content": null,
      "align_items": null,
      "align_self": null,
      "border": null,
      "bottom": null,
      "display": null,
      "flex": null,
      "flex_flow": null,
      "grid_area": null,
      "grid_auto_columns": null,
      "grid_auto_flow": null,
      "grid_auto_rows": null,
      "grid_column": null,
      "grid_gap": null,
      "grid_row": null,
      "grid_template_areas": null,
      "grid_template_columns": null,
      "grid_template_rows": null,
      "height": null,
      "justify_content": null,
      "justify_items": null,
      "left": null,
      "margin": null,
      "max_height": null,
      "max_width": null,
      "min_height": null,
      "min_width": null,
      "object_fit": null,
      "object_position": null,
      "order": null,
      "overflow": null,
      "overflow_x": null,
      "overflow_y": null,
      "padding": null,
      "right": null,
      "top": null,
      "visibility": null,
      "width": null
     }
    },
    "6009146fd1e24919ba4aed24bca08d90": {
     "model_module": "@jupyter-widgets/base",
     "model_name": "LayoutModel",
     "state": {
      "_model_module": "@jupyter-widgets/base",
      "_model_module_version": "1.2.0",
      "_model_name": "LayoutModel",
      "_view_count": null,
      "_view_module": "@jupyter-widgets/base",
      "_view_module_version": "1.2.0",
      "_view_name": "LayoutView",
      "align_content": null,
      "align_items": null,
      "align_self": null,
      "border": null,
      "bottom": null,
      "display": null,
      "flex": null,
      "flex_flow": null,
      "grid_area": null,
      "grid_auto_columns": null,
      "grid_auto_flow": null,
      "grid_auto_rows": null,
      "grid_column": null,
      "grid_gap": null,
      "grid_row": null,
      "grid_template_areas": null,
      "grid_template_columns": null,
      "grid_template_rows": null,
      "height": null,
      "justify_content": null,
      "justify_items": null,
      "left": null,
      "margin": null,
      "max_height": null,
      "max_width": null,
      "min_height": null,
      "min_width": null,
      "object_fit": null,
      "object_position": null,
      "order": null,
      "overflow": null,
      "overflow_x": null,
      "overflow_y": null,
      "padding": null,
      "right": null,
      "top": null,
      "visibility": null,
      "width": null
     }
    },
    "60359adc55b5410495122ad9c59bb2dc": {
     "model_module": "@jupyter-widgets/controls",
     "model_name": "DescriptionStyleModel",
     "state": {
      "_model_module": "@jupyter-widgets/controls",
      "_model_module_version": "1.5.0",
      "_model_name": "DescriptionStyleModel",
      "_view_count": null,
      "_view_module": "@jupyter-widgets/base",
      "_view_module_version": "1.2.0",
      "_view_name": "StyleView",
      "description_width": ""
     }
    },
    "639035005ba04eab9c7e354f12326a4a": {
     "model_module": "@jupyter-widgets/base",
     "model_name": "LayoutModel",
     "state": {
      "_model_module": "@jupyter-widgets/base",
      "_model_module_version": "1.2.0",
      "_model_name": "LayoutModel",
      "_view_count": null,
      "_view_module": "@jupyter-widgets/base",
      "_view_module_version": "1.2.0",
      "_view_name": "LayoutView",
      "align_content": null,
      "align_items": null,
      "align_self": null,
      "border": null,
      "bottom": null,
      "display": null,
      "flex": null,
      "flex_flow": null,
      "grid_area": null,
      "grid_auto_columns": null,
      "grid_auto_flow": null,
      "grid_auto_rows": null,
      "grid_column": null,
      "grid_gap": null,
      "grid_row": null,
      "grid_template_areas": null,
      "grid_template_columns": null,
      "grid_template_rows": null,
      "height": null,
      "justify_content": null,
      "justify_items": null,
      "left": null,
      "margin": null,
      "max_height": null,
      "max_width": null,
      "min_height": null,
      "min_width": null,
      "object_fit": null,
      "object_position": null,
      "order": null,
      "overflow": null,
      "overflow_x": null,
      "overflow_y": null,
      "padding": null,
      "right": null,
      "top": null,
      "visibility": null,
      "width": null
     }
    },
    "65d953923196428c8d2a2583838c1b21": {
     "model_module": "@jupyter-widgets/controls",
     "model_name": "FloatProgressModel",
     "state": {
      "_dom_classes": [],
      "_model_module": "@jupyter-widgets/controls",
      "_model_module_version": "1.5.0",
      "_model_name": "FloatProgressModel",
      "_view_count": null,
      "_view_module": "@jupyter-widgets/controls",
      "_view_module_version": "1.5.0",
      "_view_name": "ProgressView",
      "bar_style": "success",
      "description": "100%",
      "description_tooltip": null,
      "layout": "IPY_MODEL_b060f476c76d45efbcaefcf1458436b9",
      "max": 80,
      "min": 0,
      "orientation": "horizontal",
      "style": "IPY_MODEL_a6752e7c8b0f4ccfa088334c4228e7d4",
      "value": 80
     }
    },
    "67d2ebc5dcf44972be46c472107f77e9": {
     "model_module": "@jupyter-widgets/controls",
     "model_name": "DescriptionStyleModel",
     "state": {
      "_model_module": "@jupyter-widgets/controls",
      "_model_module_version": "1.5.0",
      "_model_name": "DescriptionStyleModel",
      "_view_count": null,
      "_view_module": "@jupyter-widgets/base",
      "_view_module_version": "1.2.0",
      "_view_name": "StyleView",
      "description_width": ""
     }
    },
    "6cf5bab9a14a4fbe9e412e4f3af7b0e7": {
     "model_module": "@jupyter-widgets/base",
     "model_name": "LayoutModel",
     "state": {
      "_model_module": "@jupyter-widgets/base",
      "_model_module_version": "1.2.0",
      "_model_name": "LayoutModel",
      "_view_count": null,
      "_view_module": "@jupyter-widgets/base",
      "_view_module_version": "1.2.0",
      "_view_name": "LayoutView",
      "align_content": null,
      "align_items": null,
      "align_self": null,
      "border": null,
      "bottom": null,
      "display": null,
      "flex": null,
      "flex_flow": null,
      "grid_area": null,
      "grid_auto_columns": null,
      "grid_auto_flow": null,
      "grid_auto_rows": null,
      "grid_column": null,
      "grid_gap": null,
      "grid_row": null,
      "grid_template_areas": null,
      "grid_template_columns": null,
      "grid_template_rows": null,
      "height": null,
      "justify_content": null,
      "justify_items": null,
      "left": null,
      "margin": null,
      "max_height": null,
      "max_width": null,
      "min_height": null,
      "min_width": null,
      "object_fit": null,
      "object_position": null,
      "order": null,
      "overflow": null,
      "overflow_x": null,
      "overflow_y": null,
      "padding": null,
      "right": null,
      "top": null,
      "visibility": null,
      "width": null
     }
    },
    "6e8412f680c74fb8950acbb203e51ab9": {
     "model_module": "@jupyter-widgets/controls",
     "model_name": "HBoxModel",
     "state": {
      "_dom_classes": [],
      "_model_module": "@jupyter-widgets/controls",
      "_model_module_version": "1.5.0",
      "_model_name": "HBoxModel",
      "_view_count": null,
      "_view_module": "@jupyter-widgets/controls",
      "_view_module_version": "1.5.0",
      "_view_name": "HBoxView",
      "box_style": "",
      "children": [
       "IPY_MODEL_21157cec7c0a443b8820b11637249a14",
       "IPY_MODEL_a06c89a8e65245958c14a459c6658400"
      ],
      "layout": "IPY_MODEL_9bcea345e98d43c7aa793540361c2acb"
     }
    },
    "749af19283ca4aeab25eb0917f4389aa": {
     "model_module": "@jupyter-widgets/controls",
     "model_name": "HTMLModel",
     "state": {
      "_dom_classes": [],
      "_model_module": "@jupyter-widgets/controls",
      "_model_module_version": "1.5.0",
      "_model_name": "HTMLModel",
      "_view_count": null,
      "_view_module": "@jupyter-widgets/controls",
      "_view_module_version": "1.5.0",
      "_view_name": "HTMLView",
      "description": "",
      "description_tooltip": null,
      "layout": "IPY_MODEL_d2bf9bec4d8146a798c6ef16fd13254f",
      "placeholder": "​",
      "style": "IPY_MODEL_ee91050889fe468b9151ef3d6815cf00",
      "value": " 80/80 [00:27&lt;00:00,  2.96it/s]"
     }
    },
    "76da7867364e4b2b8e5409f1ddb5d700": {
     "model_module": "@jupyter-widgets/controls",
     "model_name": "ProgressStyleModel",
     "state": {
      "_model_module": "@jupyter-widgets/controls",
      "_model_module_version": "1.5.0",
      "_model_name": "ProgressStyleModel",
      "_view_count": null,
      "_view_module": "@jupyter-widgets/base",
      "_view_module_version": "1.2.0",
      "_view_name": "StyleView",
      "bar_color": null,
      "description_width": "initial"
     }
    },
    "7af45a50d40e4c658769ad096a43c42e": {
     "model_module": "@jupyter-widgets/controls",
     "model_name": "HTMLModel",
     "state": {
      "_dom_classes": [],
      "_model_module": "@jupyter-widgets/controls",
      "_model_module_version": "1.5.0",
      "_model_name": "HTMLModel",
      "_view_count": null,
      "_view_module": "@jupyter-widgets/controls",
      "_view_module_version": "1.5.0",
      "_view_name": "HTMLView",
      "description": "",
      "description_tooltip": null,
      "layout": "IPY_MODEL_e37877e1ed1f4d6493ead02f92c29f98",
      "placeholder": "​",
      "style": "IPY_MODEL_43db3e3c9d6d4256a4f2393679faeedf",
      "value": " 80/80 [00:48&lt;00:00,  1.66it/s]"
     }
    },
    "7e1c476f70494717b3f1eb0df51aadd4": {
     "model_module": "@jupyter-widgets/controls",
     "model_name": "ProgressStyleModel",
     "state": {
      "_model_module": "@jupyter-widgets/controls",
      "_model_module_version": "1.5.0",
      "_model_name": "ProgressStyleModel",
      "_view_count": null,
      "_view_module": "@jupyter-widgets/base",
      "_view_module_version": "1.2.0",
      "_view_name": "StyleView",
      "bar_color": null,
      "description_width": "initial"
     }
    },
    "81b4554af0cf4829aa57266473fec217": {
     "model_module": "@jupyter-widgets/controls",
     "model_name": "HBoxModel",
     "state": {
      "_dom_classes": [],
      "_model_module": "@jupyter-widgets/controls",
      "_model_module_version": "1.5.0",
      "_model_name": "HBoxModel",
      "_view_count": null,
      "_view_module": "@jupyter-widgets/controls",
      "_view_module_version": "1.5.0",
      "_view_name": "HBoxView",
      "box_style": "",
      "children": [
       "IPY_MODEL_b335f2c0ead343f6a7178e7ea23f0eed",
       "IPY_MODEL_749af19283ca4aeab25eb0917f4389aa"
      ],
      "layout": "IPY_MODEL_41951487fd964648b34a352c3d4d21f5"
     }
    },
    "847d6c1b146a4926a24e6d541ae99ce9": {
     "model_module": "@jupyter-widgets/controls",
     "model_name": "DescriptionStyleModel",
     "state": {
      "_model_module": "@jupyter-widgets/controls",
      "_model_module_version": "1.5.0",
      "_model_name": "DescriptionStyleModel",
      "_view_count": null,
      "_view_module": "@jupyter-widgets/base",
      "_view_module_version": "1.2.0",
      "_view_name": "StyleView",
      "description_width": ""
     }
    },
    "8a349168f47441f1ad44e7c9fca32e9f": {
     "model_module": "@jupyter-widgets/base",
     "model_name": "LayoutModel",
     "state": {
      "_model_module": "@jupyter-widgets/base",
      "_model_module_version": "1.2.0",
      "_model_name": "LayoutModel",
      "_view_count": null,
      "_view_module": "@jupyter-widgets/base",
      "_view_module_version": "1.2.0",
      "_view_name": "LayoutView",
      "align_content": null,
      "align_items": null,
      "align_self": null,
      "border": null,
      "bottom": null,
      "display": null,
      "flex": null,
      "flex_flow": null,
      "grid_area": null,
      "grid_auto_columns": null,
      "grid_auto_flow": null,
      "grid_auto_rows": null,
      "grid_column": null,
      "grid_gap": null,
      "grid_row": null,
      "grid_template_areas": null,
      "grid_template_columns": null,
      "grid_template_rows": null,
      "height": null,
      "justify_content": null,
      "justify_items": null,
      "left": null,
      "margin": null,
      "max_height": null,
      "max_width": null,
      "min_height": null,
      "min_width": null,
      "object_fit": null,
      "object_position": null,
      "order": null,
      "overflow": null,
      "overflow_x": null,
      "overflow_y": null,
      "padding": null,
      "right": null,
      "top": null,
      "visibility": null,
      "width": null
     }
    },
    "92a84106014c46d291fc6499d51363b1": {
     "model_module": "@jupyter-widgets/controls",
     "model_name": "ProgressStyleModel",
     "state": {
      "_model_module": "@jupyter-widgets/controls",
      "_model_module_version": "1.5.0",
      "_model_name": "ProgressStyleModel",
      "_view_count": null,
      "_view_module": "@jupyter-widgets/base",
      "_view_module_version": "1.2.0",
      "_view_name": "StyleView",
      "bar_color": null,
      "description_width": "initial"
     }
    },
    "9586fbb00c9842f3a1b66dccad234d10": {
     "model_module": "@jupyter-widgets/controls",
     "model_name": "HBoxModel",
     "state": {
      "_dom_classes": [],
      "_model_module": "@jupyter-widgets/controls",
      "_model_module_version": "1.5.0",
      "_model_name": "HBoxModel",
      "_view_count": null,
      "_view_module": "@jupyter-widgets/controls",
      "_view_module_version": "1.5.0",
      "_view_name": "HBoxView",
      "box_style": "",
      "children": [
       "IPY_MODEL_f15d0993d54a4561a2c4f855414930c2",
       "IPY_MODEL_478f9403196e4380997d39932926312d"
      ],
      "layout": "IPY_MODEL_d03a48d511624c009c196fd57b29d149"
     }
    },
    "97027868009349a68acce4bb0b3f48f9": {
     "model_module": "@jupyter-widgets/controls",
     "model_name": "FloatProgressModel",
     "state": {
      "_dom_classes": [],
      "_model_module": "@jupyter-widgets/controls",
      "_model_module_version": "1.5.0",
      "_model_name": "FloatProgressModel",
      "_view_count": null,
      "_view_module": "@jupyter-widgets/controls",
      "_view_module_version": "1.5.0",
      "_view_name": "ProgressView",
      "bar_style": "success",
      "description": "100%",
      "description_tooltip": null,
      "layout": "IPY_MODEL_12ff1f81fdc64608b015055a059bbe7c",
      "max": 78,
      "min": 0,
      "orientation": "horizontal",
      "style": "IPY_MODEL_11842d5b91a0438baf93914d3f650c1b",
      "value": 78
     }
    },
    "99158f2f6ac841b4b064035ec04f5e32": {
     "model_module": "@jupyter-widgets/controls",
     "model_name": "HTMLModel",
     "state": {
      "_dom_classes": [],
      "_model_module": "@jupyter-widgets/controls",
      "_model_module_version": "1.5.0",
      "_model_name": "HTMLModel",
      "_view_count": null,
      "_view_module": "@jupyter-widgets/controls",
      "_view_module_version": "1.5.0",
      "_view_name": "HTMLView",
      "description": "",
      "description_tooltip": null,
      "layout": "IPY_MODEL_bafa6a49ed964830a4300a80cef3f925",
      "placeholder": "​",
      "style": "IPY_MODEL_c093148008cf4c4b890d41129c0c474e",
      "value": " 78/78 [00:51&lt;00:00,  1.50it/s]"
     }
    },
    "9bcea345e98d43c7aa793540361c2acb": {
     "model_module": "@jupyter-widgets/base",
     "model_name": "LayoutModel",
     "state": {
      "_model_module": "@jupyter-widgets/base",
      "_model_module_version": "1.2.0",
      "_model_name": "LayoutModel",
      "_view_count": null,
      "_view_module": "@jupyter-widgets/base",
      "_view_module_version": "1.2.0",
      "_view_name": "LayoutView",
      "align_content": null,
      "align_items": null,
      "align_self": null,
      "border": null,
      "bottom": null,
      "display": null,
      "flex": null,
      "flex_flow": null,
      "grid_area": null,
      "grid_auto_columns": null,
      "grid_auto_flow": null,
      "grid_auto_rows": null,
      "grid_column": null,
      "grid_gap": null,
      "grid_row": null,
      "grid_template_areas": null,
      "grid_template_columns": null,
      "grid_template_rows": null,
      "height": null,
      "justify_content": null,
      "justify_items": null,
      "left": null,
      "margin": null,
      "max_height": null,
      "max_width": null,
      "min_height": null,
      "min_width": null,
      "object_fit": null,
      "object_position": null,
      "order": null,
      "overflow": null,
      "overflow_x": null,
      "overflow_y": null,
      "padding": null,
      "right": null,
      "top": null,
      "visibility": null,
      "width": null
     }
    },
    "9cacd9fdbbf94f348eb53b0ae8bdcc64": {
     "model_module": "@jupyter-widgets/controls",
     "model_name": "ProgressStyleModel",
     "state": {
      "_model_module": "@jupyter-widgets/controls",
      "_model_module_version": "1.5.0",
      "_model_name": "ProgressStyleModel",
      "_view_count": null,
      "_view_module": "@jupyter-widgets/base",
      "_view_module_version": "1.2.0",
      "_view_name": "StyleView",
      "bar_color": null,
      "description_width": "initial"
     }
    },
    "a06c89a8e65245958c14a459c6658400": {
     "model_module": "@jupyter-widgets/controls",
     "model_name": "HTMLModel",
     "state": {
      "_dom_classes": [],
      "_model_module": "@jupyter-widgets/controls",
      "_model_module_version": "1.5.0",
      "_model_name": "HTMLModel",
      "_view_count": null,
      "_view_module": "@jupyter-widgets/controls",
      "_view_module_version": "1.5.0",
      "_view_name": "HTMLView",
      "description": "",
      "description_tooltip": null,
      "layout": "IPY_MODEL_f9a835bf21694a6ebef34ec41db2445b",
      "placeholder": "​",
      "style": "IPY_MODEL_b0c2ab0f7e9c4775a59dd8e38f86ae85",
      "value": " 500/500 [04:13&lt;00:00,  1.97it/s]"
     }
    },
    "a08661d4e5d74b9689d917c311f5dd3f": {
     "model_module": "@jupyter-widgets/controls",
     "model_name": "HTMLModel",
     "state": {
      "_dom_classes": [],
      "_model_module": "@jupyter-widgets/controls",
      "_model_module_version": "1.5.0",
      "_model_name": "HTMLModel",
      "_view_count": null,
      "_view_module": "@jupyter-widgets/controls",
      "_view_module_version": "1.5.0",
      "_view_name": "HTMLView",
      "description": "",
      "description_tooltip": null,
      "layout": "IPY_MODEL_e172ff30514f444e85eaa9ddd496555d",
      "placeholder": "​",
      "style": "IPY_MODEL_a44d0c65b955404189cf19760ea49553",
      "value": " 500/500 [08:03&lt;00:00,  1.03it/s]"
     }
    },
    "a44d0c65b955404189cf19760ea49553": {
     "model_module": "@jupyter-widgets/controls",
     "model_name": "DescriptionStyleModel",
     "state": {
      "_model_module": "@jupyter-widgets/controls",
      "_model_module_version": "1.5.0",
      "_model_name": "DescriptionStyleModel",
      "_view_count": null,
      "_view_module": "@jupyter-widgets/base",
      "_view_module_version": "1.2.0",
      "_view_name": "StyleView",
      "description_width": ""
     }
    },
    "a6752e7c8b0f4ccfa088334c4228e7d4": {
     "model_module": "@jupyter-widgets/controls",
     "model_name": "ProgressStyleModel",
     "state": {
      "_model_module": "@jupyter-widgets/controls",
      "_model_module_version": "1.5.0",
      "_model_name": "ProgressStyleModel",
      "_view_count": null,
      "_view_module": "@jupyter-widgets/base",
      "_view_module_version": "1.2.0",
      "_view_name": "StyleView",
      "bar_color": null,
      "description_width": "initial"
     }
    },
    "a8b7072ef6ad429491a6f6de03950425": {
     "model_module": "@jupyter-widgets/controls",
     "model_name": "HBoxModel",
     "state": {
      "_dom_classes": [],
      "_model_module": "@jupyter-widgets/controls",
      "_model_module_version": "1.5.0",
      "_model_name": "HBoxModel",
      "_view_count": null,
      "_view_module": "@jupyter-widgets/controls",
      "_view_module_version": "1.5.0",
      "_view_name": "HBoxView",
      "box_style": "",
      "children": [
       "IPY_MODEL_fcec5e9ee4934e4790acff692d91d5a0",
       "IPY_MODEL_a08661d4e5d74b9689d917c311f5dd3f"
      ],
      "layout": "IPY_MODEL_ab1c4c0f547c413a8879ca04e7c64251"
     }
    },
    "ab1c4c0f547c413a8879ca04e7c64251": {
     "model_module": "@jupyter-widgets/base",
     "model_name": "LayoutModel",
     "state": {
      "_model_module": "@jupyter-widgets/base",
      "_model_module_version": "1.2.0",
      "_model_name": "LayoutModel",
      "_view_count": null,
      "_view_module": "@jupyter-widgets/base",
      "_view_module_version": "1.2.0",
      "_view_name": "LayoutView",
      "align_content": null,
      "align_items": null,
      "align_self": null,
      "border": null,
      "bottom": null,
      "display": null,
      "flex": null,
      "flex_flow": null,
      "grid_area": null,
      "grid_auto_columns": null,
      "grid_auto_flow": null,
      "grid_auto_rows": null,
      "grid_column": null,
      "grid_gap": null,
      "grid_row": null,
      "grid_template_areas": null,
      "grid_template_columns": null,
      "grid_template_rows": null,
      "height": null,
      "justify_content": null,
      "justify_items": null,
      "left": null,
      "margin": null,
      "max_height": null,
      "max_width": null,
      "min_height": null,
      "min_width": null,
      "object_fit": null,
      "object_position": null,
      "order": null,
      "overflow": null,
      "overflow_x": null,
      "overflow_y": null,
      "padding": null,
      "right": null,
      "top": null,
      "visibility": null,
      "width": null
     }
    },
    "ae8163cfb42842dfb16287e70206426c": {
     "model_module": "@jupyter-widgets/controls",
     "model_name": "HBoxModel",
     "state": {
      "_dom_classes": [],
      "_model_module": "@jupyter-widgets/controls",
      "_model_module_version": "1.5.0",
      "_model_name": "HBoxModel",
      "_view_count": null,
      "_view_module": "@jupyter-widgets/controls",
      "_view_module_version": "1.5.0",
      "_view_name": "HBoxView",
      "box_style": "",
      "children": [
       "IPY_MODEL_65d953923196428c8d2a2583838c1b21",
       "IPY_MODEL_7af45a50d40e4c658769ad096a43c42e"
      ],
      "layout": "IPY_MODEL_59a35e8288044e39ad31dbc09cf9caeb"
     }
    },
    "b060f476c76d45efbcaefcf1458436b9": {
     "model_module": "@jupyter-widgets/base",
     "model_name": "LayoutModel",
     "state": {
      "_model_module": "@jupyter-widgets/base",
      "_model_module_version": "1.2.0",
      "_model_name": "LayoutModel",
      "_view_count": null,
      "_view_module": "@jupyter-widgets/base",
      "_view_module_version": "1.2.0",
      "_view_name": "LayoutView",
      "align_content": null,
      "align_items": null,
      "align_self": null,
      "border": null,
      "bottom": null,
      "display": null,
      "flex": null,
      "flex_flow": null,
      "grid_area": null,
      "grid_auto_columns": null,
      "grid_auto_flow": null,
      "grid_auto_rows": null,
      "grid_column": null,
      "grid_gap": null,
      "grid_row": null,
      "grid_template_areas": null,
      "grid_template_columns": null,
      "grid_template_rows": null,
      "height": null,
      "justify_content": null,
      "justify_items": null,
      "left": null,
      "margin": null,
      "max_height": null,
      "max_width": null,
      "min_height": null,
      "min_width": null,
      "object_fit": null,
      "object_position": null,
      "order": null,
      "overflow": null,
      "overflow_x": null,
      "overflow_y": null,
      "padding": null,
      "right": null,
      "top": null,
      "visibility": null,
      "width": null
     }
    },
    "b0c2ab0f7e9c4775a59dd8e38f86ae85": {
     "model_module": "@jupyter-widgets/controls",
     "model_name": "DescriptionStyleModel",
     "state": {
      "_model_module": "@jupyter-widgets/controls",
      "_model_module_version": "1.5.0",
      "_model_name": "DescriptionStyleModel",
      "_view_count": null,
      "_view_module": "@jupyter-widgets/base",
      "_view_module_version": "1.2.0",
      "_view_name": "StyleView",
      "description_width": ""
     }
    },
    "b335f2c0ead343f6a7178e7ea23f0eed": {
     "model_module": "@jupyter-widgets/controls",
     "model_name": "FloatProgressModel",
     "state": {
      "_dom_classes": [],
      "_model_module": "@jupyter-widgets/controls",
      "_model_module_version": "1.5.0",
      "_model_name": "FloatProgressModel",
      "_view_count": null,
      "_view_module": "@jupyter-widgets/controls",
      "_view_module_version": "1.5.0",
      "_view_name": "ProgressView",
      "bar_style": "success",
      "description": "100%",
      "description_tooltip": null,
      "layout": "IPY_MODEL_6009146fd1e24919ba4aed24bca08d90",
      "max": 80,
      "min": 0,
      "orientation": "horizontal",
      "style": "IPY_MODEL_d321fc07ce0246d5a9a88fdfb21bd23b",
      "value": 80
     }
    },
    "ba365cf7f1814e3c94421dcbb14a2f0d": {
     "model_module": "@jupyter-widgets/base",
     "model_name": "LayoutModel",
     "state": {
      "_model_module": "@jupyter-widgets/base",
      "_model_module_version": "1.2.0",
      "_model_name": "LayoutModel",
      "_view_count": null,
      "_view_module": "@jupyter-widgets/base",
      "_view_module_version": "1.2.0",
      "_view_name": "LayoutView",
      "align_content": null,
      "align_items": null,
      "align_self": null,
      "border": null,
      "bottom": null,
      "display": null,
      "flex": null,
      "flex_flow": null,
      "grid_area": null,
      "grid_auto_columns": null,
      "grid_auto_flow": null,
      "grid_auto_rows": null,
      "grid_column": null,
      "grid_gap": null,
      "grid_row": null,
      "grid_template_areas": null,
      "grid_template_columns": null,
      "grid_template_rows": null,
      "height": null,
      "justify_content": null,
      "justify_items": null,
      "left": null,
      "margin": null,
      "max_height": null,
      "max_width": null,
      "min_height": null,
      "min_width": null,
      "object_fit": null,
      "object_position": null,
      "order": null,
      "overflow": null,
      "overflow_x": null,
      "overflow_y": null,
      "padding": null,
      "right": null,
      "top": null,
      "visibility": null,
      "width": null
     }
    },
    "ba987f16b94440a1996a065d182a49ef": {
     "model_module": "@jupyter-widgets/base",
     "model_name": "LayoutModel",
     "state": {
      "_model_module": "@jupyter-widgets/base",
      "_model_module_version": "1.2.0",
      "_model_name": "LayoutModel",
      "_view_count": null,
      "_view_module": "@jupyter-widgets/base",
      "_view_module_version": "1.2.0",
      "_view_name": "LayoutView",
      "align_content": null,
      "align_items": null,
      "align_self": null,
      "border": null,
      "bottom": null,
      "display": null,
      "flex": null,
      "flex_flow": null,
      "grid_area": null,
      "grid_auto_columns": null,
      "grid_auto_flow": null,
      "grid_auto_rows": null,
      "grid_column": null,
      "grid_gap": null,
      "grid_row": null,
      "grid_template_areas": null,
      "grid_template_columns": null,
      "grid_template_rows": null,
      "height": null,
      "justify_content": null,
      "justify_items": null,
      "left": null,
      "margin": null,
      "max_height": null,
      "max_width": null,
      "min_height": null,
      "min_width": null,
      "object_fit": null,
      "object_position": null,
      "order": null,
      "overflow": null,
      "overflow_x": null,
      "overflow_y": null,
      "padding": null,
      "right": null,
      "top": null,
      "visibility": null,
      "width": null
     }
    },
    "bafa6a49ed964830a4300a80cef3f925": {
     "model_module": "@jupyter-widgets/base",
     "model_name": "LayoutModel",
     "state": {
      "_model_module": "@jupyter-widgets/base",
      "_model_module_version": "1.2.0",
      "_model_name": "LayoutModel",
      "_view_count": null,
      "_view_module": "@jupyter-widgets/base",
      "_view_module_version": "1.2.0",
      "_view_name": "LayoutView",
      "align_content": null,
      "align_items": null,
      "align_self": null,
      "border": null,
      "bottom": null,
      "display": null,
      "flex": null,
      "flex_flow": null,
      "grid_area": null,
      "grid_auto_columns": null,
      "grid_auto_flow": null,
      "grid_auto_rows": null,
      "grid_column": null,
      "grid_gap": null,
      "grid_row": null,
      "grid_template_areas": null,
      "grid_template_columns": null,
      "grid_template_rows": null,
      "height": null,
      "justify_content": null,
      "justify_items": null,
      "left": null,
      "margin": null,
      "max_height": null,
      "max_width": null,
      "min_height": null,
      "min_width": null,
      "object_fit": null,
      "object_position": null,
      "order": null,
      "overflow": null,
      "overflow_x": null,
      "overflow_y": null,
      "padding": null,
      "right": null,
      "top": null,
      "visibility": null,
      "width": null
     }
    },
    "c093148008cf4c4b890d41129c0c474e": {
     "model_module": "@jupyter-widgets/controls",
     "model_name": "DescriptionStyleModel",
     "state": {
      "_model_module": "@jupyter-widgets/controls",
      "_model_module_version": "1.5.0",
      "_model_name": "DescriptionStyleModel",
      "_view_count": null,
      "_view_module": "@jupyter-widgets/base",
      "_view_module_version": "1.2.0",
      "_view_name": "StyleView",
      "description_width": ""
     }
    },
    "c0c6eccdad9f4c80a1fd15342ea75acc": {
     "model_module": "@jupyter-widgets/controls",
     "model_name": "HTMLModel",
     "state": {
      "_dom_classes": [],
      "_model_module": "@jupyter-widgets/controls",
      "_model_module_version": "1.5.0",
      "_model_name": "HTMLModel",
      "_view_count": null,
      "_view_module": "@jupyter-widgets/controls",
      "_view_module_version": "1.5.0",
      "_view_name": "HTMLView",
      "description": "",
      "description_tooltip": null,
      "layout": "IPY_MODEL_228f6dc3b19f4e80a455bd9519ad7cc3",
      "placeholder": "​",
      "style": "IPY_MODEL_67d2ebc5dcf44972be46c472107f77e9",
      "value": " 75/75 [00:23&lt;00:00,  3.17it/s]"
     }
    },
    "cf8e96ba128a4f708053e2bb3d1fb38e": {
     "model_module": "@jupyter-widgets/controls",
     "model_name": "HBoxModel",
     "state": {
      "_dom_classes": [],
      "_model_module": "@jupyter-widgets/controls",
      "_model_module_version": "1.5.0",
      "_model_name": "HBoxModel",
      "_view_count": null,
      "_view_module": "@jupyter-widgets/controls",
      "_view_module_version": "1.5.0",
      "_view_name": "HBoxView",
      "box_style": "",
      "children": [
       "IPY_MODEL_173a9cb5762d464a90a7410f6d99064a",
       "IPY_MODEL_e01d3ff326ab47eb8f3a7cf92d976018"
      ],
      "layout": "IPY_MODEL_8a349168f47441f1ad44e7c9fca32e9f"
     }
    },
    "d03a48d511624c009c196fd57b29d149": {
     "model_module": "@jupyter-widgets/base",
     "model_name": "LayoutModel",
     "state": {
      "_model_module": "@jupyter-widgets/base",
      "_model_module_version": "1.2.0",
      "_model_name": "LayoutModel",
      "_view_count": null,
      "_view_module": "@jupyter-widgets/base",
      "_view_module_version": "1.2.0",
      "_view_name": "LayoutView",
      "align_content": null,
      "align_items": null,
      "align_self": null,
      "border": null,
      "bottom": null,
      "display": null,
      "flex": null,
      "flex_flow": null,
      "grid_area": null,
      "grid_auto_columns": null,
      "grid_auto_flow": null,
      "grid_auto_rows": null,
      "grid_column": null,
      "grid_gap": null,
      "grid_row": null,
      "grid_template_areas": null,
      "grid_template_columns": null,
      "grid_template_rows": null,
      "height": null,
      "justify_content": null,
      "justify_items": null,
      "left": null,
      "margin": null,
      "max_height": null,
      "max_width": null,
      "min_height": null,
      "min_width": null,
      "object_fit": null,
      "object_position": null,
      "order": null,
      "overflow": null,
      "overflow_x": null,
      "overflow_y": null,
      "padding": null,
      "right": null,
      "top": null,
      "visibility": null,
      "width": null
     }
    },
    "d2bf9bec4d8146a798c6ef16fd13254f": {
     "model_module": "@jupyter-widgets/base",
     "model_name": "LayoutModel",
     "state": {
      "_model_module": "@jupyter-widgets/base",
      "_model_module_version": "1.2.0",
      "_model_name": "LayoutModel",
      "_view_count": null,
      "_view_module": "@jupyter-widgets/base",
      "_view_module_version": "1.2.0",
      "_view_name": "LayoutView",
      "align_content": null,
      "align_items": null,
      "align_self": null,
      "border": null,
      "bottom": null,
      "display": null,
      "flex": null,
      "flex_flow": null,
      "grid_area": null,
      "grid_auto_columns": null,
      "grid_auto_flow": null,
      "grid_auto_rows": null,
      "grid_column": null,
      "grid_gap": null,
      "grid_row": null,
      "grid_template_areas": null,
      "grid_template_columns": null,
      "grid_template_rows": null,
      "height": null,
      "justify_content": null,
      "justify_items": null,
      "left": null,
      "margin": null,
      "max_height": null,
      "max_width": null,
      "min_height": null,
      "min_width": null,
      "object_fit": null,
      "object_position": null,
      "order": null,
      "overflow": null,
      "overflow_x": null,
      "overflow_y": null,
      "padding": null,
      "right": null,
      "top": null,
      "visibility": null,
      "width": null
     }
    },
    "d321fc07ce0246d5a9a88fdfb21bd23b": {
     "model_module": "@jupyter-widgets/controls",
     "model_name": "ProgressStyleModel",
     "state": {
      "_model_module": "@jupyter-widgets/controls",
      "_model_module_version": "1.5.0",
      "_model_name": "ProgressStyleModel",
      "_view_count": null,
      "_view_module": "@jupyter-widgets/base",
      "_view_module_version": "1.2.0",
      "_view_name": "StyleView",
      "bar_color": null,
      "description_width": "initial"
     }
    },
    "e01d3ff326ab47eb8f3a7cf92d976018": {
     "model_module": "@jupyter-widgets/controls",
     "model_name": "HTMLModel",
     "state": {
      "_dom_classes": [],
      "_model_module": "@jupyter-widgets/controls",
      "_model_module_version": "1.5.0",
      "_model_name": "HTMLModel",
      "_view_count": null,
      "_view_module": "@jupyter-widgets/controls",
      "_view_module_version": "1.5.0",
      "_view_name": "HTMLView",
      "description": "",
      "description_tooltip": null,
      "layout": "IPY_MODEL_ba987f16b94440a1996a065d182a49ef",
      "placeholder": "​",
      "style": "IPY_MODEL_60359adc55b5410495122ad9c59bb2dc",
      "value": " 75/75 [04:40&lt;00:00,  3.74s/it]"
     }
    },
    "e172ff30514f444e85eaa9ddd496555d": {
     "model_module": "@jupyter-widgets/base",
     "model_name": "LayoutModel",
     "state": {
      "_model_module": "@jupyter-widgets/base",
      "_model_module_version": "1.2.0",
      "_model_name": "LayoutModel",
      "_view_count": null,
      "_view_module": "@jupyter-widgets/base",
      "_view_module_version": "1.2.0",
      "_view_name": "LayoutView",
      "align_content": null,
      "align_items": null,
      "align_self": null,
      "border": null,
      "bottom": null,
      "display": null,
      "flex": null,
      "flex_flow": null,
      "grid_area": null,
      "grid_auto_columns": null,
      "grid_auto_flow": null,
      "grid_auto_rows": null,
      "grid_column": null,
      "grid_gap": null,
      "grid_row": null,
      "grid_template_areas": null,
      "grid_template_columns": null,
      "grid_template_rows": null,
      "height": null,
      "justify_content": null,
      "justify_items": null,
      "left": null,
      "margin": null,
      "max_height": null,
      "max_width": null,
      "min_height": null,
      "min_width": null,
      "object_fit": null,
      "object_position": null,
      "order": null,
      "overflow": null,
      "overflow_x": null,
      "overflow_y": null,
      "padding": null,
      "right": null,
      "top": null,
      "visibility": null,
      "width": null
     }
    },
    "e37877e1ed1f4d6493ead02f92c29f98": {
     "model_module": "@jupyter-widgets/base",
     "model_name": "LayoutModel",
     "state": {
      "_model_module": "@jupyter-widgets/base",
      "_model_module_version": "1.2.0",
      "_model_name": "LayoutModel",
      "_view_count": null,
      "_view_module": "@jupyter-widgets/base",
      "_view_module_version": "1.2.0",
      "_view_name": "LayoutView",
      "align_content": null,
      "align_items": null,
      "align_self": null,
      "border": null,
      "bottom": null,
      "display": null,
      "flex": null,
      "flex_flow": null,
      "grid_area": null,
      "grid_auto_columns": null,
      "grid_auto_flow": null,
      "grid_auto_rows": null,
      "grid_column": null,
      "grid_gap": null,
      "grid_row": null,
      "grid_template_areas": null,
      "grid_template_columns": null,
      "grid_template_rows": null,
      "height": null,
      "justify_content": null,
      "justify_items": null,
      "left": null,
      "margin": null,
      "max_height": null,
      "max_width": null,
      "min_height": null,
      "min_width": null,
      "object_fit": null,
      "object_position": null,
      "order": null,
      "overflow": null,
      "overflow_x": null,
      "overflow_y": null,
      "padding": null,
      "right": null,
      "top": null,
      "visibility": null,
      "width": null
     }
    },
    "ee91050889fe468b9151ef3d6815cf00": {
     "model_module": "@jupyter-widgets/controls",
     "model_name": "DescriptionStyleModel",
     "state": {
      "_model_module": "@jupyter-widgets/controls",
      "_model_module_version": "1.5.0",
      "_model_name": "DescriptionStyleModel",
      "_view_count": null,
      "_view_module": "@jupyter-widgets/base",
      "_view_module_version": "1.2.0",
      "_view_name": "StyleView",
      "description_width": ""
     }
    },
    "f15d0993d54a4561a2c4f855414930c2": {
     "model_module": "@jupyter-widgets/controls",
     "model_name": "FloatProgressModel",
     "state": {
      "_dom_classes": [],
      "_model_module": "@jupyter-widgets/controls",
      "_model_module_version": "1.5.0",
      "_model_name": "FloatProgressModel",
      "_view_count": null,
      "_view_module": "@jupyter-widgets/controls",
      "_view_module_version": "1.5.0",
      "_view_name": "ProgressView",
      "bar_style": "success",
      "description": "100%",
      "description_tooltip": null,
      "layout": "IPY_MODEL_18661c64e2a340b69461d17ab2a5d792",
      "max": 78,
      "min": 0,
      "orientation": "horizontal",
      "style": "IPY_MODEL_7e1c476f70494717b3f1eb0df51aadd4",
      "value": 78
     }
    },
    "f607f4a80cd5475bbdebb176755f031c": {
     "model_module": "@jupyter-widgets/controls",
     "model_name": "HBoxModel",
     "state": {
      "_dom_classes": [],
      "_model_module": "@jupyter-widgets/controls",
      "_model_module_version": "1.5.0",
      "_model_name": "HBoxModel",
      "_view_count": null,
      "_view_module": "@jupyter-widgets/controls",
      "_view_module_version": "1.5.0",
      "_view_name": "HBoxView",
      "box_style": "",
      "children": [
       "IPY_MODEL_3950476af3824f0a84dbe5595a4f907e",
       "IPY_MODEL_c0c6eccdad9f4c80a1fd15342ea75acc"
      ],
      "layout": "IPY_MODEL_6cf5bab9a14a4fbe9e412e4f3af7b0e7"
     }
    },
    "f9a835bf21694a6ebef34ec41db2445b": {
     "model_module": "@jupyter-widgets/base",
     "model_name": "LayoutModel",
     "state": {
      "_model_module": "@jupyter-widgets/base",
      "_model_module_version": "1.2.0",
      "_model_name": "LayoutModel",
      "_view_count": null,
      "_view_module": "@jupyter-widgets/base",
      "_view_module_version": "1.2.0",
      "_view_name": "LayoutView",
      "align_content": null,
      "align_items": null,
      "align_self": null,
      "border": null,
      "bottom": null,
      "display": null,
      "flex": null,
      "flex_flow": null,
      "grid_area": null,
      "grid_auto_columns": null,
      "grid_auto_flow": null,
      "grid_auto_rows": null,
      "grid_column": null,
      "grid_gap": null,
      "grid_row": null,
      "grid_template_areas": null,
      "grid_template_columns": null,
      "grid_template_rows": null,
      "height": null,
      "justify_content": null,
      "justify_items": null,
      "left": null,
      "margin": null,
      "max_height": null,
      "max_width": null,
      "min_height": null,
      "min_width": null,
      "object_fit": null,
      "object_position": null,
      "order": null,
      "overflow": null,
      "overflow_x": null,
      "overflow_y": null,
      "padding": null,
      "right": null,
      "top": null,
      "visibility": null,
      "width": null
     }
    },
    "fa0e7aaef75f4f56807bf638c345da17": {
     "model_module": "@jupyter-widgets/base",
     "model_name": "LayoutModel",
     "state": {
      "_model_module": "@jupyter-widgets/base",
      "_model_module_version": "1.2.0",
      "_model_name": "LayoutModel",
      "_view_count": null,
      "_view_module": "@jupyter-widgets/base",
      "_view_module_version": "1.2.0",
      "_view_name": "LayoutView",
      "align_content": null,
      "align_items": null,
      "align_self": null,
      "border": null,
      "bottom": null,
      "display": null,
      "flex": null,
      "flex_flow": null,
      "grid_area": null,
      "grid_auto_columns": null,
      "grid_auto_flow": null,
      "grid_auto_rows": null,
      "grid_column": null,
      "grid_gap": null,
      "grid_row": null,
      "grid_template_areas": null,
      "grid_template_columns": null,
      "grid_template_rows": null,
      "height": null,
      "justify_content": null,
      "justify_items": null,
      "left": null,
      "margin": null,
      "max_height": null,
      "max_width": null,
      "min_height": null,
      "min_width": null,
      "object_fit": null,
      "object_position": null,
      "order": null,
      "overflow": null,
      "overflow_x": null,
      "overflow_y": null,
      "padding": null,
      "right": null,
      "top": null,
      "visibility": null,
      "width": null
     }
    },
    "fcec5e9ee4934e4790acff692d91d5a0": {
     "model_module": "@jupyter-widgets/controls",
     "model_name": "FloatProgressModel",
     "state": {
      "_dom_classes": [],
      "_model_module": "@jupyter-widgets/controls",
      "_model_module_version": "1.5.0",
      "_model_name": "FloatProgressModel",
      "_view_count": null,
      "_view_module": "@jupyter-widgets/controls",
      "_view_module_version": "1.5.0",
      "_view_name": "ProgressView",
      "bar_style": "success",
      "description": "100%",
      "description_tooltip": null,
      "layout": "IPY_MODEL_639035005ba04eab9c7e354f12326a4a",
      "max": 500,
      "min": 0,
      "orientation": "horizontal",
      "style": "IPY_MODEL_47144ab7ac854b18adbbb71a6d305388",
      "value": 500
     }
    }
   }
  }
 },
 "nbformat": 4,
 "nbformat_minor": 1
}
